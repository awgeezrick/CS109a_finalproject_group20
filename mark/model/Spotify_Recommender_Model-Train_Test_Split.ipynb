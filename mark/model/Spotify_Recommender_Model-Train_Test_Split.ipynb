{
 "cells": [
  {
   "cell_type": "markdown",
   "metadata": {},
   "source": [
    "# Spotify Recommender Model\n",
    "\n",
    "This notebook will explore making recommendations based on the vectorization of songs.  Using Word2Vec, a variety of different recommender model options are explored.  \n",
    "\n",
    "1. **Content-Based**\n",
    "> Predicts based on what a user has listened to in the past.\n",
    "> Uses features of songs to find similar songs.\n",
    "\n",
    "2. **Collaborative**\n",
    "> Predicts based on what other listeners like\n",
    "> Focuses on what songs other users liked who also liked a chosen song. \n",
    "\n",
    "2 collaborative-based approaches are presented in this notebook as well as 2 content-based models.\n",
    "\n",
    "## Word2Vec\n",
    "Word2Vec is a library that will create a vector space.  As its name implies, Word2Vec was originally intended to convert Words to Vectors.  Here, we will use that intended functionality to convert Songs to Vectors.  \n",
    "\n",
    "### Embeddings\n",
    "Word2Vec is a process that uses vectorized words to predict other words.  It does this by ingesting a series of documents, parsing out the words, vectorizing the words and then using the vector representations to predict other words.  The vectors are built in such a way that each word has a unique vector that is based on its usage in the documents.  The result is a vector space filled with words where related words have vectors that are similar.  This vector space is referred to an an **embedding**.  This embedding is used in two common word prediction tasks: `Skip-Gram` and `Continuous Bag of Words`.\n",
    "\n",
    "> **Skip-Gram** <br>\n",
    "> The Skip-Gram model attempt to find words that surround a given word or set of words.\n",
    "\n",
    "> **Bag-of-Words** <br>\n",
    "> The bag-of-words model asks for a series of words and will return words that appear to be missing from the provided context.\n",
    "\n",
    "<a name='metrics'></a>\n",
    "### Metrics\n",
    "<a href=#r-prec>R-precision</a> and <a href=#ndgc>Normialzed Discounted Cumulative Gain (NDGC)</a> are used as metrics.  Methods are included below that calculate these metrics.  In order to test a model, 100 playlists are passed through each metric and a mean of the results is returned.\n",
    "\n",
    "\n",
    "### Making a Playlist\n",
    "What does this have to do with playlists?  Good question.  If we can consider a Song as a Word and a Playlist as a document, the applicability is more evident.\n",
    "\n",
    "To make a playlist, we simply convert Songs to Vectors and then find new songs by finding other songs with similar vectors.  To schieve this, we can use the Bag-of-Words or Skip-Gram approach as mentioned above.  \n",
    "\n",
    "Various approaches using these concepts are explored below:\n",
    "\n",
    "<a name='index'></a>\n",
    "### <a href=#1>1. Embeddings from Playlists - Content-Based</a>\n",
    "> Here, we will take data from Spotify that included 1M playlists and the songs in each playlist.  We'll use the Word2Vec process supplying playlists as documents and each song's unique id is used as the word. <br><br>\n",
    "Word2Vec will create an embedding of song vectors that can subsequently be used to create a Skip-Gram or Bag-of_words model; however, in this first approach, we will simply use the embeddings to find a playlist. <br><br>This approach is unsupervised.  No process is used to 'guide' the model into determining if it's output is correct or not.\n",
    "\n",
    "### <a href=#2>2. Bag-of-Words Model - Collaborative</a>\n",
    "> In this approach, we will use the embedding used above to train a Bag-of-Words model to create a recommended playlist.  Unlike the first approach, this model is supervised and requires a training process.\n",
    "\n",
    "\n",
    "### <a href=#3>3. Skip-Gram Model - Collaborative</a>\n",
    "> Using the same embedding as before, we will train a Skip-Gram model to create recommendations.  Like the Bag-of_words model, Skip-Gram is a supervised model and will require a training process.\n",
    "\n",
    "\n",
    "### <a href=#4>4. Song Features Embedding - 'Home-Made Vectors' - Content-Based</a>\n",
    "> Here, we can take a break from Word2Vec and get very basic.  We create our own vectors based on Spotify accoustive feature data.  We have a series of fields available for all of our songs that numerically represent various characteristics of the songs; dancebaility, loudness, temp, key, energy, etc.  We can create vectors for each song based on these values and cast them into the Word2Vec format so that we can exploit some of the Word2Vec functionality. <br><br> Like our first model, this approach is unsupervised.  The model will be built without any feedback on whether is is achieving a certain result or not.\n",
    "\n",
    "\n",
    "\n",
    "<br>\n",
    "\n",
    "**References:**\n",
    "\n",
    "https://www.analyticsvidhya.com/blog/2019/07/how-to-build-recommendation-system-word2vec-python/\n",
    "\n",
    "https://towardsdatascience.com/using-word2vec-for-music-recommendations-bb9649ac2484\n",
    "\n",
    "https://towardsdatascience.com/how-to-build-a-simple-song-recommender-296fcbc8c85\n",
    "\n"
   ]
  },
  {
   "cell_type": "markdown",
   "metadata": {},
   "source": [
    "### Import libraries"
   ]
  },
  {
   "cell_type": "code",
   "execution_count": 254,
   "metadata": {},
   "outputs": [],
   "source": [
    "# Basic Imports\n",
    "import warnings;\n",
    "warnings.filterwarnings('ignore')\n",
    "\n",
    "import os\n",
    "import sys\n",
    "import pandas as pd\n",
    "import numpy as np\n",
    "import seaborn as sns\n",
    "import time\n",
    "import random\n",
    "import matplotlib.pyplot as plt\n",
    "%matplotlib inline\n",
    "\n",
    "from sklearn.preprocessing import normalize, Normalizer\n",
    "from sklearn.preprocessing import MinMaxScaler\n",
    "from sklearn.preprocessing import StandardScaler\n",
    "\n",
    "from gensim.models import Word2Vec\n",
    "from gensim import utils\n",
    "import gensim.models\n",
    "from gensim.models import KeyedVectors\n",
    "\n",
    "# For the Spotify Dataset\n",
    "from sqlalchemy.ext.declarative import declarative_base\n",
    "from sqlalchemy import Table, Column, Integer, String, Float, MetaData, and_, or_, func\n",
    "from sqlalchemy import create_engine\n",
    "import sqlite3\n",
    "from sqlalchemy.orm import sessionmaker\n",
    "from sqlalchemy import exc\n",
    "\n",
    "from sklearn.model_selection import train_test_split\n",
    "\n",
    "sys.path.append('../../')\n",
    "from spotify_api import get_spotify_data, get_tracks, get_artists, get_audiofeatures\n",
    "from spotify_database import get_session, display_time\n",
    "from spotify_utils import Table_Generator, List_Generator, pickle_load, pickle_save\n",
    "\n",
    "# !pip install ipywidgets \n",
    "# !jupyter nbextension enable --py widgetsnbextension\n",
    "# !jupyter labextension install @jupyter-widgets/jupyterlab-manager\n",
    "\n",
    "# %%capture\n",
    "from tqdm import tqdm_notebook as tqdm"
   ]
  },
  {
   "cell_type": "markdown",
   "metadata": {},
   "source": [
    "\n",
    "## Metrics\n",
    "Before creating any playlists, let's setup some metrics so that we can evaluate our models."
   ]
  },
  {
   "cell_type": "markdown",
   "metadata": {},
   "source": [
    "<a name='r-prec'></a>\n",
    "### R-Precision\n",
    "<a href=#metrics>back to index</a>\n",
    "\n",
    "Compares the a recommended list to a ground truth list.  This metric will simply calculate the percentage of tracks that match a ground truth.\n",
    "\n",
    "We can compare the intersection of tracks and the intersection of artists.\n",
    "\n",
    "let: <br>\n",
    "> $G$ = ground truth (validation playlist) <br>\n",
    "> $R$ = recommendation list<br>\n",
    "\n",
    "> $R-precision = \\frac{|G \\bigcap R_{1:|G|}|}{|G|}$\n"
   ]
  },
  {
   "cell_type": "code",
   "execution_count": 108,
   "metadata": {},
   "outputs": [],
   "source": [
    "def calc_rPrecision(ground_truth, recommendation)->float:\n",
    "    \"\"\"\n",
    "    Calculates r-precision based on a list of ground truth \n",
    "    items and a list of recommended items.\n",
    "    Each argument is a list of items to compare.\n",
    "    \"\"\"\n",
    "    G=set(ground_truth)\n",
    "    R=set(recommendation)\n",
    "    \n",
    "    return len(G&R)/len(G)"
   ]
  },
  {
   "cell_type": "markdown",
   "metadata": {
    "variables": {
     "i": {}
    }
   },
   "source": [
    "<a name='ndgc'></a>\n",
    "### NDCG - Normalized Discounted Cumulative Gain\n",
    "<a href=#metrics>back to index</a>\n",
    "\n",
    "NDCG will incorporate not only the relevance, but also the order of the items in the recommended playlist.\n",
    "\n",
    "To caluclate, we need the the DCG (discounted cumulative gain)  which measures the ranking quality.  We also need the IDCG (ideal discounted cumulative gain).\n",
    "\n",
    "> $DCG = rel_1 + \\sum^{|R|}_{i=2}\\frac{rel_i}{log_2(i+1)} $ <br>\n",
    "> $IDCG = 1 + \\sum^{|G|}_{i=2}\\frac{1}{log_2(i+1)} $\n",
    "\n",
    "NDGC is calculated as follows: <br>\n",
    "> $NDCG=\\frac{DCG}{IDCG}$\n",
    "\n",
    "Where $rel_{{i}}$ is the graded relevance of the result at position $i$.  Relevance = 1 when the recommended track is in the ground truth playlist."
   ]
  },
  {
   "cell_type": "code",
   "execution_count": 109,
   "metadata": {},
   "outputs": [],
   "source": [
    "def calc_track_NDCG(ground_truth, recommendation)->float:\n",
    "    list_len = len(recommendation)\n",
    "    scores = [(track in recommendation) for track in ground_truth[0:list_len]]\n",
    "    \n",
    "    DCG  = scores[0] + np.sum(scores[1:]/np.log2( np.arange(1,list_len)+1) )\n",
    "    IDCG = 1 + np.sum(1/np.log2( np.arange(1,list_len)+1 ))\n",
    "    NDGC = DCG/IDCG\n",
    "    \n",
    "    return NDGC"
   ]
  },
  {
   "cell_type": "code",
   "execution_count": 110,
   "metadata": {},
   "outputs": [],
   "source": [
    "def calc_track_metrics(ground_truth, recommendation, display=True)-> (float,float):\n",
    "    \"\"\"\n",
    "    Prints relevant metrics give a grount truth playlist and a \n",
    "    recommended playlist.\n",
    "    \"\"\"\n",
    "    r_prec = calc_rPrecision(ground_truth, recommendation)\n",
    "    NDGC = calc_track_NDCG(ground_truth, recommendation)\n",
    "    \n",
    "    if display:\n",
    "        print(\"Track R-Precision: {}\".format(r_prec))\n",
    "        print(\"Track NDGC       : {}\".format(NDGC))\n",
    "    \n",
    "    return r_prec, NDGC"
   ]
  },
  {
   "cell_type": "code",
   "execution_count": 222,
   "metadata": {},
   "outputs": [],
   "source": [
    "def eval_model(model, df_withheld, df_given, display=True, num_test:int=100) -> (float,float):\n",
    "    \"\"\"\n",
    "    Will perform an r_precision and NDCG calculation on a\n",
    "    restricted set of test playlists and return a mean of each score\n",
    "    for all scored playlists.\n",
    "    \"\"\"\n",
    "    r_precs = []\n",
    "    NDCGs = []\n",
    "    playlists = np.unique(df_given.playlist_id.values)\n",
    "    playlists = np.random.choice(playlists, size=num_test)\n",
    "    \n",
    "    for plistID in tqdm(playlists, desc=\"calculating metrics\"):\n",
    "        df_seed_tracks = df_given[df_given.playlist_id.isin([plistID])]\n",
    "        seed_uris = df_seed_tracks.track_uri.values\n",
    "        \n",
    "        try:\n",
    "            # for embedding, use the first track as the seed\n",
    "            if type(model) == gensim.models.keyedvectors.Word2VecKeyedVectors:\n",
    "                playlist_rec = np.array(embedding.similar_by_word(seed_uris[0], \n",
    "                                                              topn=10))\n",
    "\n",
    "            elif type(model) == gensim.models.word2vec.Word2Vec:\n",
    "                playlist_rec = np.array(BOW_model.predict_output_word(seed_uris, \n",
    "                                                                      topn=10))\n",
    "\n",
    "            withheld_uris = df_withheld[df_withheld.playlist_id.isin([plistID])].track_uri.values\n",
    "\n",
    "            r_prec, NDGC = calc_track_metrics(  withheld_uris, \n",
    "                                                    playlist_rec[:,0],\n",
    "                                                    display=False)\n",
    "        except:\n",
    "            continue\n",
    "        \n",
    "        r_precs.append(r_prec)\n",
    "        NDCGs.append(NDGC)\n",
    "    \n",
    "    if display:\n",
    "        print(\"Mean Track R-Precision: {}\".format(np.mean(r_precs)))\n",
    "        print(\"Mean Track NDGC       : {}\".format(np.mean(NDCGs)))\n",
    "        \n",
    "    return r_precs, NDCGs\n",
    "        \n",
    "    "
   ]
  },
  {
   "cell_type": "markdown",
   "metadata": {},
   "source": [
    "### Set Data Path Variables"
   ]
  },
  {
   "cell_type": "code",
   "execution_count": 5,
   "metadata": {},
   "outputs": [],
   "source": [
    "data_path = '../../data/SpotifyDataSet'\n",
    "db_path = '../../data/SpotifyDataSet/spotify_songs.db'\n",
    "\n",
    "# Get sesion\n",
    "session = get_session(db_path)\n",
    "engine = create_engine('sqlite:///' + db_path)\n",
    "\n",
    "# Get Songs class\n",
    "Playlists = getattr(get_session, \"Playlists\")\n",
    "Artists = getattr(get_session, \"Artists\")\n",
    "Tracks = getattr(get_session, \"Tracks\")"
   ]
  },
  {
   "cell_type": "code",
   "execution_count": 14,
   "metadata": {},
   "outputs": [],
   "source": [
    "# takes 5 minutes\n",
    "df_playlists_test_withheld = pd.read_csv(os.path.join(data_path, \"df_playlists_test_withheld.csv\"), index_col='index')#.drop('Unnamed: 0', axis=1)\n",
    "df_playlists_test_given    = pd.read_csv(os.path.join(data_path, \"df_playlists_test_given.csv\"), index_col='index')#.drop('Unnamed: 0', axis=1)\n",
    "df_playlists_train         = pd.read_csv(os.path.join(data_path, \"df_playlists_train.csv\"), index_col='index').drop('Unnamed: 0', axis=1)\n"
   ]
  },
  {
   "cell_type": "markdown",
   "metadata": {},
   "source": [
    "## Review the Given Set of Songs\n",
    "For reference, let's look at the songs that will be used in our models to produce recommendations.  This will help us to determin if the recommendations are reasonable.\n",
    "\n",
    "We will use the `df_playlists_test_given` and `df_playlists_test_withheld` dataframes to test the models.  The `given` dataframe inlcludes 10 tracks from each of 10,000 playlists.  Any playlist of 10 tracks should be used to predict the corresponding `withheld` tracks from each playlist."
   ]
  },
  {
   "cell_type": "code",
   "execution_count": 202,
   "metadata": {},
   "outputs": [
    {
     "data": {
      "text/plain": [
       "array([295069])"
      ]
     },
     "execution_count": 202,
     "metadata": {},
     "output_type": "execute_result"
    }
   ],
   "source": [
    "# pick a random playlist\n",
    "test_playlistIDs = np.unique(df_playlists_test_given.playlist_id.values)\n",
    "test_playlist_ID = np.random.choice(test_playlistIDs, size=1)\n",
    "test_playlist_ID"
   ]
  },
  {
   "cell_type": "code",
   "execution_count": 203,
   "metadata": {},
   "outputs": [],
   "source": [
    "# define 'given' and 'withheld' portions of test set\n",
    "test_given = df_playlists_test_given[df_playlists_test_given.playlist_id.isin(test_playlist_ID)].track_uri.values\n",
    "test_withheld = df_playlists_test_withheld[df_playlists_test_withheld.playlist_id.isin(test_playlist_ID)]"
   ]
  },
  {
   "cell_type": "code",
   "execution_count": 242,
   "metadata": {},
   "outputs": [],
   "source": [
    "def print_recommended_playlist(playlist:np.array, df_withheld:pd.DataFrame=None)->None:\n",
    "    \"\"\"\n",
    "    Print a playlist recommendation. Display to terminal output.\n",
    "    \"\"\"\n",
    "    \n",
    "    if len(playlist)>50:\n",
    "        playlist = playlist[0:50]\n",
    "    \n",
    "    note = \"\"\n",
    "    match = np.zeros(len(playlist))\n",
    "    if df_withheld is not None:\n",
    "        note = \"(* indicates a match)\"\n",
    "        for i, t in enumerate(playlist):\n",
    "            if t in df_withheld.track_uri.values:\n",
    "                match[i] = 1\n",
    "        print (\"{} tracks matches.\".format(np.sum(match).astype(int)))\n",
    "    \n",
    "    sp_playlist = get_tracks(playlist)\n",
    "    print(\"RECOMMENDED PLAYLIST {}\".format(note))\n",
    "    print(\"{:1}{:20}{:30}{:30}\".format(\"\",\"Artist\",\"Track\",\"URI\"))\n",
    "    for i, t in enumerate(sp_playlist):\n",
    "        print(\"{0:1}{1:20}{2:30}{3:30}\".format( \"*\" if match[i] else \"\", t['artists'][0]['name'],  t['name'], t['uri']))\n",
    "        print(\" {}\".format(\"<no preview>\" if t['preview_url']==None else t['preview_url']))\n",
    "        print()"
   ]
  },
  {
   "cell_type": "code",
   "execution_count": 243,
   "metadata": {
    "scrolled": false
   },
   "outputs": [
    {
     "name": "stdout",
     "output_type": "stream",
     "text": [
      "RECOMMENDED PLAYLIST \n",
      " Artist              Track                         URI                           \n",
      " Louis Armstrong     La vie en rose - Single Versionspotify:track:0AX6pLXtyR2vPLv2KYErAg\n",
      " <no preview>\n",
      "\n",
      " Bobby Darin         Dream Lover - 2006 Remaster   spotify:track:4GqMYg91LJXiLjvQBFc3s0\n",
      " https://p.scdn.co/mp3-preview/60b4d507dace4a9505a04d480b0f299e43d9994d?cid=72413f75d4db4ec79c6caaf02523959e\n",
      "\n",
      " Dean Martin         Everybody Loves Somebody      spotify:track:78VG6M1i7JQXBdygmWFwye\n",
      " https://p.scdn.co/mp3-preview/d2b12a99c2d07cc5f085acf174f75889678ecc0a?cid=72413f75d4db4ec79c6caaf02523959e\n",
      "\n",
      " Chuck Berry         School Day (Ring Ring Goes The Bell)spotify:track:3hNcrk8Ypht0x5CuT7pJnS\n",
      " <no preview>\n",
      "\n",
      " Otis Redding        Stand by Me                   spotify:track:1aj4GXfmEYXfdVZohCpNKu\n",
      " https://p.scdn.co/mp3-preview/94e1e88bd6e967752a5030b1cca3fff3beae8dce?cid=72413f75d4db4ec79c6caaf02523959e\n",
      "\n",
      " Dion                Life Is But A Dream           spotify:track:6C5YGS0bYivffnEH3EMC7h\n",
      " <no preview>\n",
      "\n",
      " Frank Sinatra       Somethin' Stupid              spotify:track:3cVWNLd0uEHkc2tnBoE3Ay\n",
      " <no preview>\n",
      "\n",
      " Armando Trovajoli   Che vuole questa musica staseraspotify:track:1Pngj7Q4wlhK9uO8vXTv8b\n",
      " https://p.scdn.co/mp3-preview/8ecf10cce06f9f7b1dbe5c448c5555b33e6aa6e8?cid=72413f75d4db4ec79c6caaf02523959e\n",
      "\n",
      " Louis Prima         I Wan'na Be Like You (The Monkey Song)spotify:track:15p4zvWigjysxyDwabL8Gw\n",
      " <no preview>\n",
      "\n",
      " Édith Piaf          Non, je ne regrette rien      spotify:track:3dkIE8P7hvl3tHl9KSb6dA\n",
      " https://p.scdn.co/mp3-preview/9573d79702304b5cdcb0b81ab671c1816ffe996e?cid=72413f75d4db4ec79c6caaf02523959e\n",
      "\n",
      " Scala & Kolacny BrothersCreep                         spotify:track:5sT9L8WpqE9Ux1LpNyHGWi\n",
      " https://p.scdn.co/mp3-preview/b4ae8993d67b1380fde20bd74fba098e3a56f336?cid=72413f75d4db4ec79c6caaf02523959e\n",
      "\n",
      " Otis Redding        (Sittin' On) the Dock of the Bayspotify:track:3zBhihYUHBmGd2bcQIobrF\n",
      " https://p.scdn.co/mp3-preview/99bfd8043cd20bc3dc4b7aa9461ac268954efdf7?cid=72413f75d4db4ec79c6caaf02523959e\n",
      "\n",
      " Otis Redding        Try a Little Tenderness       spotify:track:36AlMHDBFwSsD3FQOy1R81\n",
      " https://p.scdn.co/mp3-preview/1518c461301b0c3224efd3d44d3f2d4b2420ad77?cid=72413f75d4db4ec79c6caaf02523959e\n",
      "\n",
      " Sam Cooke           A Change Is Gonna Come        spotify:track:0RFKuagqUgR4X8C1QneCCq\n",
      " <no preview>\n",
      "\n",
      " Percy Sledge        You Really Got a Hold on Me   spotify:track:1kz3vwmLiBlW3A73exQSNx\n",
      " https://p.scdn.co/mp3-preview/58a0989dd05de1a571aa694c30c31c243602835c?cid=72413f75d4db4ec79c6caaf02523959e\n",
      "\n",
      " Al Green            Tired of Being Alone          spotify:track:10vkYRKw6Jjr7try1ir50G\n",
      " https://p.scdn.co/mp3-preview/2e1e43ae828e9eca497970140da2bf3e09ec2b44?cid=72413f75d4db4ec79c6caaf02523959e\n",
      "\n",
      " Marvin Gaye         Ain't No Mountain High Enough spotify:track:2H3ZUSE54pST4ubRd5FzFR\n",
      " <no preview>\n",
      "\n",
      " Brett Eldredge      Baby, It's Cold Outside       spotify:track:5Q2P43CJra0uRAogjHyJDK\n",
      " https://p.scdn.co/mp3-preview/034b86b6675353d9e88badc912cf1196e4530d7a?cid=72413f75d4db4ec79c6caaf02523959e\n",
      "\n",
      " Frank Sinatra       You Make Me Feel So Young     spotify:track:0RKWU3hF0xNGS5RJXAtzF5\n",
      " <no preview>\n",
      "\n",
      " Frank Sinatra       Theme From New York, New York spotify:track:17bBNcLyMBDayQskHJX29T\n",
      " <no preview>\n",
      "\n",
      " Bobby Darin         Beyond the Sea                spotify:track:3KzgdYUlqV6TOG7JCmx2Wg\n",
      " https://p.scdn.co/mp3-preview/265a0fffe03b363973ddf23f0c8f4e55a3d0b45a?cid=72413f75d4db4ec79c6caaf02523959e\n",
      "\n",
      " Billie Holiday      Summertime                    spotify:track:6VhydqOAHJRdlTv7BWFxWI\n",
      " https://p.scdn.co/mp3-preview/26784229b7e90bc460b7a28b52c7409af65c307e?cid=72413f75d4db4ec79c6caaf02523959e\n",
      "\n",
      " Luis Bacalov        Lo Chiamavano King (His Name Is King)spotify:track:342v3Is0g1CfidoxekA4f8\n",
      " <no preview>\n",
      "\n",
      " The Robins          Since I First Met You         spotify:track:0vGyXveSjPnALkLiqfZDOg\n",
      " https://p.scdn.co/mp3-preview/fdae697d852ab413c8a8625a6c566086cd2efb3b?cid=72413f75d4db4ec79c6caaf02523959e\n",
      "\n",
      " Henry Mancini       Moon River(Vocal Audrey Hepburn)spotify:track:5iGleL7HpEThuuYQ3us2jh\n",
      " https://p.scdn.co/mp3-preview/a90cf74968bac430e124f74ae1951f9a4744b43e?cid=72413f75d4db4ec79c6caaf02523959e\n",
      "\n",
      " Yusuf / Cat Stevens Wild World                    spotify:track:269OfNY9Je1QWaDnu31KKp\n",
      " <no preview>\n",
      "\n",
      " Faces               Ooh La La                     spotify:track:4lJ6YVXQ0jUk5ILu0PSrA4\n",
      " https://p.scdn.co/mp3-preview/2652374b71b4c7913481e345b9a5bb318ba3a67d?cid=72413f75d4db4ec79c6caaf02523959e\n",
      "\n",
      " Led Zeppelin        Going to California - Remasterspotify:track:70gbuMqwNBE2Y5rkQJE9By\n",
      " https://p.scdn.co/mp3-preview/4bdae56c6a9f7a8ec42b753cb7bea2c77ec68f1e?cid=72413f75d4db4ec79c6caaf02523959e\n",
      "\n",
      " Paul Simon          Me and Julio Down by the Schoolyardspotify:track:6vxHp3CDNo0afgKGp2yi1E\n",
      " https://p.scdn.co/mp3-preview/902633811e6a135bdd9ece72e92318e2ce2fe509?cid=72413f75d4db4ec79c6caaf02523959e\n",
      "\n",
      " James Taylor        Fire and Rain                 spotify:track:3LcYYV9ozePfgYYmXv0P3r\n",
      " https://p.scdn.co/mp3-preview/facca1f85f4ef20afa376f91ca8e2276b157d421?cid=72413f75d4db4ec79c6caaf02523959e\n",
      "\n",
      " Billy Joel          Piano Man                     spotify:track:78WVLOP9pN0G3gRLFy1rAa\n",
      " https://p.scdn.co/mp3-preview/616c82628b148566cbe6e8309faf6991b7007b35?cid=72413f75d4db4ec79c6caaf02523959e\n",
      "\n",
      " The Band            The Weight - Remastered       spotify:track:0sDqo9UPzPUtu9wEkI3zRB\n",
      " <no preview>\n",
      "\n",
      " Van Morrison        Moondance - 2013 Remaster     spotify:track:683b4ikwa62JevCjwrmfg6\n",
      " https://p.scdn.co/mp3-preview/dea0ee252b37c7add7d380bb10266cc8c4c988d6?cid=72413f75d4db4ec79c6caaf02523959e\n",
      "\n",
      " James Taylor        Carolina in My Mind           spotify:track:5WOLghNew2YKZO96gYoM7p\n",
      " https://p.scdn.co/mp3-preview/f2e94a843848d24e8ea96b75c582594ba794b8fc?cid=72413f75d4db4ec79c6caaf02523959e\n",
      "\n",
      " Billy Joel          Vienna                        spotify:track:4U45aEWtQhrm8A5mxPaFZ7\n",
      " https://p.scdn.co/mp3-preview/b89ebbbeb75da99a2cf4b893d0d966df9da434ba?cid=72413f75d4db4ec79c6caaf02523959e\n",
      "\n",
      " Paul Simon          You Can Call Me Al            spotify:track:0qxYx4F3vm1AOnfux6dDxP\n",
      " https://p.scdn.co/mp3-preview/ff8c2381dbea9e5c5da615f6321d42c603175761?cid=72413f75d4db4ec79c6caaf02523959e\n",
      "\n",
      " Ron Sexsmith        Gold In Them Hills            spotify:track:490KdXFNi8wMA7Vs7nM1Bo\n",
      " https://p.scdn.co/mp3-preview/ecbcd5c9b99969ab73a6ee251860b6e7a4017b7f?cid=72413f75d4db4ec79c6caaf02523959e\n",
      "\n",
      " Jon Boden           How Long Will I Love You      spotify:track:74RjCYWXEq02lyMumMTKDI\n",
      " <no preview>\n",
      "\n",
      " Amy Winehouse       Valerie - Live At BBC Radio 1 Live Lounge, London / 2007spotify:track:6nLvaCZFR1wEzW3sIKpsnr\n",
      " <no preview>\n",
      "\n",
      " Etta James          At Last - Single Version      spotify:track:0CmIALzGn4vHIHJG4n3Q4z\n",
      " <no preview>\n",
      "\n",
      " Dion                The Wanderer                  spotify:track:1UwriLz98ILbRhrtohTca1\n",
      " <no preview>\n",
      "\n",
      " Dion                Runaround Sue                 spotify:track:1DndHckdH9m5rp6gYP086b\n",
      " <no preview>\n",
      "\n",
      " Elvis Presley       (You're The) Devil In Disguisespotify:track:2hEwjc5DZVPcC4cVVBuMr5\n",
      " https://p.scdn.co/mp3-preview/e5dcc97ff306a1d3bb53acef8b1d71cb92179201?cid=72413f75d4db4ec79c6caaf02523959e\n",
      "\n",
      " Ryan Gosling        City Of Stars - From \"La La Land\" Soundtrack/Pierspotify:track:7jltqRIyxLXBDNZ1QlmnBp\n",
      " <no preview>\n",
      "\n",
      " B.J. Thomas         Raindrops Keep Fallin' On My Head - From \"Butch Cassidy And The Sundance Kid\" Soundtrackspotify:track:1KkwByi6c9dFFmUTcgMODw\n",
      " <no preview>\n",
      "\n",
      " Harry Nilsson       Everybody's Talkin' - From \"Midnight Cowboy\"spotify:track:1jcPcDu2YawPfLhwjYnqK2\n",
      " https://p.scdn.co/mp3-preview/ed78b53aa9ab2a26b0a31928030e4748a93c85b6?cid=72413f75d4db4ec79c6caaf02523959e\n",
      "\n",
      " Four Tops           I Can't Help Myself (Sugar Pie, Honey Bunch) - Album Version (Stereo)spotify:track:1I8956VUImfafRIuccR9Cq\n",
      " <no preview>\n",
      "\n",
      " Steve Miller Band   The Joker                     spotify:track:1bp2IO61zbQrbWNmKKxg3f\n",
      " <no preview>\n",
      "\n",
      " The O'Jays          Love Train                    spotify:track:28285KFbyCq8sJofn58qlD\n",
      " https://p.scdn.co/mp3-preview/6a2c40a2caaaaea4657b96e9991c1d90773983bf?cid=72413f75d4db4ec79c6caaf02523959e\n",
      "\n",
      " Redbone             Come & Get Your Love (Re-Recorded)spotify:track:4ya82vEkIk1HJpuPDhESOC\n",
      " <no preview>\n",
      "\n"
     ]
    }
   ],
   "source": [
    "print_recommended_playlist(test_given)"
   ]
  },
  {
   "cell_type": "markdown",
   "metadata": {},
   "source": [
    "<a name='1'></a>\n",
    "## 1. Embeddings from Playlists - Content-Based\n",
    "<a href=#index>back to index</a>\n",
    "\n",
    "\n",
    "The baseline model will use embeddings to find similarities between songs.  The embeddings are built from playlists, where the playlist serves as a sentence made up of songs.\n",
    "\n",
    "Similarities between songs are determined by their cosine distance with other songs.\n",
    "\n",
    "To speed up to building of the enbedding, an extract is made from the database which will serve as documents for the embedding.  Each 'sentence' is a playlist and each 'word' is a song in the playlist.\n",
    "\n",
    "From the DB, the following view is created which is subseqntly extracted as a CSV file:<br>\n",
    "\n",
    "`CREATE VIEW playlist_tracks_uris AS SELECT t.playlist_id, group_concat(t.track_uri, ' ')  FROM playlists t GROUP BY  t.playlist_id;`\n"
   ]
  },
  {
   "cell_type": "code",
   "execution_count": 21,
   "metadata": {},
   "outputs": [
    {
     "data": {
      "text/html": [
       "<div>\n",
       "<style scoped>\n",
       "    .dataframe tbody tr th:only-of-type {\n",
       "        vertical-align: middle;\n",
       "    }\n",
       "\n",
       "    .dataframe tbody tr th {\n",
       "        vertical-align: top;\n",
       "    }\n",
       "\n",
       "    .dataframe thead th {\n",
       "        text-align: right;\n",
       "    }\n",
       "</style>\n",
       "<table border=\"1\" class=\"dataframe\">\n",
       "  <thead>\n",
       "    <tr style=\"text-align: right;\">\n",
       "      <th></th>\n",
       "      <th>tracks</th>\n",
       "    </tr>\n",
       "    <tr>\n",
       "      <th>playlistID</th>\n",
       "      <th></th>\n",
       "    </tr>\n",
       "  </thead>\n",
       "  <tbody>\n",
       "    <tr>\n",
       "      <th>1</th>\n",
       "      <td>spotify:track:2d7LPtieXdIYzf7yHPooWd spotify:t...</td>\n",
       "    </tr>\n",
       "    <tr>\n",
       "      <th>2</th>\n",
       "      <td>spotify:track:5j9iuo3tMmQIfnEEQOOjxh spotify:t...</td>\n",
       "    </tr>\n",
       "    <tr>\n",
       "      <th>3</th>\n",
       "      <td>spotify:track:4HBVGSeSPpSZ1QmMBhEtqp spotify:t...</td>\n",
       "    </tr>\n",
       "    <tr>\n",
       "      <th>4</th>\n",
       "      <td>spotify:track:1f5AW15GV76mk8JNxaPJIx spotify:t...</td>\n",
       "    </tr>\n",
       "    <tr>\n",
       "      <th>5</th>\n",
       "      <td>spotify:track:4Sj3djQIFuaH3VICDN3uAA spotify:t...</td>\n",
       "    </tr>\n",
       "  </tbody>\n",
       "</table>\n",
       "</div>"
      ],
      "text/plain": [
       "                                                       tracks\n",
       "playlistID                                                   \n",
       "1           spotify:track:2d7LPtieXdIYzf7yHPooWd spotify:t...\n",
       "2           spotify:track:5j9iuo3tMmQIfnEEQOOjxh spotify:t...\n",
       "3           spotify:track:4HBVGSeSPpSZ1QmMBhEtqp spotify:t...\n",
       "4           spotify:track:1f5AW15GV76mk8JNxaPJIx spotify:t...\n",
       "5           spotify:track:4Sj3djQIFuaH3VICDN3uAA spotify:t..."
      ]
     },
     "execution_count": 21,
     "metadata": {},
     "output_type": "execute_result"
    }
   ],
   "source": [
    "# get playlists CSV file into DataFrame - take 5 minutes\n",
    "corpus_file = 'playlist_tracks.csv'\n",
    "corpus_filepath = os.path.join(data_path, corpus_file)\n",
    "\n",
    "df_playlists = pd.read_csv(corpus_filepath, sep='\\t', header=None)\n",
    "df_playlists.columns = [\"playlistID\",\"tracks\"]\n",
    "df_playlists.set_index('playlistID', drop=True, inplace=True)\n",
    "df_playlists.head()"
   ]
  },
  {
   "cell_type": "code",
   "execution_count": 22,
   "metadata": {},
   "outputs": [],
   "source": [
    "# remove test playlists from corpus\n",
    "playlists_train = df_playlists[df_playlists.index.isin(np.unique(df_playlists_train.playlist_id))]\n"
   ]
  },
  {
   "cell_type": "code",
   "execution_count": 23,
   "metadata": {},
   "outputs": [],
   "source": [
    "# Iterator that yields the songs for each playlist in a Dataframe\n",
    "class Playlist_URIs_df(object):\n",
    "    \"\"\"\n",
    "    Playlist generator that yileds the track uris in a playlist.\n",
    "    Yields one playlist at a time.\n",
    "    \"\"\"\n",
    "    def __init__(self,\n",
    "                 dataframe:pd.DataFrame=None,\n",
    "                 name:str=None,\n",
    "                 iters:int=None):\n",
    "        self.dataframe    = dataframe\n",
    "        self.length       = len(dataframe)\n",
    "        self.name         = name\n",
    "        self.count        = 0\n",
    "        self.iters        = iters\n",
    "        print(\"Creating Playlist Track Listing Generator:\")\n",
    "        print(\"\\tlength     : \", self.length)\n",
    "    \n",
    "    def __iter__(self):\n",
    "        \n",
    "        self.count += 1\n",
    "        progbar = tqdm(total=self.length, desc=\"{}:{}/{}\".format(self.name, self.count, self.iters+1))\n",
    "        \n",
    "        for plId, line in self.dataframe.itertuples():\n",
    "            progbar.update(1)\n",
    "            yield line.split(' ') # space-delimited tracks\n",
    "            \n",
    "        progbar.close()    "
   ]
  },
  {
   "cell_type": "code",
   "execution_count": 24,
   "metadata": {},
   "outputs": [
    {
     "name": "stdout",
     "output_type": "stream",
     "text": [
      "Creating Playlist Track Listing Generator:\n",
      "\tlength     :  989001\n"
     ]
    }
   ],
   "source": [
    "iters = 5\n",
    "playlists_gen = Playlist_URIs_df(dataframe=playlists_train,\n",
    "                                 name=\"Building Vectors\",\n",
    "                                 iters=iters) "
   ]
  },
  {
   "cell_type": "markdown",
   "metadata": {},
   "source": [
    "### Build embedding and BOW model"
   ]
  },
  {
   "cell_type": "code",
   "execution_count": 25,
   "metadata": {},
   "outputs": [
    {
     "data": {
      "application/vnd.jupyter.widget-view+json": {
       "model_id": "6bedcb1344ed4a579a3c24bb768f0398",
       "version_major": 2,
       "version_minor": 0
      },
      "text/plain": [
       "HBox(children=(IntProgress(value=0, description='Building Vectors:1/6', max=989001, style=ProgressStyle(descri…"
      ]
     },
     "metadata": {},
     "output_type": "display_data"
    },
    {
     "name": "stdout",
     "output_type": "stream",
     "text": [
      "\n"
     ]
    },
    {
     "data": {
      "application/vnd.jupyter.widget-view+json": {
       "model_id": "d801be1e88a0404580b80aa0c839c499",
       "version_major": 2,
       "version_minor": 0
      },
      "text/plain": [
       "HBox(children=(IntProgress(value=0, description='Building Vectors:2/6', max=989001, style=ProgressStyle(descri…"
      ]
     },
     "metadata": {},
     "output_type": "display_data"
    },
    {
     "name": "stdout",
     "output_type": "stream",
     "text": [
      "\n"
     ]
    },
    {
     "data": {
      "application/vnd.jupyter.widget-view+json": {
       "model_id": "d38daa5a088c4677ac7213e04f411f17",
       "version_major": 2,
       "version_minor": 0
      },
      "text/plain": [
       "HBox(children=(IntProgress(value=0, description='Building Vectors:3/6', max=989001, style=ProgressStyle(descri…"
      ]
     },
     "metadata": {},
     "output_type": "display_data"
    },
    {
     "name": "stdout",
     "output_type": "stream",
     "text": [
      "\n"
     ]
    },
    {
     "data": {
      "application/vnd.jupyter.widget-view+json": {
       "model_id": "2116af0daa2b42a6a1bef228da27c9d7",
       "version_major": 2,
       "version_minor": 0
      },
      "text/plain": [
       "HBox(children=(IntProgress(value=0, description='Building Vectors:4/6', max=989001, style=ProgressStyle(descri…"
      ]
     },
     "metadata": {},
     "output_type": "display_data"
    },
    {
     "name": "stdout",
     "output_type": "stream",
     "text": [
      "\n"
     ]
    },
    {
     "data": {
      "application/vnd.jupyter.widget-view+json": {
       "model_id": "8653494bb4ea4538bb38fff1d42d4969",
       "version_major": 2,
       "version_minor": 0
      },
      "text/plain": [
       "HBox(children=(IntProgress(value=0, description='Building Vectors:5/6', max=989001, style=ProgressStyle(descri…"
      ]
     },
     "metadata": {},
     "output_type": "display_data"
    },
    {
     "name": "stdout",
     "output_type": "stream",
     "text": [
      "\n"
     ]
    },
    {
     "data": {
      "application/vnd.jupyter.widget-view+json": {
       "model_id": "8c8223da32374d4e92fd949a56e9eb22",
       "version_major": 2,
       "version_minor": 0
      },
      "text/plain": [
       "HBox(children=(IntProgress(value=0, description='Building Vectors:6/6', max=989001, style=ProgressStyle(descri…"
      ]
     },
     "metadata": {},
     "output_type": "display_data"
    },
    {
     "name": "stdout",
     "output_type": "stream",
     "text": [
      "\n"
     ]
    }
   ],
   "source": [
    "# Build a gensim BOW model including a word embedding\n",
    "model_BOW = gensim.models.Word2Vec(sentences=playlists_gen,\n",
    "                               workers = 8,    # number of processors\n",
    "                               sg = 0,         # 1=skip-gram, 0=CBOW\n",
    "                               iter=iters      # training iterations - default=5\n",
    "                              )\n",
    "\n",
    "# save the model\n",
    "model_filepath = os.path.join(data_path, 'playlists_BOW.model')\n",
    "model_BOW.save(model_filepath)\n",
    "\n",
    "# Save the embedding\n",
    "kv_filepath = os.path.join(data_path, 'playlists.embedding')\n",
    "model_BOW.wv.save(kv_filepath)\n",
    "\n",
    "# about 5 minutes per iteration with 4 processors // 2 min per iteration with 8"
   ]
  },
  {
   "cell_type": "markdown",
   "metadata": {},
   "source": [
    "### Build Skip-Gram Model"
   ]
  },
  {
   "cell_type": "code",
   "execution_count": 26,
   "metadata": {},
   "outputs": [
    {
     "data": {
      "application/vnd.jupyter.widget-view+json": {
       "model_id": "dde9e2b63efa4f4ca3e2a5bf88e9804c",
       "version_major": 2,
       "version_minor": 0
      },
      "text/plain": [
       "HBox(children=(IntProgress(value=0, description='Building Vectors:7/6', max=989001, style=ProgressStyle(descri…"
      ]
     },
     "metadata": {},
     "output_type": "display_data"
    },
    {
     "name": "stdout",
     "output_type": "stream",
     "text": [
      "\n"
     ]
    },
    {
     "data": {
      "application/vnd.jupyter.widget-view+json": {
       "model_id": "067da764bd9443e3980c371c4cf1dccb",
       "version_major": 2,
       "version_minor": 0
      },
      "text/plain": [
       "HBox(children=(IntProgress(value=0, description='Building Vectors:8/6', max=989001, style=ProgressStyle(descri…"
      ]
     },
     "metadata": {},
     "output_type": "display_data"
    },
    {
     "name": "stdout",
     "output_type": "stream",
     "text": [
      "\n"
     ]
    },
    {
     "data": {
      "application/vnd.jupyter.widget-view+json": {
       "model_id": "f4c108b2b99943aba0abfb1d5f1b788a",
       "version_major": 2,
       "version_minor": 0
      },
      "text/plain": [
       "HBox(children=(IntProgress(value=0, description='Building Vectors:9/6', max=989001, style=ProgressStyle(descri…"
      ]
     },
     "metadata": {},
     "output_type": "display_data"
    },
    {
     "name": "stdout",
     "output_type": "stream",
     "text": [
      "\n"
     ]
    },
    {
     "data": {
      "application/vnd.jupyter.widget-view+json": {
       "model_id": "61be772e0cc542e2801bedf8373d0cb7",
       "version_major": 2,
       "version_minor": 0
      },
      "text/plain": [
       "HBox(children=(IntProgress(value=0, description='Building Vectors:10/6', max=989001, style=ProgressStyle(descr…"
      ]
     },
     "metadata": {},
     "output_type": "display_data"
    },
    {
     "name": "stdout",
     "output_type": "stream",
     "text": [
      "\n"
     ]
    },
    {
     "data": {
      "application/vnd.jupyter.widget-view+json": {
       "model_id": "456fb53d5cf447e4b64c0caab4f1767a",
       "version_major": 2,
       "version_minor": 0
      },
      "text/plain": [
       "HBox(children=(IntProgress(value=0, description='Building Vectors:11/6', max=989001, style=ProgressStyle(descr…"
      ]
     },
     "metadata": {},
     "output_type": "display_data"
    },
    {
     "name": "stdout",
     "output_type": "stream",
     "text": [
      "\n"
     ]
    },
    {
     "data": {
      "application/vnd.jupyter.widget-view+json": {
       "model_id": "8bce766482d4434a82033db351acd6ab",
       "version_major": 2,
       "version_minor": 0
      },
      "text/plain": [
       "HBox(children=(IntProgress(value=0, description='Building Vectors:12/6', max=989001, style=ProgressStyle(descr…"
      ]
     },
     "metadata": {},
     "output_type": "display_data"
    },
    {
     "name": "stdout",
     "output_type": "stream",
     "text": [
      "\n"
     ]
    }
   ],
   "source": [
    "# Build a gensim Skip-Gram model including a word embedding\n",
    "model_SG = gensim.models.Word2Vec(sentences=playlists_gen,\n",
    "                               workers = 8,    # number of processors\n",
    "                               sg = 1,         # 1=skip-gram, 0=CBOW\n",
    "                               iter=iters      # training iterations - default=5\n",
    "                              )\n",
    "\n",
    "# save the model\n",
    "model_filepath = os.path.join(data_path, 'playlists_SG.model')\n",
    "model_SG.save(model_filepath)\n",
    "\n",
    "# NOTE: No need to save the embedding again, it is the same as in the BOW model\n",
    "\n",
    "# about 5 minutes per iteration with 4 processors // 2 min per iteration with 8"
   ]
  },
  {
   "cell_type": "markdown",
   "metadata": {},
   "source": [
    "### Model Attributes\n",
    "Now, we have created an embedding and an associated model which follows the BOW approach.\n",
    "\n",
    "#### wv\n",
    "> This object essentially contains the mapping between words and embeddings. It can be used directly to query the embeddings in various ways. \n",
    "\n",
    "#### vocabulary\n",
    "> This object represents the vocabulary (sometimes called Dictionary in gensim) of the model. "
   ]
  },
  {
   "cell_type": "markdown",
   "metadata": {},
   "source": [
    "### Review the Embedding\n",
    "Get 10 'words' from the embedding's vocabulary."
   ]
  },
  {
   "cell_type": "code",
   "execution_count": 27,
   "metadata": {},
   "outputs": [],
   "source": [
    "# reload saved embedding\n",
    "kv_filepath = os.path.join(data_path, 'playlists.embedding')\n",
    "embedding = KeyedVectors.load(kv_filepath, mmap='r')"
   ]
  },
  {
   "cell_type": "code",
   "execution_count": 28,
   "metadata": {},
   "outputs": [
    {
     "name": "stdout",
     "output_type": "stream",
     "text": [
      "Track: spotify:track:4rcQyhmbqea985kxXURyfM\n",
      "\t Vocab(count:7, index:446332, sample_int:4294967296)\n",
      "Track: spotify:track:2EsOy9Yk7Du8RvkA0lhm4L\n",
      "\t Vocab(count:125, index:58093, sample_int:4294967296)\n",
      "Track: spotify:track:7Di7t9yGoxdZRLAt5a4pi0\n",
      "\t Vocab(count:2006, index:5245, sample_int:4294967296)\n",
      "Track: spotify:track:1SOFGwoT6i5cB7bg4PtX2Y\n",
      "\t Vocab(count:8, index:398504, sample_int:4294967296)\n",
      "Track: spotify:track:4Ix57FqMyPMD1SouENEtV8\n",
      "\t Vocab(count:91, index:74450, sample_int:4294967296)\n",
      "Track: spotify:track:2mTKpYDTvqIkD42LRNob9F\n",
      "\t Vocab(count:18, index:244527, sample_int:4294967296)\n",
      "Track: spotify:track:4EU1Su5dQtnkRO7gSG35Ui\n",
      "\t Vocab(count:10, index:348047, sample_int:4294967296)\n",
      "Track: spotify:track:4XOkjFJ0qXZr61Lv116ybV\n",
      "\t Vocab(count:296, index:29179, sample_int:4294967296)\n",
      "Track: spotify:track:4XBjG0TN3iK2WKmz71GsmH\n",
      "\t Vocab(count:77, index:84238, sample_int:4294967296)\n",
      "Track: spotify:track:0BlNkCzdgYi9eJXwnYUho9\n",
      "\t Vocab(count:165, index:46640, sample_int:4294967296)\n"
     ]
    }
   ],
   "source": [
    "# display list of random track along with a count of appearances\n",
    "songids = list(embedding.wv.vocab.keys())\n",
    "idxs_rnd = [random.randint(0,len(songids)) for x in range(10)]\n",
    "\n",
    "for i in idxs_rnd:\n",
    "    print(\"Track: {}\".format(songids[i]))\n",
    "    print(\"\\t\",embedding.wv.vocab[songids[i]])"
   ]
  },
  {
   "cell_type": "markdown",
   "metadata": {},
   "source": [
    "### Display the Embedded Vector"
   ]
  },
  {
   "cell_type": "code",
   "execution_count": 201,
   "metadata": {},
   "outputs": [
    {
     "name": "stdout",
     "output_type": "stream",
     "text": [
      "spotify:track:4rcQyhmbqea985kxXURyfM\n"
     ]
    },
    {
     "data": {
      "text/plain": [
       "memmap([ 2.54702047e-02, -9.36156362e-02,  9.72104743e-02,\n",
       "        -4.94626276e-02, -8.21211338e-02,  1.19572319e-01,\n",
       "        -1.75503939e-01, -1.24044880e-01,  1.66824795e-02,\n",
       "        -4.97681387e-02,  4.08215784e-02,  9.62732956e-02,\n",
       "         6.78425506e-02, -1.66927110e-02,  3.74965742e-02,\n",
       "         2.13508070e-01,  9.58365761e-03,  1.95487574e-01,\n",
       "        -8.74877442e-03, -1.10318847e-01, -1.53332502e-01,\n",
       "        -3.12477536e-02,  9.62833911e-02,  5.39107509e-02,\n",
       "        -3.35698132e-03,  8.46106857e-02,  1.01292215e-01,\n",
       "        -1.47143617e-01,  1.00250535e-01, -8.91840458e-02,\n",
       "         1.59551408e-02, -4.48449515e-02, -2.31906459e-01,\n",
       "         1.02777421e-01, -3.16157639e-02, -1.13585718e-01,\n",
       "        -1.22808926e-01, -1.27203807e-01,  8.03158730e-02,\n",
       "        -1.66301671e-02, -1.66764006e-01, -7.57816620e-03,\n",
       "        -1.70734935e-02, -2.64590490e-03, -6.29904866e-02,\n",
       "        -4.23168589e-04,  4.00907360e-02, -4.87653948e-02,\n",
       "        -1.13768861e-01,  1.10321514e-01,  4.28889990e-02,\n",
       "         4.34133485e-02, -1.25605047e-01, -1.23549521e-01,\n",
       "        -1.57773912e-01,  1.92530192e-02, -4.79357243e-02,\n",
       "        -3.40428291e-04, -5.71784563e-02, -6.02303743e-02,\n",
       "         2.84974165e-02, -9.15089995e-02,  3.83320302e-02,\n",
       "        -9.34340060e-03, -1.24949761e-01, -7.12259263e-02,\n",
       "        -8.87547061e-02,  1.40840992e-01, -4.83254949e-03,\n",
       "        -1.33337617e-01, -4.05274928e-02, -4.99539869e-03,\n",
       "        -1.14543445e-01,  6.95564231e-05, -4.46691550e-02,\n",
       "         5.44445328e-02,  1.32351741e-01, -6.98384866e-02,\n",
       "        -4.04617079e-02, -1.04424302e-02,  3.27085555e-02,\n",
       "        -2.28012636e-01, -7.77623206e-02,  6.67840168e-02,\n",
       "        -3.05908429e-03,  6.98932856e-02, -7.15022236e-02,\n",
       "        -3.32631208e-02,  1.33081255e-02,  5.21056876e-02,\n",
       "        -5.80537170e-02, -1.38082534e-01,  7.24245682e-02,\n",
       "         3.22756469e-02, -2.57417783e-02, -3.53785418e-02,\n",
       "         1.72447771e-01, -1.04080744e-01, -1.32136479e-01,\n",
       "         9.27528292e-02], dtype=float32)"
      ]
     },
     "metadata": {},
     "output_type": "display_data"
    }
   ],
   "source": [
    "# Show the vector value for the first word in in the list above\n",
    "rnd = random.randint(0, len(embedding.wv.vocab))\n",
    "print(songids[idxs_rnd[0]])\n",
    "display(embedding.wv.get_vector(songids[idxs_rnd[0]]))"
   ]
  },
  {
   "cell_type": "markdown",
   "metadata": {},
   "source": [
    "### Use the Word2Vec embedding to find similar songs based on single Song\n",
    "Using the Word2Vec function `similar_by_word()`.  When using embeddings to predict a playlist, we are limited to inputting a single 'word' or song."
   ]
  },
  {
   "cell_type": "code",
   "execution_count": 204,
   "metadata": {},
   "outputs": [],
   "source": [
    "seed_uri = test_given[0]"
   ]
  },
  {
   "cell_type": "code",
   "execution_count": 205,
   "metadata": {},
   "outputs": [],
   "source": [
    "# Find similar songs based on a single song\n",
    "playlist_rec = np.array(embedding.similar_by_word(seed_uri, topn=10, restrict_vocab=None))"
   ]
  },
  {
   "cell_type": "code",
   "execution_count": 245,
   "metadata": {},
   "outputs": [
    {
     "name": "stdout",
     "output_type": "stream",
     "text": [
      "SEED TRACK\n",
      "Artist       :  Louis Armstrong\n",
      "Track        :  La vie en rose - Single Version\n",
      "Track Preview: \n",
      " None\n",
      "\n",
      "1 tracks matches.\n",
      "RECOMMENDED PLAYLIST (* indicates a match)\n",
      " Artist              Track                         URI                           \n",
      " Ella Fitzgerald     Dream A Little Dream Of Me    spotify:track:3Bbbz0IGORWZSLf9UqsAL4\n",
      " <no preview>\n",
      "\n",
      " Nat King Cole       L-O-V-E - Remastered          spotify:track:7E3rc13GL2I5wA6CIFXaxs\n",
      " <no preview>\n",
      "\n",
      " Frank Sinatra       Fly Me To The Moon            spotify:track:2y8Eez5cFFf2JzD546LThM\n",
      " <no preview>\n",
      "\n",
      " Frank Sinatra       I've Got You Under My Skin    spotify:track:1hSlBR0fAUCyB7jNtztE1s\n",
      " <no preview>\n",
      "\n",
      " Frank Sinatra       You Make Me Feel So Young     spotify:track:0RKWU3hF0xNGS5RJXAtzF5\n",
      " <no preview>\n",
      "\n",
      " Bobby Darin         Beyond the Sea                spotify:track:3KzgdYUlqV6TOG7JCmx2Wg\n",
      " https://p.scdn.co/mp3-preview/265a0fffe03b363973ddf23f0c8f4e55a3d0b45a?cid=72413f75d4db4ec79c6caaf02523959e\n",
      "\n",
      "*Louis Armstrong     What A Wonderful World - Single Versionspotify:track:29U7stRjqHU6rMiS8BfaI9\n",
      " <no preview>\n",
      "\n",
      " Frank Sinatra       The Way You Look Tonight      spotify:track:4pV1bl7OiFW4mMNLmsgQGC\n",
      " <no preview>\n",
      "\n",
      " Dean Martin         That's Amore                  spotify:track:4I4aQGNJ2HufloNtB65nxR\n",
      " <no preview>\n",
      "\n",
      " Frank Sinatra       Come Fly With Me - Remastered spotify:track:4hHbeIIKO5Y5uLyIEbY9Gn\n",
      " <no preview>\n",
      "\n"
     ]
    }
   ],
   "source": [
    "# Get the similar songs from Spotify to show their details, including preview link (if available)\n",
    "sp_playlist = get_tracks(playlist_rec[:,0])\n",
    "print(\"SEED TRACK\")\n",
    "sp_seed_track = get_tracks([seed_uri]) # get spotify data for track\n",
    "\n",
    "print(\"Artist       : \",   sp_seed_track[0]['artists'][0]['name'])\n",
    "print(\"Track        : \",   sp_seed_track[0]['name'])\n",
    "print(\"Track Preview: \\n\", sp_seed_track[0]['preview_url'] )\n",
    "print()\n",
    "\n",
    "print_recommended_playlist(playlist_rec[:,0], test_withheld)\n"
   ]
  },
  {
   "cell_type": "code",
   "execution_count": 220,
   "metadata": {},
   "outputs": [
    {
     "name": "stdout",
     "output_type": "stream",
     "text": [
      "Track R-Precision: 0.1\n",
      "Track NDGC       : 0.06779095235709004\n"
     ]
    }
   ],
   "source": [
    "# Calculate the metrics on just this playlist\n",
    "r_prec, NDCG = calc_track_metrics(test_withheld.track_uri.values, playlist_rec[:,0])"
   ]
  },
  {
   "cell_type": "code",
   "execution_count": 223,
   "metadata": {},
   "outputs": [
    {
     "data": {
      "application/vnd.jupyter.widget-view+json": {
       "model_id": "c7d93596bda84f5491dcb7a8d5debb3d",
       "version_major": 2,
       "version_minor": 0
      },
      "text/plain": [
       "HBox(children=(IntProgress(value=0, description='calculating metrics', style=ProgressStyle(description_width='…"
      ]
     },
     "metadata": {},
     "output_type": "display_data"
    },
    {
     "name": "stdout",
     "output_type": "stream",
     "text": [
      "\n",
      "Mean Track R-Precision: 0.01875\n",
      "Mean Track NDGC       : 0.020612728023655536\n"
     ]
    }
   ],
   "source": [
    "# calculate metrics on 100 playlists\n",
    "r_precs, NDCGs = eval_model(embedding, df_playlists_test_withheld, df_playlists_test_given)"
   ]
  },
  {
   "cell_type": "markdown",
   "metadata": {},
   "source": [
    "### Results:\n",
    "Based on the playlists that were supplied when buidling the embedding, the list of Top 10 most similar songs is presented above.  The results don't score well; however, the recommended tracks seem like reasonable recommendations based on the seed track.\n",
    "\n",
    "This playlist is based on the top songs that other users placed in playlists that include the song we selected as our seed.  This is a good example of 'collaborative filtering' as it uses preferences from others to recommend songs."
   ]
  },
  {
   "cell_type": "markdown",
   "metadata": {},
   "source": [
    "<a name='2'></a>\n",
    "## 2. Embeddings from Playlists - Song ID - BOW\n",
    "<a href=#index>back to index</a>\n",
    "\n",
    "Now, let's use the model that was created when we initially established our embedding.  The BOW model can be used to predict a song from a song or a list of supplied songs.\n",
    "\n",
    "The same seed playlist will be used as previously."
   ]
  },
  {
   "cell_type": "code",
   "execution_count": 144,
   "metadata": {},
   "outputs": [],
   "source": [
    "# Load the BOW model saved previously\n",
    "model_filepath = os.path.join(data_path, 'playlists_BOW.model')\n",
    "BOW_model = Word2Vec.load(model_filepath)"
   ]
  },
  {
   "cell_type": "code",
   "execution_count": 244,
   "metadata": {},
   "outputs": [
    {
     "name": "stdout",
     "output_type": "stream",
     "text": [
      "1 tracks matches.\n",
      "RECOMMENDED PLAYLIST (* indicates a match)\n",
      " Artist              Track                         URI                           \n",
      " Sam Cooke           (What A) Wonderful World - Remasteredspotify:track:27K3ZDS5B4fwjhwyihrdzC\n",
      " <no preview>\n",
      "\n",
      " Otis Redding        (Sittin' On) the Dock of the Bayspotify:track:3zBhihYUHBmGd2bcQIobrF\n",
      " https://p.scdn.co/mp3-preview/99bfd8043cd20bc3dc4b7aa9461ac268954efdf7?cid=72413f75d4db4ec79c6caaf02523959e\n",
      "\n",
      " King Harvest        Dancing In The Moonlight      spotify:track:55GxhCTq6SY3tFTVh7z1nR\n",
      " <no preview>\n",
      "\n",
      " Otis Redding        Stand by Me                   spotify:track:1aj4GXfmEYXfdVZohCpNKu\n",
      " https://p.scdn.co/mp3-preview/94e1e88bd6e967752a5030b1cca3fff3beae8dce?cid=72413f75d4db4ec79c6caaf02523959e\n",
      "\n",
      " Frank Sinatra       Fly Me To The Moon            spotify:track:2y8Eez5cFFf2JzD546LThM\n",
      " <no preview>\n",
      "\n",
      " The Temptations     My Girl                       spotify:track:6RrXd9Hph4hYR4bf3dbM6H\n",
      " <no preview>\n",
      "\n",
      " Van Morrison        Moondance - 2013 Remaster     spotify:track:683b4ikwa62JevCjwrmfg6\n",
      " https://p.scdn.co/mp3-preview/dea0ee252b37c7add7d380bb10266cc8c4c988d6?cid=72413f75d4db4ec79c6caaf02523959e\n",
      "\n",
      " Van Morrison        Brown Eyed Girl               spotify:track:3yrSvpt2l1xhsV9Em88Pul\n",
      " https://p.scdn.co/mp3-preview/cb2b0096b08796c0c1cfeb31b9a9802ce0a3b44a?cid=72413f75d4db4ec79c6caaf02523959e\n",
      "\n",
      "*Louis Armstrong     What A Wonderful World - Single Versionspotify:track:29U7stRjqHU6rMiS8BfaI9\n",
      " <no preview>\n",
      "\n",
      " Bobby Darin         Beyond the Sea                spotify:track:3KzgdYUlqV6TOG7JCmx2Wg\n",
      " https://p.scdn.co/mp3-preview/265a0fffe03b363973ddf23f0c8f4e55a3d0b45a?cid=72413f75d4db4ec79c6caaf02523959e\n",
      "\n"
     ]
    }
   ],
   "source": [
    "recommended_songs = np.array(BOW_model.predict_output_word(test_given, topn=10))\n",
    "print_recommended_playlist(recommended_songs[:,0], test_withheld)\n"
   ]
  },
  {
   "cell_type": "code",
   "execution_count": 225,
   "metadata": {},
   "outputs": [
    {
     "data": {
      "application/vnd.jupyter.widget-view+json": {
       "model_id": "a4c2788de5644e3ebd1e90a99e679151",
       "version_major": 2,
       "version_minor": 0
      },
      "text/plain": [
       "HBox(children=(IntProgress(value=0, description='calculating metrics', style=ProgressStyle(description_width='…"
      ]
     },
     "metadata": {},
     "output_type": "display_data"
    },
    {
     "name": "stdout",
     "output_type": "stream",
     "text": [
      "\n",
      "Mean Track R-Precision: 0.046\n",
      "Mean Track NDGC       : 0.044119563042770704\n"
     ]
    }
   ],
   "source": [
    "r_precs, NDCGs = eval_model(BOW_model, df_playlists_test_withheld, df_playlists_test_given)"
   ]
  },
  {
   "cell_type": "markdown",
   "metadata": {},
   "source": [
    "### Result:\n",
    "Only one song matched the ground truth; however, the returned tracks look very reasonable given the inputs."
   ]
  },
  {
   "cell_type": "markdown",
   "metadata": {},
   "source": [
    "<a name='3'></a>\n",
    "## 3. Embeddings from Playlists - Song ID - Skip-Gram\n",
    "<a href=#index>back to index</a>\n",
    "\n",
    "Here, we create a playlist from the Skip-Gram model.  For consistency, we will use the same song, \"Free Fallin'\", again to see if our results differ."
   ]
  },
  {
   "cell_type": "code",
   "execution_count": 226,
   "metadata": {},
   "outputs": [],
   "source": [
    "# load the skip-gram model we previously created\n",
    "model_filepath = os.path.join(data_path, 'playlists_SG.model')\n",
    "SG_model = Word2Vec.load(model_filepath)"
   ]
  },
  {
   "cell_type": "code",
   "execution_count": 293,
   "metadata": {},
   "outputs": [
    {
     "name": "stdout",
     "output_type": "stream",
     "text": [
      "1 tracks matches.\n",
      "RECOMMENDED PLAYLIST (* indicates a match)\n",
      " Artist              Track                         URI                           \n",
      " Louis Armstrong     La vie en rose - Single Versionspotify:track:0AX6pLXtyR2vPLv2KYErAg\n",
      " <no preview>\n",
      "\n",
      " Louis Armstrong     A Kiss To Build A Dream On - Single Versionspotify:track:55qmtyvnYHkLsnEZGzrj8C\n",
      " <no preview>\n",
      "\n",
      " Billie Holiday      I'll Be Seeing You            spotify:track:6MIa10mpQQ3dEiaw8TA8JA\n",
      " <no preview>\n",
      "\n",
      " Ella Fitzgerald     Dream A Little Dream Of Me    spotify:track:3Bbbz0IGORWZSLf9UqsAL4\n",
      " <no preview>\n",
      "\n",
      " Ella Fitzgerald     Cheek To Cheek                spotify:track:6pPr1KLZit9FgFNhp7xE5m\n",
      " <no preview>\n",
      "\n",
      " Billie Holiday      All of Me                     spotify:track:5EsA2BJ1X2BCnbVvo9OByx\n",
      " <no preview>\n",
      "\n",
      " Glenn Miller        Moonlight Serenade - 2005 Remastered Versionspotify:track:3HRMOZk689zaR3z6NpEdfu\n",
      " https://p.scdn.co/mp3-preview/921dc76faae376d382ef25b066bf2ad5c2195d83?cid=72413f75d4db4ec79c6caaf02523959e\n",
      "\n",
      " Frank Sinatra       The Way You Look Tonight      spotify:track:4pV1bl7OiFW4mMNLmsgQGC\n",
      " <no preview>\n",
      "\n",
      "*Louis Armstrong     What A Wonderful World - Single Versionspotify:track:29U7stRjqHU6rMiS8BfaI9\n",
      " <no preview>\n",
      "\n",
      " Bobby Darin         Beyond the Sea                spotify:track:3KzgdYUlqV6TOG7JCmx2Wg\n",
      " https://p.scdn.co/mp3-preview/265a0fffe03b363973ddf23f0c8f4e55a3d0b45a?cid=72413f75d4db4ec79c6caaf02523959e\n",
      "\n"
     ]
    }
   ],
   "source": [
    "recommended_songs = np.array(SG_model.predict_output_word([seed_uri], topn=10))\n",
    "# sp_tracks = get_tracks(recommended_songs[:,0])\n",
    "\n",
    "print_recommended_playlist(recommended_songs[:,0], test_withheld)\n"
   ]
  },
  {
   "cell_type": "code",
   "execution_count": 228,
   "metadata": {},
   "outputs": [
    {
     "data": {
      "application/vnd.jupyter.widget-view+json": {
       "model_id": "68f6b03b8b1346a79bb7477698dd324d",
       "version_major": 2,
       "version_minor": 0
      },
      "text/plain": [
       "HBox(children=(IntProgress(value=0, description='calculating metrics', style=ProgressStyle(description_width='…"
      ]
     },
     "metadata": {},
     "output_type": "display_data"
    },
    {
     "name": "stdout",
     "output_type": "stream",
     "text": [
      "\n",
      "Mean Track R-Precision: 0.04152637485970819\n",
      "Mean Track NDGC       : 0.037546862778789714\n"
     ]
    }
   ],
   "source": [
    "r_precs, NDCGs = eval_model(SG_model, df_playlists_test_withheld, df_playlists_test_given)"
   ]
  },
  {
   "cell_type": "markdown",
   "metadata": {},
   "source": [
    "### Result:\n",
    "Again, only one tracked matched producing a low evaluation result.  But like in the BOW model, the Skip-Gram model is producing song suggestions are are very much in line with the given set of tracks."
   ]
  },
  {
   "cell_type": "markdown",
   "metadata": {},
   "source": [
    "<a name='4'></a>\n",
    "## 4. Embeddings from Song Features - Unsupervised\n",
    "### 'Home-Made' Vectors\n",
    "<a href=#index>back to index</a>\n",
    "\n",
    "Here, we can take a break from Word2Vec and get very basic.  We create our own 'home-made' vectors based on Spotify accoustive feature data.  We have a series of fields available for all of our songs that numerically represent various characteristics of the songs; dancebaility, loudness, temp, key, energy, etc.\n",
    "\n",
    "Instead of letter Word2Vec create an embedding, we create our own using these values."
   ]
  },
  {
   "cell_type": "code",
   "execution_count": 303,
   "metadata": {},
   "outputs": [
    {
     "name": "stdout",
     "output_type": "stream",
     "text": [
      "Time to Execute: 81.84 seconds\n"
     ]
    }
   ],
   "source": [
    "# fetch all db tracks with accoustic features\n",
    "db_tracks = display_time(session.query(Tracks).all)\n",
    "session.close()"
   ]
  },
  {
   "cell_type": "code",
   "execution_count": 304,
   "metadata": {},
   "outputs": [
    {
     "data": {
      "text/html": [
       "<div>\n",
       "<style scoped>\n",
       "    .dataframe tbody tr th:only-of-type {\n",
       "        vertical-align: middle;\n",
       "    }\n",
       "\n",
       "    .dataframe tbody tr th {\n",
       "        vertical-align: top;\n",
       "    }\n",
       "\n",
       "    .dataframe thead th {\n",
       "        text-align: right;\n",
       "    }\n",
       "</style>\n",
       "<table border=\"1\" class=\"dataframe\">\n",
       "  <thead>\n",
       "    <tr style=\"text-align: right;\">\n",
       "      <th></th>\n",
       "      <th>acousticness</th>\n",
       "      <th>artist_uri</th>\n",
       "      <th>danceability</th>\n",
       "      <th>duration_ms</th>\n",
       "      <th>energy</th>\n",
       "      <th>instrumentalness</th>\n",
       "      <th>key</th>\n",
       "      <th>liveness</th>\n",
       "      <th>loudness</th>\n",
       "      <th>mode</th>\n",
       "      <th>speechiness</th>\n",
       "      <th>tempo</th>\n",
       "      <th>time_signature</th>\n",
       "      <th>track_popularity</th>\n",
       "      <th>valence</th>\n",
       "    </tr>\n",
       "    <tr>\n",
       "      <th>track_uri</th>\n",
       "      <th></th>\n",
       "      <th></th>\n",
       "      <th></th>\n",
       "      <th></th>\n",
       "      <th></th>\n",
       "      <th></th>\n",
       "      <th></th>\n",
       "      <th></th>\n",
       "      <th></th>\n",
       "      <th></th>\n",
       "      <th></th>\n",
       "      <th></th>\n",
       "      <th></th>\n",
       "      <th></th>\n",
       "      <th></th>\n",
       "    </tr>\n",
       "  </thead>\n",
       "  <tbody>\n",
       "    <tr>\n",
       "      <th>spotify:track:2d7LPtieXdIYzf7yHPooWd</th>\n",
       "      <td>0.974</td>\n",
       "      <td>spotify:artist:0MeLMJJcouYXCymQSHPn8g</td>\n",
       "      <td>0.467</td>\n",
       "      <td>242564</td>\n",
       "      <td>0.157</td>\n",
       "      <td>0.000001</td>\n",
       "      <td>11</td>\n",
       "      <td>0.0816</td>\n",
       "      <td>-9.649</td>\n",
       "      <td>1</td>\n",
       "      <td>0.0336</td>\n",
       "      <td>108.130</td>\n",
       "      <td>4</td>\n",
       "      <td>65</td>\n",
       "      <td>0.2770</td>\n",
       "    </tr>\n",
       "    <tr>\n",
       "      <th>spotify:track:0y4TKcc7p2H6P0GJlt01EI</th>\n",
       "      <td>0.961</td>\n",
       "      <td>spotify:artist:7w0qj2HiAPIeUcoPogvOZ6</td>\n",
       "      <td>0.312</td>\n",
       "      <td>253933</td>\n",
       "      <td>0.207</td>\n",
       "      <td>0.008180</td>\n",
       "      <td>10</td>\n",
       "      <td>0.0773</td>\n",
       "      <td>-13.367</td>\n",
       "      <td>1</td>\n",
       "      <td>0.0347</td>\n",
       "      <td>93.778</td>\n",
       "      <td>4</td>\n",
       "      <td>36</td>\n",
       "      <td>0.2780</td>\n",
       "    </tr>\n",
       "    <tr>\n",
       "      <th>spotify:track:6q4c1vPRZREh7nw3wG7Ixz</th>\n",
       "      <td>0.991</td>\n",
       "      <td>spotify:artist:32ogthv0BdaSMPml02X9YB</td>\n",
       "      <td>0.412</td>\n",
       "      <td>103920</td>\n",
       "      <td>0.159</td>\n",
       "      <td>0.772000</td>\n",
       "      <td>9</td>\n",
       "      <td>0.0830</td>\n",
       "      <td>-14.214</td>\n",
       "      <td>1</td>\n",
       "      <td>0.0278</td>\n",
       "      <td>85.462</td>\n",
       "      <td>4</td>\n",
       "      <td>54</td>\n",
       "      <td>0.0389</td>\n",
       "    </tr>\n",
       "    <tr>\n",
       "      <th>spotify:track:54KFQB6N4pn926IUUYZGzK</th>\n",
       "      <td>0.885</td>\n",
       "      <td>spotify:artist:32ogthv0BdaSMPml02X9YB</td>\n",
       "      <td>0.264</td>\n",
       "      <td>371320</td>\n",
       "      <td>0.122</td>\n",
       "      <td>0.349000</td>\n",
       "      <td>9</td>\n",
       "      <td>0.0940</td>\n",
       "      <td>-15.399</td>\n",
       "      <td>1</td>\n",
       "      <td>0.0349</td>\n",
       "      <td>148.658</td>\n",
       "      <td>4</td>\n",
       "      <td>72</td>\n",
       "      <td>0.0735</td>\n",
       "    </tr>\n",
       "    <tr>\n",
       "      <th>spotify:track:0NeJjNlprGfZpeX2LQuN6c</th>\n",
       "      <td>0.689</td>\n",
       "      <td>spotify:artist:3qnGvpP8Yth1AqSBMqON5x</td>\n",
       "      <td>0.658</td>\n",
       "      <td>238560</td>\n",
       "      <td>0.179</td>\n",
       "      <td>0.000000</td>\n",
       "      <td>8</td>\n",
       "      <td>0.1700</td>\n",
       "      <td>-10.866</td>\n",
       "      <td>1</td>\n",
       "      <td>0.0448</td>\n",
       "      <td>128.128</td>\n",
       "      <td>4</td>\n",
       "      <td>75</td>\n",
       "      <td>0.1910</td>\n",
       "    </tr>\n",
       "  </tbody>\n",
       "</table>\n",
       "</div>"
      ],
      "text/plain": [
       "                                      acousticness  \\\n",
       "track_uri                                            \n",
       "spotify:track:2d7LPtieXdIYzf7yHPooWd         0.974   \n",
       "spotify:track:0y4TKcc7p2H6P0GJlt01EI         0.961   \n",
       "spotify:track:6q4c1vPRZREh7nw3wG7Ixz         0.991   \n",
       "spotify:track:54KFQB6N4pn926IUUYZGzK         0.885   \n",
       "spotify:track:0NeJjNlprGfZpeX2LQuN6c         0.689   \n",
       "\n",
       "                                                                 artist_uri  \\\n",
       "track_uri                                                                     \n",
       "spotify:track:2d7LPtieXdIYzf7yHPooWd  spotify:artist:0MeLMJJcouYXCymQSHPn8g   \n",
       "spotify:track:0y4TKcc7p2H6P0GJlt01EI  spotify:artist:7w0qj2HiAPIeUcoPogvOZ6   \n",
       "spotify:track:6q4c1vPRZREh7nw3wG7Ixz  spotify:artist:32ogthv0BdaSMPml02X9YB   \n",
       "spotify:track:54KFQB6N4pn926IUUYZGzK  spotify:artist:32ogthv0BdaSMPml02X9YB   \n",
       "spotify:track:0NeJjNlprGfZpeX2LQuN6c  spotify:artist:3qnGvpP8Yth1AqSBMqON5x   \n",
       "\n",
       "                                      danceability  duration_ms  energy  \\\n",
       "track_uri                                                                 \n",
       "spotify:track:2d7LPtieXdIYzf7yHPooWd         0.467       242564   0.157   \n",
       "spotify:track:0y4TKcc7p2H6P0GJlt01EI         0.312       253933   0.207   \n",
       "spotify:track:6q4c1vPRZREh7nw3wG7Ixz         0.412       103920   0.159   \n",
       "spotify:track:54KFQB6N4pn926IUUYZGzK         0.264       371320   0.122   \n",
       "spotify:track:0NeJjNlprGfZpeX2LQuN6c         0.658       238560   0.179   \n",
       "\n",
       "                                      instrumentalness  key  liveness  \\\n",
       "track_uri                                                               \n",
       "spotify:track:2d7LPtieXdIYzf7yHPooWd          0.000001   11    0.0816   \n",
       "spotify:track:0y4TKcc7p2H6P0GJlt01EI          0.008180   10    0.0773   \n",
       "spotify:track:6q4c1vPRZREh7nw3wG7Ixz          0.772000    9    0.0830   \n",
       "spotify:track:54KFQB6N4pn926IUUYZGzK          0.349000    9    0.0940   \n",
       "spotify:track:0NeJjNlprGfZpeX2LQuN6c          0.000000    8    0.1700   \n",
       "\n",
       "                                      loudness  mode  speechiness    tempo  \\\n",
       "track_uri                                                                    \n",
       "spotify:track:2d7LPtieXdIYzf7yHPooWd    -9.649     1       0.0336  108.130   \n",
       "spotify:track:0y4TKcc7p2H6P0GJlt01EI   -13.367     1       0.0347   93.778   \n",
       "spotify:track:6q4c1vPRZREh7nw3wG7Ixz   -14.214     1       0.0278   85.462   \n",
       "spotify:track:54KFQB6N4pn926IUUYZGzK   -15.399     1       0.0349  148.658   \n",
       "spotify:track:0NeJjNlprGfZpeX2LQuN6c   -10.866     1       0.0448  128.128   \n",
       "\n",
       "                                      time_signature  track_popularity  \\\n",
       "track_uri                                                                \n",
       "spotify:track:2d7LPtieXdIYzf7yHPooWd               4                65   \n",
       "spotify:track:0y4TKcc7p2H6P0GJlt01EI               4                36   \n",
       "spotify:track:6q4c1vPRZREh7nw3wG7Ixz               4                54   \n",
       "spotify:track:54KFQB6N4pn926IUUYZGzK               4                72   \n",
       "spotify:track:0NeJjNlprGfZpeX2LQuN6c               4                75   \n",
       "\n",
       "                                      valence  \n",
       "track_uri                                      \n",
       "spotify:track:2d7LPtieXdIYzf7yHPooWd   0.2770  \n",
       "spotify:track:0y4TKcc7p2H6P0GJlt01EI   0.2780  \n",
       "spotify:track:6q4c1vPRZREh7nw3wG7Ixz   0.0389  \n",
       "spotify:track:54KFQB6N4pn926IUUYZGzK   0.0735  \n",
       "spotify:track:0NeJjNlprGfZpeX2LQuN6c   0.1910  "
      ]
     },
     "execution_count": 304,
     "metadata": {},
     "output_type": "execute_result"
    }
   ],
   "source": [
    "# create a Pandas dataframe\n",
    "df_all_tracks = pd.DataFrame([x.__dict__ for x in db_tracks]).drop('_sa_instance_state', axis=1).set_index(['track_uri'])\n",
    "df_all_tracks.head()"
   ]
  },
  {
   "cell_type": "code",
   "execution_count": 305,
   "metadata": {},
   "outputs": [],
   "source": [
    "# define features that we will use to create our custom vectors\n",
    "vector_features= [\n",
    "    'acousticness',\n",
    "    'danceability',\n",
    "    'duration_ms',\n",
    "    'energy',\n",
    "    'instrumentalness',\n",
    "    'key',\n",
    "    'liveness',\n",
    "    'loudness',\n",
    "    'mode',\n",
    "    'speechiness',\n",
    "    'tempo',\n",
    "    'time_signature',\n",
    "    'valence'\n",
    "]"
   ]
  },
  {
   "cell_type": "code",
   "execution_count": 306,
   "metadata": {},
   "outputs": [
    {
     "data": {
      "text/html": [
       "<div>\n",
       "<style scoped>\n",
       "    .dataframe tbody tr th:only-of-type {\n",
       "        vertical-align: middle;\n",
       "    }\n",
       "\n",
       "    .dataframe tbody tr th {\n",
       "        vertical-align: top;\n",
       "    }\n",
       "\n",
       "    .dataframe thead th {\n",
       "        text-align: right;\n",
       "    }\n",
       "</style>\n",
       "<table border=\"1\" class=\"dataframe\">\n",
       "  <thead>\n",
       "    <tr style=\"text-align: right;\">\n",
       "      <th></th>\n",
       "      <th>acousticness</th>\n",
       "      <th>danceability</th>\n",
       "      <th>duration_ms</th>\n",
       "      <th>energy</th>\n",
       "      <th>instrumentalness</th>\n",
       "      <th>key</th>\n",
       "      <th>liveness</th>\n",
       "      <th>loudness</th>\n",
       "      <th>mode</th>\n",
       "      <th>speechiness</th>\n",
       "      <th>tempo</th>\n",
       "      <th>time_signature</th>\n",
       "      <th>valence</th>\n",
       "    </tr>\n",
       "    <tr>\n",
       "      <th>track_uri</th>\n",
       "      <th></th>\n",
       "      <th></th>\n",
       "      <th></th>\n",
       "      <th></th>\n",
       "      <th></th>\n",
       "      <th></th>\n",
       "      <th></th>\n",
       "      <th></th>\n",
       "      <th></th>\n",
       "      <th></th>\n",
       "      <th></th>\n",
       "      <th></th>\n",
       "      <th></th>\n",
       "    </tr>\n",
       "  </thead>\n",
       "  <tbody>\n",
       "    <tr>\n",
       "      <th>spotify:track:2d7LPtieXdIYzf7yHPooWd</th>\n",
       "      <td>0.974</td>\n",
       "      <td>0.467</td>\n",
       "      <td>242564</td>\n",
       "      <td>0.157</td>\n",
       "      <td>0.000001</td>\n",
       "      <td>11</td>\n",
       "      <td>0.0816</td>\n",
       "      <td>-9.649</td>\n",
       "      <td>1</td>\n",
       "      <td>0.0336</td>\n",
       "      <td>108.130</td>\n",
       "      <td>4</td>\n",
       "      <td>0.2770</td>\n",
       "    </tr>\n",
       "    <tr>\n",
       "      <th>spotify:track:0y4TKcc7p2H6P0GJlt01EI</th>\n",
       "      <td>0.961</td>\n",
       "      <td>0.312</td>\n",
       "      <td>253933</td>\n",
       "      <td>0.207</td>\n",
       "      <td>0.008180</td>\n",
       "      <td>10</td>\n",
       "      <td>0.0773</td>\n",
       "      <td>-13.367</td>\n",
       "      <td>1</td>\n",
       "      <td>0.0347</td>\n",
       "      <td>93.778</td>\n",
       "      <td>4</td>\n",
       "      <td>0.2780</td>\n",
       "    </tr>\n",
       "    <tr>\n",
       "      <th>spotify:track:6q4c1vPRZREh7nw3wG7Ixz</th>\n",
       "      <td>0.991</td>\n",
       "      <td>0.412</td>\n",
       "      <td>103920</td>\n",
       "      <td>0.159</td>\n",
       "      <td>0.772000</td>\n",
       "      <td>9</td>\n",
       "      <td>0.0830</td>\n",
       "      <td>-14.214</td>\n",
       "      <td>1</td>\n",
       "      <td>0.0278</td>\n",
       "      <td>85.462</td>\n",
       "      <td>4</td>\n",
       "      <td>0.0389</td>\n",
       "    </tr>\n",
       "    <tr>\n",
       "      <th>spotify:track:54KFQB6N4pn926IUUYZGzK</th>\n",
       "      <td>0.885</td>\n",
       "      <td>0.264</td>\n",
       "      <td>371320</td>\n",
       "      <td>0.122</td>\n",
       "      <td>0.349000</td>\n",
       "      <td>9</td>\n",
       "      <td>0.0940</td>\n",
       "      <td>-15.399</td>\n",
       "      <td>1</td>\n",
       "      <td>0.0349</td>\n",
       "      <td>148.658</td>\n",
       "      <td>4</td>\n",
       "      <td>0.0735</td>\n",
       "    </tr>\n",
       "    <tr>\n",
       "      <th>spotify:track:0NeJjNlprGfZpeX2LQuN6c</th>\n",
       "      <td>0.689</td>\n",
       "      <td>0.658</td>\n",
       "      <td>238560</td>\n",
       "      <td>0.179</td>\n",
       "      <td>0.000000</td>\n",
       "      <td>8</td>\n",
       "      <td>0.1700</td>\n",
       "      <td>-10.866</td>\n",
       "      <td>1</td>\n",
       "      <td>0.0448</td>\n",
       "      <td>128.128</td>\n",
       "      <td>4</td>\n",
       "      <td>0.1910</td>\n",
       "    </tr>\n",
       "  </tbody>\n",
       "</table>\n",
       "</div>"
      ],
      "text/plain": [
       "                                      acousticness  danceability  duration_ms  \\\n",
       "track_uri                                                                       \n",
       "spotify:track:2d7LPtieXdIYzf7yHPooWd         0.974         0.467       242564   \n",
       "spotify:track:0y4TKcc7p2H6P0GJlt01EI         0.961         0.312       253933   \n",
       "spotify:track:6q4c1vPRZREh7nw3wG7Ixz         0.991         0.412       103920   \n",
       "spotify:track:54KFQB6N4pn926IUUYZGzK         0.885         0.264       371320   \n",
       "spotify:track:0NeJjNlprGfZpeX2LQuN6c         0.689         0.658       238560   \n",
       "\n",
       "                                      energy  instrumentalness  key  liveness  \\\n",
       "track_uri                                                                       \n",
       "spotify:track:2d7LPtieXdIYzf7yHPooWd   0.157          0.000001   11    0.0816   \n",
       "spotify:track:0y4TKcc7p2H6P0GJlt01EI   0.207          0.008180   10    0.0773   \n",
       "spotify:track:6q4c1vPRZREh7nw3wG7Ixz   0.159          0.772000    9    0.0830   \n",
       "spotify:track:54KFQB6N4pn926IUUYZGzK   0.122          0.349000    9    0.0940   \n",
       "spotify:track:0NeJjNlprGfZpeX2LQuN6c   0.179          0.000000    8    0.1700   \n",
       "\n",
       "                                      loudness  mode  speechiness    tempo  \\\n",
       "track_uri                                                                    \n",
       "spotify:track:2d7LPtieXdIYzf7yHPooWd    -9.649     1       0.0336  108.130   \n",
       "spotify:track:0y4TKcc7p2H6P0GJlt01EI   -13.367     1       0.0347   93.778   \n",
       "spotify:track:6q4c1vPRZREh7nw3wG7Ixz   -14.214     1       0.0278   85.462   \n",
       "spotify:track:54KFQB6N4pn926IUUYZGzK   -15.399     1       0.0349  148.658   \n",
       "spotify:track:0NeJjNlprGfZpeX2LQuN6c   -10.866     1       0.0448  128.128   \n",
       "\n",
       "                                      time_signature  valence  \n",
       "track_uri                                                      \n",
       "spotify:track:2d7LPtieXdIYzf7yHPooWd               4   0.2770  \n",
       "spotify:track:0y4TKcc7p2H6P0GJlt01EI               4   0.2780  \n",
       "spotify:track:6q4c1vPRZREh7nw3wG7Ixz               4   0.0389  \n",
       "spotify:track:54KFQB6N4pn926IUUYZGzK               4   0.0735  \n",
       "spotify:track:0NeJjNlprGfZpeX2LQuN6c               4   0.1910  "
      ]
     },
     "execution_count": 306,
     "metadata": {},
     "output_type": "execute_result"
    }
   ],
   "source": [
    "# Create a dataframe with the vectors for simplicity\n",
    "drop_cols = set(df_all_tracks.columns) - set(vector_features)\n",
    "df = df_all_tracks.drop(drop_cols, axis=1)\n",
    "df.head()"
   ]
  },
  {
   "cell_type": "markdown",
   "metadata": {},
   "source": [
    "### Normalize Data\n",
    "The values will need to be normalized to avoid placing greater importance on predictors that have naturally larger values."
   ]
  },
  {
   "cell_type": "code",
   "execution_count": 307,
   "metadata": {},
   "outputs": [
    {
     "data": {
      "text/plain": [
       "Index(['acousticness', 'danceability', 'duration_ms', 'energy',\n",
       "       'instrumentalness', 'key', 'liveness', 'loudness', 'mode',\n",
       "       'speechiness', 'tempo', 'time_signature', 'valence'],\n",
       "      dtype='object')"
      ]
     },
     "execution_count": 307,
     "metadata": {},
     "output_type": "execute_result"
    }
   ],
   "source": [
    "df.columns"
   ]
  },
  {
   "cell_type": "code",
   "execution_count": 308,
   "metadata": {},
   "outputs": [],
   "source": [
    "for col in df.columns:\n",
    "    data = np.array(df[col]).reshape(-1,1)\n",
    "    scaled_data = MinMaxScaler(feature_range=(0,1)).fit(data).transform(data)\n",
    "    df[col] = scaled_data"
   ]
  },
  {
   "cell_type": "code",
   "execution_count": 309,
   "metadata": {},
   "outputs": [
    {
     "data": {
      "text/html": [
       "<div>\n",
       "<style scoped>\n",
       "    .dataframe tbody tr th:only-of-type {\n",
       "        vertical-align: middle;\n",
       "    }\n",
       "\n",
       "    .dataframe tbody tr th {\n",
       "        vertical-align: top;\n",
       "    }\n",
       "\n",
       "    .dataframe thead th {\n",
       "        text-align: right;\n",
       "    }\n",
       "</style>\n",
       "<table border=\"1\" class=\"dataframe\">\n",
       "  <thead>\n",
       "    <tr style=\"text-align: right;\">\n",
       "      <th></th>\n",
       "      <th>acousticness</th>\n",
       "      <th>danceability</th>\n",
       "      <th>duration_ms</th>\n",
       "      <th>energy</th>\n",
       "      <th>instrumentalness</th>\n",
       "      <th>key</th>\n",
       "      <th>liveness</th>\n",
       "      <th>loudness</th>\n",
       "      <th>mode</th>\n",
       "      <th>speechiness</th>\n",
       "      <th>tempo</th>\n",
       "      <th>time_signature</th>\n",
       "      <th>valence</th>\n",
       "    </tr>\n",
       "    <tr>\n",
       "      <th>track_uri</th>\n",
       "      <th></th>\n",
       "      <th></th>\n",
       "      <th></th>\n",
       "      <th></th>\n",
       "      <th></th>\n",
       "      <th></th>\n",
       "      <th></th>\n",
       "      <th></th>\n",
       "      <th></th>\n",
       "      <th></th>\n",
       "      <th></th>\n",
       "      <th></th>\n",
       "      <th></th>\n",
       "    </tr>\n",
       "  </thead>\n",
       "  <tbody>\n",
       "    <tr>\n",
       "      <th>spotify:track:2d7LPtieXdIYzf7yHPooWd</th>\n",
       "      <td>0.977912</td>\n",
       "      <td>0.468876</td>\n",
       "      <td>0.039950</td>\n",
       "      <td>0.157</td>\n",
       "      <td>0.000001</td>\n",
       "      <td>1.000000</td>\n",
       "      <td>0.0816</td>\n",
       "      <td>0.775549</td>\n",
       "      <td>1.0</td>\n",
       "      <td>0.034604</td>\n",
       "      <td>0.432542</td>\n",
       "      <td>0.8</td>\n",
       "      <td>0.2770</td>\n",
       "    </tr>\n",
       "    <tr>\n",
       "      <th>spotify:track:0y4TKcc7p2H6P0GJlt01EI</th>\n",
       "      <td>0.964859</td>\n",
       "      <td>0.313253</td>\n",
       "      <td>0.041830</td>\n",
       "      <td>0.207</td>\n",
       "      <td>0.008180</td>\n",
       "      <td>0.909091</td>\n",
       "      <td>0.0773</td>\n",
       "      <td>0.718282</td>\n",
       "      <td>1.0</td>\n",
       "      <td>0.035736</td>\n",
       "      <td>0.375132</td>\n",
       "      <td>0.8</td>\n",
       "      <td>0.2780</td>\n",
       "    </tr>\n",
       "    <tr>\n",
       "      <th>spotify:track:6q4c1vPRZREh7nw3wG7Ixz</th>\n",
       "      <td>0.994980</td>\n",
       "      <td>0.413655</td>\n",
       "      <td>0.017021</td>\n",
       "      <td>0.159</td>\n",
       "      <td>0.772000</td>\n",
       "      <td>0.818182</td>\n",
       "      <td>0.0830</td>\n",
       "      <td>0.705235</td>\n",
       "      <td>1.0</td>\n",
       "      <td>0.028630</td>\n",
       "      <td>0.341866</td>\n",
       "      <td>0.8</td>\n",
       "      <td>0.0389</td>\n",
       "    </tr>\n",
       "    <tr>\n",
       "      <th>spotify:track:54KFQB6N4pn926IUUYZGzK</th>\n",
       "      <td>0.888554</td>\n",
       "      <td>0.265060</td>\n",
       "      <td>0.061243</td>\n",
       "      <td>0.122</td>\n",
       "      <td>0.349000</td>\n",
       "      <td>0.818182</td>\n",
       "      <td>0.0940</td>\n",
       "      <td>0.686983</td>\n",
       "      <td>1.0</td>\n",
       "      <td>0.035942</td>\n",
       "      <td>0.594663</td>\n",
       "      <td>0.8</td>\n",
       "      <td>0.0735</td>\n",
       "    </tr>\n",
       "    <tr>\n",
       "      <th>spotify:track:0NeJjNlprGfZpeX2LQuN6c</th>\n",
       "      <td>0.691767</td>\n",
       "      <td>0.660643</td>\n",
       "      <td>0.039288</td>\n",
       "      <td>0.179</td>\n",
       "      <td>0.000000</td>\n",
       "      <td>0.727273</td>\n",
       "      <td>0.1700</td>\n",
       "      <td>0.756804</td>\n",
       "      <td>1.0</td>\n",
       "      <td>0.046138</td>\n",
       "      <td>0.512539</td>\n",
       "      <td>0.8</td>\n",
       "      <td>0.1910</td>\n",
       "    </tr>\n",
       "  </tbody>\n",
       "</table>\n",
       "</div>"
      ],
      "text/plain": [
       "                                      acousticness  danceability  duration_ms  \\\n",
       "track_uri                                                                       \n",
       "spotify:track:2d7LPtieXdIYzf7yHPooWd      0.977912      0.468876     0.039950   \n",
       "spotify:track:0y4TKcc7p2H6P0GJlt01EI      0.964859      0.313253     0.041830   \n",
       "spotify:track:6q4c1vPRZREh7nw3wG7Ixz      0.994980      0.413655     0.017021   \n",
       "spotify:track:54KFQB6N4pn926IUUYZGzK      0.888554      0.265060     0.061243   \n",
       "spotify:track:0NeJjNlprGfZpeX2LQuN6c      0.691767      0.660643     0.039288   \n",
       "\n",
       "                                      energy  instrumentalness       key  \\\n",
       "track_uri                                                                  \n",
       "spotify:track:2d7LPtieXdIYzf7yHPooWd   0.157          0.000001  1.000000   \n",
       "spotify:track:0y4TKcc7p2H6P0GJlt01EI   0.207          0.008180  0.909091   \n",
       "spotify:track:6q4c1vPRZREh7nw3wG7Ixz   0.159          0.772000  0.818182   \n",
       "spotify:track:54KFQB6N4pn926IUUYZGzK   0.122          0.349000  0.818182   \n",
       "spotify:track:0NeJjNlprGfZpeX2LQuN6c   0.179          0.000000  0.727273   \n",
       "\n",
       "                                      liveness  loudness  mode  speechiness  \\\n",
       "track_uri                                                                     \n",
       "spotify:track:2d7LPtieXdIYzf7yHPooWd    0.0816  0.775549   1.0     0.034604   \n",
       "spotify:track:0y4TKcc7p2H6P0GJlt01EI    0.0773  0.718282   1.0     0.035736   \n",
       "spotify:track:6q4c1vPRZREh7nw3wG7Ixz    0.0830  0.705235   1.0     0.028630   \n",
       "spotify:track:54KFQB6N4pn926IUUYZGzK    0.0940  0.686983   1.0     0.035942   \n",
       "spotify:track:0NeJjNlprGfZpeX2LQuN6c    0.1700  0.756804   1.0     0.046138   \n",
       "\n",
       "                                         tempo  time_signature  valence  \n",
       "track_uri                                                                \n",
       "spotify:track:2d7LPtieXdIYzf7yHPooWd  0.432542             0.8   0.2770  \n",
       "spotify:track:0y4TKcc7p2H6P0GJlt01EI  0.375132             0.8   0.2780  \n",
       "spotify:track:6q4c1vPRZREh7nw3wG7Ixz  0.341866             0.8   0.0389  \n",
       "spotify:track:54KFQB6N4pn926IUUYZGzK  0.594663             0.8   0.0735  \n",
       "spotify:track:0NeJjNlprGfZpeX2LQuN6c  0.512539             0.8   0.1910  "
      ]
     },
     "execution_count": 309,
     "metadata": {},
     "output_type": "execute_result"
    }
   ],
   "source": [
    "# Confirm scaling is reasonable\n",
    "df[vector_features].head()"
   ]
  },
  {
   "cell_type": "markdown",
   "metadata": {},
   "source": [
    "### Convert 'home-made' Vectors into Word2Vec format\n",
    "In order to exploit some of the Word2Vec built-in functionality, we can cast our vectors into a KeyedVectors object.  KeyedVectors is the Word2Vec object that hold all of the vectors in an embedded space."
   ]
  },
  {
   "cell_type": "code",
   "execution_count": 310,
   "metadata": {},
   "outputs": [],
   "source": [
    "# create a KeyedVectors object from the Word2Vec library\n",
    "# This will allow us to use the built-in Word2Vec functions\n",
    "accoustic_vectors = KeyedVectors(len(vector_features))\n",
    "\n",
    "# weights are the vectors for each track\n",
    "weights = np.array(df)\n",
    "\n",
    "# entities are the trackuris\n",
    "entities = np.array(df.index)\n",
    "\n",
    "# add the vectors to the dataset\n",
    "accoustic_vectors.add(entities, weights)"
   ]
  },
  {
   "cell_type": "markdown",
   "metadata": {},
   "source": [
    "### How to calculate similarity\n",
    "Here, we use Cosine similairity to determine recommended songs.  Cosine similarity will ignore the magnitude of a vector.  This is important in our usage.  Two completely different songs may have the exact same magnitude of the elements of the vector are similar in valud but in a different order.  Cosine similarity considers where each value is in a vector when making comparisons.\n",
    "\n",
    "Cosine similairty is the default for Word2Vec.\n",
    "(https://radimrehurek.com/gensim/auto_examples/core/run_similarity_queries.html#sphx-glr-auto-examples-core-run-similarity-queries-py)\n",
    "\n"
   ]
  },
  {
   "cell_type": "code",
   "execution_count": 311,
   "metadata": {},
   "outputs": [
    {
     "name": "stdout",
     "output_type": "stream",
     "text": [
      "0 tracks matches.\n",
      "RECOMMENDED PLAYLIST (* indicates a match)\n",
      " Artist              Track                         URI                           \n",
      " Tommy Lee Sparta    Fi Get a 4Ward                spotify:track:5pXW9mNcfiy6Q0a3XnPvwR\n",
      " <no preview>\n",
      "\n",
      " Luscious Jackson    Hula Hoop                     spotify:track:2lhxvMG1gbH4gItZSFxe6W\n",
      " https://p.scdn.co/mp3-preview/a26555bb8b5abfeade1cf245aa823c0b93a730f4?cid=72413f75d4db4ec79c6caaf02523959e\n",
      "\n",
      " Kwesi Arthur        Grind Day                     spotify:track:1V3faphnJ5BVkflGrTlWf4\n",
      " https://p.scdn.co/mp3-preview/7c7317c7ac125e573e2b070b1237441c2b426e73?cid=72413f75d4db4ec79c6caaf02523959e\n",
      "\n",
      " J-Rio               Sors Ça                       spotify:track:27ECSowSIahjZVp3mTKQFU\n",
      " https://p.scdn.co/mp3-preview/d10fc955445868c2bd31dba385d85a36b3125bf0?cid=72413f75d4db4ec79c6caaf02523959e\n",
      "\n",
      " Joha                Shot for Me (La Contestacion) spotify:track:0LAewMyMUWcagznuGzzSVB\n",
      " <no preview>\n",
      "\n",
      " Khago               Me Blood Ah Boil              spotify:track:1cwJkvMghXmyvF9rlQhN7F\n",
      " <no preview>\n",
      "\n",
      " Devvon Terrell      Trust Me                      spotify:track:4pSWPBEII3yA9EVTMHzAkN\n",
      " https://p.scdn.co/mp3-preview/5cc850c12481615945306b0038b2a481f521164b?cid=72413f75d4db4ec79c6caaf02523959e\n",
      "\n",
      " Benjah              Action (Ginger Beer & Swedish Revolution Remix)spotify:track:0JH9YNOzZymLzOj7eTY5wv\n",
      " https://p.scdn.co/mp3-preview/199c18de4cc36313616a37056f94b9330c8e54d8?cid=72413f75d4db4ec79c6caaf02523959e\n",
      "\n",
      " Lil Wayne           On My Own                     spotify:track:1t9R71JaumIiqp4RPP8CLa\n",
      " <no preview>\n",
      "\n",
      " El Chuape           Chuap Chuap (feat. Ceky Viciny, Gino & Muñeco)spotify:track:1hbb3KLHxInXVQ2AA2QdzH\n",
      " <no preview>\n",
      "\n"
     ]
    }
   ],
   "source": [
    "# calculate recommendations based on 'home-made' vector\n",
    "recommended_songs = np.array(accoustic_vectors.most_similar(df_playlists_test_given.track_uri.values, topn=10))[:,0]\n",
    "print_recommended_playlist(recommended_songs, test_withheld)"
   ]
  },
  {
   "cell_type": "code",
   "execution_count": 312,
   "metadata": {},
   "outputs": [
    {
     "data": {
      "application/vnd.jupyter.widget-view+json": {
       "model_id": "99e5de631b2a4862a85930a084ffbd2f",
       "version_major": 2,
       "version_minor": 0
      },
      "text/plain": [
       "HBox(children=(IntProgress(value=0, description='calculating metrics', style=ProgressStyle(description_width='…"
      ]
     },
     "metadata": {},
     "output_type": "display_data"
    },
    {
     "name": "stdout",
     "output_type": "stream",
     "text": [
      "\n",
      "Mean Track R-Precision: 0.018367346938775512\n",
      "Mean Track NDGC       : 0.017752074453489662\n"
     ]
    }
   ],
   "source": [
    "r_precs, NDCGs = eval_model(accoustic_vectors, df_playlists_test_withheld, df_playlists_test_given)"
   ]
  },
  {
   "cell_type": "markdown",
   "metadata": {},
   "source": [
    "### Result:\n",
    "This does not look so great (frankly, it is a disaster!).  The scores reflect this.  Not a single track was matched.  This list has nothing in common with our previous recommendations and the tracks selected are not similary to the seed playlist.  What happened?\n",
    "\n",
    "This approach takes independent songs and creates vectors from the songs features.  These vectors have nothing to do with the playlists and have no other relationship to other vectors other than their cosine similarity.  If the cosine similarity defines a song then why doesn't this work?  We are overestimating our assumption that the accoustic vectors will determine a song.  We also don't account for the fact that some songs are missing features.  When a value is 0, it will have a significant impact on the calculated cosine similarity.\n",
    "\n",
    "Our attempt with this approach was to create a 'content-based recommender' as described in the intoduction.  We are seeing that this is more challenging than expected.  "
   ]
  },
  {
   "cell_type": "markdown",
   "metadata": {},
   "source": [
    "## Conclusion:\n",
    "Collaborative-based recommendations appear to be easier to implement.  Predicting based on content requires a careful screening of the values that define the content and ensuring that all items have reasonable values.  This is a \"pro\" in favor of collarborative models.  However, collaborative models will enforce popularity trends that will compel already-popular items to be even more popular.  Another term for collaborative-based could be 'popularity-based'.  If someone wants something that is 'off-the-beaten-path', a collaborative model will not likely give them what they are looking for.  A content-based approach may be more valuable, but, as mentioned, is harder to implement.\n"
   ]
  },
  {
   "cell_type": "code",
   "execution_count": null,
   "metadata": {},
   "outputs": [],
   "source": []
  }
 ],
 "metadata": {
  "kernelspec": {
   "display_name": "Python 3",
   "language": "python",
   "name": "python3"
  },
  "language_info": {
   "codemirror_mode": {
    "name": "ipython",
    "version": 3
   },
   "file_extension": ".py",
   "mimetype": "text/x-python",
   "name": "python",
   "nbconvert_exporter": "python",
   "pygments_lexer": "ipython3",
   "version": "3.7.4"
  }
 },
 "nbformat": 4,
 "nbformat_minor": 2
}
