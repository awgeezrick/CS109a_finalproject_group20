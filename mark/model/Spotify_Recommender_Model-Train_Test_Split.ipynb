{
 "cells": [
  {
   "cell_type": "markdown",
   "metadata": {},
   "source": [
    "# Spotify Recommender Model\n",
    "\n",
    "Using Word2Vec, a variety of different recommender model options are explored.\n",
    "\n",
    "1. **Content-Based**\n",
    "> Predicts based on what a user has listened to in the past.\n",
    "> Uses features of songs to find similar songs.\n",
    "\n",
    "2. **Collaborative**\n",
    "> Predicts based on what other listeners like\n",
    "> Focuses on what songs other users liked who also liked a chosen song. \n",
    "\n",
    "\n",
    "## Word2Vec\n",
    "In both types of recommender models, a 'vectorized' representation of a song is used to find similar songs.  Word2Vec was originally intended to do what it's name implies; convert Words to Vectors.  Here, we will use that intended functionality to convert Songs to Vectors.\n",
    "\n",
    "### Embeddings\n",
    "Word2Vec is a process that uses vectorized words to predict other words.  It does this by ingesting a series of documents, parsing out the words, vectorizing the words and then using the vector representations to predict other words.  The vectors are built in such a way that each word has a unique vector that is based on its usage in the documents.  The result is a vector space filled with words where related words have vectors that are similar.  This vector space is referred to an an **embedding**.  This embedding is used in two common word prediction tasks: Skip-Gram and Continuous Bag of Words.\n",
    "\n",
    "> **Skip-Gram** <br>\n",
    "> The Skip-Gram model asks for a single word and then predicts words surrounding the word.\n",
    "\n",
    "> **Bag-of-Words** <br>\n",
    "> The bag-of-words model asks for a series of words and will return the missing word.\n",
    "\n",
    "\n",
    "### Making a Playlist\n",
    "What does this have to do with playlists?  Good question.  If we can consider a Song as a Word and a Playlist as related words or sentences, the applicability is evident.\n",
    "\n",
    "To make a playlist, we simply convert Song to Vectors and then find new songs by finding other songs with similar vectors.  To schieve this, we can use the Bag-of-Words or Skip-Gram approach as mentioned above.  Provide a song, a Skip-Gram model can supply a playlist.  Provide a list of songs, and Bag-of-Words model can give you the next song.\n",
    "\n",
    "### That Was Easy!\n",
    "Not so fast!  How we build the embedding of Songs will have an impact on how the new songs are predicted.  When we make the embedding, what are we giving as a song?  The title of the song?  The genre?  The artist? What are we providing as documents?  Playlists?  Albums? These choices will provide different results.  Three embedding options are explored:\n",
    "\n",
    "<a name='index'></a>\n",
    "### <a href=#1>1. Embeddings from Playlists - Song ID - Unsupervised</a>\n",
    "> Here, we will take data from Spotify that included 1M playlists and the songs in each playlist.  We'll use the Word2Vec process supplying playlists as documents and each song's unique id is used as the word. <br><br>\n",
    "After the embedding is created, we can skip the creation of building and training a BOW or Skip-Gram model.  All we need to do is find vectors that are similar to a song or a list of songs.  \n",
    "\n",
    "### <a href=#2>2. Embeddings from Playlists - Song ID - BOW</a>\n",
    "> We can use the same embedding to create a BOW model.\n",
    "\n",
    "\n",
    "### <a href=#3>3. Embeddings from Playlists - Song ID - Skip-Gram</a>\n",
    "> Let's use the embedding from the playlists and use Word2Vec to create a Skip-Gram model.\n",
    "\n",
    "\n",
    "### <a href=#4>4. Embeddings from Song Features - Unsupervised</a>\n",
    "> Here, we can take a break from Word2Vec and get very basic.  We create our own vectors based on Spotify accoustive feature data.  We have a series of fields available for all of our songs that numerically represent various characteristics of the songs; dancebaility, loudness, temp, key, energy, etc.\n",
    "\n",
    "\n",
    "\n",
    "<br>\n",
    "\n",
    "**References:**\n",
    "\n",
    "https://www.analyticsvidhya.com/blog/2019/07/how-to-build-recommendation-system-word2vec-python/\n",
    "\n",
    "https://towardsdatascience.com/using-word2vec-for-music-recommendations-bb9649ac2484\n",
    "\n",
    "https://towardsdatascience.com/how-to-build-a-simple-song-recommender-296fcbc8c85\n",
    "\n"
   ]
  },
  {
   "cell_type": "markdown",
   "metadata": {},
   "source": [
    "### Import libraries"
   ]
  },
  {
   "cell_type": "code",
   "execution_count": 15,
   "metadata": {},
   "outputs": [],
   "source": [
    "# Basic Imports\n",
    "import warnings;\n",
    "warnings.filterwarnings('ignore')\n",
    "\n",
    "import os\n",
    "import sys\n",
    "import pandas as pd\n",
    "import numpy as np\n",
    "import seaborn as sns\n",
    "import time\n",
    "import random\n",
    "import matplotlib.pyplot as plt\n",
    "%matplotlib inline\n",
    "\n",
    "\n",
    "from gensim.models import Word2Vec\n",
    "from gensim import utils\n",
    "import gensim.models\n",
    "from gensim.models import KeyedVectors\n",
    "\n",
    "# For the Spotify Dataset\n",
    "from sqlalchemy.ext.declarative import declarative_base\n",
    "from sqlalchemy import Table, Column, Integer, String, Float, MetaData, and_, or_, func\n",
    "from sqlalchemy import create_engine\n",
    "import sqlite3\n",
    "from sqlalchemy.orm import sessionmaker\n",
    "from sqlalchemy import exc\n",
    "\n",
    "from sklearn.model_selection import train_test_split\n",
    "\n",
    "sys.path.append('../../')\n",
    "from spotify_api import get_spotify_data, get_tracks, get_artists, get_audiofeatures\n",
    "from spotify_database import get_session, display_time\n",
    "from spotify_utils import Table_Generator, List_Generator, pickle_load, pickle_save\n",
    "\n",
    "# !pip install ipywidgets \n",
    "# !jupyter nbextension enable --py widgetsnbextension\n",
    "# !jupyter labextension install @jupyter-widgets/jupyterlab-manager\n",
    "\n",
    "# %%capture\n",
    "from tqdm import tqdm_notebook as tqdm"
   ]
  },
  {
   "cell_type": "markdown",
   "metadata": {},
   "source": [
    "### Set Data Path Variables"
   ]
  },
  {
   "cell_type": "code",
   "execution_count": 2,
   "metadata": {},
   "outputs": [],
   "source": [
    "data_path = '../../data/SpotifyDataSet'\n",
    "db_path = '../../data/SpotifyDataSet/spotify_songs.db'\n",
    "\n",
    "# Get sesion\n",
    "session = get_session(db_path)\n",
    "engine = create_engine('sqlite:///' + db_path)\n",
    "\n",
    "# Get Songs class\n",
    "Playlists = getattr(get_session, \"Playlists\")\n",
    "Artists = getattr(get_session, \"Artists\")\n",
    "Tracks = getattr(get_session, \"Tracks\")"
   ]
  },
  {
   "cell_type": "markdown",
   "metadata": {},
   "source": [
    "<a name='1'></a>\n",
    "## 1. Embeddings from Playlists using Song ID - Unsupervised\n",
    "<a href=#index>back to index</a>\n",
    "\n",
    "\n",
    "The baseline model will use embeddings to find similarities between songs.  The embeddings are built from playlists, where the playlist serves as a sentence made up of songs.\n",
    "\n",
    "Similarities between songs are determined by their cosine distance with other songs.\n",
    "\n",
    "To speed up to building of the enbedding, an extract is made from the database which will serve as documents for the embedding.  Each 'sentence' is a playlist and each 'word' is a song in the playlist.\n",
    "\n",
    "From the DB, the following view is created which is subseqntly extracted as a CSV file:<br>\n",
    "\n",
    "`CREATE VIEW playlist_tracks_uris AS SELECT t.playlist_id, group_concat(t.track_uri, ' ')  FROM playlists t GROUP BY  t.playlist_id;`\n"
   ]
  },
  {
   "cell_type": "code",
   "execution_count": 9,
   "metadata": {},
   "outputs": [],
   "source": [
    "# get playlists CSV file into DataFrame\n",
    "corpus_file = 'playlist_tracks.csv'\n",
    "corpus_filepath = os.path.join(data_path, corpus_file)\n",
    "\n",
    "df_playlists = pd.read_csv(corpus_filepath, sep='\\t', header=None)\n",
    "df_playlists.columns = [\"playlistID\",\"tracks\"]\n",
    "df_playlists.set_index('playlistID', drop=True, inplace=True)\n",
    "df_playlists.head()"
   ]
  },
  {
   "cell_type": "code",
   "execution_count": 73,
   "metadata": {},
   "outputs": [],
   "source": [
    "# Create train and validation sets\n",
    "playlists_train, val = train_test_split(df_playlists, test_size=10)"
   ]
  },
  {
   "cell_type": "code",
   "execution_count": 74,
   "metadata": {},
   "outputs": [],
   "source": [
    "# Build validation playlists - list of lists\n",
    "playlists_val = []\n",
    "for plId, line in val.itertuples():\n",
    "    playlists_val.append(line.split(' ')) # space-delimited tracks"
   ]
  },
  {
   "cell_type": "code",
   "execution_count": 79,
   "metadata": {},
   "outputs": [],
   "source": [
    "# Iterator that yields the songs for each playlist in a Dataframe\n",
    "class Playlist_URIs_df(object):\n",
    "    \"\"\"\n",
    "    Playlist generator that yileds the track uris in a playlist.\n",
    "    Yields one playlist at a time.\n",
    "    \"\"\"\n",
    "    def __init__(self,\n",
    "                 dataframe:pd.DataFrame=None,\n",
    "                 name:str=None,\n",
    "                 iters:int=None):\n",
    "        self.dataframe    = dataframe\n",
    "        self.length       = len(dataframe)\n",
    "        self.name         = name\n",
    "        self.count        = 0\n",
    "        self.iters        = iters\n",
    "        print(\"Creating Playlist Track Listing Generator:\")\n",
    "        print(\"\\tlength     : \", self.length)\n",
    "    \n",
    "    def __iter__(self):\n",
    "        \n",
    "        self.count += 1\n",
    "        progbar = tqdm(total=self.length, desc=\"{}:{}/{}\".format(self.name, self.count, self.iters+1))\n",
    "        \n",
    "        for plId, line in self.dataframe.itertuples():\n",
    "            progbar.update(1)\n",
    "            yield line.split(' ') # space-delimited tracks\n",
    "            \n",
    "        progbar.close()    "
   ]
  },
  {
   "cell_type": "code",
   "execution_count": 80,
   "metadata": {},
   "outputs": [
    {
     "name": "stdout",
     "output_type": "stream",
     "text": [
      "Creating Playlist Track Listing Generator:\n",
      "\tlength     :  998991\n"
     ]
    }
   ],
   "source": [
    "iters = 5\n",
    "playlists_gen = Playlist_URIs_df(dataframe=playlists_train,\n",
    "                                 name=\"Building Vectors\",\n",
    "                                 iters=iters) "
   ]
  },
  {
   "cell_type": "code",
   "execution_count": 81,
   "metadata": {},
   "outputs": [
    {
     "data": {
      "application/vnd.jupyter.widget-view+json": {
       "model_id": "694e2890c2d24097823072c86da5a009",
       "version_major": 2,
       "version_minor": 0
      },
      "text/plain": [
       "HBox(children=(IntProgress(value=0, description='Building Vectors:1/6', max=998991, style=ProgressStyle(descri…"
      ]
     },
     "metadata": {},
     "output_type": "display_data"
    },
    {
     "name": "stdout",
     "output_type": "stream",
     "text": [
      "\n"
     ]
    },
    {
     "data": {
      "application/vnd.jupyter.widget-view+json": {
       "model_id": "44b19a7f2cdf426bb4722009997bcd5a",
       "version_major": 2,
       "version_minor": 0
      },
      "text/plain": [
       "HBox(children=(IntProgress(value=0, description='Building Vectors:2/6', max=998991, style=ProgressStyle(descri…"
      ]
     },
     "metadata": {},
     "output_type": "display_data"
    },
    {
     "name": "stdout",
     "output_type": "stream",
     "text": [
      "\n"
     ]
    },
    {
     "data": {
      "application/vnd.jupyter.widget-view+json": {
       "model_id": "71a0d87aa8574aac9a5d017b385ec621",
       "version_major": 2,
       "version_minor": 0
      },
      "text/plain": [
       "HBox(children=(IntProgress(value=0, description='Building Vectors:3/6', max=998991, style=ProgressStyle(descri…"
      ]
     },
     "metadata": {},
     "output_type": "display_data"
    },
    {
     "name": "stdout",
     "output_type": "stream",
     "text": [
      "\n"
     ]
    },
    {
     "data": {
      "application/vnd.jupyter.widget-view+json": {
       "model_id": "04cef2052a14493bb15e183b3b95d824",
       "version_major": 2,
       "version_minor": 0
      },
      "text/plain": [
       "HBox(children=(IntProgress(value=0, description='Building Vectors:4/6', max=998991, style=ProgressStyle(descri…"
      ]
     },
     "metadata": {},
     "output_type": "display_data"
    },
    {
     "name": "stdout",
     "output_type": "stream",
     "text": [
      "\n"
     ]
    },
    {
     "data": {
      "application/vnd.jupyter.widget-view+json": {
       "model_id": "2247ba2affd245469957b69386042814",
       "version_major": 2,
       "version_minor": 0
      },
      "text/plain": [
       "HBox(children=(IntProgress(value=0, description='Building Vectors:5/6', max=998991, style=ProgressStyle(descri…"
      ]
     },
     "metadata": {},
     "output_type": "display_data"
    },
    {
     "name": "stdout",
     "output_type": "stream",
     "text": [
      "\n"
     ]
    },
    {
     "data": {
      "application/vnd.jupyter.widget-view+json": {
       "model_id": "32c67ee17b4e488c8e09545d23fb4e1b",
       "version_major": 2,
       "version_minor": 0
      },
      "text/plain": [
       "HBox(children=(IntProgress(value=0, description='Building Vectors:6/6', max=998991, style=ProgressStyle(descri…"
      ]
     },
     "metadata": {},
     "output_type": "display_data"
    },
    {
     "name": "stdout",
     "output_type": "stream",
     "text": [
      "\n"
     ]
    }
   ],
   "source": [
    "# Build a gensim BOW model including a word embedding\n",
    "model_BOW = gensim.models.Word2Vec(sentences=playlists_gen,\n",
    "                               workers = 8,    # number of processors\n",
    "                               sg = 0,         # 1=skip-gram, 0=CBOW\n",
    "                               iter=iters      # training iterations - default=5\n",
    "                              )\n",
    "\n",
    "# save the model\n",
    "model_filepath = os.path.join(data_path, 'playlists_BOW.model')\n",
    "model_BOW.save(model_filepath)\n",
    "\n",
    "# Save the embedding\n",
    "kv_filepath = os.path.join(data_path, 'playlists.embedding')\n",
    "model_BOW.wv.save(kv_filepath)\n",
    "\n",
    "# about 5 minutes per iteration with 4 processors // 2 min per iteration with 8"
   ]
  },
  {
   "cell_type": "code",
   "execution_count": 82,
   "metadata": {},
   "outputs": [
    {
     "data": {
      "application/vnd.jupyter.widget-view+json": {
       "model_id": "25d78bd4c3724b03a579f2c505199ebe",
       "version_major": 2,
       "version_minor": 0
      },
      "text/plain": [
       "HBox(children=(IntProgress(value=0, description='Building Vectors:7/6', max=998991, style=ProgressStyle(descri…"
      ]
     },
     "metadata": {},
     "output_type": "display_data"
    },
    {
     "name": "stdout",
     "output_type": "stream",
     "text": [
      "\n"
     ]
    },
    {
     "data": {
      "application/vnd.jupyter.widget-view+json": {
       "model_id": "336feff65c9149b38aa77a3d3305313e",
       "version_major": 2,
       "version_minor": 0
      },
      "text/plain": [
       "HBox(children=(IntProgress(value=0, description='Building Vectors:8/6', max=998991, style=ProgressStyle(descri…"
      ]
     },
     "metadata": {},
     "output_type": "display_data"
    },
    {
     "name": "stdout",
     "output_type": "stream",
     "text": [
      "\n"
     ]
    },
    {
     "data": {
      "application/vnd.jupyter.widget-view+json": {
       "model_id": "ed5edcd4d1794023b82244df624899d2",
       "version_major": 2,
       "version_minor": 0
      },
      "text/plain": [
       "HBox(children=(IntProgress(value=0, description='Building Vectors:9/6', max=998991, style=ProgressStyle(descri…"
      ]
     },
     "metadata": {},
     "output_type": "display_data"
    },
    {
     "name": "stdout",
     "output_type": "stream",
     "text": [
      "\n"
     ]
    },
    {
     "data": {
      "application/vnd.jupyter.widget-view+json": {
       "model_id": "5cd87972c4a444f99b4f90a1b26be088",
       "version_major": 2,
       "version_minor": 0
      },
      "text/plain": [
       "HBox(children=(IntProgress(value=0, description='Building Vectors:10/6', max=998991, style=ProgressStyle(descr…"
      ]
     },
     "metadata": {},
     "output_type": "display_data"
    },
    {
     "name": "stdout",
     "output_type": "stream",
     "text": [
      "\n"
     ]
    },
    {
     "data": {
      "application/vnd.jupyter.widget-view+json": {
       "model_id": "59b81a429bca4fe98660ea195b8b8ae4",
       "version_major": 2,
       "version_minor": 0
      },
      "text/plain": [
       "HBox(children=(IntProgress(value=0, description='Building Vectors:11/6', max=998991, style=ProgressStyle(descr…"
      ]
     },
     "metadata": {},
     "output_type": "display_data"
    },
    {
     "name": "stdout",
     "output_type": "stream",
     "text": [
      "\n"
     ]
    },
    {
     "data": {
      "application/vnd.jupyter.widget-view+json": {
       "model_id": "fe86fac506fd4c44b12149fb1fccfe0e",
       "version_major": 2,
       "version_minor": 0
      },
      "text/plain": [
       "HBox(children=(IntProgress(value=0, description='Building Vectors:12/6', max=998991, style=ProgressStyle(descr…"
      ]
     },
     "metadata": {},
     "output_type": "display_data"
    },
    {
     "name": "stdout",
     "output_type": "stream",
     "text": [
      "\n"
     ]
    }
   ],
   "source": [
    "# Build a gensim Skip-Gram model including a word embedding\n",
    "model_SG = gensim.models.Word2Vec(sentences=playlists_gen,\n",
    "                               workers = 8,    # number of processors\n",
    "                               sg = 1,         # 1=skip-gram, 0=CBOW\n",
    "                               iter=iters      # training iterations - default=5\n",
    "                              )\n",
    "\n",
    "# save the model\n",
    "model_filepath = os.path.join(data_path, 'playlists_SG.model')\n",
    "model_SG.save(model_filepath)\n",
    "\n",
    "# NOTE: No need to save the embedding again, it is the same as in the BOW model\n",
    "\n",
    "# about 5 minutes per iteration with 4 processors // 2 min per iteration with 8"
   ]
  },
  {
   "cell_type": "markdown",
   "metadata": {},
   "source": [
    "### Model Attributes\n",
    "Now, we have created an embedding and an associated model which follows the BOW approach.\n",
    "\n",
    "#### wv\n",
    "> This object essentially contains the mapping between words and embeddings. It can be used directly to query the embeddings in various ways. \n",
    "\n",
    "#### vocabulary\n",
    "> This object represents the vocabulary (sometimes called Dictionary in gensim) of the model. "
   ]
  },
  {
   "cell_type": "markdown",
   "metadata": {},
   "source": [
    "## Test the model\n",
    "Get 10 'words' from the embedding's vocabulary."
   ]
  },
  {
   "cell_type": "code",
   "execution_count": 84,
   "metadata": {},
   "outputs": [],
   "source": [
    "# reload saved embedding\n",
    "kv_filepath = os.path.join(data_path, 'playlists.embedding')\n",
    "embedding = KeyedVectors.load(kv_filepath, mmap='r')"
   ]
  },
  {
   "cell_type": "code",
   "execution_count": 85,
   "metadata": {},
   "outputs": [
    {
     "name": "stdout",
     "output_type": "stream",
     "text": [
      "Track: spotify:track:3VovAXS4PthsLIh1E12YpN\n",
      "\t Vocab(count:217, index:38036, sample_int:4294967296)\n",
      "Track: spotify:track:5ku5j7ad7iF2pkBZSLvwaP\n",
      "\t Vocab(count:6, index:515594, sample_int:4294967296)\n",
      "Track: spotify:track:4wyT0AR1eZv7upSLu9igOn\n",
      "\t Vocab(count:8, index:423116, sample_int:4294967296)\n",
      "Track: spotify:track:4EYFoCd6syEWOiIriYzCqw\n",
      "\t Vocab(count:9, index:389406, sample_int:4294967296)\n",
      "Track: spotify:track:4362FPQ2tIiSbUOWQLS0zG\n",
      "\t Vocab(count:29, index:174300, sample_int:4294967296)\n",
      "Track: spotify:track:1XqYMw1Zzinyce2dIUqybS\n",
      "\t Vocab(count:11, index:336668, sample_int:4294967296)\n",
      "Track: spotify:track:3Cspnktoidrjtj2rqoAP5N\n",
      "\t Vocab(count:6, index:478544, sample_int:4294967296)\n",
      "Track: spotify:track:2T8si2zr5MsObOJkfLvpyS\n",
      "\t Vocab(count:20, index:226351, sample_int:4294967296)\n",
      "Track: spotify:track:33Z5Kc0n1eQDAxCa1KWo3M\n",
      "\t Vocab(count:8, index:427531, sample_int:4294967296)\n",
      "Track: spotify:track:1f7l0TJOWugKWJsSgGAJuO\n",
      "\t Vocab(count:32, index:162379, sample_int:4294967296)\n"
     ]
    }
   ],
   "source": [
    "# display list of random track along with a count of appearances\n",
    "songids = list(embedding.wv.vocab.keys())\n",
    "idxs_rnd = [random.randint(0,len(songids)) for x in range(10)]\n",
    "\n",
    "for i in idxs_rnd:\n",
    "    print(\"Track: {}\".format(songids[i]))\n",
    "    print(\"\\t\",embedding.wv.vocab[songids[i]])"
   ]
  },
  {
   "cell_type": "code",
   "execution_count": 86,
   "metadata": {},
   "outputs": [
    {
     "name": "stdout",
     "output_type": "stream",
     "text": [
      "spotify:track:3VovAXS4PthsLIh1E12YpN\n"
     ]
    },
    {
     "data": {
      "text/plain": [
       "memmap([ 8.0540013e-01, -5.0874066e-01,  1.1287875e+00,  6.4198679e-01,\n",
       "        -9.0542966e-01, -4.2664385e-01, -4.7181049e-01, -1.3354428e+00,\n",
       "         4.9593821e-03,  3.0341092e-01, -8.0220771e-01,  7.9279709e-01,\n",
       "        -6.7764327e-02,  5.7272369e-01,  6.3917673e-01,  1.1619152e-01,\n",
       "         9.2092216e-01,  2.9572269e-01, -5.4103029e-01, -7.1117826e-02,\n",
       "        -8.3022183e-01,  1.1645370e-01,  2.0017964e-01, -1.1606492e+00,\n",
       "        -3.2457730e-01, -5.4774272e-01,  1.1806794e-01,  5.0981635e-01,\n",
       "         2.1882086e-01,  1.3184129e+00,  7.3587263e-01, -4.8899615e-01,\n",
       "         1.4229004e-01, -9.6439630e-01,  1.0739563e-01, -4.7043553e-01,\n",
       "        -9.8947376e-01,  2.8670225e-01, -1.4417414e-01,  1.8540988e-02,\n",
       "         2.6174539e-01,  7.4254292e-01,  2.4746957e-01, -1.2949882e+00,\n",
       "         6.6327482e-01,  1.3422848e-01,  8.3162546e-01,  2.9623902e-01,\n",
       "        -5.4799962e-01, -1.0918818e-01,  1.3129501e+00, -2.0395775e-01,\n",
       "        -5.5571031e-02,  7.9051864e-01,  1.5948552e-01,  9.0040094e-01,\n",
       "        -1.7811053e-01,  4.3501836e-01, -1.1253054e+00, -7.1875805e-01,\n",
       "         1.2765026e+00,  2.2987494e-01,  8.5911614e-01, -2.3740797e-01,\n",
       "        -2.9383937e-01, -8.2489675e-01,  3.4560591e-01, -2.5521785e-01,\n",
       "         1.1096177e+00,  2.8059922e-02,  3.4842488e-01,  9.2759006e-02,\n",
       "         6.6140181e-01, -1.3538097e+00,  4.4643745e-01, -7.4072933e-01,\n",
       "         4.2619723e-01, -7.1631008e-01,  4.9643579e-01, -1.2997341e-01,\n",
       "         4.9844620e-01,  3.1185776e-01,  3.1025720e-01, -4.5999609e-02,\n",
       "        -3.0202013e-01,  1.4558308e+00, -1.4686202e-01,  2.0402266e-01,\n",
       "         7.6408607e-01, -6.4690274e-01, -9.5560610e-02, -1.1764116e+00,\n",
       "        -1.4473579e+00,  2.2534545e-01, -1.0802775e-03, -9.3119711e-02,\n",
       "         6.6309297e-01,  2.7482206e-01, -9.0069109e-01,  3.6401269e-01],\n",
       "       dtype=float32)"
      ]
     },
     "metadata": {},
     "output_type": "display_data"
    }
   ],
   "source": [
    "# Show the vector value for the first word in in the list above\n",
    "rnd = random.randint(0, len(embedding.wv.vocab))\n",
    "print(songids[idxs_rnd[0]])\n",
    "display(embedding.wv.get_vector(songids[idxs_rnd[0]]))"
   ]
  },
  {
   "cell_type": "markdown",
   "metadata": {},
   "source": [
    "### Make a Playlist\n",
    "Find the ID of a specific song of your choice.  Here, we use the Spotify API to get the song we are interested in."
   ]
  },
  {
   "cell_type": "code",
   "execution_count": 87,
   "metadata": {},
   "outputs": [],
   "source": [
    "# # Get a song as a seed for a test playlist\n",
    "# db_track = display_time(session.query(Playlists.track_name, \n",
    "#                                 Playlists.track_uri,\n",
    "#                                 Playlists.artist_uri,\n",
    "#                                 Playlists.album_uri).filter(Playlists.track_name==\"Free Fallin'\").distinct().first)\n",
    "# seed_uri = db_track.track_uri\n",
    "\n",
    "# print(\"Artist:    {}\".format(get_artists([db_track.artist_uri])[0]['name']))\n",
    "# print(\"Track:     {}\".format(db_track.track_name))\n",
    "# print(\"Track URI: {}\".format(seed_uri))"
   ]
  },
  {
   "cell_type": "code",
   "execution_count": 92,
   "metadata": {},
   "outputs": [
    {
     "data": {
      "text/plain": [
       "[{'album': {'album_type': 'album',\n",
       "   'artists': [{'external_urls': {'spotify': 'https://open.spotify.com/artist/4BxCuXFJrSWGi1KHcVqaU4'},\n",
       "     'href': 'https://api.spotify.com/v1/artists/4BxCuXFJrSWGi1KHcVqaU4',\n",
       "     'id': '4BxCuXFJrSWGi1KHcVqaU4',\n",
       "     'name': 'Kodaline',\n",
       "     'type': 'artist',\n",
       "     'uri': 'spotify:artist:4BxCuXFJrSWGi1KHcVqaU4'}],\n",
       "   'available_markets': ['AD',\n",
       "    'AE',\n",
       "    'AR',\n",
       "    'AT',\n",
       "    'AU',\n",
       "    'BE',\n",
       "    'BG',\n",
       "    'BH',\n",
       "    'BO',\n",
       "    'BR',\n",
       "    'CA',\n",
       "    'CH',\n",
       "    'CL',\n",
       "    'CO',\n",
       "    'CR',\n",
       "    'CY',\n",
       "    'CZ',\n",
       "    'DE',\n",
       "    'DK',\n",
       "    'DO',\n",
       "    'DZ',\n",
       "    'EC',\n",
       "    'EE',\n",
       "    'EG',\n",
       "    'ES',\n",
       "    'FI',\n",
       "    'FR',\n",
       "    'GB',\n",
       "    'GR',\n",
       "    'GT',\n",
       "    'HK',\n",
       "    'HN',\n",
       "    'HU',\n",
       "    'ID',\n",
       "    'IE',\n",
       "    'IL',\n",
       "    'IN',\n",
       "    'IS',\n",
       "    'IT',\n",
       "    'JO',\n",
       "    'JP',\n",
       "    'KW',\n",
       "    'LB',\n",
       "    'LI',\n",
       "    'LT',\n",
       "    'LU',\n",
       "    'LV',\n",
       "    'MA',\n",
       "    'MC',\n",
       "    'MT',\n",
       "    'MX',\n",
       "    'MY',\n",
       "    'NI',\n",
       "    'NL',\n",
       "    'NO',\n",
       "    'NZ',\n",
       "    'OM',\n",
       "    'PA',\n",
       "    'PE',\n",
       "    'PH',\n",
       "    'PL',\n",
       "    'PS',\n",
       "    'PT',\n",
       "    'PY',\n",
       "    'QA',\n",
       "    'RO',\n",
       "    'SA',\n",
       "    'SE',\n",
       "    'SG',\n",
       "    'SK',\n",
       "    'SV',\n",
       "    'TH',\n",
       "    'TN',\n",
       "    'TR',\n",
       "    'TW',\n",
       "    'UY',\n",
       "    'VN',\n",
       "    'ZA'],\n",
       "   'external_urls': {'spotify': 'https://open.spotify.com/album/3YHf7ooFmrTOsp4jPM3aFj'},\n",
       "   'href': 'https://api.spotify.com/v1/albums/3YHf7ooFmrTOsp4jPM3aFj',\n",
       "   'id': '3YHf7ooFmrTOsp4jPM3aFj',\n",
       "   'images': [{'height': 640,\n",
       "     'url': 'https://i.scdn.co/image/ab67616d0000b27374b1285d420d4d8494c72df5',\n",
       "     'width': 640},\n",
       "    {'height': 300,\n",
       "     'url': 'https://i.scdn.co/image/ab67616d00001e0274b1285d420d4d8494c72df5',\n",
       "     'width': 300},\n",
       "    {'height': 64,\n",
       "     'url': 'https://i.scdn.co/image/ab67616d0000485174b1285d420d4d8494c72df5',\n",
       "     'width': 64}],\n",
       "   'name': 'In A Perfect World (Deluxe)',\n",
       "   'release_date': '2013-06-14',\n",
       "   'release_date_precision': 'day',\n",
       "   'total_tracks': 14,\n",
       "   'type': 'album',\n",
       "   'uri': 'spotify:album:3YHf7ooFmrTOsp4jPM3aFj'},\n",
       "  'artists': [{'external_urls': {'spotify': 'https://open.spotify.com/artist/4BxCuXFJrSWGi1KHcVqaU4'},\n",
       "    'href': 'https://api.spotify.com/v1/artists/4BxCuXFJrSWGi1KHcVqaU4',\n",
       "    'id': '4BxCuXFJrSWGi1KHcVqaU4',\n",
       "    'name': 'Kodaline',\n",
       "    'type': 'artist',\n",
       "    'uri': 'spotify:artist:4BxCuXFJrSWGi1KHcVqaU4'}],\n",
       "  'available_markets': ['AD',\n",
       "   'AE',\n",
       "   'AR',\n",
       "   'AT',\n",
       "   'AU',\n",
       "   'BE',\n",
       "   'BG',\n",
       "   'BH',\n",
       "   'BO',\n",
       "   'BR',\n",
       "   'CA',\n",
       "   'CH',\n",
       "   'CL',\n",
       "   'CO',\n",
       "   'CR',\n",
       "   'CY',\n",
       "   'CZ',\n",
       "   'DE',\n",
       "   'DK',\n",
       "   'DO',\n",
       "   'DZ',\n",
       "   'EC',\n",
       "   'EE',\n",
       "   'EG',\n",
       "   'ES',\n",
       "   'FI',\n",
       "   'FR',\n",
       "   'GB',\n",
       "   'GR',\n",
       "   'GT',\n",
       "   'HK',\n",
       "   'HN',\n",
       "   'HU',\n",
       "   'ID',\n",
       "   'IE',\n",
       "   'IL',\n",
       "   'IN',\n",
       "   'IS',\n",
       "   'IT',\n",
       "   'JO',\n",
       "   'JP',\n",
       "   'KW',\n",
       "   'LB',\n",
       "   'LI',\n",
       "   'LT',\n",
       "   'LU',\n",
       "   'LV',\n",
       "   'MA',\n",
       "   'MC',\n",
       "   'MT',\n",
       "   'MX',\n",
       "   'MY',\n",
       "   'NI',\n",
       "   'NL',\n",
       "   'NO',\n",
       "   'NZ',\n",
       "   'OM',\n",
       "   'PA',\n",
       "   'PE',\n",
       "   'PH',\n",
       "   'PL',\n",
       "   'PS',\n",
       "   'PT',\n",
       "   'PY',\n",
       "   'QA',\n",
       "   'RO',\n",
       "   'SA',\n",
       "   'SE',\n",
       "   'SG',\n",
       "   'SK',\n",
       "   'SV',\n",
       "   'TH',\n",
       "   'TN',\n",
       "   'TR',\n",
       "   'TW',\n",
       "   'UY',\n",
       "   'VN',\n",
       "   'ZA'],\n",
       "  'disc_number': 1,\n",
       "  'duration_ms': 255560,\n",
       "  'explicit': False,\n",
       "  'external_ids': {'isrc': 'GBDVX1200012'},\n",
       "  'external_urls': {'spotify': 'https://open.spotify.com/track/1nqJvzF8URpip2qbg8izYb'},\n",
       "  'href': 'https://api.spotify.com/v1/tracks/1nqJvzF8URpip2qbg8izYb',\n",
       "  'id': '1nqJvzF8URpip2qbg8izYb',\n",
       "  'is_local': False,\n",
       "  'name': 'One Day',\n",
       "  'popularity': 57,\n",
       "  'preview_url': 'https://p.scdn.co/mp3-preview/d7cbbdaff91c3519a99ad30e8606ac40ee59ee30?cid=72413f75d4db4ec79c6caaf02523959e',\n",
       "  'track_number': 1,\n",
       "  'type': 'track',\n",
       "  'uri': 'spotify:track:1nqJvzF8URpip2qbg8izYb'}]"
      ]
     },
     "execution_count": 92,
     "metadata": {},
     "output_type": "execute_result"
    }
   ],
   "source": [
    "sp_seed_track #['artists'] #[0]['name']"
   ]
  },
  {
   "cell_type": "code",
   "execution_count": 94,
   "metadata": {},
   "outputs": [
    {
     "name": "stdout",
     "output_type": "stream",
     "text": [
      "Artist       :  Drake\n",
      "Track        :  One Dance\n",
      "Track Preview: \n",
      " None\n",
      "\n"
     ]
    }
   ],
   "source": [
    "# Get a song from one of the validation playlists\n",
    "rnd_val = random.randint(0,len(playlists_val))\n",
    "seed_uri = playlists_val[rnd_val][0]\n",
    "\n",
    "sp_seed_track = get_tracks([seed_uri]) # get spotify data for track\n",
    "\n",
    "print(\"Artist       : \",   sp_seed_track[0]['artists'][0]['name'])\n",
    "print(\"Track        : \",   sp_seed_track[0]['name'])\n",
    "print(\"Track Preview: \\n\", sp_seed_track[0]['preview_url'] )\n",
    "print()\n"
   ]
  },
  {
   "cell_type": "markdown",
   "metadata": {},
   "source": [
    "### Use the Word2Vec embedding to find similar songs\n",
    "Using the Word2Vec function `similar_by_word()`"
   ]
  },
  {
   "cell_type": "code",
   "execution_count": 95,
   "metadata": {},
   "outputs": [
    {
     "data": {
      "text/plain": [
       "array([['spotify:track:11KJSRSgaDxqydKYiD2Jew', '0.8229084014892578'],\n",
       "       ['spotify:track:6F609ICg9Spjrw1epsAnpa', '0.8087855577468872'],\n",
       "       ['spotify:track:0azC730Exh71aQlOt9Zj3y', '0.7671030759811401'],\n",
       "       ['spotify:track:5mPSyjLatqB00IkPqRlbTE', '0.7500139474868774'],\n",
       "       ['spotify:track:27PmvZoffODNFW2p7ehZTQ', '0.7456628084182739'],\n",
       "       ['spotify:track:5OOkp4U9P9oL23maHFHL1h', '0.7453163266181946'],\n",
       "       ['spotify:track:6r2jK1A6oFRPREZfxjc5d1', '0.716140866279602'],\n",
       "       ['spotify:track:1Tt4sE4pXi57mTD1GCzsqm', '0.7118954658508301'],\n",
       "       ['spotify:track:4c0rkFPszqQTyC753tsCMU', '0.7113115191459656'],\n",
       "       ['spotify:track:4tCtwWceOPWzenK2HAIJSb', '0.7020060420036316']],\n",
       "      dtype='<U36')"
      ]
     },
     "execution_count": 95,
     "metadata": {},
     "output_type": "execute_result"
    }
   ],
   "source": [
    "# Find similar songs \n",
    "playlist_rec = np.array(embedding.similar_by_word(seed_uri, topn=10, restrict_vocab=None))\n",
    "playlist_rec"
   ]
  },
  {
   "cell_type": "code",
   "execution_count": 98,
   "metadata": {},
   "outputs": [
    {
     "name": "stdout",
     "output_type": "stream",
     "text": [
      "RECOMMENDED PLAYLIST\n",
      "Artist/Track : Drake / Too Good\n",
      "Preview: \n",
      " None\n",
      "\n",
      "Artist/Track : Drake / Controlla\n",
      "Preview: \n",
      " None\n",
      "\n",
      "Artist/Track : Calvin Harris / This Is What You Came For\n",
      "Preview: \n",
      " https://p.scdn.co/mp3-preview/16e42342599e423f7da57c9d2ce0c6758fc430e6?cid=72413f75d4db4ec79c6caaf02523959e\n",
      "\n",
      "Artist/Track : Drake / Pop Style\n",
      "Preview: \n",
      " None\n",
      "\n",
      "Artist/Track : Kent Jones / Don't Mind\n",
      "Preview: \n",
      " https://p.scdn.co/mp3-preview/d239d792c6a8c706ff0e57aa7b38eaa1b3a5ad48?cid=72413f75d4db4ec79c6caaf02523959e\n",
      "\n",
      "Artist/Track : Desiigner / Panda\n",
      "Preview: \n",
      " None\n",
      "\n",
      "Artist/Track : Desiigner / Panda\n",
      "Preview: \n",
      " None\n",
      "\n",
      "Artist/Track : Rihanna / Needed Me\n",
      "Preview: \n",
      " None\n",
      "\n",
      "Artist/Track : Ghost Town DJs / My Boo - Hitman's Club Mix\n",
      "Preview: \n",
      " https://p.scdn.co/mp3-preview/cf5c29df8e73f6c8301fdfc78e1849a02795cf7d?cid=72413f75d4db4ec79c6caaf02523959e\n",
      "\n",
      "Artist/Track : Fifth Harmony / Work from Home (feat. Ty Dolla $ign)\n",
      "Preview: \n",
      " https://p.scdn.co/mp3-preview/b2d6e6ea9163eb361f5406f75264de490243964a?cid=72413f75d4db4ec79c6caaf02523959e\n",
      "\n"
     ]
    }
   ],
   "source": [
    "# Get the similar songs from Spotify to show their details, including preview link (if available)\n",
    "sp_playlist = get_tracks(playlist_rec[:,0])\n",
    "\n",
    "print(\"RECOMMENDED PLAYLIST\")\n",
    "for t in sp_playlist:\n",
    "    print(\"Artist/Track : {} / {}\".format( t['artists'][0]['name'],t['name']))\n",
    "    print(\"Preview: \\n\", t['preview_url'] )\n",
    "    print()"
   ]
  },
  {
   "cell_type": "code",
   "execution_count": 108,
   "metadata": {},
   "outputs": [
    {
     "name": "stdout",
     "output_type": "stream",
     "text": [
      "RECOMMENDED PLAYLIST\n",
      "Artist/Track : Crown The Empire / Oh, Catastrophe\n",
      "Preview: \n",
      " https://p.scdn.co/mp3-preview/79b9cbaab59bd2fe691c4d4c2fa6e26ce873f0a0?cid=72413f75d4db4ec79c6caaf02523959e\n",
      "\n",
      "Artist/Track : Crown The Empire / The Fallout\n",
      "Preview: \n",
      " https://p.scdn.co/mp3-preview/dc41b6cbb3d4113e9d74e4e089a8d7fb6806f289?cid=72413f75d4db4ec79c6caaf02523959e\n",
      "\n",
      "Artist/Track : Crown The Empire / Memories Of A Broken Heart\n",
      "Preview: \n",
      " https://p.scdn.co/mp3-preview/74ff619ed37919a46b9727492f401000efca7ee1?cid=72413f75d4db4ec79c6caaf02523959e\n",
      "\n",
      "Artist/Track : Crown The Empire / Makeshift Chemistry\n",
      "Preview: \n",
      " https://p.scdn.co/mp3-preview/2b4bdbc2fb5644082a90d2e603ee218a51f57ab2?cid=72413f75d4db4ec79c6caaf02523959e\n",
      "\n",
      "Artist/Track : Crown The Empire / The One You Feed\n",
      "Preview: \n",
      " https://p.scdn.co/mp3-preview/80db629185ef4a8a9ea520135ed5696460385b30?cid=72413f75d4db4ec79c6caaf02523959e\n",
      "\n",
      "Artist/Track : Crown The Empire / Menace\n",
      "Preview: \n",
      " https://p.scdn.co/mp3-preview/4a08b1d1d6e2f051aa1a68377859b61bdf93bdb1?cid=72413f75d4db4ec79c6caaf02523959e\n",
      "\n",
      "Artist/Track : Crown The Empire / Graveyard Souls\n",
      "Preview: \n",
      " https://p.scdn.co/mp3-preview/154cbb8414d2c943b7d2336744ce68ad55696f70?cid=72413f75d4db4ec79c6caaf02523959e\n",
      "\n",
      "Artist/Track : Crown The Empire / Two's Too Many\n",
      "Preview: \n",
      " https://p.scdn.co/mp3-preview/15d8ac2116f95f2d551a9d3de42937120e76e12f?cid=72413f75d4db4ec79c6caaf02523959e\n",
      "\n",
      "Artist/Track : Crown The Empire / Evidence\n",
      "Preview: \n",
      " https://p.scdn.co/mp3-preview/6b747563bcf2cdeaee09397da07cb7fcc72de334?cid=72413f75d4db4ec79c6caaf02523959e\n",
      "\n",
      "Artist/Track : Crown The Empire / Children Of Love\n",
      "Preview: \n",
      " https://p.scdn.co/mp3-preview/e6be70d1f85c521505dd820738e301f066912923?cid=72413f75d4db4ec79c6caaf02523959e\n",
      "\n"
     ]
    }
   ],
   "source": [
    "# Get the similar songs from Spotify to show their details, including preview link (if available)\n",
    "sp_playlist = get_tracks(playlists_val[0][0:10])\n",
    "\n",
    "print(\"RECOMMENDED PLAYLIST\")\n",
    "for t in sp_playlist:\n",
    "    print(\"Artist/Track : {} / {}\".format( t['artists'][0]['name'],t['name']))\n",
    "    print(\"Preview: \\n\", t['preview_url'] )\n",
    "    print()"
   ]
  },
  {
   "cell_type": "markdown",
   "metadata": {},
   "source": [
    "## Metrics"
   ]
  },
  {
   "cell_type": "markdown",
   "metadata": {},
   "source": [
    "### R-Precision\n",
    "Lets' compare the list to the validation list.\n",
    "We can compare the intersection of tracks and the intersection of artists.\n",
    "\n",
    "let: <br>\n",
    "> $G$ = ground truth (validation playlist) <br>\n",
    "> $R$ = recommendation list<br>\n",
    "\n",
    "> $R-precision = \\frac{|G \\bigcap R_{1:|G|}|}{|G|}$\n"
   ]
  },
  {
   "cell_type": "code",
   "execution_count": 155,
   "metadata": {},
   "outputs": [],
   "source": [
    "def calc_track_rPrecision(ground_truth, recommendation)->float:\n",
    "    \"\"\"\n",
    "    Calculates r-precision based on a ground truth playlist and a \n",
    "    recommendation playlist.\n",
    "    Each playlist is execpexted to be a list of lists where \n",
    "    each item in the list is a playlist and the corresponding \n",
    "    list is a list of the tracks in that playlist.\n",
    "    \"\"\"\n",
    "    G=set(ground_truth)\n",
    "    R=set(recommendation)\n",
    "    \n",
    "    return len(G&R)/len(G)"
   ]
  },
  {
   "cell_type": "markdown",
   "metadata": {
    "variables": {
     "i": "193899"
    }
   },
   "source": [
    "### NDCG - Normalized Discounted Cumulative Gain\n",
    "NDCG will incorporate not only the relevance, but also the order of the items in the recommended playlist.\n",
    "\n",
    "To caluclate, we need the the DCG (discounted cumulative gain)  which measures the ranking quality.  We also need the IDCG (ideal discounted cumulative gain).\n",
    "\n",
    "> $DCG = rel_1 + \\sum^{|R|}_{i=2}\\frac{rel_i}{log_2(i+1)} $ <br>\n",
    "> $IDCG = 1 + \\sum^{|G|}_{i=2}\\frac{1}{log_2(i+1)} $\n",
    "\n",
    "NDGC is calculated as follows: <br>\n",
    "> $NDCG=\\frac{DCG}{IDCG}$\n",
    "\n",
    "Where $rel_{{i}}$ is the graded relevance of the result at position $i$.  Relevance = 1 when the recommended track is in the ground truth playlist."
   ]
  },
  {
   "cell_type": "code",
   "execution_count": 156,
   "metadata": {},
   "outputs": [],
   "source": [
    "def calc_track_NDCG(ground_truth, recommendation)->float:\n",
    "    list_len = len(recommendation)\n",
    "    scores = [(track in recommendation) for track in ground_truth[0:list_len]]\n",
    "    \n",
    "    DCG  = scores[0] + np.sum(scores[1:]/np.log2( np.arange(1,list_len)+1) )\n",
    "    IDCG = 1 + np.sum(1/np.log2( np.arange(1,list_len)+1 ))\n",
    "    NDGC = DCG/IDCG\n",
    "    \n",
    "    return NDGC"
   ]
  },
  {
   "cell_type": "code",
   "execution_count": 171,
   "metadata": {},
   "outputs": [],
   "source": [
    "def calc_track_metrics(ground_truth, recommendation, display=True)-> (float,float):\n",
    "    \"\"\"\n",
    "    Prints relevant metrics give a grount truth playlist and a \n",
    "    recommended playlist.\n",
    "    \"\"\"\n",
    "    r_prec = calc_track_rPrecision(ground_truth, recommendation)\n",
    "    NDGC = calc_track_NDCG(ground_truth, recommendation)\n",
    "    \n",
    "    if display:\n",
    "        print(\"Track R-Precision: {}\".format(r_prec))\n",
    "        print(\"Track NDGC       : {}\".format(NDGC))\n",
    "    \n",
    "    return r_prec, NDGC"
   ]
  },
  {
   "cell_type": "code",
   "execution_count": 172,
   "metadata": {},
   "outputs": [
    {
     "name": "stdout",
     "output_type": "stream",
     "text": [
      "R-Precision: 0.028169014084507043\n",
      "NDGC       : 0.19031326377064928\n"
     ]
    }
   ],
   "source": [
    "r_prec, NDCG = calc_metrics(playlists_val[rnd_val], playlist_rec[:,0])"
   ]
  },
  {
   "cell_type": "code",
   "execution_count": 164,
   "metadata": {},
   "outputs": [],
   "source": [
    "playlist_rec = np.array(embedding.similar_by_word(seed_uri, \n",
    "                                                          topn=10, \n",
    "                                                          restrict_vocab=None))"
   ]
  },
  {
   "cell_type": "code",
   "execution_count": 165,
   "metadata": {},
   "outputs": [
    {
     "data": {
      "text/plain": [
       "array([['spotify:track:11KJSRSgaDxqydKYiD2Jew', '0.8229084014892578'],\n",
       "       ['spotify:track:6F609ICg9Spjrw1epsAnpa', '0.8087855577468872'],\n",
       "       ['spotify:track:0azC730Exh71aQlOt9Zj3y', '0.7671030759811401'],\n",
       "       ['spotify:track:5mPSyjLatqB00IkPqRlbTE', '0.7500139474868774'],\n",
       "       ['spotify:track:27PmvZoffODNFW2p7ehZTQ', '0.7456628084182739'],\n",
       "       ['spotify:track:5OOkp4U9P9oL23maHFHL1h', '0.7453163266181946'],\n",
       "       ['spotify:track:6r2jK1A6oFRPREZfxjc5d1', '0.716140866279602'],\n",
       "       ['spotify:track:1Tt4sE4pXi57mTD1GCzsqm', '0.7118954658508301'],\n",
       "       ['spotify:track:4c0rkFPszqQTyC753tsCMU', '0.7113115191459656'],\n",
       "       ['spotify:track:4tCtwWceOPWzenK2HAIJSb', '0.7020060420036316']],\n",
       "      dtype='<U36')"
      ]
     },
     "execution_count": 165,
     "metadata": {},
     "output_type": "execute_result"
    }
   ],
   "source": [
    "playlist_rec"
   ]
  },
  {
   "cell_type": "code",
   "execution_count": 200,
   "metadata": {},
   "outputs": [],
   "source": [
    "def eval_model(model, playlists_val, display=True) -> (float,float):\n",
    "    \"\"\"\n",
    "    Will perform an r_precision and NDCG calculation on all\n",
    "    validation playlists and return a mean of each score\n",
    "    for all scored playlists.\n",
    "    \"\"\"\n",
    "    r_precs = []\n",
    "    NDCGs = []\n",
    "    for plist in playlists_val:\n",
    "        # get a recommended playlist based on first song\n",
    "        seed_uri = plist[0]\n",
    "        \n",
    "        if type(model) == gensim.models.keyedvectors.Word2VecKeyedVectors:\n",
    "            playlist_rec = np.array(embedding.similar_by_word(seed_uri, \n",
    "                                                          topn=10))\n",
    "        \n",
    "        elif type(model) == gensim.models.word2vec.Word2Vec:\n",
    "            playlist_rec = np.array(BOW_model.predict_output_word([seed_uri], \n",
    "                                                                  topn=10))\n",
    "        \n",
    "        r_prec, NDGC = calc_track_metrics(plist, \n",
    "                                    playlist_rec[:,0],\n",
    "                                    display=False)\n",
    "        \n",
    "        r_precs.append(r_prec)\n",
    "        NDCGs.append(NDGC)\n",
    "    \n",
    "    if display:\n",
    "        print(\"Mean Track R-Precision: {}\".format(np.mean(r_precs)))\n",
    "        print(\"Mean Track NDGC       : {}\".format(np.mean(NDCGs)))\n",
    "        \n",
    "    return r_precs, NDCGs\n",
    "        \n",
    "    "
   ]
  },
  {
   "cell_type": "code",
   "execution_count": 202,
   "metadata": {},
   "outputs": [
    {
     "name": "stdout",
     "output_type": "stream",
     "text": [
      "Mean Track R-Precision: 0.021781417850502447\n",
      "Mean Track NDGC       : 0.06778209214352757\n"
     ]
    }
   ],
   "source": [
    "r_precs, NDCGs = eval_model(embedding, playlists_val)"
   ]
  },
  {
   "cell_type": "markdown",
   "metadata": {},
   "source": [
    "### Results:\n",
    "Based on the playlists that were supplied when buidling the embedding, the list of Top 10 most similar songs is presented above.  Several other Tom Petty songs appeared as well as other artists that are similar in genre, attitude, etc.\n",
    "\n",
    "This playlist is based on the top songs that other users placed in playlists that include the song we selected as our seed.  This is a good example of 'collaborative filtering' as it uses preferences from others to recommend songs."
   ]
  },
  {
   "cell_type": "markdown",
   "metadata": {},
   "source": [
    "<a name='2'></a>\n",
    "## 2. Embeddings from Playlists - Song ID - BOW\n",
    "<a href=#index>back to index</a>\n",
    "\n",
    "Now, let's use the model that was created when we initially established our embedding.  The BOW model can be used to predict a song from a song or a list of supplied songs.\n",
    "\n",
    "Let's use the seed song \"Free Fallin'\" again and see what is returned."
   ]
  },
  {
   "cell_type": "code",
   "execution_count": 181,
   "metadata": {},
   "outputs": [],
   "source": [
    "model_filepath = os.path.join(data_path, 'playlists_BOW.model')\n",
    "BOW_model = Word2Vec.load(model_filepath)"
   ]
  },
  {
   "cell_type": "code",
   "execution_count": 183,
   "metadata": {},
   "outputs": [
    {
     "name": "stdout",
     "output_type": "stream",
     "text": [
      "token():INFO:   Token refreshed\n",
      "\n",
      "Artist: Drake\n",
      "Track Name: Controlla\n",
      "Preview: None\n",
      "\n",
      "Artist: Drake\n",
      "Track Name: Pop Style\n",
      "Preview: None\n",
      "\n",
      "Artist: Drake\n",
      "Track Name: Too Good\n",
      "Preview: None\n",
      "\n",
      "Artist: Drake\n",
      "Track Name: One Dance\n",
      "Preview: None\n",
      "\n",
      "Artist: Calvin Harris\n",
      "Track Name: This Is What You Came For\n",
      "Preview: https://p.scdn.co/mp3-preview/16e42342599e423f7da57c9d2ce0c6758fc430e6?cid=72413f75d4db4ec79c6caaf02523959e\n",
      "\n",
      "Artist: Drake\n",
      "Track Name: Views\n",
      "Preview: None\n",
      "\n",
      "Artist: Drake\n",
      "Track Name: Hotline Bling\n",
      "Preview: None\n",
      "\n",
      "Artist: Kent Jones\n",
      "Track Name: Don't Mind\n",
      "Preview: https://p.scdn.co/mp3-preview/d239d792c6a8c706ff0e57aa7b38eaa1b3a5ad48?cid=72413f75d4db4ec79c6caaf02523959e\n",
      "\n",
      "Artist: Desiigner\n",
      "Track Name: Panda\n",
      "Preview: None\n",
      "\n",
      "Artist: Sia\n",
      "Track Name: Cheap Thrills\n",
      "Preview: https://p.scdn.co/mp3-preview/88816b2040a092aa99d5b0e42945d79dc5027c1a?cid=72413f75d4db4ec79c6caaf02523959e\n"
     ]
    }
   ],
   "source": [
    "recommended_songs = np.array(BOW_model.predict_output_word([seed_uri], topn=10))\n",
    "sp_tracks = get_tracks(recommended_songs[:,0])\n",
    "\n",
    "for track in sp_tracks:\n",
    "    print(\"\\nArtist: {}\".format(track['artists'][0]['name']))\n",
    "    print(\"Track Name: {}\".format(track['name']))\n",
    "    print(\"Preview: {}\".format(track['preview_url']))"
   ]
  },
  {
   "cell_type": "code",
   "execution_count": 203,
   "metadata": {},
   "outputs": [
    {
     "name": "stdout",
     "output_type": "stream",
     "text": [
      "Mean Track R-Precision: 0.0356446392278155\n",
      "Mean Track NDGC       : 0.23164306360256548\n"
     ]
    }
   ],
   "source": [
    "r_precs, NDCGs = eval_model(BOW_model, playlists_val)"
   ]
  },
  {
   "cell_type": "markdown",
   "metadata": {},
   "source": [
    "### Result:\n",
    "Most of the songs are the same, but the BOW model only returned songs from Tom Petty where our basic embedding-only apprach found other artists as well."
   ]
  },
  {
   "cell_type": "markdown",
   "metadata": {},
   "source": [
    "<a name='3'></a>\n",
    "## 3. Embeddings from Playlists - Song ID - Skip-Gram\n",
    "<a href=#index>back to index</a>\n",
    "\n",
    "Here, we create a playlist from the Skip-Gram model.  For consistency, we will use the same song, \"Free Fallin'\", again to see if our results differ."
   ]
  },
  {
   "cell_type": "code",
   "execution_count": 205,
   "metadata": {},
   "outputs": [],
   "source": [
    "# load the skip-gram model we previously created\n",
    "model_filepath = os.path.join(data_path, 'playlists_SG.model')\n",
    "SG_model = Word2Vec.load(model_filepath)"
   ]
  },
  {
   "cell_type": "code",
   "execution_count": 207,
   "metadata": {},
   "outputs": [
    {
     "name": "stdout",
     "output_type": "stream",
     "text": [
      "\n",
      "Artist: Drake\n",
      "Track Name: One Dance\n",
      "Preview: None\n",
      "\n",
      "Artist: Drake\n",
      "Track Name: Controlla\n",
      "Preview: None\n",
      "\n",
      "Artist: Drake\n",
      "Track Name: Pop Style\n",
      "Preview: None\n",
      "\n",
      "Artist: Drake\n",
      "Track Name: Too Good\n",
      "Preview: None\n",
      "\n",
      "Artist: Calvin Harris\n",
      "Track Name: This Is What You Came For\n",
      "Preview: https://p.scdn.co/mp3-preview/16e42342599e423f7da57c9d2ce0c6758fc430e6?cid=72413f75d4db4ec79c6caaf02523959e\n",
      "\n",
      "Artist: Drake\n",
      "Track Name: Grammys\n",
      "Preview: None\n",
      "\n",
      "Artist: Kent Jones\n",
      "Track Name: Don't Mind\n",
      "Preview: https://p.scdn.co/mp3-preview/d239d792c6a8c706ff0e57aa7b38eaa1b3a5ad48?cid=72413f75d4db4ec79c6caaf02523959e\n",
      "\n",
      "Artist: Rihanna\n",
      "Track Name: Needed Me\n",
      "Preview: None\n",
      "\n",
      "Artist: Drake\n",
      "Track Name: Childs Play\n",
      "Preview: None\n",
      "\n",
      "Artist: Drake\n",
      "Track Name: Views\n",
      "Preview: None\n"
     ]
    }
   ],
   "source": [
    "recommended_songs = np.array(SG_model.predict_output_word([seed_uri], topn=10))\n",
    "sp_tracks = get_tracks(recommended_songs[:,0])\n",
    "\n",
    "for track in sp_tracks:\n",
    "    print(\"\\nArtist: {}\".format(track['artists'][0]['name']))\n",
    "    print(\"Track Name: {}\".format(track['name']))\n",
    "    print(\"Preview: {}\".format(track['preview_url']))"
   ]
  },
  {
   "cell_type": "code",
   "execution_count": 208,
   "metadata": {},
   "outputs": [
    {
     "name": "stdout",
     "output_type": "stream",
     "text": [
      "Mean Track R-Precision: 0.0356446392278155\n",
      "Mean Track NDGC       : 0.23164306360256548\n"
     ]
    }
   ],
   "source": [
    "r_precs, NDCGs = eval_model(SG_model, playlists_val)"
   ]
  },
  {
   "cell_type": "markdown",
   "metadata": {},
   "source": [
    "### Result:\n",
    "This list looks much like our original playlist based on the embeddings, but it isn't the same.  Here, different artists are suggested."
   ]
  },
  {
   "cell_type": "code",
   "execution_count": null,
   "metadata": {},
   "outputs": [],
   "source": []
  },
  {
   "cell_type": "markdown",
   "metadata": {},
   "source": [
    "<a name='4'></a>\n",
    "## 4. Embeddings from Song Features - Unsupervised\n",
    "<a href=#index>back to index</a>\n",
    "\n",
    "Here, we can take a break from Word2Vec and get very basic.  We create our own vectors based on Spotify accoustive feature data.  We have a series of fields available for all of our songs that numerically represent various characteristics of the songs; dancebaility, loudness, temp, key, energy, etc."
   ]
  },
  {
   "cell_type": "code",
   "execution_count": 210,
   "metadata": {},
   "outputs": [
    {
     "name": "stdout",
     "output_type": "stream",
     "text": [
      "Time to Execute: 83.7 seconds\n"
     ]
    }
   ],
   "source": [
    "# fetch all db tracks\n",
    "db_tracks = display_time(session.query(Tracks).all)\n",
    "session.close()"
   ]
  },
  {
   "cell_type": "code",
   "execution_count": 211,
   "metadata": {},
   "outputs": [
    {
     "data": {
      "text/html": [
       "<div>\n",
       "<style scoped>\n",
       "    .dataframe tbody tr th:only-of-type {\n",
       "        vertical-align: middle;\n",
       "    }\n",
       "\n",
       "    .dataframe tbody tr th {\n",
       "        vertical-align: top;\n",
       "    }\n",
       "\n",
       "    .dataframe thead th {\n",
       "        text-align: right;\n",
       "    }\n",
       "</style>\n",
       "<table border=\"1\" class=\"dataframe\">\n",
       "  <thead>\n",
       "    <tr style=\"text-align: right;\">\n",
       "      <th></th>\n",
       "      <th>danceability</th>\n",
       "      <th>time_signature</th>\n",
       "      <th>tempo</th>\n",
       "      <th>liveness</th>\n",
       "      <th>instrumentalness</th>\n",
       "      <th>speechiness</th>\n",
       "      <th>loudness</th>\n",
       "      <th>energy</th>\n",
       "      <th>artist_uri</th>\n",
       "      <th>track_popularity</th>\n",
       "      <th>duration_ms</th>\n",
       "      <th>valence</th>\n",
       "      <th>acousticness</th>\n",
       "      <th>mode</th>\n",
       "      <th>key</th>\n",
       "    </tr>\n",
       "    <tr>\n",
       "      <th>track_uri</th>\n",
       "      <th></th>\n",
       "      <th></th>\n",
       "      <th></th>\n",
       "      <th></th>\n",
       "      <th></th>\n",
       "      <th></th>\n",
       "      <th></th>\n",
       "      <th></th>\n",
       "      <th></th>\n",
       "      <th></th>\n",
       "      <th></th>\n",
       "      <th></th>\n",
       "      <th></th>\n",
       "      <th></th>\n",
       "      <th></th>\n",
       "    </tr>\n",
       "  </thead>\n",
       "  <tbody>\n",
       "    <tr>\n",
       "      <th>spotify:track:2d7LPtieXdIYzf7yHPooWd</th>\n",
       "      <td>0.467</td>\n",
       "      <td>4</td>\n",
       "      <td>108.130</td>\n",
       "      <td>0.0816</td>\n",
       "      <td>0.000001</td>\n",
       "      <td>0.0336</td>\n",
       "      <td>-9.649</td>\n",
       "      <td>0.157</td>\n",
       "      <td>spotify:artist:0MeLMJJcouYXCymQSHPn8g</td>\n",
       "      <td>65</td>\n",
       "      <td>242564</td>\n",
       "      <td>0.2770</td>\n",
       "      <td>0.974</td>\n",
       "      <td>1</td>\n",
       "      <td>11</td>\n",
       "    </tr>\n",
       "    <tr>\n",
       "      <th>spotify:track:0y4TKcc7p2H6P0GJlt01EI</th>\n",
       "      <td>0.312</td>\n",
       "      <td>4</td>\n",
       "      <td>93.778</td>\n",
       "      <td>0.0773</td>\n",
       "      <td>0.008180</td>\n",
       "      <td>0.0347</td>\n",
       "      <td>-13.367</td>\n",
       "      <td>0.207</td>\n",
       "      <td>spotify:artist:7w0qj2HiAPIeUcoPogvOZ6</td>\n",
       "      <td>36</td>\n",
       "      <td>253933</td>\n",
       "      <td>0.2780</td>\n",
       "      <td>0.961</td>\n",
       "      <td>1</td>\n",
       "      <td>10</td>\n",
       "    </tr>\n",
       "    <tr>\n",
       "      <th>spotify:track:6q4c1vPRZREh7nw3wG7Ixz</th>\n",
       "      <td>0.412</td>\n",
       "      <td>4</td>\n",
       "      <td>85.462</td>\n",
       "      <td>0.0830</td>\n",
       "      <td>0.772000</td>\n",
       "      <td>0.0278</td>\n",
       "      <td>-14.214</td>\n",
       "      <td>0.159</td>\n",
       "      <td>spotify:artist:32ogthv0BdaSMPml02X9YB</td>\n",
       "      <td>54</td>\n",
       "      <td>103920</td>\n",
       "      <td>0.0389</td>\n",
       "      <td>0.991</td>\n",
       "      <td>1</td>\n",
       "      <td>9</td>\n",
       "    </tr>\n",
       "    <tr>\n",
       "      <th>spotify:track:54KFQB6N4pn926IUUYZGzK</th>\n",
       "      <td>0.264</td>\n",
       "      <td>4</td>\n",
       "      <td>148.658</td>\n",
       "      <td>0.0940</td>\n",
       "      <td>0.349000</td>\n",
       "      <td>0.0349</td>\n",
       "      <td>-15.399</td>\n",
       "      <td>0.122</td>\n",
       "      <td>spotify:artist:32ogthv0BdaSMPml02X9YB</td>\n",
       "      <td>72</td>\n",
       "      <td>371320</td>\n",
       "      <td>0.0735</td>\n",
       "      <td>0.885</td>\n",
       "      <td>1</td>\n",
       "      <td>9</td>\n",
       "    </tr>\n",
       "    <tr>\n",
       "      <th>spotify:track:0NeJjNlprGfZpeX2LQuN6c</th>\n",
       "      <td>0.658</td>\n",
       "      <td>4</td>\n",
       "      <td>128.128</td>\n",
       "      <td>0.1700</td>\n",
       "      <td>0.000000</td>\n",
       "      <td>0.0448</td>\n",
       "      <td>-10.866</td>\n",
       "      <td>0.179</td>\n",
       "      <td>spotify:artist:3qnGvpP8Yth1AqSBMqON5x</td>\n",
       "      <td>75</td>\n",
       "      <td>238560</td>\n",
       "      <td>0.1910</td>\n",
       "      <td>0.689</td>\n",
       "      <td>1</td>\n",
       "      <td>8</td>\n",
       "    </tr>\n",
       "  </tbody>\n",
       "</table>\n",
       "</div>"
      ],
      "text/plain": [
       "                                      danceability  time_signature    tempo  \\\n",
       "track_uri                                                                     \n",
       "spotify:track:2d7LPtieXdIYzf7yHPooWd         0.467               4  108.130   \n",
       "spotify:track:0y4TKcc7p2H6P0GJlt01EI         0.312               4   93.778   \n",
       "spotify:track:6q4c1vPRZREh7nw3wG7Ixz         0.412               4   85.462   \n",
       "spotify:track:54KFQB6N4pn926IUUYZGzK         0.264               4  148.658   \n",
       "spotify:track:0NeJjNlprGfZpeX2LQuN6c         0.658               4  128.128   \n",
       "\n",
       "                                      liveness  instrumentalness  speechiness  \\\n",
       "track_uri                                                                       \n",
       "spotify:track:2d7LPtieXdIYzf7yHPooWd    0.0816          0.000001       0.0336   \n",
       "spotify:track:0y4TKcc7p2H6P0GJlt01EI    0.0773          0.008180       0.0347   \n",
       "spotify:track:6q4c1vPRZREh7nw3wG7Ixz    0.0830          0.772000       0.0278   \n",
       "spotify:track:54KFQB6N4pn926IUUYZGzK    0.0940          0.349000       0.0349   \n",
       "spotify:track:0NeJjNlprGfZpeX2LQuN6c    0.1700          0.000000       0.0448   \n",
       "\n",
       "                                      loudness  energy  \\\n",
       "track_uri                                                \n",
       "spotify:track:2d7LPtieXdIYzf7yHPooWd    -9.649   0.157   \n",
       "spotify:track:0y4TKcc7p2H6P0GJlt01EI   -13.367   0.207   \n",
       "spotify:track:6q4c1vPRZREh7nw3wG7Ixz   -14.214   0.159   \n",
       "spotify:track:54KFQB6N4pn926IUUYZGzK   -15.399   0.122   \n",
       "spotify:track:0NeJjNlprGfZpeX2LQuN6c   -10.866   0.179   \n",
       "\n",
       "                                                                 artist_uri  \\\n",
       "track_uri                                                                     \n",
       "spotify:track:2d7LPtieXdIYzf7yHPooWd  spotify:artist:0MeLMJJcouYXCymQSHPn8g   \n",
       "spotify:track:0y4TKcc7p2H6P0GJlt01EI  spotify:artist:7w0qj2HiAPIeUcoPogvOZ6   \n",
       "spotify:track:6q4c1vPRZREh7nw3wG7Ixz  spotify:artist:32ogthv0BdaSMPml02X9YB   \n",
       "spotify:track:54KFQB6N4pn926IUUYZGzK  spotify:artist:32ogthv0BdaSMPml02X9YB   \n",
       "spotify:track:0NeJjNlprGfZpeX2LQuN6c  spotify:artist:3qnGvpP8Yth1AqSBMqON5x   \n",
       "\n",
       "                                      track_popularity  duration_ms  valence  \\\n",
       "track_uri                                                                      \n",
       "spotify:track:2d7LPtieXdIYzf7yHPooWd                65       242564   0.2770   \n",
       "spotify:track:0y4TKcc7p2H6P0GJlt01EI                36       253933   0.2780   \n",
       "spotify:track:6q4c1vPRZREh7nw3wG7Ixz                54       103920   0.0389   \n",
       "spotify:track:54KFQB6N4pn926IUUYZGzK                72       371320   0.0735   \n",
       "spotify:track:0NeJjNlprGfZpeX2LQuN6c                75       238560   0.1910   \n",
       "\n",
       "                                      acousticness  mode  key  \n",
       "track_uri                                                      \n",
       "spotify:track:2d7LPtieXdIYzf7yHPooWd         0.974     1   11  \n",
       "spotify:track:0y4TKcc7p2H6P0GJlt01EI         0.961     1   10  \n",
       "spotify:track:6q4c1vPRZREh7nw3wG7Ixz         0.991     1    9  \n",
       "spotify:track:54KFQB6N4pn926IUUYZGzK         0.885     1    9  \n",
       "spotify:track:0NeJjNlprGfZpeX2LQuN6c         0.689     1    8  "
      ]
     },
     "execution_count": 211,
     "metadata": {},
     "output_type": "execute_result"
    }
   ],
   "source": [
    "# create a Pandas dataframe\n",
    "df_all_tracks = pd.DataFrame([x.__dict__ for x in db_tracks]).drop('_sa_instance_state', axis=1).set_index(['track_uri'])\n",
    "df_all_tracks.head()"
   ]
  },
  {
   "cell_type": "code",
   "execution_count": 212,
   "metadata": {},
   "outputs": [],
   "source": [
    "# define features that we will use to create our custom vectors\n",
    "vector_features= [\n",
    "    'acousticness',\n",
    "    'danceability',\n",
    "    'duration_ms',\n",
    "    'energy',\n",
    "    'instrumentalness',\n",
    "    'key',\n",
    "    'liveness',\n",
    "    'loudness',\n",
    "    'mode',\n",
    "    'speechiness',\n",
    "    'tempo',\n",
    "    'time_signature',\n",
    "    'valence'\n",
    "]"
   ]
  },
  {
   "cell_type": "code",
   "execution_count": 213,
   "metadata": {},
   "outputs": [
    {
     "data": {
      "text/html": [
       "<div>\n",
       "<style scoped>\n",
       "    .dataframe tbody tr th:only-of-type {\n",
       "        vertical-align: middle;\n",
       "    }\n",
       "\n",
       "    .dataframe tbody tr th {\n",
       "        vertical-align: top;\n",
       "    }\n",
       "\n",
       "    .dataframe thead th {\n",
       "        text-align: right;\n",
       "    }\n",
       "</style>\n",
       "<table border=\"1\" class=\"dataframe\">\n",
       "  <thead>\n",
       "    <tr style=\"text-align: right;\">\n",
       "      <th></th>\n",
       "      <th>danceability</th>\n",
       "      <th>time_signature</th>\n",
       "      <th>tempo</th>\n",
       "      <th>liveness</th>\n",
       "      <th>instrumentalness</th>\n",
       "      <th>speechiness</th>\n",
       "      <th>loudness</th>\n",
       "      <th>energy</th>\n",
       "      <th>duration_ms</th>\n",
       "      <th>valence</th>\n",
       "      <th>acousticness</th>\n",
       "      <th>mode</th>\n",
       "      <th>key</th>\n",
       "    </tr>\n",
       "    <tr>\n",
       "      <th>track_uri</th>\n",
       "      <th></th>\n",
       "      <th></th>\n",
       "      <th></th>\n",
       "      <th></th>\n",
       "      <th></th>\n",
       "      <th></th>\n",
       "      <th></th>\n",
       "      <th></th>\n",
       "      <th></th>\n",
       "      <th></th>\n",
       "      <th></th>\n",
       "      <th></th>\n",
       "      <th></th>\n",
       "    </tr>\n",
       "  </thead>\n",
       "  <tbody>\n",
       "    <tr>\n",
       "      <th>spotify:track:2d7LPtieXdIYzf7yHPooWd</th>\n",
       "      <td>0.467</td>\n",
       "      <td>4</td>\n",
       "      <td>108.130</td>\n",
       "      <td>0.0816</td>\n",
       "      <td>0.000001</td>\n",
       "      <td>0.0336</td>\n",
       "      <td>-9.649</td>\n",
       "      <td>0.157</td>\n",
       "      <td>242564</td>\n",
       "      <td>0.2770</td>\n",
       "      <td>0.974</td>\n",
       "      <td>1</td>\n",
       "      <td>11</td>\n",
       "    </tr>\n",
       "    <tr>\n",
       "      <th>spotify:track:0y4TKcc7p2H6P0GJlt01EI</th>\n",
       "      <td>0.312</td>\n",
       "      <td>4</td>\n",
       "      <td>93.778</td>\n",
       "      <td>0.0773</td>\n",
       "      <td>0.008180</td>\n",
       "      <td>0.0347</td>\n",
       "      <td>-13.367</td>\n",
       "      <td>0.207</td>\n",
       "      <td>253933</td>\n",
       "      <td>0.2780</td>\n",
       "      <td>0.961</td>\n",
       "      <td>1</td>\n",
       "      <td>10</td>\n",
       "    </tr>\n",
       "    <tr>\n",
       "      <th>spotify:track:6q4c1vPRZREh7nw3wG7Ixz</th>\n",
       "      <td>0.412</td>\n",
       "      <td>4</td>\n",
       "      <td>85.462</td>\n",
       "      <td>0.0830</td>\n",
       "      <td>0.772000</td>\n",
       "      <td>0.0278</td>\n",
       "      <td>-14.214</td>\n",
       "      <td>0.159</td>\n",
       "      <td>103920</td>\n",
       "      <td>0.0389</td>\n",
       "      <td>0.991</td>\n",
       "      <td>1</td>\n",
       "      <td>9</td>\n",
       "    </tr>\n",
       "    <tr>\n",
       "      <th>spotify:track:54KFQB6N4pn926IUUYZGzK</th>\n",
       "      <td>0.264</td>\n",
       "      <td>4</td>\n",
       "      <td>148.658</td>\n",
       "      <td>0.0940</td>\n",
       "      <td>0.349000</td>\n",
       "      <td>0.0349</td>\n",
       "      <td>-15.399</td>\n",
       "      <td>0.122</td>\n",
       "      <td>371320</td>\n",
       "      <td>0.0735</td>\n",
       "      <td>0.885</td>\n",
       "      <td>1</td>\n",
       "      <td>9</td>\n",
       "    </tr>\n",
       "    <tr>\n",
       "      <th>spotify:track:0NeJjNlprGfZpeX2LQuN6c</th>\n",
       "      <td>0.658</td>\n",
       "      <td>4</td>\n",
       "      <td>128.128</td>\n",
       "      <td>0.1700</td>\n",
       "      <td>0.000000</td>\n",
       "      <td>0.0448</td>\n",
       "      <td>-10.866</td>\n",
       "      <td>0.179</td>\n",
       "      <td>238560</td>\n",
       "      <td>0.1910</td>\n",
       "      <td>0.689</td>\n",
       "      <td>1</td>\n",
       "      <td>8</td>\n",
       "    </tr>\n",
       "  </tbody>\n",
       "</table>\n",
       "</div>"
      ],
      "text/plain": [
       "                                      danceability  time_signature    tempo  \\\n",
       "track_uri                                                                     \n",
       "spotify:track:2d7LPtieXdIYzf7yHPooWd         0.467               4  108.130   \n",
       "spotify:track:0y4TKcc7p2H6P0GJlt01EI         0.312               4   93.778   \n",
       "spotify:track:6q4c1vPRZREh7nw3wG7Ixz         0.412               4   85.462   \n",
       "spotify:track:54KFQB6N4pn926IUUYZGzK         0.264               4  148.658   \n",
       "spotify:track:0NeJjNlprGfZpeX2LQuN6c         0.658               4  128.128   \n",
       "\n",
       "                                      liveness  instrumentalness  speechiness  \\\n",
       "track_uri                                                                       \n",
       "spotify:track:2d7LPtieXdIYzf7yHPooWd    0.0816          0.000001       0.0336   \n",
       "spotify:track:0y4TKcc7p2H6P0GJlt01EI    0.0773          0.008180       0.0347   \n",
       "spotify:track:6q4c1vPRZREh7nw3wG7Ixz    0.0830          0.772000       0.0278   \n",
       "spotify:track:54KFQB6N4pn926IUUYZGzK    0.0940          0.349000       0.0349   \n",
       "spotify:track:0NeJjNlprGfZpeX2LQuN6c    0.1700          0.000000       0.0448   \n",
       "\n",
       "                                      loudness  energy  duration_ms  valence  \\\n",
       "track_uri                                                                      \n",
       "spotify:track:2d7LPtieXdIYzf7yHPooWd    -9.649   0.157       242564   0.2770   \n",
       "spotify:track:0y4TKcc7p2H6P0GJlt01EI   -13.367   0.207       253933   0.2780   \n",
       "spotify:track:6q4c1vPRZREh7nw3wG7Ixz   -14.214   0.159       103920   0.0389   \n",
       "spotify:track:54KFQB6N4pn926IUUYZGzK   -15.399   0.122       371320   0.0735   \n",
       "spotify:track:0NeJjNlprGfZpeX2LQuN6c   -10.866   0.179       238560   0.1910   \n",
       "\n",
       "                                      acousticness  mode  key  \n",
       "track_uri                                                      \n",
       "spotify:track:2d7LPtieXdIYzf7yHPooWd         0.974     1   11  \n",
       "spotify:track:0y4TKcc7p2H6P0GJlt01EI         0.961     1   10  \n",
       "spotify:track:6q4c1vPRZREh7nw3wG7Ixz         0.991     1    9  \n",
       "spotify:track:54KFQB6N4pn926IUUYZGzK         0.885     1    9  \n",
       "spotify:track:0NeJjNlprGfZpeX2LQuN6c         0.689     1    8  "
      ]
     },
     "execution_count": 213,
     "metadata": {},
     "output_type": "execute_result"
    }
   ],
   "source": [
    "# Create a dataframe with the vectors for simplicity\n",
    "drop_cols = set(df_all_tracks.columns) - set(vector_features)\n",
    "df = df_all_tracks.drop(drop_cols, axis=1)\n",
    "df.head()"
   ]
  },
  {
   "cell_type": "code",
   "execution_count": 214,
   "metadata": {},
   "outputs": [],
   "source": [
    "# create a KeyedVectors object from the Word2Vec library\n",
    "# This will allow us to use the built-in Word2Vec functions\n",
    "accoustic_vectors = KeyedVectors(len(vector_features))\n",
    "\n",
    "# weights are the vectors for each track\n",
    "weights = np.array(df)\n",
    "\n",
    "# entities are the trackuris\n",
    "entities = np.array(df.index)\n",
    "\n",
    "# add the vectors to the dataset\n",
    "accoustic_vectors.add(entities, weights)"
   ]
  },
  {
   "cell_type": "code",
   "execution_count": 216,
   "metadata": {},
   "outputs": [],
   "source": [
    "# seed_uri = db_track.track_uri\n",
    "playlist = np.array(accoustic_vectors.most_similar(seed_uri, topn=10))[:,0]\n",
    "# playlist = np.array(accoustic_vectors.similar_by_word(seed_uri, topn=10, restrict_vocab=None))[:,0]\n",
    "seed_track = get_tracks([seed_uri])[0]\n",
    "sp_playlist = get_tracks(playlist)"
   ]
  },
  {
   "cell_type": "code",
   "execution_count": 217,
   "metadata": {},
   "outputs": [
    {
     "name": "stdout",
     "output_type": "stream",
     "text": [
      "Playlist Seed:\n",
      "\tArtist       :  Drake\n",
      "\tTrack        :  One Dance\n",
      "\tTrack Preview:  None\n",
      "\n",
      "Artist       :  Carlos Baute\n",
      "Track        :  No me abandones amiga mía\n",
      "Track Preview:  https://p.scdn.co/mp3-preview/ec833f1d7441b9452b719ae76d8c6070b464331e?cid=72413f75d4db4ec79c6caaf02523959e\n",
      "\n",
      "Artist       :  Santiago Torres Jr\n",
      "Track        :  Mi Milagro Viene De Camino (feat. Deborah Pruneda)\n",
      "Track Preview:  https://p.scdn.co/mp3-preview/564d9574faf7759506d37c591f99f9f725e69d49?cid=72413f75d4db4ec79c6caaf02523959e\n",
      "\n",
      "Artist       :  Sunny Lax\n",
      "Track        :  Aeons [ABGTN2016]\n",
      "Track Preview:  https://p.scdn.co/mp3-preview/3ebbb74e37dbc020633ca56baccb918379f7f5e2?cid=72413f75d4db4ec79c6caaf02523959e\n",
      "\n",
      "Artist       :  Magic Castles\n",
      "Track        :  Silent\n",
      "Track Preview:  https://p.scdn.co/mp3-preview/23e01a2b695450b4e869a0366b3eddbe52324154?cid=72413f75d4db4ec79c6caaf02523959e\n",
      "\n",
      "Artist       :  Metric\n",
      "Track        :  Celebrate\n",
      "Track Preview:  None\n",
      "\n",
      "Artist       :  Las Pelotas\n",
      "Track        :  Será\n",
      "Track Preview:  https://p.scdn.co/mp3-preview/02ea544929e1c994122026b9fc5b09622a0ae7d4?cid=72413f75d4db4ec79c6caaf02523959e\n",
      "\n",
      "Artist       :  XYconstant\n",
      "Track        :  No Further - Radio Edit\n",
      "Track Preview:  https://p.scdn.co/mp3-preview/6ff8651dd5ef3d9e0fcb2fc1205616cea155130e?cid=72413f75d4db4ec79c6caaf02523959e\n",
      "\n",
      "Artist       :  Delvin Choice\n",
      "Track        :  I Believe I Can Fly - The Voice Performance\n",
      "Track Preview:  None\n",
      "\n",
      "Artist       :  Mariah Carey\n",
      "Track        :  Now That I Know\n",
      "Track Preview:  https://p.scdn.co/mp3-preview/08c1e16a9c379d542205d14fac7d7dbce24041ca?cid=72413f75d4db4ec79c6caaf02523959e\n",
      "\n",
      "Artist       :  HARBOUR\n",
      "Track        :  Over It\n",
      "Track Preview:  https://p.scdn.co/mp3-preview/e9cdf6b5498f2698b18d79a3096b6bdc9dd7f77f?cid=72413f75d4db4ec79c6caaf02523959e\n",
      "\n"
     ]
    }
   ],
   "source": [
    "print(\"Playlist Seed:\")\n",
    "print(\"\\tArtist       : \", seed_track['artists'][0]['name'])\n",
    "print(\"\\tTrack        : \", seed_track['name'])\n",
    "print(\"\\tTrack Preview: \", seed_track['preview_url'] )\n",
    "print()\n",
    "for t in sp_playlist:\n",
    "    print(\"Artist       : \", t['artists'][0]['name'])\n",
    "    print(\"Track        : \", t['name'])\n",
    "    print(\"Track Preview: \", t['preview_url'] )\n",
    "    print() "
   ]
  },
  {
   "cell_type": "code",
   "execution_count": 218,
   "metadata": {},
   "outputs": [
    {
     "name": "stdout",
     "output_type": "stream",
     "text": [
      "Mean Track R-Precision: 0.021781417850502447\n",
      "Mean Track NDGC       : 0.06778209214352757\n"
     ]
    }
   ],
   "source": [
    "r_precs, NDCGs = eval_model(accoustic_vectors, playlists_val)"
   ]
  },
  {
   "cell_type": "markdown",
   "metadata": {},
   "source": [
    "### Result:\n",
    "This does not look so great.  It looks nothing like our previous lists and the songs are not as similar to the seed song as I would like.  What happened?\n",
    "\n",
    "I can tell you what happened.  This approach takes independent songs and creates vectors from the songs features.  These vectors have nothing to do with the playlists and have no other relationship to other vectors other than their mathmatical distance.  Why doesn't this work?  Because 2 totally different songs can have a combination of feature values that result in the same/similar vector magnitude but not have any commonality other than that.  \n",
    "\n",
    "This approach is more like the 'content-based recommender' approach described in the intoduction.  "
   ]
  },
  {
   "cell_type": "code",
   "execution_count": null,
   "metadata": {},
   "outputs": [],
   "source": []
  },
  {
   "cell_type": "code",
   "execution_count": null,
   "metadata": {},
   "outputs": [],
   "source": []
  }
 ],
 "metadata": {
  "kernelspec": {
   "display_name": "Python 3",
   "language": "python",
   "name": "python3"
  },
  "language_info": {
   "codemirror_mode": {
    "name": "ipython",
    "version": 3
   },
   "file_extension": ".py",
   "mimetype": "text/x-python",
   "name": "python",
   "nbconvert_exporter": "python",
   "pygments_lexer": "ipython3",
   "version": "3.7.4"
  }
 },
 "nbformat": 4,
 "nbformat_minor": 2
}
