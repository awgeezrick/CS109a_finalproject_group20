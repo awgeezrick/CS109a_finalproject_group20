{
 "cells": [
  {
   "cell_type": "markdown",
   "metadata": {},
   "source": [
    "# Spotify Recommender Model\n",
    "\n",
    "Using Word2Vec, a variety of different recommender model options are explored.\n",
    "\n",
    "1. **Content-Based**\n",
    "> Predicts based on what a user has listened to in the past.\n",
    "> Uses features of songs to find similar songs.\n",
    "\n",
    "2. **Collarbotive**\n",
    "> Predicts based on what other listeners like\n",
    "> Focuses on what songs other users liked who also liked a chosen song. \n",
    "\n",
    "\n",
    "## Word2Vec\n",
    "In both types of recommender models, a 'vectorized' representation of a song is used to find similar songs.  For a given song, we find other songs that look similar.  With collarborative recommendations we need to take another step.  A song's vector value isn't deetrmined by the song properties, but rather its appearnace in playlists.\n",
    "\n",
    "For both models, the selection approach is similar, we find others songs with similar vector values, but the vector values are calculated differently in each model.\n",
    "\n",
    "References:\n",
    "\n",
    "https://www.analyticsvidhya.com/blog/2019/07/how-to-build-recommendation-system-word2vec-python/\n",
    "\n",
    "https://towardsdatascience.com/using-word2vec-for-music-recommendations-bb9649ac2484\n",
    "\n",
    "https://towardsdatascience.com/how-to-build-a-simple-song-recommender-296fcbc8c85\n",
    "\n"
   ]
  },
  {
   "cell_type": "code",
   "execution_count": 1,
   "metadata": {},
   "outputs": [],
   "source": [
    "# Basic Imports\n",
    "import warnings;\n",
    "warnings.filterwarnings('ignore')\n",
    "\n",
    "import os\n",
    "import sys\n",
    "import pandas as pd\n",
    "import numpy as np\n",
    "import seaborn as sns\n",
    "import time\n",
    "import random\n",
    "import matplotlib.pyplot as plt\n",
    "%matplotlib inline\n",
    "\n",
    "\n",
    "from gensim.models import Word2Vec\n",
    "from gensim import utils\n",
    "import gensim.models\n",
    "from gensim.models import KeyedVectors\n"
   ]
  },
  {
   "cell_type": "code",
   "execution_count": 2,
   "metadata": {},
   "outputs": [],
   "source": [
    "# For the Spotify Dataset\n",
    "from sqlalchemy.ext.declarative import declarative_base\n",
    "from sqlalchemy import Table, Column, Integer, String, Float, MetaData, and_, or_, func\n",
    "from sqlalchemy import create_engine\n",
    "import sqlite3\n",
    "from sqlalchemy.orm import sessionmaker\n",
    "from sqlalchemy import exc\n",
    "\n",
    "sys.path.append('../../')\n",
    "from spotify_api import get_spotify_data, get_tracks, get_artists, get_audiofeatures\n",
    "from spotify_database import get_session, display_time\n",
    "from spotify_utils import Table_Generator, List_Generator, pickle_load, pickle_save"
   ]
  },
  {
   "cell_type": "code",
   "execution_count": 3,
   "metadata": {},
   "outputs": [],
   "source": [
    "# !pip install ipywidgets \n",
    "# !jupyter nbextension enable --py widgetsnbextension\n",
    "# !jupyter labextension install @jupyter-widgets/jupyterlab-manager\n",
    "\n",
    "# %%capture\n",
    "from tqdm import tqdm_notebook as tqdm"
   ]
  },
  {
   "cell_type": "code",
   "execution_count": 4,
   "metadata": {},
   "outputs": [],
   "source": [
    "data_path = '../../data/SpotifyDataSet'\n",
    "db_path = '../../data/SpotifyDataSet/spotify_songs.db'\n",
    "\n",
    "# Get sesion\n",
    "session = get_session(db_path)\n",
    "engine = create_engine('sqlite:///' + db_path)\n",
    "\n",
    "# Get Songs class\n",
    "Playlists = getattr(get_session, \"Playlists\")\n",
    "Artists = getattr(get_session, \"Artists\")\n",
    "Tracks = getattr(get_session, \"Tracks\")"
   ]
  },
  {
   "cell_type": "markdown",
   "metadata": {},
   "source": [
    "## Building a Vocabulary of Songs\n",
    "The baseline model will use embeddings to find similarities between songs.  The embeddings are built from playlists, where the playlist serves as a sentence made up of songs.\n",
    "\n",
    "Similarities between songs are determined by their cosine distance with other songs.\n",
    "\n",
    "To speed up to building of the enbedding, an extract is made from the database which will serve as a document of sentences where each line in the file is a space delimited list of playlist songs.\n",
    "\n",
    "From the DB, the following view is created which is subseqntly extracted as a CSV file:<br>\n",
    "\n",
    "`CREATE VIEW playlist_tracks_uris AS SELECT t.playlist_id, group_concat(t.track_uri, ' ')  FROM playlists t GROUP BY  t.playlist_id;`\n"
   ]
  },
  {
   "cell_type": "code",
   "execution_count": null,
   "metadata": {},
   "outputs": [],
   "source": []
  },
  {
   "cell_type": "code",
   "execution_count": 51,
   "metadata": {},
   "outputs": [],
   "source": [
    "# Iterator that yields the songs for each playlist in the CSV file\n",
    "class Playlist_URIs(object):\n",
    "    \"\"\"\n",
    "    Playlist generator that yileds the track uris in a playlist.\n",
    "    Yields one playlist at a time.\n",
    "    \"\"\"\n",
    "    def __init__(self,\n",
    "                 filename:str=os.path.join(data_path,'playlist_tracks.csv'),\n",
    "                 name:str=None,\n",
    "                 iters:int=None):\n",
    "        self.filename     = filename\n",
    "        self.length       = len(open(self.filename).readlines())\n",
    "        self.name         = name\n",
    "        self.count        = 0\n",
    "        self.iters        = iters\n",
    "        print(\"Creating Playlist Track Listing Generator:\")\n",
    "        print(\"\\tlength     : \", self.length)\n",
    "    \n",
    "    def __iter__(self):\n",
    "        \n",
    "        self.count += 1\n",
    "        progbar = tqdm(total=self.length, desc=\"{}:{}/{}\".format(self.name, self.count, self.iters+1))\n",
    "        \n",
    "        # yield a list of lists; sentences = [[\"cat\", \"say\", \"meow\"], [\"dog\", \"say\", \"woof\"]]\n",
    "        for line in open(self.filename, 'r'):\n",
    "            progbar.update(1)\n",
    "            yield line.split('\\t')[1].split(' ') # tab-delimited CSV file\n",
    "            \n",
    "        progbar.close()    \n",
    "        "
   ]
  },
  {
   "cell_type": "code",
   "execution_count": 52,
   "metadata": {},
   "outputs": [
    {
     "name": "stdout",
     "output_type": "stream",
     "text": [
      "Creating Playlist Track Listing Generator:\n",
      "\tlength     :  999001\n"
     ]
    }
   ],
   "source": [
    "# Create a generator object to use while building the embedding\n",
    "corpus_file = 'playlist_tracks.csv'\n",
    "corpus_filepath = os.path.join(data_path, corpus_file)\n",
    "\n",
    "iters = 5\n",
    "playlists_gen = Playlist_URIs(filename=corpus_filepath,\n",
    "                              name=\"Building Vectors\",\n",
    "                              iters=iters) "
   ]
  },
  {
   "cell_type": "code",
   "execution_count": 53,
   "metadata": {},
   "outputs": [
    {
     "data": {
      "application/vnd.jupyter.widget-view+json": {
       "model_id": "831b96db71614bd9b135f69e9efa8c85",
       "version_major": 2,
       "version_minor": 0
      },
      "text/plain": [
       "HBox(children=(IntProgress(value=0, description='Building Vectors:1/5', max=999001, style=ProgressStyle(descri…"
      ]
     },
     "metadata": {},
     "output_type": "display_data"
    },
    {
     "name": "stdout",
     "output_type": "stream",
     "text": [
      "\n"
     ]
    },
    {
     "data": {
      "application/vnd.jupyter.widget-view+json": {
       "model_id": "9df85178bcf543ecbabdcaf60a6ada98",
       "version_major": 2,
       "version_minor": 0
      },
      "text/plain": [
       "HBox(children=(IntProgress(value=0, description='Building Vectors:2/5', max=999001, style=ProgressStyle(descri…"
      ]
     },
     "metadata": {},
     "output_type": "display_data"
    },
    {
     "name": "stdout",
     "output_type": "stream",
     "text": [
      "\n"
     ]
    },
    {
     "data": {
      "application/vnd.jupyter.widget-view+json": {
       "model_id": "0771a1a4999f45aa91e2fe050e607909",
       "version_major": 2,
       "version_minor": 0
      },
      "text/plain": [
       "HBox(children=(IntProgress(value=0, description='Building Vectors:3/5', max=999001, style=ProgressStyle(descri…"
      ]
     },
     "metadata": {},
     "output_type": "display_data"
    },
    {
     "name": "stdout",
     "output_type": "stream",
     "text": [
      "\n"
     ]
    },
    {
     "data": {
      "application/vnd.jupyter.widget-view+json": {
       "model_id": "3e3a2e4ac44f413da58433686606e3ff",
       "version_major": 2,
       "version_minor": 0
      },
      "text/plain": [
       "HBox(children=(IntProgress(value=0, description='Building Vectors:4/5', max=999001, style=ProgressStyle(descri…"
      ]
     },
     "metadata": {},
     "output_type": "display_data"
    },
    {
     "name": "stdout",
     "output_type": "stream",
     "text": [
      "\n"
     ]
    },
    {
     "data": {
      "application/vnd.jupyter.widget-view+json": {
       "model_id": "57557c61f7c749e5839de7d5a5c68280",
       "version_major": 2,
       "version_minor": 0
      },
      "text/plain": [
       "HBox(children=(IntProgress(value=0, description='Building Vectors:5/5', max=999001, style=ProgressStyle(descri…"
      ]
     },
     "metadata": {},
     "output_type": "display_data"
    },
    {
     "name": "stdout",
     "output_type": "stream",
     "text": [
      "\n"
     ]
    },
    {
     "data": {
      "application/vnd.jupyter.widget-view+json": {
       "model_id": "e6ad4f055d1143afa18332dbdd5713a6",
       "version_major": 2,
       "version_minor": 0
      },
      "text/plain": [
       "HBox(children=(IntProgress(value=0, description='Building Vectors:6/5', max=999001, style=ProgressStyle(descri…"
      ]
     },
     "metadata": {},
     "output_type": "display_data"
    },
    {
     "name": "stdout",
     "output_type": "stream",
     "text": [
      "\n"
     ]
    }
   ],
   "source": [
    "# Build a gensim model including a word embedding\n",
    "model = gensim.models.Word2Vec(sentences=playlists_gen,\n",
    "                               workers = 8,    # number of processors\n",
    "                               sg = 0,         # 1=skip-gram, 0=CBOW\n",
    "                               iter=iters      # training iterations - default=5\n",
    "                              )\n",
    "\n",
    "# about 5 minutes per iteration with 4 processors // 2 min per iteration with 8"
   ]
  },
  {
   "cell_type": "markdown",
   "metadata": {},
   "source": [
    "### Model Attributes\n",
    "#### wv\n",
    "> This object essentially contains the mapping between words and embeddings. After training, it can be used directly to query those embeddings in various ways. See the module level docstring for examples.\n",
    "\n",
    "#### vocabulary\n",
    "> This object represents the vocabulary (sometimes called Dictionary in gensim) of the model. Besides keeping track of all unique words, this object provides extra functionality, such as constructing a huffman tree (frequent words are closer to the root), or discarding extremely rare words."
   ]
  },
  {
   "cell_type": "markdown",
   "metadata": {},
   "source": [
    "## Test the model\n",
    "Get 10 'words' from the model's vocabulary."
   ]
  },
  {
   "cell_type": "code",
   "execution_count": 55,
   "metadata": {},
   "outputs": [
    {
     "name": "stdout",
     "output_type": "stream",
     "text": [
      "spotify:track:2d7LPtieXdIYzf7yHPooWd\n",
      "spotify:track:0y4TKcc7p2H6P0GJlt01EI\n",
      "spotify:track:6q4c1vPRZREh7nw3wG7Ixz\n",
      "spotify:track:54KFQB6N4pn926IUUYZGzK\n",
      "spotify:track:0NeJjNlprGfZpeX2LQuN6c\n",
      "spotify:track:2kuFVY6hWX6yavTiWHE3SQ\n",
      "spotify:track:66mmvchQ4C3LnPzq4DiAI3\n",
      "spotify:track:4gFxywaJejXWxo0NjlWzgg\n",
      "spotify:track:6wQSrFnJYm3evLsavFeCVT\n",
      "spotify:track:3ZjnFYlal0fXN6t61wdxhl\n"
     ]
    }
   ],
   "source": [
    "for i, word in enumerate(model.wv.vocab):\n",
    "    if i == 10:\n",
    "        break\n",
    "    print(word)"
   ]
  },
  {
   "cell_type": "code",
   "execution_count": 58,
   "metadata": {},
   "outputs": [
    {
     "data": {
      "text/plain": [
       "array([-0.7621344 , -0.03114427, -0.8835936 ,  0.36794358, -1.1382755 ,\n",
       "        0.8673884 ,  1.5209368 , -0.08404895, -0.03294052, -0.09659185,\n",
       "       -0.41151473,  0.6711556 , -0.1226874 , -0.39080906, -0.1941422 ,\n",
       "        0.37506995, -0.57488316,  1.6192638 ,  1.0594045 , -0.80221117,\n",
       "        1.1853622 , -0.64177287,  0.36271974,  0.2080922 , -0.03302405,\n",
       "       -0.08925119,  0.28702548,  1.094027  , -0.75001746,  0.32850793,\n",
       "        1.3414407 , -0.2149944 , -0.03232091,  0.97403723,  0.1955177 ,\n",
       "        0.73916644,  0.06372388, -0.5650051 , -0.6680082 ,  0.46441278,\n",
       "       -0.19055939, -1.1615809 , -0.7388865 ,  0.34048718, -0.30984044,\n",
       "        0.15592104,  0.3560942 ,  0.19793318,  0.26497325,  1.8629072 ,\n",
       "        0.6173503 ,  0.41372672,  0.2560014 ,  1.0204144 , -0.29449797,\n",
       "        1.8490099 , -0.8553438 , -0.42974585,  0.0733617 ,  0.03775372,\n",
       "       -0.10994548,  0.76888317,  0.8226318 , -0.32209927, -0.4137955 ,\n",
       "        0.6056174 , -0.20869644, -0.4498154 ,  0.40722492, -0.4800225 ,\n",
       "        0.2703328 , -0.05134868,  0.93660235,  0.92478627,  0.4935548 ,\n",
       "       -0.11030077,  0.29649255, -0.7739975 ,  0.3534771 ,  0.75867206,\n",
       "        0.4990663 , -1.216164  ,  0.41090468,  1.344438  , -1.3209093 ,\n",
       "       -0.5188414 ,  0.3254019 , -0.07142029,  1.0598531 ,  0.8092721 ,\n",
       "       -0.35309306,  0.06404108, -0.26874092, -0.7155151 ,  2.1762726 ,\n",
       "       -0.94292533,  0.5235746 , -0.20075873, -1.0301589 , -0.30363822],\n",
       "      dtype=float32)"
      ]
     },
     "execution_count": 58,
     "metadata": {},
     "output_type": "execute_result"
    }
   ],
   "source": [
    "# Show the vector value for one word\n",
    "model.wv.get_vector(word)"
   ]
  },
  {
   "cell_type": "code",
   "execution_count": null,
   "metadata": {},
   "outputs": [],
   "source": [
    "# you can save the whole model - not necessary - will be large and includes things we don't need\n",
    "# model.save(\"playlists_1.model\")\n",
    "# model = Word2Vec.load(\"playlists_1.model\")"
   ]
  },
  {
   "cell_type": "code",
   "execution_count": 60,
   "metadata": {},
   "outputs": [],
   "source": [
    "# only the embedding vectors are needed - so avoid saving the whole model\n",
    "\n",
    "kv_filepath = os.path.join(data_path, 'playlists_BOW1')\n",
    "model.wv.save(kv_filepath)\n",
    "\n",
    "# reload saved vectors\n",
    "model_v = KeyedVectors.load(kv_filepath, mmap='r')\n"
   ]
  },
  {
   "cell_type": "code",
   "execution_count": 61,
   "metadata": {},
   "outputs": [
    {
     "data": {
      "text/plain": [
       "gensim.models.keyedvectors.Word2VecKeyedVectors"
      ]
     },
     "execution_count": 61,
     "metadata": {},
     "output_type": "execute_result"
    }
   ],
   "source": [
    "type(model_v)"
   ]
  },
  {
   "cell_type": "code",
   "execution_count": 66,
   "metadata": {},
   "outputs": [
    {
     "name": "stdout",
     "output_type": "stream",
     "text": [
      "Time to Execute: 0.02 seconds\n",
      "Artist: Tom Petty\n",
      "Track:  Free Fallin'\n"
     ]
    }
   ],
   "source": [
    "# Get a song as a seed for a test playlist\n",
    "db_track = display_time(session.query(Playlists.track_name, \n",
    "                                Playlists.track_uri,\n",
    "                                Playlists.artist_uri,\n",
    "                                Playlists.album_uri).filter(Playlists.track_name==\"Free Fallin'\").distinct().first)\n",
    "print(\"Artist: {}\".format(get_artists([db_track.artist_uri])[0]['name']))\n",
    "print(\"Track:  {}\".format(db_track.track_name))"
   ]
  },
  {
   "cell_type": "code",
   "execution_count": 70,
   "metadata": {},
   "outputs": [
    {
     "data": {
      "text/plain": [
       "array([['spotify:track:7gSQv1OHpkIoAdUiRLdmI6', '0.8619670867919922'],\n",
       "       ['spotify:track:43btz2xjMKpcmjkuRsvxyg', '0.781667947769165'],\n",
       "       ['spotify:track:7MRyJPksH3G2cXHN8UKYzP', '0.7804632186889648'],\n",
       "       ['spotify:track:5xS9hkTGfxqXyxX6wWWTt4', '0.7684037685394287'],\n",
       "       ['spotify:track:17S4XrLvF5jlGvGCJHgF51', '0.7546130418777466'],\n",
       "       ['spotify:track:7MooGz4ZPE4bNxjFegR6Jx', '0.7539862990379333'],\n",
       "       ['spotify:track:2HsjJJL4DhPCzMlnaGv7ap', '0.696096658706665'],\n",
       "       ['spotify:track:67eX1ovaHyVPUinMHeUtIM', '0.693360447883606'],\n",
       "       ['spotify:track:6N1EjQjnvhOjFrF6oUmGPa', '0.6904664039611816'],\n",
       "       ['spotify:track:1fDsrQ23eTAVFElUMaf38X', '0.6783772110939026']],\n",
       "      dtype='<U36')"
      ]
     },
     "execution_count": 70,
     "metadata": {},
     "output_type": "execute_result"
    }
   ],
   "source": [
    "# Find similar songs \n",
    "playlist = np.array(model_v.similar_by_word(rv.track_uri, topn=10, restrict_vocab=None))\n",
    "playlist"
   ]
  },
  {
   "cell_type": "code",
   "execution_count": 74,
   "metadata": {},
   "outputs": [
    {
     "name": "stdout",
     "output_type": "stream",
     "text": [
      "Artist       :  Tom Petty\n",
      "Track        :  I Won't Back Down\n",
      "Track Preview:  None\n",
      "\n",
      "Artist       :  John Mellencamp\n",
      "Track        :  Jack & Diane\n",
      "Track Preview:  None\n",
      "\n",
      "Artist       :  Tom Petty and the Heartbreakers\n",
      "Track        :  American Girl\n",
      "Track Preview:  https://p.scdn.co/mp3-preview/36d69a9c5b7a78b378f349e319ca49075993717b?cid=72413f75d4db4ec79c6caaf02523959e\n",
      "\n",
      "Artist       :  Tom Petty and the Heartbreakers\n",
      "Track        :  Mary Jane's Last Dance\n",
      "Track Preview:  None\n",
      "\n",
      "Artist       :  Tom Petty and the Heartbreakers\n",
      "Track        :  Learning To Fly\n",
      "Track Preview:  None\n",
      "\n",
      "Artist       :  Tom Petty\n",
      "Track        :  You Don't Know How It Feels\n",
      "Track Preview:  https://p.scdn.co/mp3-preview/920e1367344e020100e499744890d45f0f8729ce?cid=72413f75d4db4ec79c6caaf02523959e\n",
      "\n",
      "Artist       :  John Mellencamp\n",
      "Track        :  Small Town\n",
      "Track Preview:  None\n",
      "\n",
      "Artist       :  John Mellencamp\n",
      "Track        :  Hurts So Good\n",
      "Track Preview:  None\n",
      "\n",
      "Artist       :  Bryan Adams\n",
      "Track        :  Summer Of '69\n",
      "Track Preview:  None\n",
      "\n",
      "Artist       :  Don McLean\n",
      "Track        :  American Pie\n",
      "Track Preview:  None\n",
      "\n"
     ]
    }
   ],
   "source": [
    "# Get the similar songs from Spotify to show their details, including preview link (if available)\n",
    "sp_playlist = get_tracks(playlist[:,0])\n",
    "\n",
    "for t in sp_playlist:\n",
    "    print(\"Artist       : \", t['artists'][0]['name'])\n",
    "    print(\"Track        : \", t['name'])\n",
    "    print(\"Track Preview: \", t['preview_url'] )\n",
    "    print()"
   ]
  },
  {
   "cell_type": "code",
   "execution_count": null,
   "metadata": {},
   "outputs": [],
   "source": []
  },
  {
   "cell_type": "code",
   "execution_count": null,
   "metadata": {},
   "outputs": [],
   "source": []
  }
 ],
 "metadata": {
  "kernelspec": {
   "display_name": "Python 3",
   "language": "python",
   "name": "python3"
  },
  "language_info": {
   "codemirror_mode": {
    "name": "ipython",
    "version": 3
   },
   "file_extension": ".py",
   "mimetype": "text/x-python",
   "name": "python",
   "nbconvert_exporter": "python",
   "pygments_lexer": "ipython3",
   "version": "3.6.8"
  }
 },
 "nbformat": 4,
 "nbformat_minor": 2
}
