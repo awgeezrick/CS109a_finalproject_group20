{
 "cells": [
  {
   "cell_type": "markdown",
   "metadata": {},
   "source": [
    "# Spotify Recommender Model\n",
    "\n",
    "Using Word2Vec, a variety of different recommender model options are explored.\n",
    "\n",
    "1. **Content-Based**\n",
    "> Predicts based on what a user has listened to in the past.\n",
    "> Uses features of songs to find similar songs.\n",
    "\n",
    "2. **Collarbotive**\n",
    "> Predicts based on what other listeners like\n",
    "> Focuses on what songs other users liked who also liked a chosen song. \n",
    "\n",
    "\n",
    "## Word2Vec\n",
    "In both types of recommender models, a 'vectorized' representation of a song is used to find similar songs.  For a given song, we find other songs that look similar.  With collarborative recommendations we need to take another step.  A song's vector value isn't deetrmined by the song properties, but rather its appearnace in playlists.\n",
    "\n",
    "For both models, the selection approach is similar, we find others songs with similar vector values, but the vector values are calculated differently in each model.\n",
    "\n",
    "References:\n",
    "\n",
    "https://www.analyticsvidhya.com/blog/2019/07/how-to-build-recommendation-system-word2vec-python/\n",
    "\n",
    "https://towardsdatascience.com/using-word2vec-for-music-recommendations-bb9649ac2484\n",
    "\n",
    "https://towardsdatascience.com/how-to-build-a-simple-song-recommender-296fcbc8c85\n",
    "\n"
   ]
  },
  {
   "cell_type": "code",
   "execution_count": 2,
   "metadata": {},
   "outputs": [],
   "source": [
    "# Basic Imports\n",
    "import warnings;\n",
    "warnings.filterwarnings('ignore')\n",
    "\n",
    "import os\n",
    "import sys\n",
    "import pandas as pd\n",
    "import numpy as np\n",
    "import seaborn as sns\n",
    "import time\n",
    "import random\n",
    "import matplotlib.pyplot as plt\n",
    "%matplotlib inline\n",
    "\n",
    "\n",
    "from gensim.models import Word2Vec\n",
    "from gensim import utils\n",
    "import gensim.models\n"
   ]
  },
  {
   "cell_type": "code",
   "execution_count": 3,
   "metadata": {},
   "outputs": [],
   "source": [
    "# For the Spotify Dataset\n",
    "from sqlalchemy.ext.declarative import declarative_base\n",
    "from sqlalchemy import Table, Column, Integer, String, Float, MetaData, and_, or_, func\n",
    "from sqlalchemy import create_engine\n",
    "import sqlite3\n",
    "from sqlalchemy.orm import sessionmaker\n",
    "from sqlalchemy import exc\n",
    "\n",
    "sys.path.append('../../')\n",
    "from spotify_api import get_spotify_data, get_tracks, get_artists, get_audiofeatures\n",
    "from spotify_database import get_session, display_time\n",
    "from spotify_utils import Table_Generator, List_Generator, pickle_load, pickle_save"
   ]
  },
  {
   "cell_type": "code",
   "execution_count": 4,
   "metadata": {},
   "outputs": [],
   "source": [
    "# !pip install ipywidgets \n",
    "# !jupyter nbextension enable --py widgetsnbextension\n",
    "# !jupyter labextension install @jupyter-widgets/jupyterlab-manager\n",
    "\n",
    "# %%capture\n",
    "from tqdm import tqdm_notebook as tqdm"
   ]
  },
  {
   "cell_type": "code",
   "execution_count": 5,
   "metadata": {},
   "outputs": [],
   "source": [
    "data_path = '../../data/SpotifyDataSet'\n",
    "db_path = '../../data/SpotifyDataSet/spotify_songs.db'\n",
    "\n",
    "# Get sesion\n",
    "session = get_session(db_path)\n",
    "engine = create_engine('sqlite:///' + db_path)\n",
    "\n",
    "# Get Songs class\n",
    "Playlists = getattr(get_session, \"Playlists\")\n",
    "Artists = getattr(get_session, \"Artists\")\n",
    "Tracks = getattr(get_session, \"Tracks\")"
   ]
  },
  {
   "cell_type": "markdown",
   "metadata": {},
   "source": [
    "## Building Vectors for Spotify Songs"
   ]
  },
  {
   "cell_type": "code",
   "execution_count": 205,
   "metadata": {},
   "outputs": [],
   "source": [
    "# Iterator that yields playlists\n",
    "class Playlist_URIs(object):\n",
    "    \"\"\"\n",
    "    Playlist generator that yileds the track uris in a playlist.\n",
    "    Yields one playlist at a time.\n",
    "    \"\"\"\n",
    "    def __init__(self,\n",
    "                 filename:str='/Volumes/DataHub/SpotifyDataSet/playlist_tracks.csv', \n",
    "                 name:str=None,\n",
    "                 iters:int=None):\n",
    "        self.filename     = filename\n",
    "        self.length       = len(open(self.filename).readlines())\n",
    "        self.name         = name\n",
    "        self.count        = 0\n",
    "        self.iters        = iters\n",
    "        print(\"Creating Playlist Track Listing Generator:\")\n",
    "        print(\"\\tlength     : \", self.length)\n",
    "    \n",
    "    def __iter__(self):\n",
    "        \n",
    "        self.count += 1\n",
    "        progbar = tqdm(total=self.length, desc=\"{}:{}/{}\".format(self.name, self.count, self.iters))\n",
    "        \n",
    "        # yield a list of lists; sentences = [[\"cat\", \"say\", \"meow\"], [\"dog\", \"say\", \"woof\"]]\n",
    "        for line in open(self.filename, 'r'):\n",
    "            progbar.update(1)\n",
    "            yield line.split(',')[1].split(' ') # Works!\n",
    "            \n",
    "        progbar.close()    \n",
    "        "
   ]
  },
  {
   "cell_type": "code",
   "execution_count": 207,
   "metadata": {},
   "outputs": [
    {
     "name": "stdout",
     "output_type": "stream",
     "text": [
      "/Users/markmcdonald/Library/Mobile Documents/com~apple~CloudDocs/Harvard/CSCI_E109a/Homework/project/CS109a_finalproject_group20/mark/model\r\n"
     ]
    }
   ],
   "source": [
    "!pwd"
   ]
  },
  {
   "cell_type": "code",
   "execution_count": 209,
   "metadata": {},
   "outputs": [
    {
     "name": "stdout",
     "output_type": "stream",
     "text": [
      "Creating Playlist Track Listing Generator:\n",
      "\tlength     :  999001\n"
     ]
    },
    {
     "data": {
      "application/vnd.jupyter.widget-view+json": {
       "model_id": "c330dcd194ab4ddcba7a5a33840f31bc",
       "version_major": 2,
       "version_minor": 0
      },
      "text/plain": [
       "HBox(children=(IntProgress(value=0, description='Building Vectors:1/5', max=999001, style=ProgressStyle(descri…"
      ]
     },
     "metadata": {},
     "output_type": "display_data"
    },
    {
     "data": {
      "application/vnd.jupyter.widget-view+json": {
       "model_id": "5a6d31568674414094449df4beb1efc4",
       "version_major": 2,
       "version_minor": 0
      },
      "text/plain": [
       "HBox(children=(IntProgress(value=0, description='Building Vectors:2/5', max=999001, style=ProgressStyle(descri…"
      ]
     },
     "metadata": {},
     "output_type": "display_data"
    },
    {
     "data": {
      "application/vnd.jupyter.widget-view+json": {
       "model_id": "38a09085b003463286ec956fdeee06fe",
       "version_major": 2,
       "version_minor": 0
      },
      "text/plain": [
       "HBox(children=(IntProgress(value=0, description='Building Vectors:3/5', max=999001, style=ProgressStyle(descri…"
      ]
     },
     "metadata": {},
     "output_type": "display_data"
    },
    {
     "data": {
      "application/vnd.jupyter.widget-view+json": {
       "model_id": "14cfa022e8b74786a8371ddb5b485e2a",
       "version_major": 2,
       "version_minor": 0
      },
      "text/plain": [
       "HBox(children=(IntProgress(value=0, description='Building Vectors:4/5', max=999001, style=ProgressStyle(descri…"
      ]
     },
     "metadata": {},
     "output_type": "display_data"
    },
    {
     "data": {
      "application/vnd.jupyter.widget-view+json": {
       "model_id": "443ed4b4342c43fab2dfea539fcffc8a",
       "version_major": 2,
       "version_minor": 0
      },
      "text/plain": [
       "HBox(children=(IntProgress(value=0, description='Building Vectors:5/5', max=999001, style=ProgressStyle(descri…"
      ]
     },
     "metadata": {},
     "output_type": "display_data"
    },
    {
     "data": {
      "application/vnd.jupyter.widget-view+json": {
       "model_id": "d3abba50b48b4e30a9f68ed6f0a0d147",
       "version_major": 2,
       "version_minor": 0
      },
      "text/plain": [
       "HBox(children=(IntProgress(value=0, description='Building Vectors:6/5', max=999001, style=ProgressStyle(descri…"
      ]
     },
     "metadata": {},
     "output_type": "display_data"
    }
   ],
   "source": [
    "corpus_file = 'playlist_tracks.csv'\n",
    "corpus_filepath = os.path.join(data_path, corpus_file)\n",
    "\n",
    "iters = 5\n",
    "playlists_gen = Playlist_URIs(filename=corpus_filepath,\n",
    "                              name=\"Building Vectors\",\n",
    "                              iters=iters) \n",
    "\n",
    "model = gensim.models.Word2Vec(sentences=playlists_gen,\n",
    "                               workers = 8,    # number of processors\n",
    "                               sg = 0,         # 1=skip-gram, 0=CBOW\n",
    "                               iter=iters      # training iterations - default=5\n",
    "                              )\n",
    "\n",
    "# about 5 minutes per iteration with 4 processors // 2 min per iteration with 8"
   ]
  },
  {
   "cell_type": "markdown",
   "metadata": {},
   "source": [
    "#### Test the model"
   ]
  },
  {
   "cell_type": "code",
   "execution_count": 210,
   "metadata": {},
   "outputs": [
    {
     "name": "stdout",
     "output_type": "stream",
     "text": [
      "spotify:track:2d7LPtieXdIYzf7yHPooWd\n",
      "spotify:track:0y4TKcc7p2H6P0GJlt01EI\n",
      "spotify:track:6q4c1vPRZREh7nw3wG7Ixz\n",
      "spotify:track:54KFQB6N4pn926IUUYZGzK\n",
      "spotify:track:0NeJjNlprGfZpeX2LQuN6c\n",
      "spotify:track:2kuFVY6hWX6yavTiWHE3SQ\n",
      "spotify:track:66mmvchQ4C3LnPzq4DiAI3\n",
      "spotify:track:4gFxywaJejXWxo0NjlWzgg\n",
      "spotify:track:6wQSrFnJYm3evLsavFeCVT\n",
      "spotify:track:3ZjnFYlal0fXN6t61wdxhl\n",
      "spotify:track:617EQMgzYFe2THz093j68m\n",
      "spotify:track:6Hki3HcbeU2c4T72lJjyZ5\n",
      "spotify:track:5j9iuo3tMmQIfnEEQOOjxh\n",
      "spotify:track:03gNt9LmzZOZcnjKFKrFMl\n",
      "spotify:track:163F4SPkExGwITk7VKz5sp\n",
      "spotify:track:6zQyu8L8yUuJkl6LbQ6iKU\n",
      "spotify:track:47yVYUPLE1K5QhAS4NX1Uo\n",
      "spotify:track:3KIIwkf6lNwJqLcx6GUIzr\n",
      "spotify:track:62tW8h5l2UrgqvdbhZaXL1\n",
      "spotify:track:5R22QnkOWbSVSWmV1DT8iz\n"
     ]
    }
   ],
   "source": [
    "for i, word in enumerate(model.wv.vocab):\n",
    "    if i == 20:\n",
    "        break\n",
    "    print(word)"
   ]
  },
  {
   "cell_type": "code",
   "execution_count": null,
   "metadata": {},
   "outputs": [],
   "source": []
  },
  {
   "cell_type": "code",
   "execution_count": null,
   "metadata": {},
   "outputs": [],
   "source": [
    "# you can save the whole model - not necessary - will be large and includes things we don't need\n",
    "# model.save(\"playlists_1.model\")\n",
    "# model = Word2Vec.load(\"playlists_1.model\")"
   ]
  },
  {
   "cell_type": "code",
   "execution_count": 9,
   "metadata": {},
   "outputs": [],
   "source": [
    "# you only needs the vectors - so avoid saving the whole model - only save vectors\n",
    "from gensim.models import KeyedVectors\n",
    "kv_filepath = os.path.join(\"../../data/SpotifyDataset\", 'playlists_BOW1')\n",
    "# model.wv.save(kv_filepath)\n",
    "model_v = KeyedVectors.load(kv_filepath, mmap='r')\n"
   ]
  },
  {
   "cell_type": "code",
   "execution_count": 10,
   "metadata": {},
   "outputs": [
    {
     "data": {
      "text/plain": [
       "gensim.models.keyedvectors.Word2VecKeyedVectors"
      ]
     },
     "execution_count": 10,
     "metadata": {},
     "output_type": "execute_result"
    }
   ],
   "source": [
    "type(model_v)"
   ]
  },
  {
   "cell_type": "markdown",
   "metadata": {},
   "source": [
    "### Model Attributes\n",
    "#### wv\n",
    "> This object essentially contains the mapping between words and embeddings. After training, it can be used directly to query those embeddings in various ways. See the module level docstring for examples.\n",
    "\n",
    "#### vocabulary\n",
    "> This object represents the vocabulary (sometimes called Dictionary in gensim) of the model. Besides keeping track of all unique words, this object provides extra functionality, such as constructing a huffman tree (frequent words are closer to the root), or discarding extremely rare words."
   ]
  },
  {
   "cell_type": "code",
   "execution_count": 230,
   "metadata": {},
   "outputs": [
    {
     "name": "stdout",
     "output_type": "stream",
     "text": [
      "Time to Execute: 0.0 seconds\n"
     ]
    }
   ],
   "source": [
    "rv = display_time(session.query(Playlists.track_name, \n",
    "                                Playlists.track_uri,\n",
    "                                Playlists.artist_uri,\n",
    "                                Playlists.album_uri).filter(Playlists.track_name==\"Free Fallin'\").distinct().first)\n"
   ]
  },
  {
   "cell_type": "code",
   "execution_count": 231,
   "metadata": {},
   "outputs": [
    {
     "data": {
      "text/plain": [
       "'Tom Petty'"
      ]
     },
     "execution_count": 231,
     "metadata": {},
     "output_type": "execute_result"
    }
   ],
   "source": [
    "get_artists([rv.artist_uri])[0]['name']\n"
   ]
  },
  {
   "cell_type": "code",
   "execution_count": 234,
   "metadata": {},
   "outputs": [
    {
     "name": "stdout",
     "output_type": "stream",
     "text": [
      "ERR: Unable to access Spotify data:  ERR:400\n"
     ]
    }
   ],
   "source": [
    "playlist = np.array(model_v.similar_by_word(rv.track_uri, topn=10, restrict_vocab=None))[:,0]\n",
    "sp_playlist = get_tracks(playlist)"
   ]
  },
  {
   "cell_type": "code",
   "execution_count": 235,
   "metadata": {},
   "outputs": [
    {
     "ename": "TypeError",
     "evalue": "'bool' object is not iterable",
     "output_type": "error",
     "traceback": [
      "\u001b[0;31m---------------------------------------------------------------------------\u001b[0m",
      "\u001b[0;31mTypeError\u001b[0m                                 Traceback (most recent call last)",
      "\u001b[0;32m<ipython-input-235-bc83a5d89d46>\u001b[0m in \u001b[0;36m<module>\u001b[0;34m\u001b[0m\n\u001b[0;32m----> 1\u001b[0;31m \u001b[0;32mfor\u001b[0m \u001b[0mt\u001b[0m \u001b[0;32min\u001b[0m \u001b[0msp_playlist\u001b[0m\u001b[0;34m:\u001b[0m\u001b[0;34m\u001b[0m\u001b[0;34m\u001b[0m\u001b[0m\n\u001b[0m\u001b[1;32m      2\u001b[0m     \u001b[0mprint\u001b[0m\u001b[0;34m(\u001b[0m\u001b[0;34m\"Artist       : \"\u001b[0m\u001b[0;34m,\u001b[0m \u001b[0mt\u001b[0m\u001b[0;34m[\u001b[0m\u001b[0;34m'artists'\u001b[0m\u001b[0;34m]\u001b[0m\u001b[0;34m[\u001b[0m\u001b[0;36m0\u001b[0m\u001b[0;34m]\u001b[0m\u001b[0;34m[\u001b[0m\u001b[0;34m'name'\u001b[0m\u001b[0;34m]\u001b[0m\u001b[0;34m)\u001b[0m\u001b[0;34m\u001b[0m\u001b[0;34m\u001b[0m\u001b[0m\n\u001b[1;32m      3\u001b[0m     \u001b[0mprint\u001b[0m\u001b[0;34m(\u001b[0m\u001b[0;34m\"Track        : \"\u001b[0m\u001b[0;34m,\u001b[0m \u001b[0mt\u001b[0m\u001b[0;34m[\u001b[0m\u001b[0;34m'name'\u001b[0m\u001b[0;34m]\u001b[0m\u001b[0;34m)\u001b[0m\u001b[0;34m\u001b[0m\u001b[0;34m\u001b[0m\u001b[0m\n\u001b[1;32m      4\u001b[0m     \u001b[0mprint\u001b[0m\u001b[0;34m(\u001b[0m\u001b[0;34m\"Track Preview: \"\u001b[0m\u001b[0;34m,\u001b[0m \u001b[0mt\u001b[0m\u001b[0;34m[\u001b[0m\u001b[0;34m'preview_url'\u001b[0m\u001b[0;34m]\u001b[0m \u001b[0;34m)\u001b[0m\u001b[0;34m\u001b[0m\u001b[0;34m\u001b[0m\u001b[0m\n\u001b[1;32m      5\u001b[0m     \u001b[0mprint\u001b[0m\u001b[0;34m(\u001b[0m\u001b[0;34m)\u001b[0m\u001b[0;34m\u001b[0m\u001b[0;34m\u001b[0m\u001b[0m\n",
      "\u001b[0;31mTypeError\u001b[0m: 'bool' object is not iterable"
     ]
    }
   ],
   "source": [
    "for t in sp_playlist:\n",
    "    print(\"Artist       : \", t['artists'][0]['name'])\n",
    "    print(\"Track        : \", t['name'])\n",
    "    print(\"Track Preview: \", t['preview_url'] )\n",
    "    print()"
   ]
  },
  {
   "cell_type": "code",
   "execution_count": null,
   "metadata": {},
   "outputs": [],
   "source": []
  },
  {
   "cell_type": "code",
   "execution_count": null,
   "metadata": {},
   "outputs": [],
   "source": []
  }
 ],
 "metadata": {
  "kernelspec": {
   "display_name": "Python 3",
   "language": "python",
   "name": "python3"
  },
  "language_info": {
   "codemirror_mode": {
    "name": "ipython",
    "version": 3
   },
   "file_extension": ".py",
   "mimetype": "text/x-python",
   "name": "python",
   "nbconvert_exporter": "python",
   "pygments_lexer": "ipython3",
   "version": "3.7.4"
  }
 },
 "nbformat": 4,
 "nbformat_minor": 2
}
