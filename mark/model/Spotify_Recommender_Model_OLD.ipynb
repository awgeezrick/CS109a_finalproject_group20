{
 "cells": [
  {
   "cell_type": "markdown",
   "metadata": {},
   "source": [
    "# Spotify Recommender Model\n",
    "\n",
    "Using Word2Vec, a variety of different recommender model options are explored.\n",
    "\n",
    "1. **Content-Based**\n",
    "> Predicts based on what a user has listened to in the past.\n",
    "> Uses features of songs to find similar songs.\n",
    "\n",
    "2. **Collaborative**\n",
    "> Predicts based on what other listeners like\n",
    "> Focuses on what songs other users liked who also liked a chosen song. \n",
    "\n",
    "\n",
    "## Word2Vec\n",
    "In both types of recommender models, a 'vectorized' representation of a song is used to find similar songs.  Word2Vec was originally intended to do what it's name implies; convert Words to Vectors.  Here, we will use that intended functionality to convert Songs to Vectors.\n",
    "\n",
    "### Embeddings\n",
    "Word2Vec is a process that uses vectorized words to predict other words.  It does this by ingesting a series of documents, parsing out the words, vectorizing the words and then using the vector representations to predict other words.  The vectors are built in such a way that each word has a unique vector that is based on its usage in the documents.  The result is a vector space filled with words where related words have vectors that are similar.  This vector space is referred to an an **embedding**.  This embedding is used in two common word prediction tasks: Skip-Gram and Continuous Bag of Words.\n",
    "\n",
    "> **Skip-Gram** <br>\n",
    "> The Skip-Gram model asks for a single word and then predicts words surrounding the word.\n",
    "\n",
    "> **Bag-of-Words** <br>\n",
    "> The bag-of-words model asks for a series of words and will return the missing word.\n",
    "\n",
    "\n",
    "### Making a Playlist\n",
    "What does this have to do with playlists?  Good question.  If we can consider a Song as a Word and a Playlist as related words or sentences, the applicability is evident.\n",
    "\n",
    "To make a playlist, we simply convert Song to Vectors and then find new songs by finding other songs with similar vectors.  To schieve this, we can use the Bag-of-Words or Skip-Gram approach as mentioned above.  Provide a song, a Skip-Gram model can supply a playlist.  Provide a list of songs, and Bag-of-Words model can give you the next song.\n",
    "\n",
    "### That Was Easy!\n",
    "Not so fast!  How we build the embedding of Songs will have an impact on how the new songs are predicted.  When we make the embedding, what are we giving as a song?  The title of the song?  The genre?  The artist? What are we providing as documents?  Playlists?  Albums? These choices will provide different results.  Three embedding options are explored:\n",
    "\n",
    "<a name='index'></a>\n",
    "### <a href=#1>1. Embeddings from Playlists - Song ID - Unsupervised</a>\n",
    "> Here, we will take data from Spotify that included 1M playlists and the songs in each playlist.  We'll use the Word2Vec process supplying playlists as documents and each song's unique id is used as the word. <br><br>\n",
    "After the embedding is created, we can skip the creation of building and training a BOW or Skip-Gram model.  All we need to do is find vectors that are similar to a song or a list of songs.  \n",
    "\n",
    "### <a href=#2>2. Embeddings from Playlists - Song ID - BOW</a>\n",
    "> We can use the same embedding to create a BOW model.\n",
    "\n",
    "\n",
    "### <a href=#3>3. Embeddings from Playlists - Song ID - Skip-Gram</a>\n",
    "> Let's use the embedding from the playlists and use Word2Vec to create a Skip-Gram model.\n",
    "\n",
    "\n",
    "### <a href=#4>4. Embeddings from Song Features - Unsupervised</a>\n",
    "> Here, we can take a break from Word2Vec and get very basic.  We create our own vectors based on Spotify accoustive feature data.  We have a series of fields available for all of our songs that numerically represent various characteristics of the songs; dancebaility, loudness, temp, key, energy, etc.\n",
    "\n",
    "\n",
    "\n",
    "<br>\n",
    "\n",
    "**References:**\n",
    "\n",
    "https://www.analyticsvidhya.com/blog/2019/07/how-to-build-recommendation-system-word2vec-python/\n",
    "\n",
    "https://towardsdatascience.com/using-word2vec-for-music-recommendations-bb9649ac2484\n",
    "\n",
    "https://towardsdatascience.com/how-to-build-a-simple-song-recommender-296fcbc8c85\n",
    "\n"
   ]
  },
  {
   "cell_type": "markdown",
   "metadata": {},
   "source": [
    "### Import libraries"
   ]
  },
  {
   "cell_type": "code",
   "execution_count": 3,
   "metadata": {},
   "outputs": [],
   "source": [
    "# Basic Imports\n",
    "import warnings;\n",
    "warnings.filterwarnings('ignore')\n",
    "\n",
    "import os\n",
    "import sys\n",
    "import pandas as pd\n",
    "import numpy as np\n",
    "import seaborn as sns\n",
    "import time\n",
    "import random\n",
    "import matplotlib.pyplot as plt\n",
    "%matplotlib inline\n",
    "\n",
    "\n",
    "from gensim.models import Word2Vec\n",
    "from gensim import utils\n",
    "import gensim.models\n",
    "from gensim.models import KeyedVectors\n",
    "\n",
    "# For the Spotify Dataset\n",
    "from sqlalchemy.ext.declarative import declarative_base\n",
    "from sqlalchemy import Table, Column, Integer, String, Float, MetaData, and_, or_, func\n",
    "from sqlalchemy import create_engine\n",
    "import sqlite3\n",
    "from sqlalchemy.orm import sessionmaker\n",
    "from sqlalchemy import exc\n",
    "\n",
    "sys.path.append('../../')\n",
    "from spotify_api import get_spotify_data, get_tracks, get_artists, get_audiofeatures\n",
    "from spotify_database import get_session, display_time\n",
    "from spotify_utils import Table_Generator, List_Generator, pickle_load, pickle_save\n",
    "\n",
    "# !pip install ipywidgets \n",
    "# !jupyter nbextension enable --py widgetsnbextension\n",
    "# !jupyter labextension install @jupyter-widgets/jupyterlab-manager\n",
    "\n",
    "# %%capture\n",
    "from tqdm import tqdm_notebook as tqdm"
   ]
  },
  {
   "cell_type": "markdown",
   "metadata": {},
   "source": [
    "### Set Data Path Variables"
   ]
  },
  {
   "cell_type": "code",
   "execution_count": 4,
   "metadata": {},
   "outputs": [],
   "source": [
    "data_path = '../../data/SpotifyDataSet'\n",
    "db_path = '../../data/SpotifyDataSet/spotify_songs.db'\n",
    "\n",
    "# Get sesion\n",
    "session = get_session(db_path)\n",
    "engine = create_engine('sqlite:///' + db_path)\n",
    "\n",
    "# Get Songs class\n",
    "Playlists = getattr(get_session, \"Playlists\")\n",
    "Artists = getattr(get_session, \"Artists\")\n",
    "Tracks = getattr(get_session, \"Tracks\")"
   ]
  },
  {
   "cell_type": "markdown",
   "metadata": {},
   "source": [
    "<a name='1'></a>\n",
    "## 1. Embeddings from Playlists using Song ID - Unsupervised\n",
    "<a href=#index>back to index</a>\n",
    "\n",
    "\n",
    "The baseline model will use embeddings to find similarities between songs.  The embeddings are built from playlists, where the playlist serves as a sentence made up of songs.\n",
    "\n",
    "Similarities between songs are determined by their cosine distance with other songs.\n",
    "\n",
    "To speed up to building of the enbedding, an extract is made from the database which will serve as documents for the embedding.  Each 'sentence' is a playlist and each 'word' is a song in the playlist.\n",
    "\n",
    "From the DB, the following view is created which is subseqntly extracted as a CSV file:<br>\n",
    "\n",
    "`CREATE VIEW playlist_tracks_uris AS SELECT t.playlist_id, group_concat(t.track_uri, ' ')  FROM playlists t GROUP BY  t.playlist_id;`\n"
   ]
  },
  {
   "cell_type": "code",
   "execution_count": 5,
   "metadata": {},
   "outputs": [],
   "source": [
    "# Iterator that yields the songs for each playlist in the CSV file\n",
    "class Playlist_URIs(object):\n",
    "    \"\"\"\n",
    "    Playlist generator that yileds the track uris in a playlist.\n",
    "    Yields one playlist at a time.\n",
    "    \"\"\"\n",
    "    def __init__(self,\n",
    "                 filename:str=os.path.join(data_path,'playlist_tracks.csv'),\n",
    "                 name:str=None,\n",
    "                 iters:int=None):\n",
    "        self.filename     = filename\n",
    "        self.length       = len(open(self.filename).readlines())\n",
    "        self.name         = name\n",
    "        self.count        = 0\n",
    "        self.iters        = iters\n",
    "        print(\"Creating Playlist Track Listing Generator:\")\n",
    "        print(\"\\tlength     : \", self.length)\n",
    "    \n",
    "    def __iter__(self):\n",
    "        \n",
    "        self.count += 1\n",
    "        progbar = tqdm(total=self.length, desc=\"{}:{}/{}\".format(self.name, self.count, self.iters+1))\n",
    "        \n",
    "        for line in open(self.filename, 'r'):\n",
    "            progbar.update(1)\n",
    "            yield line.split('\\t')[1].split(' ') # tab-delimited CSV file\n",
    "            \n",
    "        progbar.close()    \n",
    "        "
   ]
  },
  {
   "cell_type": "code",
   "execution_count": 93,
   "metadata": {},
   "outputs": [
    {
     "name": "stdout",
     "output_type": "stream",
     "text": [
      "Creating Playlist Track Listing Generator:\n",
      "\tlength     :  999001\n"
     ]
    }
   ],
   "source": [
    "# Create a generator object to use while building the embedding\n",
    "corpus_file = 'playlist_tracks.csv'\n",
    "corpus_filepath = os.path.join(data_path, corpus_file)\n",
    "\n",
    "iters = 5\n",
    "playlists_gen = Playlist_URIs(filename=corpus_filepath,\n",
    "                              name=\"Building Vectors\",\n",
    "                              iters=iters) "
   ]
  },
  {
   "cell_type": "code",
   "execution_count": 9,
   "metadata": {},
   "outputs": [
    {
     "data": {
      "application/vnd.jupyter.widget-view+json": {
       "model_id": "6388769abc4f4f4fa9a0f70323f14786",
       "version_major": 2,
       "version_minor": 0
      },
      "text/plain": [
       "HBox(children=(IntProgress(value=0, description='Building Vectors:1/6', max=999001, style=ProgressStyle(descri…"
      ]
     },
     "metadata": {},
     "output_type": "display_data"
    },
    {
     "name": "stdout",
     "output_type": "stream",
     "text": [
      "\n"
     ]
    },
    {
     "data": {
      "application/vnd.jupyter.widget-view+json": {
       "model_id": "58104b64d97b423e9ad8df970bdb259c",
       "version_major": 2,
       "version_minor": 0
      },
      "text/plain": [
       "HBox(children=(IntProgress(value=0, description='Building Vectors:2/6', max=999001, style=ProgressStyle(descri…"
      ]
     },
     "metadata": {},
     "output_type": "display_data"
    },
    {
     "name": "stdout",
     "output_type": "stream",
     "text": [
      "\n"
     ]
    },
    {
     "data": {
      "application/vnd.jupyter.widget-view+json": {
       "model_id": "20b60d41ed924ecb852ee2f0661013e5",
       "version_major": 2,
       "version_minor": 0
      },
      "text/plain": [
       "HBox(children=(IntProgress(value=0, description='Building Vectors:3/6', max=999001, style=ProgressStyle(descri…"
      ]
     },
     "metadata": {},
     "output_type": "display_data"
    },
    {
     "name": "stdout",
     "output_type": "stream",
     "text": [
      "\n"
     ]
    },
    {
     "data": {
      "application/vnd.jupyter.widget-view+json": {
       "model_id": "799b338320d141138b2838fed1029b9c",
       "version_major": 2,
       "version_minor": 0
      },
      "text/plain": [
       "HBox(children=(IntProgress(value=0, description='Building Vectors:4/6', max=999001, style=ProgressStyle(descri…"
      ]
     },
     "metadata": {},
     "output_type": "display_data"
    },
    {
     "name": "stdout",
     "output_type": "stream",
     "text": [
      "\n"
     ]
    },
    {
     "data": {
      "application/vnd.jupyter.widget-view+json": {
       "model_id": "4da64da83a8e4e36801885acbed4939c",
       "version_major": 2,
       "version_minor": 0
      },
      "text/plain": [
       "HBox(children=(IntProgress(value=0, description='Building Vectors:5/6', max=999001, style=ProgressStyle(descri…"
      ]
     },
     "metadata": {},
     "output_type": "display_data"
    },
    {
     "name": "stdout",
     "output_type": "stream",
     "text": [
      "\n"
     ]
    },
    {
     "data": {
      "application/vnd.jupyter.widget-view+json": {
       "model_id": "c77464b71c7a428981f298a6c10b201f",
       "version_major": 2,
       "version_minor": 0
      },
      "text/plain": [
       "HBox(children=(IntProgress(value=0, description='Building Vectors:6/6', max=999001, style=ProgressStyle(descri…"
      ]
     },
     "metadata": {},
     "output_type": "display_data"
    },
    {
     "name": "stdout",
     "output_type": "stream",
     "text": [
      "\n"
     ]
    }
   ],
   "source": [
    "# Build a gensim BOW model including a word embedding\n",
    "model_BOW = gensim.models.Word2Vec(sentences=playlists_gen,\n",
    "                               workers = 8,    # number of processors\n",
    "                               sg = 0,         # 1=skip-gram, 0=CBOW\n",
    "                               iter=iters      # training iterations - default=5\n",
    "                              )\n",
    "\n",
    "# save the model\n",
    "model_filepath = os.path.join(data_path, 'playlists_BOW.model')\n",
    "model_BOW.save(model_filepath)\n",
    "\n",
    "# Save the embedding\n",
    "kv_filepath = os.path.join(data_path, 'playlists.embedding')\n",
    "model_BOW.wv.save(kv_filepath)\n",
    "\n",
    "# about 5 minutes per iteration with 4 processors // 2 min per iteration with 8"
   ]
  },
  {
   "cell_type": "code",
   "execution_count": 94,
   "metadata": {},
   "outputs": [
    {
     "data": {
      "application/vnd.jupyter.widget-view+json": {
       "model_id": "ce8441469f7247b0b9f1059307b1c96d",
       "version_major": 2,
       "version_minor": 0
      },
      "text/plain": [
       "HBox(children=(IntProgress(value=0, description='Building Vectors:1/6', max=999001, style=ProgressStyle(descri…"
      ]
     },
     "metadata": {},
     "output_type": "display_data"
    },
    {
     "name": "stdout",
     "output_type": "stream",
     "text": [
      "\n"
     ]
    },
    {
     "data": {
      "application/vnd.jupyter.widget-view+json": {
       "model_id": "c2e9b3d9ee7048ab80e2a3306f45b0c6",
       "version_major": 2,
       "version_minor": 0
      },
      "text/plain": [
       "HBox(children=(IntProgress(value=0, description='Building Vectors:2/6', max=999001, style=ProgressStyle(descri…"
      ]
     },
     "metadata": {},
     "output_type": "display_data"
    },
    {
     "name": "stdout",
     "output_type": "stream",
     "text": [
      "\n"
     ]
    },
    {
     "data": {
      "application/vnd.jupyter.widget-view+json": {
       "model_id": "a9988d7160784ea8957fb48abe846a09",
       "version_major": 2,
       "version_minor": 0
      },
      "text/plain": [
       "HBox(children=(IntProgress(value=0, description='Building Vectors:3/6', max=999001, style=ProgressStyle(descri…"
      ]
     },
     "metadata": {},
     "output_type": "display_data"
    },
    {
     "name": "stdout",
     "output_type": "stream",
     "text": [
      "\n"
     ]
    },
    {
     "data": {
      "application/vnd.jupyter.widget-view+json": {
       "model_id": "e8bb739693ce450ab28375b16ca74ee5",
       "version_major": 2,
       "version_minor": 0
      },
      "text/plain": [
       "HBox(children=(IntProgress(value=0, description='Building Vectors:4/6', max=999001, style=ProgressStyle(descri…"
      ]
     },
     "metadata": {},
     "output_type": "display_data"
    },
    {
     "name": "stdout",
     "output_type": "stream",
     "text": [
      "\n"
     ]
    },
    {
     "data": {
      "application/vnd.jupyter.widget-view+json": {
       "model_id": "5ee0b9ad73aa44819c5cee690d0d8d60",
       "version_major": 2,
       "version_minor": 0
      },
      "text/plain": [
       "HBox(children=(IntProgress(value=0, description='Building Vectors:5/6', max=999001, style=ProgressStyle(descri…"
      ]
     },
     "metadata": {},
     "output_type": "display_data"
    },
    {
     "name": "stdout",
     "output_type": "stream",
     "text": [
      "\n"
     ]
    },
    {
     "data": {
      "application/vnd.jupyter.widget-view+json": {
       "model_id": "dfbd50504bc342a89b6e3e6099091adb",
       "version_major": 2,
       "version_minor": 0
      },
      "text/plain": [
       "HBox(children=(IntProgress(value=0, description='Building Vectors:6/6', max=999001, style=ProgressStyle(descri…"
      ]
     },
     "metadata": {},
     "output_type": "display_data"
    },
    {
     "name": "stdout",
     "output_type": "stream",
     "text": [
      "\n"
     ]
    }
   ],
   "source": [
    "# Build a gensim Skip-Gram model including a word embedding\n",
    "model_SG = gensim.models.Word2Vec(sentences=playlists_gen,\n",
    "                               workers = 8,    # number of processors\n",
    "                               sg = 1,         # 1=skip-gram, 0=CBOW\n",
    "                               iter=iters      # training iterations - default=5\n",
    "                              )\n",
    "\n",
    "# save the model\n",
    "model_filepath = os.path.join(data_path, 'playlists_SG.model')\n",
    "model_SG.save(model_filepath)\n",
    "\n",
    "# NOTE: No need to save the embedding again, it is the same as in the BOW model\n",
    "\n",
    "# about 5 minutes per iteration with 4 processors // 2 min per iteration with 8"
   ]
  },
  {
   "cell_type": "code",
   "execution_count": 10,
   "metadata": {},
   "outputs": [],
   "source": []
  },
  {
   "cell_type": "code",
   "execution_count": 11,
   "metadata": {},
   "outputs": [],
   "source": []
  },
  {
   "cell_type": "markdown",
   "metadata": {},
   "source": [
    "### Model Attributes\n",
    "Now, we have created an embedding and an associated model which follows the BOW approach.\n",
    "\n",
    "#### wv\n",
    "> This object essentially contains the mapping between words and embeddings. It can be used directly to query the embeddings in various ways. \n",
    "\n",
    "#### vocabulary\n",
    "> This object represents the vocabulary (sometimes called Dictionary in gensim) of the model. "
   ]
  },
  {
   "cell_type": "markdown",
   "metadata": {},
   "source": [
    "## Test the model\n",
    "Get 10 'words' from the embedding's vocabulary."
   ]
  },
  {
   "cell_type": "code",
   "execution_count": 4,
   "metadata": {},
   "outputs": [],
   "source": [
    "# reload saved embedding\n",
    "kv_filepath = os.path.join(data_path, 'playlists.embedding')\n",
    "embedding = KeyedVectors.load(kv_filepath, mmap='r')"
   ]
  },
  {
   "cell_type": "code",
   "execution_count": 25,
   "metadata": {},
   "outputs": [
    {
     "name": "stdout",
     "output_type": "stream",
     "text": [
      "Track: spotify:track:54Ouh41CWAFULtChxDc2P3\n",
      "\t Vocab(count:21, index:224838, sample_int:4294967296)\n",
      "Track: spotify:track:5Q0O7LxPqvce6JoMxHXjvK\n",
      "\t Vocab(count:6, index:499762, sample_int:4294967296)\n",
      "Track: spotify:track:7crRxRrHCeD1e2ZzSmWCsl\n",
      "\t Vocab(count:5, index:561638, sample_int:4294967296)\n",
      "Track: spotify:track:2G2eB4sPEZGVTx7UdLUSNm\n",
      "\t Vocab(count:16, index:264870, sample_int:4294967296)\n",
      "Track: spotify:track:22E817F7gP14umxr9pf1Xn\n",
      "\t Vocab(count:7, index:472415, sample_int:4294967296)\n",
      "Track: spotify:track:6R68z0ptyhTSzmqnUY5hhx\n",
      "\t Vocab(count:8, index:424215, sample_int:4294967296)\n",
      "Track: spotify:track:3f0fcyzTkduyD7mgosWmu4\n",
      "\t Vocab(count:8, index:420451, sample_int:4294967296)\n",
      "Track: spotify:track:1bRatBxvVgdpirSYhHzu5j\n",
      "\t Vocab(count:8, index:437915, sample_int:4294967296)\n",
      "Track: spotify:track:2vyGuWMSfyvD8zdEu2YXE1\n",
      "\t Vocab(count:23, index:210151, sample_int:4294967296)\n",
      "Track: spotify:track:0cunAi5FhuVTMMIE9XfqfP\n",
      "\t Vocab(count:224, index:36974, sample_int:4294967296)\n"
     ]
    }
   ],
   "source": [
    "# display list of random track along with a count of appearances\n",
    "songids = list(embedding.wv.vocab.keys())\n",
    "idxs_rnd = [random.randint(0,len(songids)) for x in range(10)]\n",
    "\n",
    "for i in idxs_rnd:\n",
    "    print(\"Track: {}\".format(songids[i]))\n",
    "    print(\"\\t\",embedding.wv.vocab[songids[i]])"
   ]
  },
  {
   "cell_type": "code",
   "execution_count": 34,
   "metadata": {},
   "outputs": [
    {
     "data": {
      "text/plain": [
       "'spotify:track:2d7LPtieXdIYzf7yHPooWd'"
      ]
     },
     "execution_count": 34,
     "metadata": {},
     "output_type": "execute_result"
    }
   ],
   "source": [
    "songids[0]"
   ]
  },
  {
   "cell_type": "code",
   "execution_count": 38,
   "metadata": {},
   "outputs": [
    {
     "name": "stdout",
     "output_type": "stream",
     "text": [
      "spotify:track:54Ouh41CWAFULtChxDc2P3\n"
     ]
    },
    {
     "data": {
      "text/plain": [
       "memmap([ 0.1272708 ,  0.05054647,  0.165743  , -0.14787427, -0.04797522,\n",
       "         0.12914099,  0.11278312, -0.06526133,  0.28049994,  0.13390438,\n",
       "         0.13675198,  0.2215344 , -0.2629792 , -0.45036826,  0.1126852 ,\n",
       "        -0.21523614, -0.00472977,  0.08885465, -0.20052877, -0.12271424,\n",
       "        -0.03128362,  0.01141706,  0.00753152, -0.24122466,  0.10402884,\n",
       "        -0.03048653, -0.11512107, -0.3331953 , -0.04206612,  0.21890008,\n",
       "        -0.28543273,  0.13576445,  0.31936753, -0.5335075 ,  0.27800167,\n",
       "         0.448359  ,  0.2260995 , -0.32358688, -0.05028354, -0.05638677,\n",
       "        -0.07736696, -0.1543951 ,  0.15390296, -0.18399835, -0.3167476 ,\n",
       "         0.24209599,  0.20233868, -0.19944245, -0.03791945, -0.23465024,\n",
       "        -0.20722246, -0.14768681,  0.41862273,  0.6273913 ,  0.04115644,\n",
       "        -0.07902044,  0.37934414, -0.1239025 , -0.42826465, -0.18111324,\n",
       "        -0.04696696,  0.6651888 , -0.15092582,  0.03998433,  0.07693795,\n",
       "        -0.05004881, -0.15606925,  0.03041912,  0.22001147, -0.15794177,\n",
       "         0.22088857,  0.13163501,  0.03497251,  0.08636007,  0.08546725,\n",
       "        -0.08271471, -0.0814319 ,  0.08644569, -0.35126075, -0.12750645,\n",
       "        -0.16454734, -0.07838017,  0.02190808, -0.18262008,  0.02143461,\n",
       "        -0.19607112,  0.08889239,  0.3092278 , -0.3402397 ,  0.20484367,\n",
       "        -0.12623602, -0.26476133, -0.10670969, -0.03849688, -0.03860397,\n",
       "        -0.23694918, -0.60093313, -0.17534442,  0.16301227, -0.08777645],\n",
       "       dtype=float32)"
      ]
     },
     "metadata": {},
     "output_type": "display_data"
    }
   ],
   "source": [
    "# Show the vector value for the first word in in the list above\n",
    "rnd = random.randint(0, len(embedding.wv.vocab))\n",
    "print(songids[idxs_rnd[0]])\n",
    "display(embedding.wv.get_vector(songids[idxs_rnd[0]]))"
   ]
  },
  {
   "cell_type": "markdown",
   "metadata": {},
   "source": [
    "### Make a Playlist\n",
    "Find the ID of a specific song of your choice.  Here, we use the Spotify API to get the song we are interested in."
   ]
  },
  {
   "cell_type": "code",
   "execution_count": 39,
   "metadata": {},
   "outputs": [
    {
     "name": "stdout",
     "output_type": "stream",
     "text": [
      "Time to Execute: 0.05 seconds\n",
      "Setting credentials\n",
      "token():INFO:   Getting initial token\n",
      "token():INFO:   Token refreshed\n",
      "Artist:    Tom Petty\n",
      "Track:     Free Fallin'\n",
      "Track URI: spotify:track:5tVA6TkbaAH9QMITTQRrNv\n"
     ]
    }
   ],
   "source": [
    "# Get a song as a seed for a test playlist\n",
    "db_track = display_time(session.query(Playlists.track_name, \n",
    "                                Playlists.track_uri,\n",
    "                                Playlists.artist_uri,\n",
    "                                Playlists.album_uri).filter(Playlists.track_name==\"Free Fallin'\").distinct().first)\n",
    "\n",
    "print(\"Artist:    {}\".format(get_artists([db_track.artist_uri])[0]['name']))\n",
    "print(\"Track:     {}\".format(db_track.track_name))\n",
    "print(\"Track URI: {}\".format(db_track.track_uri))"
   ]
  },
  {
   "cell_type": "markdown",
   "metadata": {},
   "source": [
    "### Use the Word2Vec embedding to find similar songs\n",
    "Using the Word2Vec function `similar_by_word()`"
   ]
  },
  {
   "cell_type": "code",
   "execution_count": 41,
   "metadata": {},
   "outputs": [
    {
     "data": {
      "text/plain": [
       "array([['spotify:track:7gSQv1OHpkIoAdUiRLdmI6', '0.8741670846939087'],\n",
       "       ['spotify:track:17S4XrLvF5jlGvGCJHgF51', '0.7749687433242798'],\n",
       "       ['spotify:track:7MooGz4ZPE4bNxjFegR6Jx', '0.7716947793960571'],\n",
       "       ['spotify:track:5xS9hkTGfxqXyxX6wWWTt4', '0.7716909646987915'],\n",
       "       ['spotify:track:7MRyJPksH3G2cXHN8UKYzP', '0.7674297094345093'],\n",
       "       ['spotify:track:43btz2xjMKpcmjkuRsvxyg', '0.7614291906356812'],\n",
       "       ['spotify:track:67eX1ovaHyVPUinMHeUtIM', '0.7145407199859619'],\n",
       "       ['spotify:track:2HsjJJL4DhPCzMlnaGv7ap', '0.6921212673187256'],\n",
       "       ['spotify:track:5RsUlxLto4NZbhJpqJbHfN', '0.6734362244606018'],\n",
       "       ['spotify:track:5tVA6TkbaAH9QMITTQRrNv\\n', '0.672991156578064']],\n",
       "      dtype='<U37')"
      ]
     },
     "execution_count": 41,
     "metadata": {},
     "output_type": "execute_result"
    }
   ],
   "source": [
    "# Find similar songs \n",
    "playlist = np.array(embedding.similar_by_word(db_track.track_uri, topn=10, restrict_vocab=None))\n",
    "playlist"
   ]
  },
  {
   "cell_type": "code",
   "execution_count": 74,
   "metadata": {},
   "outputs": [
    {
     "name": "stdout",
     "output_type": "stream",
     "text": [
      "Artist       :  Tom Petty\n",
      "Track        :  I Won't Back Down\n",
      "Track Preview:  None\n",
      "\n",
      "Artist       :  John Mellencamp\n",
      "Track        :  Jack & Diane\n",
      "Track Preview:  None\n",
      "\n",
      "Artist       :  Tom Petty and the Heartbreakers\n",
      "Track        :  American Girl\n",
      "Track Preview:  https://p.scdn.co/mp3-preview/36d69a9c5b7a78b378f349e319ca49075993717b?cid=72413f75d4db4ec79c6caaf02523959e\n",
      "\n",
      "Artist       :  Tom Petty and the Heartbreakers\n",
      "Track        :  Mary Jane's Last Dance\n",
      "Track Preview:  None\n",
      "\n",
      "Artist       :  Tom Petty and the Heartbreakers\n",
      "Track        :  Learning To Fly\n",
      "Track Preview:  None\n",
      "\n",
      "Artist       :  Tom Petty\n",
      "Track        :  You Don't Know How It Feels\n",
      "Track Preview:  https://p.scdn.co/mp3-preview/920e1367344e020100e499744890d45f0f8729ce?cid=72413f75d4db4ec79c6caaf02523959e\n",
      "\n",
      "Artist       :  John Mellencamp\n",
      "Track        :  Small Town\n",
      "Track Preview:  None\n",
      "\n",
      "Artist       :  John Mellencamp\n",
      "Track        :  Hurts So Good\n",
      "Track Preview:  None\n",
      "\n",
      "Artist       :  Bryan Adams\n",
      "Track        :  Summer Of '69\n",
      "Track Preview:  None\n",
      "\n",
      "Artist       :  Don McLean\n",
      "Track        :  American Pie\n",
      "Track Preview:  None\n",
      "\n"
     ]
    }
   ],
   "source": [
    "# Get the similar songs from Spotify to show their details, including preview link (if available)\n",
    "sp_playlist = get_tracks(playlist[:,0])\n",
    "\n",
    "for t in sp_playlist:\n",
    "    print(\"Artist       : \", t['artists'][0]['name'])\n",
    "    print(\"Track        : \", t['name'])\n",
    "    print(\"Track Preview: \\n\", t['preview_url'] )\n",
    "    print()"
   ]
  },
  {
   "cell_type": "markdown",
   "metadata": {},
   "source": [
    "### Results:\n",
    "Based on the playlists that were supplied when buidling the embedding, the list of Top 10 most similar songs is presented above.  Several other Tom Petty songs appeared as well as other artists that are similar in genre, attitude, etc.\n",
    "\n",
    "This playlist is based on the top songs that other users placed in playlists that include the song we selected as our seed.  This is a good example of 'collaborative filtering' as it uses preferences from others to recommend songs."
   ]
  },
  {
   "cell_type": "code",
   "execution_count": null,
   "metadata": {},
   "outputs": [],
   "source": []
  },
  {
   "cell_type": "markdown",
   "metadata": {},
   "source": [
    "<a name='2'></a>\n",
    "## 2. Embeddings from Playlists - Song ID - BOW\n",
    "<a href=#index>back to index</a>\n",
    "\n",
    "Now, let's use the model that was created when we initially established our embedding.  The BOW model can be used to predict a song from a song or a list of supplied songs.\n",
    "\n",
    "Let's use the seed song \"Free Fallin'\" again and see what is returned."
   ]
  },
  {
   "cell_type": "code",
   "execution_count": 44,
   "metadata": {},
   "outputs": [],
   "source": [
    "model_filepath = os.path.join(data_path, 'playlists_BOW.model')\n",
    "BOW_model = Word2Vec.load(model_filepath)"
   ]
  },
  {
   "cell_type": "code",
   "execution_count": 91,
   "metadata": {},
   "outputs": [
    {
     "name": "stdout",
     "output_type": "stream",
     "text": [
      "\n",
      "Artist: Tom Petty\n",
      "Track Name: I Won't Back Down\n",
      "Preview: None\n",
      "\n",
      "Artist: Tom Petty\n",
      "Track Name: Free Fallin'\n",
      "Preview: None\n",
      "\n",
      "Artist: Tom Petty\n",
      "Track Name: You Don't Know How It Feels\n",
      "Preview: https://p.scdn.co/mp3-preview/920e1367344e020100e499744890d45f0f8729ce?cid=72413f75d4db4ec79c6caaf02523959e\n",
      "\n",
      "Artist: Tom Petty and the Heartbreakers\n",
      "Track Name: Learning To Fly\n",
      "Preview: None\n",
      "\n",
      "Artist: Tom Petty\n",
      "Track Name: Wildflowers\n",
      "Preview: https://p.scdn.co/mp3-preview/4f8fc91bd4a98e7c27863b08aa24a57ffaf654c1?cid=72413f75d4db4ec79c6caaf02523959e\n",
      "\n",
      "Artist: Tom Petty and the Heartbreakers\n",
      "Track Name: American Girl\n",
      "Preview: https://p.scdn.co/mp3-preview/36d69a9c5b7a78b378f349e319ca49075993717b?cid=72413f75d4db4ec79c6caaf02523959e\n",
      "\n",
      "Artist: Tom Petty and the Heartbreakers\n",
      "Track Name: Mary Jane's Last Dance\n",
      "Preview: None\n",
      "\n",
      "Artist: Tom Petty\n",
      "Track Name: Runnin' Down A Dream\n",
      "Preview: None\n",
      "\n",
      "Artist: Tom Petty and the Heartbreakers\n",
      "Track Name: Refugee\n",
      "Preview: None\n",
      "\n",
      "Artist: Tom Petty and the Heartbreakers\n",
      "Track Name: Breakdown\n",
      "Preview: https://p.scdn.co/mp3-preview/f86e333f10221b6b3f7f0a2ebdc6a7871402785c?cid=72413f75d4db4ec79c6caaf02523959e\n"
     ]
    }
   ],
   "source": [
    "recommended_songs = np.array(BOW_model.predict_output_word([db_track.track_uri], topn=10))\n",
    "sp_tracks = get_tracks(recommended_songs[:,0])\n",
    "\n",
    "for track in sp_tracks:\n",
    "    print(\"\\nArtist: {}\".format(track['artists'][0]['name']))\n",
    "    print(\"Track Name: {}\".format(track['name']))\n",
    "    print(\"Preview: {}\".format(track['preview_url']))"
   ]
  },
  {
   "cell_type": "markdown",
   "metadata": {},
   "source": [
    "### Result:\n",
    "Most of the songs are the same, but the BOW model only returned songs from Tom Petty where our basic embedding-only apprach found other artists as well."
   ]
  },
  {
   "cell_type": "code",
   "execution_count": null,
   "metadata": {},
   "outputs": [],
   "source": []
  },
  {
   "cell_type": "markdown",
   "metadata": {},
   "source": [
    "<a name='3'></a>\n",
    "## 3. Embeddings from Playlists - Song ID - Skip-Gram\n",
    "<a href=#index>back to index</a>\n",
    "\n",
    "Here, we create a playlist from the Skip-Gram model.  For consistency, we will use the same song, \"Free Fallin'\", again to see if our results differ."
   ]
  },
  {
   "cell_type": "code",
   "execution_count": 95,
   "metadata": {},
   "outputs": [],
   "source": [
    "# load the skip-gram model we previously created\n",
    "model_filepath = os.path.join(data_path, 'playlists_SG.model')\n",
    "SG_model = Word2Vec.load(model_filepath)"
   ]
  },
  {
   "cell_type": "code",
   "execution_count": 96,
   "metadata": {},
   "outputs": [
    {
     "name": "stdout",
     "output_type": "stream",
     "text": [
      "\n",
      "Artist: Tom Petty\n",
      "Track Name: Free Fallin'\n",
      "Preview: None\n",
      "\n",
      "Artist: Tom Petty\n",
      "Track Name: I Won't Back Down\n",
      "Preview: None\n",
      "\n",
      "Artist: Tom Petty and the Heartbreakers\n",
      "Track Name: Learning To Fly\n",
      "Preview: None\n",
      "\n",
      "Artist: Tom Petty and the Heartbreakers\n",
      "Track Name: Mary Jane's Last Dance\n",
      "Preview: None\n",
      "\n",
      "Artist: Tom Petty and the Heartbreakers\n",
      "Track Name: Into The Great Wide Open\n",
      "Preview: None\n",
      "\n",
      "Artist: Tom Petty\n",
      "Track Name: You Don't Know How It Feels\n",
      "Preview: https://p.scdn.co/mp3-preview/920e1367344e020100e499744890d45f0f8729ce?cid=72413f75d4db4ec79c6caaf02523959e\n",
      "\n",
      "Artist: Tom Petty\n",
      "Track Name: Runnin' Down A Dream\n",
      "Preview: None\n",
      "\n",
      "Artist: Tom Petty and the Heartbreakers\n",
      "Track Name: American Girl\n",
      "Preview: https://p.scdn.co/mp3-preview/36d69a9c5b7a78b378f349e319ca49075993717b?cid=72413f75d4db4ec79c6caaf02523959e\n",
      "\n",
      "Artist: John Mellencamp\n",
      "Track Name: Jack & Diane\n",
      "Preview: None\n",
      "\n",
      "Artist: Tom Petty and the Heartbreakers\n",
      "Track Name: Refugee\n",
      "Preview: None\n"
     ]
    }
   ],
   "source": [
    "recommended_songs = np.array(SG_model.predict_output_word([db_track.track_uri], topn=10))\n",
    "sp_tracks = get_tracks(recommended_songs[:,0])\n",
    "\n",
    "for track in sp_tracks:\n",
    "    print(\"\\nArtist: {}\".format(track['artists'][0]['name']))\n",
    "    print(\"Track Name: {}\".format(track['name']))\n",
    "    print(\"Preview: {}\".format(track['preview_url']))"
   ]
  },
  {
   "cell_type": "markdown",
   "metadata": {},
   "source": [
    "### Result:\n",
    "This list looks much like our original playlist based on the embeddings, but it isn't the same.  Here, different artists are suggested."
   ]
  },
  {
   "cell_type": "code",
   "execution_count": null,
   "metadata": {},
   "outputs": [],
   "source": []
  },
  {
   "cell_type": "markdown",
   "metadata": {},
   "source": [
    "<a name='4'></a>\n",
    "## 4. Embeddings from Song Features - Unsupervised\n",
    "<a href=#index>back to index</a>\n",
    "\n",
    "Here, we can take a break from Word2Vec and get very basic.  We create our own vectors based on Spotify accoustive feature data.  We have a series of fields available for all of our songs that numerically represent various characteristics of the songs; dancebaility, loudness, temp, key, energy, etc."
   ]
  },
  {
   "cell_type": "code",
   "execution_count": 97,
   "metadata": {},
   "outputs": [
    {
     "name": "stdout",
     "output_type": "stream",
     "text": [
      "Time to Execute: 75.28 seconds\n"
     ]
    }
   ],
   "source": [
    "# fetch all db tracks\n",
    "db_tracks = display_time(session.query(Tracks).all)\n",
    "session.close()"
   ]
  },
  {
   "cell_type": "code",
   "execution_count": 98,
   "metadata": {},
   "outputs": [
    {
     "data": {
      "text/html": [
       "<div>\n",
       "<style scoped>\n",
       "    .dataframe tbody tr th:only-of-type {\n",
       "        vertical-align: middle;\n",
       "    }\n",
       "\n",
       "    .dataframe tbody tr th {\n",
       "        vertical-align: top;\n",
       "    }\n",
       "\n",
       "    .dataframe thead th {\n",
       "        text-align: right;\n",
       "    }\n",
       "</style>\n",
       "<table border=\"1\" class=\"dataframe\">\n",
       "  <thead>\n",
       "    <tr style=\"text-align: right;\">\n",
       "      <th></th>\n",
       "      <th>loudness</th>\n",
       "      <th>energy</th>\n",
       "      <th>artist_uri</th>\n",
       "      <th>track_popularity</th>\n",
       "      <th>duration_ms</th>\n",
       "      <th>tempo</th>\n",
       "      <th>liveness</th>\n",
       "      <th>acousticness</th>\n",
       "      <th>mode</th>\n",
       "      <th>key</th>\n",
       "      <th>danceability</th>\n",
       "      <th>time_signature</th>\n",
       "      <th>valence</th>\n",
       "      <th>instrumentalness</th>\n",
       "      <th>speechiness</th>\n",
       "    </tr>\n",
       "    <tr>\n",
       "      <th>track_uri</th>\n",
       "      <th></th>\n",
       "      <th></th>\n",
       "      <th></th>\n",
       "      <th></th>\n",
       "      <th></th>\n",
       "      <th></th>\n",
       "      <th></th>\n",
       "      <th></th>\n",
       "      <th></th>\n",
       "      <th></th>\n",
       "      <th></th>\n",
       "      <th></th>\n",
       "      <th></th>\n",
       "      <th></th>\n",
       "      <th></th>\n",
       "    </tr>\n",
       "  </thead>\n",
       "  <tbody>\n",
       "    <tr>\n",
       "      <th>spotify:track:2d7LPtieXdIYzf7yHPooWd</th>\n",
       "      <td>-9.649</td>\n",
       "      <td>0.157</td>\n",
       "      <td>spotify:artist:0MeLMJJcouYXCymQSHPn8g</td>\n",
       "      <td>65</td>\n",
       "      <td>242564</td>\n",
       "      <td>108.130</td>\n",
       "      <td>0.0816</td>\n",
       "      <td>0.974</td>\n",
       "      <td>1</td>\n",
       "      <td>11</td>\n",
       "      <td>0.467</td>\n",
       "      <td>4</td>\n",
       "      <td>0.2770</td>\n",
       "      <td>0.000001</td>\n",
       "      <td>0.0336</td>\n",
       "    </tr>\n",
       "    <tr>\n",
       "      <th>spotify:track:0y4TKcc7p2H6P0GJlt01EI</th>\n",
       "      <td>-13.367</td>\n",
       "      <td>0.207</td>\n",
       "      <td>spotify:artist:7w0qj2HiAPIeUcoPogvOZ6</td>\n",
       "      <td>36</td>\n",
       "      <td>253933</td>\n",
       "      <td>93.778</td>\n",
       "      <td>0.0773</td>\n",
       "      <td>0.961</td>\n",
       "      <td>1</td>\n",
       "      <td>10</td>\n",
       "      <td>0.312</td>\n",
       "      <td>4</td>\n",
       "      <td>0.2780</td>\n",
       "      <td>0.008180</td>\n",
       "      <td>0.0347</td>\n",
       "    </tr>\n",
       "    <tr>\n",
       "      <th>spotify:track:6q4c1vPRZREh7nw3wG7Ixz</th>\n",
       "      <td>-14.214</td>\n",
       "      <td>0.159</td>\n",
       "      <td>spotify:artist:32ogthv0BdaSMPml02X9YB</td>\n",
       "      <td>54</td>\n",
       "      <td>103920</td>\n",
       "      <td>85.462</td>\n",
       "      <td>0.0830</td>\n",
       "      <td>0.991</td>\n",
       "      <td>1</td>\n",
       "      <td>9</td>\n",
       "      <td>0.412</td>\n",
       "      <td>4</td>\n",
       "      <td>0.0389</td>\n",
       "      <td>0.772000</td>\n",
       "      <td>0.0278</td>\n",
       "    </tr>\n",
       "    <tr>\n",
       "      <th>spotify:track:54KFQB6N4pn926IUUYZGzK</th>\n",
       "      <td>-15.399</td>\n",
       "      <td>0.122</td>\n",
       "      <td>spotify:artist:32ogthv0BdaSMPml02X9YB</td>\n",
       "      <td>72</td>\n",
       "      <td>371320</td>\n",
       "      <td>148.658</td>\n",
       "      <td>0.0940</td>\n",
       "      <td>0.885</td>\n",
       "      <td>1</td>\n",
       "      <td>9</td>\n",
       "      <td>0.264</td>\n",
       "      <td>4</td>\n",
       "      <td>0.0735</td>\n",
       "      <td>0.349000</td>\n",
       "      <td>0.0349</td>\n",
       "    </tr>\n",
       "    <tr>\n",
       "      <th>spotify:track:0NeJjNlprGfZpeX2LQuN6c</th>\n",
       "      <td>-10.866</td>\n",
       "      <td>0.179</td>\n",
       "      <td>spotify:artist:3qnGvpP8Yth1AqSBMqON5x</td>\n",
       "      <td>75</td>\n",
       "      <td>238560</td>\n",
       "      <td>128.128</td>\n",
       "      <td>0.1700</td>\n",
       "      <td>0.689</td>\n",
       "      <td>1</td>\n",
       "      <td>8</td>\n",
       "      <td>0.658</td>\n",
       "      <td>4</td>\n",
       "      <td>0.1910</td>\n",
       "      <td>0.000000</td>\n",
       "      <td>0.0448</td>\n",
       "    </tr>\n",
       "  </tbody>\n",
       "</table>\n",
       "</div>"
      ],
      "text/plain": [
       "                                      loudness  energy  \\\n",
       "track_uri                                                \n",
       "spotify:track:2d7LPtieXdIYzf7yHPooWd    -9.649   0.157   \n",
       "spotify:track:0y4TKcc7p2H6P0GJlt01EI   -13.367   0.207   \n",
       "spotify:track:6q4c1vPRZREh7nw3wG7Ixz   -14.214   0.159   \n",
       "spotify:track:54KFQB6N4pn926IUUYZGzK   -15.399   0.122   \n",
       "spotify:track:0NeJjNlprGfZpeX2LQuN6c   -10.866   0.179   \n",
       "\n",
       "                                                                 artist_uri  \\\n",
       "track_uri                                                                     \n",
       "spotify:track:2d7LPtieXdIYzf7yHPooWd  spotify:artist:0MeLMJJcouYXCymQSHPn8g   \n",
       "spotify:track:0y4TKcc7p2H6P0GJlt01EI  spotify:artist:7w0qj2HiAPIeUcoPogvOZ6   \n",
       "spotify:track:6q4c1vPRZREh7nw3wG7Ixz  spotify:artist:32ogthv0BdaSMPml02X9YB   \n",
       "spotify:track:54KFQB6N4pn926IUUYZGzK  spotify:artist:32ogthv0BdaSMPml02X9YB   \n",
       "spotify:track:0NeJjNlprGfZpeX2LQuN6c  spotify:artist:3qnGvpP8Yth1AqSBMqON5x   \n",
       "\n",
       "                                      track_popularity  duration_ms    tempo  \\\n",
       "track_uri                                                                      \n",
       "spotify:track:2d7LPtieXdIYzf7yHPooWd                65       242564  108.130   \n",
       "spotify:track:0y4TKcc7p2H6P0GJlt01EI                36       253933   93.778   \n",
       "spotify:track:6q4c1vPRZREh7nw3wG7Ixz                54       103920   85.462   \n",
       "spotify:track:54KFQB6N4pn926IUUYZGzK                72       371320  148.658   \n",
       "spotify:track:0NeJjNlprGfZpeX2LQuN6c                75       238560  128.128   \n",
       "\n",
       "                                      liveness  acousticness  mode  key  \\\n",
       "track_uri                                                                 \n",
       "spotify:track:2d7LPtieXdIYzf7yHPooWd    0.0816         0.974     1   11   \n",
       "spotify:track:0y4TKcc7p2H6P0GJlt01EI    0.0773         0.961     1   10   \n",
       "spotify:track:6q4c1vPRZREh7nw3wG7Ixz    0.0830         0.991     1    9   \n",
       "spotify:track:54KFQB6N4pn926IUUYZGzK    0.0940         0.885     1    9   \n",
       "spotify:track:0NeJjNlprGfZpeX2LQuN6c    0.1700         0.689     1    8   \n",
       "\n",
       "                                      danceability  time_signature  valence  \\\n",
       "track_uri                                                                     \n",
       "spotify:track:2d7LPtieXdIYzf7yHPooWd         0.467               4   0.2770   \n",
       "spotify:track:0y4TKcc7p2H6P0GJlt01EI         0.312               4   0.2780   \n",
       "spotify:track:6q4c1vPRZREh7nw3wG7Ixz         0.412               4   0.0389   \n",
       "spotify:track:54KFQB6N4pn926IUUYZGzK         0.264               4   0.0735   \n",
       "spotify:track:0NeJjNlprGfZpeX2LQuN6c         0.658               4   0.1910   \n",
       "\n",
       "                                      instrumentalness  speechiness  \n",
       "track_uri                                                            \n",
       "spotify:track:2d7LPtieXdIYzf7yHPooWd          0.000001       0.0336  \n",
       "spotify:track:0y4TKcc7p2H6P0GJlt01EI          0.008180       0.0347  \n",
       "spotify:track:6q4c1vPRZREh7nw3wG7Ixz          0.772000       0.0278  \n",
       "spotify:track:54KFQB6N4pn926IUUYZGzK          0.349000       0.0349  \n",
       "spotify:track:0NeJjNlprGfZpeX2LQuN6c          0.000000       0.0448  "
      ]
     },
     "execution_count": 98,
     "metadata": {},
     "output_type": "execute_result"
    }
   ],
   "source": [
    "# create a Pandas dataframe\n",
    "df_all_tracks = pd.DataFrame([x.__dict__ for x in db_tracks]).drop('_sa_instance_state', axis=1).set_index(['track_uri'])\n",
    "df_all_tracks.head()"
   ]
  },
  {
   "cell_type": "code",
   "execution_count": 99,
   "metadata": {},
   "outputs": [],
   "source": [
    "# define features that we will use to create our custom vectors\n",
    "vector_features= [\n",
    "    'acousticness',\n",
    "    'danceability',\n",
    "    'duration_ms',\n",
    "    'energy',\n",
    "    'instrumentalness',\n",
    "    'key',\n",
    "    'liveness',\n",
    "    'loudness',\n",
    "    'mode',\n",
    "    'speechiness',\n",
    "    'tempo',\n",
    "    'time_signature',\n",
    "    'valence'\n",
    "]"
   ]
  },
  {
   "cell_type": "code",
   "execution_count": 100,
   "metadata": {},
   "outputs": [
    {
     "data": {
      "text/html": [
       "<div>\n",
       "<style scoped>\n",
       "    .dataframe tbody tr th:only-of-type {\n",
       "        vertical-align: middle;\n",
       "    }\n",
       "\n",
       "    .dataframe tbody tr th {\n",
       "        vertical-align: top;\n",
       "    }\n",
       "\n",
       "    .dataframe thead th {\n",
       "        text-align: right;\n",
       "    }\n",
       "</style>\n",
       "<table border=\"1\" class=\"dataframe\">\n",
       "  <thead>\n",
       "    <tr style=\"text-align: right;\">\n",
       "      <th></th>\n",
       "      <th>loudness</th>\n",
       "      <th>energy</th>\n",
       "      <th>duration_ms</th>\n",
       "      <th>tempo</th>\n",
       "      <th>liveness</th>\n",
       "      <th>acousticness</th>\n",
       "      <th>mode</th>\n",
       "      <th>key</th>\n",
       "      <th>danceability</th>\n",
       "      <th>time_signature</th>\n",
       "      <th>valence</th>\n",
       "      <th>instrumentalness</th>\n",
       "      <th>speechiness</th>\n",
       "    </tr>\n",
       "    <tr>\n",
       "      <th>track_uri</th>\n",
       "      <th></th>\n",
       "      <th></th>\n",
       "      <th></th>\n",
       "      <th></th>\n",
       "      <th></th>\n",
       "      <th></th>\n",
       "      <th></th>\n",
       "      <th></th>\n",
       "      <th></th>\n",
       "      <th></th>\n",
       "      <th></th>\n",
       "      <th></th>\n",
       "      <th></th>\n",
       "    </tr>\n",
       "  </thead>\n",
       "  <tbody>\n",
       "    <tr>\n",
       "      <th>spotify:track:2d7LPtieXdIYzf7yHPooWd</th>\n",
       "      <td>-9.649</td>\n",
       "      <td>0.157</td>\n",
       "      <td>242564</td>\n",
       "      <td>108.130</td>\n",
       "      <td>0.0816</td>\n",
       "      <td>0.974</td>\n",
       "      <td>1</td>\n",
       "      <td>11</td>\n",
       "      <td>0.467</td>\n",
       "      <td>4</td>\n",
       "      <td>0.2770</td>\n",
       "      <td>0.000001</td>\n",
       "      <td>0.0336</td>\n",
       "    </tr>\n",
       "    <tr>\n",
       "      <th>spotify:track:0y4TKcc7p2H6P0GJlt01EI</th>\n",
       "      <td>-13.367</td>\n",
       "      <td>0.207</td>\n",
       "      <td>253933</td>\n",
       "      <td>93.778</td>\n",
       "      <td>0.0773</td>\n",
       "      <td>0.961</td>\n",
       "      <td>1</td>\n",
       "      <td>10</td>\n",
       "      <td>0.312</td>\n",
       "      <td>4</td>\n",
       "      <td>0.2780</td>\n",
       "      <td>0.008180</td>\n",
       "      <td>0.0347</td>\n",
       "    </tr>\n",
       "    <tr>\n",
       "      <th>spotify:track:6q4c1vPRZREh7nw3wG7Ixz</th>\n",
       "      <td>-14.214</td>\n",
       "      <td>0.159</td>\n",
       "      <td>103920</td>\n",
       "      <td>85.462</td>\n",
       "      <td>0.0830</td>\n",
       "      <td>0.991</td>\n",
       "      <td>1</td>\n",
       "      <td>9</td>\n",
       "      <td>0.412</td>\n",
       "      <td>4</td>\n",
       "      <td>0.0389</td>\n",
       "      <td>0.772000</td>\n",
       "      <td>0.0278</td>\n",
       "    </tr>\n",
       "    <tr>\n",
       "      <th>spotify:track:54KFQB6N4pn926IUUYZGzK</th>\n",
       "      <td>-15.399</td>\n",
       "      <td>0.122</td>\n",
       "      <td>371320</td>\n",
       "      <td>148.658</td>\n",
       "      <td>0.0940</td>\n",
       "      <td>0.885</td>\n",
       "      <td>1</td>\n",
       "      <td>9</td>\n",
       "      <td>0.264</td>\n",
       "      <td>4</td>\n",
       "      <td>0.0735</td>\n",
       "      <td>0.349000</td>\n",
       "      <td>0.0349</td>\n",
       "    </tr>\n",
       "    <tr>\n",
       "      <th>spotify:track:0NeJjNlprGfZpeX2LQuN6c</th>\n",
       "      <td>-10.866</td>\n",
       "      <td>0.179</td>\n",
       "      <td>238560</td>\n",
       "      <td>128.128</td>\n",
       "      <td>0.1700</td>\n",
       "      <td>0.689</td>\n",
       "      <td>1</td>\n",
       "      <td>8</td>\n",
       "      <td>0.658</td>\n",
       "      <td>4</td>\n",
       "      <td>0.1910</td>\n",
       "      <td>0.000000</td>\n",
       "      <td>0.0448</td>\n",
       "    </tr>\n",
       "  </tbody>\n",
       "</table>\n",
       "</div>"
      ],
      "text/plain": [
       "                                      loudness  energy  duration_ms    tempo  \\\n",
       "track_uri                                                                      \n",
       "spotify:track:2d7LPtieXdIYzf7yHPooWd    -9.649   0.157       242564  108.130   \n",
       "spotify:track:0y4TKcc7p2H6P0GJlt01EI   -13.367   0.207       253933   93.778   \n",
       "spotify:track:6q4c1vPRZREh7nw3wG7Ixz   -14.214   0.159       103920   85.462   \n",
       "spotify:track:54KFQB6N4pn926IUUYZGzK   -15.399   0.122       371320  148.658   \n",
       "spotify:track:0NeJjNlprGfZpeX2LQuN6c   -10.866   0.179       238560  128.128   \n",
       "\n",
       "                                      liveness  acousticness  mode  key  \\\n",
       "track_uri                                                                 \n",
       "spotify:track:2d7LPtieXdIYzf7yHPooWd    0.0816         0.974     1   11   \n",
       "spotify:track:0y4TKcc7p2H6P0GJlt01EI    0.0773         0.961     1   10   \n",
       "spotify:track:6q4c1vPRZREh7nw3wG7Ixz    0.0830         0.991     1    9   \n",
       "spotify:track:54KFQB6N4pn926IUUYZGzK    0.0940         0.885     1    9   \n",
       "spotify:track:0NeJjNlprGfZpeX2LQuN6c    0.1700         0.689     1    8   \n",
       "\n",
       "                                      danceability  time_signature  valence  \\\n",
       "track_uri                                                                     \n",
       "spotify:track:2d7LPtieXdIYzf7yHPooWd         0.467               4   0.2770   \n",
       "spotify:track:0y4TKcc7p2H6P0GJlt01EI         0.312               4   0.2780   \n",
       "spotify:track:6q4c1vPRZREh7nw3wG7Ixz         0.412               4   0.0389   \n",
       "spotify:track:54KFQB6N4pn926IUUYZGzK         0.264               4   0.0735   \n",
       "spotify:track:0NeJjNlprGfZpeX2LQuN6c         0.658               4   0.1910   \n",
       "\n",
       "                                      instrumentalness  speechiness  \n",
       "track_uri                                                            \n",
       "spotify:track:2d7LPtieXdIYzf7yHPooWd          0.000001       0.0336  \n",
       "spotify:track:0y4TKcc7p2H6P0GJlt01EI          0.008180       0.0347  \n",
       "spotify:track:6q4c1vPRZREh7nw3wG7Ixz          0.772000       0.0278  \n",
       "spotify:track:54KFQB6N4pn926IUUYZGzK          0.349000       0.0349  \n",
       "spotify:track:0NeJjNlprGfZpeX2LQuN6c          0.000000       0.0448  "
      ]
     },
     "execution_count": 100,
     "metadata": {},
     "output_type": "execute_result"
    }
   ],
   "source": [
    "# Create a dataframe with the vectors for simplicity\n",
    "drop_cols = set(df_all_tracks.columns) - set(vector_features)\n",
    "df = df_all_tracks.drop(drop_cols, axis=1)\n",
    "df.head()"
   ]
  },
  {
   "cell_type": "code",
   "execution_count": 101,
   "metadata": {},
   "outputs": [],
   "source": [
    "# create a KeyedVectors object from the Word2Vec library\n",
    "# This will allow us to use the built-in Word2Vec functions\n",
    "accoustic_vectors = KeyedVectors(len(vector_features))\n",
    "\n",
    "# weights are the vectors for each track\n",
    "weights = np.array(df)\n",
    "\n",
    "# entities are the trackuris\n",
    "entities = np.array(df.index)\n",
    "\n",
    "# add the vectors to the dataset\n",
    "accoustic_vectors.add(entities, weights)"
   ]
  },
  {
   "cell_type": "code",
   "execution_count": 116,
   "metadata": {},
   "outputs": [],
   "source": [
    "seed_uri = db_track.track_uri\n",
    "playlist = np.array(accoustic_vectors.most_similar(seed_uri, topn=10))[:,0]\n",
    "# playlist = np.array(accoustic_vectors.similar_by_word(seed_uri, topn=10, restrict_vocab=None))[:,0]\n",
    "seed_track = get_tracks([seed_uri])[0]\n",
    "sp_playlist = get_tracks(playlist)"
   ]
  },
  {
   "cell_type": "code",
   "execution_count": 117,
   "metadata": {},
   "outputs": [
    {
     "name": "stdout",
     "output_type": "stream",
     "text": [
      "Playlist Seed:\n",
      "\tArtist       :  Tom Petty\n",
      "\tTrack        :  Free Fallin'\n",
      "\tTrack Preview:  None\n",
      "\n",
      "Artist       :  Grateful Dead\n",
      "Track        :  I Second That Emotion (Jerry Garcia/Bob Weir David Letterman Show October 1989)\n",
      "Track Preview:  https://p.scdn.co/mp3-preview/e4fd06bbdd507c528979040c4dc4250118336232?cid=72413f75d4db4ec79c6caaf02523959e\n",
      "\n",
      "Artist       :  Orup\n",
      "Track        :  Stockholm\n",
      "Track Preview:  https://p.scdn.co/mp3-preview/0c3ba81e7c01001afc2b96b3552635950e67f7ab?cid=72413f75d4db4ec79c6caaf02523959e\n",
      "\n",
      "Artist       :  General Midi\n",
      "Track        :  Milton\n",
      "Track Preview:  https://p.scdn.co/mp3-preview/226b45f8a48d27590c3b19883c6ba82760f28340?cid=72413f75d4db4ec79c6caaf02523959e\n",
      "\n",
      "Artist       :  Steelism\n",
      "Track        :  Lewis & Clark\n",
      "Track Preview:  None\n",
      "\n",
      "Artist       :  Denny Schneidemesser\n",
      "Track        :  Far Beyond The Stars\n",
      "Track Preview:  https://p.scdn.co/mp3-preview/528371a04ce56449d46df8ae1b6a03c6ab5276ea?cid=72413f75d4db4ec79c6caaf02523959e\n",
      "\n",
      "Artist       :  Alex Vans\n",
      "Track        :  Chase the Night\n",
      "Track Preview:  None\n",
      "\n",
      "Artist       :  Blake Shelton\n",
      "Track        :  Good Country Song\n",
      "Track Preview:  https://p.scdn.co/mp3-preview/cd64d61bfd569e01d22ade819c88fb80bb2510ee?cid=72413f75d4db4ec79c6caaf02523959e\n",
      "\n",
      "Artist       :  El Apache Ness\n",
      "Track        :  Hoy Sí Mami\n",
      "Track Preview:  https://p.scdn.co/mp3-preview/6964b503b20d9f1e60ae563f65ccb60439b6dd53?cid=72413f75d4db4ec79c6caaf02523959e\n",
      "\n",
      "Artist       :  Donavon Frankenreiter\n",
      "Track        :  You\n",
      "Track Preview:  https://p.scdn.co/mp3-preview/2e5dd1e4ea1f457bd740bb136ae55af70005d1ff?cid=72413f75d4db4ec79c6caaf02523959e\n",
      "\n",
      "Artist       :  Edward Elgar\n",
      "Track        :  Romance, Op.62\n",
      "Track Preview:  None\n",
      "\n"
     ]
    }
   ],
   "source": [
    "print(\"Playlist Seed:\")\n",
    "print(\"\\tArtist       : \", seed_track['artists'][0]['name'])\n",
    "print(\"\\tTrack        : \", seed_track['name'])\n",
    "print(\"\\tTrack Preview: \", seed_track['preview_url'] )\n",
    "print()\n",
    "for t in sp_playlist:\n",
    "    print(\"Artist       : \", t['artists'][0]['name'])\n",
    "    print(\"Track        : \", t['name'])\n",
    "    print(\"Track Preview: \", t['preview_url'] )\n",
    "    print() "
   ]
  },
  {
   "cell_type": "markdown",
   "metadata": {},
   "source": [
    "### Result:\n",
    "This does not look so great.  It looks nothing like our previous lists and the songs are not as similar to the seed song as I would like.  What happened?\n",
    "\n",
    "I can tell you what happened.  This approach takes independent songs and creates vectors from the songs features.  These vectors have nothing to do with the playlists and have no other relationship to other vectors other than their mathmatical distance.  Why doesn't this work?  Because 2 totally different songs can have a combination of feature values that result in the same/similar vector magnitude but not have any commonality other than that.  \n",
    "\n",
    "This approach is more like the 'content-based recommender' approach described in the intoduction.  "
   ]
  },
  {
   "cell_type": "code",
   "execution_count": null,
   "metadata": {},
   "outputs": [],
   "source": []
  },
  {
   "cell_type": "code",
   "execution_count": null,
   "metadata": {},
   "outputs": [],
   "source": []
  }
 ],
 "metadata": {
  "kernelspec": {
   "display_name": "Python 3",
   "language": "python",
   "name": "python3"
  },
  "language_info": {
   "codemirror_mode": {
    "name": "ipython",
    "version": 3
   },
   "file_extension": ".py",
   "mimetype": "text/x-python",
   "name": "python",
   "nbconvert_exporter": "python",
   "pygments_lexer": "ipython3",
   "version": "3.6.8"
  }
 },
 "nbformat": 4,
 "nbformat_minor": 2
}
