{
 "cells": [
  {
   "cell_type": "markdown",
   "metadata": {},
   "source": [
    "### Spotify EDA"
   ]
  },
  {
   "cell_type": "markdown",
   "metadata": {},
   "source": [
    "Loads CSV files in a directory into a SQLite database.\n",
    "\n",
    "Load takes several hours."
   ]
  },
  {
   "cell_type": "code",
   "execution_count": 1,
   "metadata": {},
   "outputs": [],
   "source": [
    "import numpy as np\n",
    "import pandas as pd\n",
    "import matplotlib\n",
    "import matplotlib.pyplot as plt\n",
    "import os\n",
    "import sys\n",
    "import json\n",
    "import seaborn as sns\n",
    "\n",
    "from sqlalchemy.ext.declarative import declarative_base\n",
    "from sqlalchemy import Table, Column, Integer, String, MetaData\n",
    "from sqlalchemy import create_engine\n",
    "import sqlite3\n",
    "from sqlalchemy.orm import sessionmaker\n",
    "\n",
    "%matplotlib inline"
   ]
  },
  {
   "cell_type": "code",
   "execution_count": 2,
   "metadata": {},
   "outputs": [],
   "source": [
    "db_path = '../data/spotify_songs.db'"
   ]
  },
  {
   "cell_type": "code",
   "execution_count": 4,
   "metadata": {},
   "outputs": [],
   "source": [
    "# Create DB and Table if they don't exist\n",
    "\n",
    "# engine = create_engine('sqlite:///' + db_path)\n",
    "# connection = engine.connect() #creates db if it doesn't exist\n",
    "# meta = MetaData()\n",
    "# songs = Table(\n",
    "#                 'songs', meta,\n",
    "#                 Column('id', Integer, primary_key = True),\n",
    "#                 Column('playlist_id', Integer),\n",
    "#                 Column('pos', Integer), \n",
    "#                 Column('artist_name', String), \n",
    "#                 Column('track_uri', String),\n",
    "#                 Column('artist_uri', String), \n",
    "#                 Column('track_name', String),\n",
    "#                 Column('album_uri', String), \n",
    "#                 Column('duration_ms', String), \n",
    "#                 Column('album_name', String)\n",
    "# )\n",
    "# meta.create_all(engine)"
   ]
  },
  {
   "cell_type": "code",
   "execution_count": 5,
   "metadata": {},
   "outputs": [],
   "source": [
    "# # Create Songs object that links to DB table\n",
    "# Base = declarative_base()\n",
    "\n",
    "# class Songs(Base):\n",
    "#     __tablename__ = 'songs'\n",
    "    \n",
    "#     id = Column(Integer, primary_key = True)\n",
    "#     playlist_id = Column(Integer)\n",
    "#     pos = Column(Integer)\n",
    "#     artist_name = Column(String) \n",
    "#     track_uri = Column(String)\n",
    "#     artist_uri = Column(String) \n",
    "#     track_name = Column(String)\n",
    "#     album_uri = Column(String) \n",
    "#     duration_ms = Column(String) \n",
    "#     album_name = Column(String)\n",
    "    "
   ]
  },
  {
   "cell_type": "code",
   "execution_count": 8,
   "metadata": {},
   "outputs": [],
   "source": [
    "# Load a single file\n",
    "def load_file(directory:str, filename:str, playlist_init:int=None)->None:\n",
    "    \n",
    "    Session = sessionmaker(bind = engine)\n",
    "    session = Session()\n",
    "    \n",
    "    df_songs = pd.read_csv(os.path.join(songs_dir, filename))\n",
    "    \n",
    "    playlist_id = playlist_init-1\n",
    "    cur_list = -1\n",
    "    for i in range(len(df_songs)):\n",
    "        song = df_songs.iloc[i]\n",
    "        if cur_list != song.pid:\n",
    "            cur_list = song.pid\n",
    "            playlist_id = playlist_id + 1\n",
    "            \n",
    "        session.add(Songs(  playlist_id = playlist_id,\n",
    "                            pos         = song.pos ,\n",
    "                            artist_name = song.artist_name ,\n",
    "                            track_uri   = song.track_uri ,\n",
    "                            artist_uri  = song.artist_uri ,\n",
    "                            track_name  = song.track_name ,\n",
    "                            album_uri   = song.album_uri ,\n",
    "                            duration_ms = song.duration_ms ,\n",
    "                            album_name  = song.album_name))\n",
    "\n",
    "    session.commit()\n",
    "    \n",
    "    return playlist_id"
   ]
  },
  {
   "cell_type": "code",
   "execution_count": 13,
   "metadata": {},
   "outputs": [],
   "source": [
    "# Load all files in a directory\n",
    "def load_files(directory:str) -> None :\n",
    "    last_playlist_id = 1\n",
    "    \n",
    "    for i, filename in enumerate(os.listdir(songs_dir)):\n",
    "        print(\"\\rLoading Playlist: {}\".format(last_playlist_id), end=\"\")\n",
    "        if filename.startswith(\"songs\") and filename.endswith(\".csv\"): \n",
    "            last_playlist_id = load_file(songs_dir, filename, last_playlist_id)\n",
    "        else:\n",
    "            continue"
   ]
  },
  {
   "cell_type": "code",
   "execution_count": 14,
   "metadata": {},
   "outputs": [
    {
     "name": "stdout",
     "output_type": "stream",
     "text": [
      "Loading Playlist: 998002"
     ]
    }
   ],
   "source": [
    "# LOAD DATABASE\n",
    "# Loads all files in directory\n",
    "# WARNING!!!!!!!!!!       WILL TAKE HOURS (Took 5.5 hours to load)\n",
    "\n",
    "\n",
    "\n",
    "# load_files(songs_dir)  # executed on 10/23/2019 - loaded 998002 playlists\n"
   ]
  },
  {
   "cell_type": "code",
   "execution_count": null,
   "metadata": {},
   "outputs": [],
   "source": []
  },
  {
   "cell_type": "code",
   "execution_count": 171,
   "metadata": {},
   "outputs": [],
   "source": []
  },
  {
   "cell_type": "code",
   "execution_count": null,
   "metadata": {},
   "outputs": [],
   "source": [
    "connection.close()"
   ]
  }
 ],
 "metadata": {
  "kernelspec": {
   "display_name": "Python 3",
   "language": "python",
   "name": "python3"
  },
  "language_info": {
   "codemirror_mode": {
    "name": "ipython",
    "version": 3
   },
   "file_extension": ".py",
   "mimetype": "text/x-python",
   "name": "python",
   "nbconvert_exporter": "python",
   "pygments_lexer": "ipython3",
   "version": "3.7.4"
  }
 },
 "nbformat": 4,
 "nbformat_minor": 2
}
