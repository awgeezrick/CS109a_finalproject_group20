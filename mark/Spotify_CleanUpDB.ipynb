{
 "cells": [
  {
   "cell_type": "markdown",
   "metadata": {},
   "source": [
    "### Spotify EDA\n",
    "#### Clean Up DB"
   ]
  },
  {
   "cell_type": "markdown",
   "metadata": {},
   "source": [
    "Database Cleanup Actions:\n",
    "- Make new playlist table to store deleted entries\n",
    "\n",
    "- iterate over all playlist items in batches of 50\n",
    "- Check that artist link is valid\n",
    "- If it returns something else - overwrite initial uri with the returned uri\n",
    "- Check that artist is in artist table - if not load new artist - update popularity\n",
    "- Check that track link is valid - if not valid, move to deleted entries table\n",
    "- If valid, check that uri is in the track table - update popularity of track and artist\n"
   ]
  },
  {
   "cell_type": "code",
   "execution_count": 29,
   "metadata": {},
   "outputs": [],
   "source": [
    "import warnings\n",
    "warnings.filterwarnings('ignore')\n",
    "%config InlineBackend.figure_format ='retina'"
   ]
  },
  {
   "cell_type": "code",
   "execution_count": 1,
   "metadata": {},
   "outputs": [],
   "source": [
    "import numpy as np\n",
    "import pandas as pd\n",
    "import matplotlib\n",
    "import matplotlib.pyplot as plt\n",
    "import os\n",
    "import sys\n",
    "import json\n",
    "import seaborn as sns\n",
    "import time\n",
    "from time import sleep\n",
    "\n",
    "from sqlalchemy.ext.declarative import declarative_base\n",
    "from sqlalchemy import Table, Column, Integer, String, Float, MetaData, and_, or_\n",
    "from sqlalchemy import create_engine\n",
    "import sqlite3\n",
    "from sqlalchemy.orm import sessionmaker\n",
    "from sqlalchemy import exc\n",
    "\n",
    "sys.path.append('../')\n",
    "from spotify_api import get_spotify_data, get_tracks, get_artists, get_audiofeatures\n",
    "from spotify_database import get_session, display_time\n",
    "from spotify_utils import Table_Generator, List_Generator, pickle_load, pickle_save\n",
    "\n",
    "%matplotlib inline"
   ]
  },
  {
   "cell_type": "code",
   "execution_count": 2,
   "metadata": {},
   "outputs": [],
   "source": [
    "# !pip install ipywidgets \n",
    "# !jupyter nbextension enable --py widgetsnbextension\n",
    "# !jupyter labextension install @jupyter-widgets/jupyterlab-manager\n",
    "\n",
    "# %%capture\n",
    "from tqdm import tqdm_notebook as tqdm\n"
   ]
  },
  {
   "cell_type": "markdown",
   "metadata": {},
   "source": [
    "### Establish DataBase Connection"
   ]
  },
  {
   "cell_type": "code",
   "execution_count": 3,
   "metadata": {},
   "outputs": [],
   "source": [
    "db_path = '../data/SpotifyDataSet/spotify_songs.db'\n",
    "\n",
    "# Get sesion\n",
    "session = get_session(db_path)\n",
    "engine = create_engine('sqlite:///' + db_path)\n",
    "\n",
    "# Get Songs class\n",
    "Playlists = getattr(get_session, \"Playlists\")\n",
    "Artists = getattr(get_session, \"Artists\")\n",
    "Tracks = getattr(get_session, \"Tracks\")\n"
   ]
  },
  {
   "cell_type": "code",
   "execution_count": 4,
   "metadata": {},
   "outputs": [],
   "source": [
    "# Create DB and Table if they don't exist\n",
    "\n",
    "\n",
    "# connection = engine.connect() #creates db if it doesn't exist\n",
    "# meta = MetaData()\n",
    "\n",
    "# songs = Table(\n",
    "#                 'songs', meta,\n",
    "#                 Column('id', Integer, primary_key = True),\n",
    "#                 Column('playlist_id', Integer),\n",
    "#                 Column('pos', Integer), \n",
    "#                 Column('artist_name', String), \n",
    "#                 Column('track_uri', String),\n",
    "#                 Column('artist_uri', String), \n",
    "#                 Column('track_name', String),\n",
    "#                 Column('album_uri', String), \n",
    "#                 Column('duration_ms', String), \n",
    "#                 Column('album_name', String)\n",
    "# )\n",
    "\n",
    "# tracks = Table(\n",
    "#                 'tracks', meta,\n",
    "#                 Column('track_uri', String, primary_key = True),\n",
    "#                 Column('artist_uri', String),\n",
    "#                 Column('danceability', Float),\n",
    "#                 Column('energy', Float),\n",
    "#                 Column('key', Integer),\n",
    "#                 Column('loudness', Float),\n",
    "#                 Column('mode', Integer),\n",
    "#                 Column('speechiness', Float),\n",
    "#                 Column('acousticness', Float),\n",
    "#                 Column('instrumentalness', Float),\n",
    "#                 Column('liveness', Float),\n",
    "#                 Column('valence', Float),\n",
    "#                 Column('tempo', Float),\n",
    "#                 Column('duration_ms', Integer),\n",
    "#                 Column('time_signature', Integer)\n",
    "# )\n",
    "\n",
    "# artists = Table(\n",
    "#                 'artists', meta,\n",
    "#                 Column('artist_uri', String, primary_key = True),\n",
    "#                 Column('followers', Integer),\n",
    "#                 Column('genres', String),\n",
    "#                 Column('artist_name', String),\n",
    "#                 Column('artist_popularity', Integer)\n",
    "# )\n",
    "\n",
    "# meta.create_all(engine)"
   ]
  },
  {
   "cell_type": "code",
   "execution_count": 5,
   "metadata": {},
   "outputs": [],
   "source": [
    "# session.rollback()\n",
    "# session.commit()"
   ]
  },
  {
   "cell_type": "markdown",
   "metadata": {},
   "source": [
    "### Establish Spotify API Connection"
   ]
  },
  {
   "cell_type": "code",
   "execution_count": 6,
   "metadata": {},
   "outputs": [
    {
     "name": "stdout",
     "output_type": "stream",
     "text": [
      "Time to Execute: 0.0 seconds\n"
     ]
    }
   ],
   "source": [
    "# Get URI for Artist, Track and Album for a song\n",
    "rv = display_time(session.query(Playlists.track_name, \n",
    "                                Playlists.track_uri,\n",
    "                                Playlists.artist_uri,\n",
    "                                Playlists.album_uri).filter(Playlists.track_name==\"Who Says\").distinct().first)\n"
   ]
  },
  {
   "cell_type": "code",
   "execution_count": 7,
   "metadata": {},
   "outputs": [
    {
     "data": {
      "text/plain": [
       "'spotify:artist:0hEurMDQu99nJRq8pTxO14'"
      ]
     },
     "execution_count": 7,
     "metadata": {},
     "output_type": "execute_result"
    }
   ],
   "source": [
    "rv.artist_uri"
   ]
  },
  {
   "cell_type": "code",
   "execution_count": 8,
   "metadata": {},
   "outputs": [
    {
     "name": "stdout",
     "output_type": "stream",
     "text": [
      "Setting credentials\n",
      "token():INFO:   Getting initial token\n",
      "token():INFO:   Token refreshed\n"
     ]
    },
    {
     "data": {
      "text/plain": [
       "['neo mellow', 'pop', 'pop rock', 'singer-songwriter']"
      ]
     },
     "execution_count": 8,
     "metadata": {},
     "output_type": "execute_result"
    }
   ],
   "source": [
    "get_spotify_data(db_uri=rv.artist_uri, key='genres')"
   ]
  },
  {
   "cell_type": "code",
   "execution_count": 9,
   "metadata": {},
   "outputs": [],
   "source": [
    "# def build_track_string(uri_list:list) -> str:\n",
    "#     rv_str = ''\n",
    "    \n",
    "#     for u in uri_list:\n",
    "#         t_type, t_id = parse_spotify_url(u)\n",
    "#         if t_type != \"track\":\n",
    "#             print(\"ERR: Only 'track'-type uri's have features: {}\".format(u))\n",
    "#             return False\n",
    "        \n",
    "#         if rv_str == '':\n",
    "#             rv_str += t_id\n",
    "#         else:\n",
    "#             rv_str += ',' + t_id\n",
    "            \n",
    "#     return rv_str"
   ]
  },
  {
   "cell_type": "code",
   "execution_count": 10,
   "metadata": {},
   "outputs": [],
   "source": [
    "def load_tracks(uri_list, db_path, batch_size:int=100):\n",
    "    \"\"\"\n",
    "    Loads a list of uris into the database.\n",
    "    Returns a list of uris that were loaded\n",
    "    If any item fails, no items from list are loaded.\n",
    "    \"\"\"\n",
    "    \n",
    "    engine = create_engine('sqlite:///' + db_path)\n",
    "    Session = sessionmaker(bind = engine)\n",
    "    session = Session()\n",
    "    \n",
    "    batch_gen = List_Generator.batch_generator(uri_list, batch_size=batch_size)\n",
    "\n",
    "    loaded_uris = []\n",
    "    for uri_batch in batch_gen:\n",
    "\n",
    "        sp_tracks = get_audiofeatures(uri_batch)\n",
    "\n",
    "        for t in sp_tracks:\n",
    "            try:\n",
    "                if t == None:\n",
    "                    loaded_uris.append(None)\n",
    "\n",
    "                else:\n",
    "                    session.add(Tracks( track_uri           = t.get('uri'),\n",
    "                                        artist_uri          = t.get('artists')[0].get('uri'),\n",
    "                                        danceability        = t.get('danceability'),\n",
    "                                        energy              = t.get('energy'),\n",
    "                                        key                 = t.get('key'),\n",
    "                                        loudness            = t.get('loudness'),\n",
    "                                        mode                = t.get('mode'),\n",
    "                                        speechiness         = t.get('speechiness'),\n",
    "                                        acousticness        = t.get('acousticness'),\n",
    "                                        instrumentalness    = t.get('instrumentalness'),\n",
    "                                        liveness            = t.get('liveness'),\n",
    "                                        valence             = t.get('valence'),\n",
    "                                        tempo               = t.get('tempo'),\n",
    "                                        duration_ms         = t.get('duration_ms'),\n",
    "                                        time_signature      = t.get('time_signature')\n",
    "                                      ) \n",
    "                               )\n",
    "                    loaded_uris.append(t.get('uri'))\n",
    "\n",
    "            except Exception as e:\n",
    "                print(e)\n",
    "                print(\"Problem happened at uri: {}\".format(t))\n",
    "                print(\"Graceful shutdown of session...\")\n",
    "                session.rollback()\n",
    "                print(\"Closing session...\")\n",
    "                session.close()\n",
    "                return [None]\n",
    "\n",
    "    session.commit()\n",
    "    session.close()\n",
    "    return loaded_uris\n",
    "    "
   ]
  },
  {
   "cell_type": "code",
   "execution_count": 11,
   "metadata": {},
   "outputs": [],
   "source": [
    "def load_artists(artists_uri_list, db_path, batch_size:int=50):\n",
    "    \"\"\"\n",
    "    Loads new artists into the Artits table.\n",
    "    Can send a long list.  It will batch into batches of batch_size.\n",
    "    Loads as many as it can before failing.\n",
    "    \"\"\"\n",
    "    \n",
    "    if type(artists_uri_list) != list:\n",
    "        print(\"load_artsist() needs a list. '{}' type provided.\".format(type(artists_uri_list)))\n",
    "        return 0\n",
    "    \n",
    "    engine = create_engine('sqlite:///' + db_path)\n",
    "    Session = sessionmaker(bind = engine)\n",
    "    session = Session()\n",
    " \n",
    "    loaded_uris = []\n",
    "    \n",
    "    batch_gen = List_Generator(artists_uri_list, batch_size=batch_size).batch_generator()\n",
    "    \n",
    "    for uri_batch in batch_gen:\n",
    "    \n",
    "        artists = get_artists(uri_batch)\n",
    "\n",
    "        for a in artists:\n",
    "\n",
    "            if a == None:\n",
    "                loaded_uris.append(None)\n",
    "                continue\n",
    "\n",
    "            session.add(Artists( artist_uri          = a.get('uri'),\n",
    "                                 followers           = a.get('followers').get('total'),\n",
    "                                 genres              = \",\".join(a.get('genres')),\n",
    "                                 artist_name         = a.get('name'),\n",
    "                                 artist_popularity   = a.get('popularity')\n",
    "                               )\n",
    "                       )\n",
    "\n",
    "        try:\n",
    "            session.commit()\n",
    "            loaded_uris.append(a.get('uri'))\n",
    "            \n",
    "        except Exception as e:\n",
    "            print(e)\n",
    "            session.rollback()\n",
    "\n",
    "            # commit individually\n",
    "            for i, a in enumerate(artists):\n",
    "                session.add(Artists( artist_uri          = a.get('uri'),\n",
    "                                     followers           = a.get('followers').get('total'),\n",
    "                                     genres              = \",\".join(a.get('genres')),\n",
    "                                     artist_name         = a.get('name'),\n",
    "                                     artist_popularity   = a.get('popularity')\n",
    "                                   )\n",
    "                           )\n",
    "                try:\n",
    "                    session.commit()\n",
    "                    loaded_uris.append(a.get('uri'))\n",
    "                    \n",
    "                except Exception as e:\n",
    "                    print(\"Artist Load ERR:{}   {} - {}\".format(i, a.get('uri'), a.get('name') ))\n",
    "                    session.rollback()\n",
    "\n",
    "    session.close()\n",
    "    return loaded_uris"
   ]
  },
  {
   "cell_type": "markdown",
   "metadata": {},
   "source": [
    "### DB Cleanup\n",
    "\n",
    "Database Cleanup Actions:\n",
    "- Make new playlist table to store deleted entries\n",
    "\n",
    "- iterate over all playlist items in batches of 50\n",
    "- Check that artist link is valid\n",
    "- If it returns something else - overwrite initial uri with the returned uri\n",
    "- Check that artist is in artist table - if not load new artist - update popularity\n",
    "- Check that track link is valid - if not valid, move to deleted entries table\n",
    "- If valid, check that uri is in the track table - update popularity of track and artist"
   ]
  },
  {
   "cell_type": "code",
   "execution_count": 12,
   "metadata": {},
   "outputs": [],
   "source": [
    "# Check that artists exist in Artist table - load, if they don't\n",
    "# returns the artist db entries\n",
    "def get_db_artists(artist_uri_list, load_missing:bool=False, debugging:bool=False) -> list:\n",
    "    \"\"\"\n",
    "    Checks that a list of artists exists in the Artists\n",
    "    table and will load any that don't exist if load_missing=True.\n",
    "    Returns list of db records for artists.  \n",
    "    If not found, None entry is included in list.\n",
    "    \"\"\"\n",
    "    session = get_session(db_path)\n",
    "    \n",
    "    db_artist_list = []\n",
    "    try:\n",
    "        for a in artist_uri_list:\n",
    "            db_artist = session.query(Artists).filter(Artists.artist_uri==a).first()\n",
    "            if db_artist == None: # if not in table\n",
    "                if load_missing:\n",
    "                    if debugging:\n",
    "                        print(\"Loading missing artist: {}\".format(a))\n",
    "                    loaded_uris = load_artists([a], db_path)\n",
    "                    if loaded_uris[0] == None:\n",
    "                        db_artist_list.append(None)\n",
    "                    else:\n",
    "                        # now get the db isting of the artist\n",
    "                        db_artist = session.query(Artists).filter(Artists.artist_uri==a).first()\n",
    "                        db_artist_list.append(db_artist)\n",
    "                else:\n",
    "                    db_artist_list.append(None)\n",
    "    except Exception as e:\n",
    "        print(\"get_db_artists(): ERR at laoding uri: {}\".format(a))\n",
    "        print(e)\n",
    "        \n",
    "    \n",
    "    session.close()\n",
    "    \n",
    "    if debugging:\n",
    "        none_idxs = np.where(np.array(db_artist_list))\n",
    "        if len(none_idxs)>0:\n",
    "            print(\"Note uris that are not in DB. Returned as 'None' is list:\")\n",
    "            for i in none_idxs:\n",
    "                print(\"\\t{}\".format(artist_uri_list[i]))\n",
    "    \n",
    "    return db_artist_list"
   ]
  },
  {
   "cell_type": "code",
   "execution_count": 13,
   "metadata": {},
   "outputs": [],
   "source": [
    "# Check that artists exist in Artist table - load, if they don't\n",
    "# returns the artist db entries\n",
    "def get_db_tracks(track_uri_list, load_missing:bool=False, debugging:bool=False) -> list:\n",
    "    \"\"\"\n",
    "    Checks that a list of tracks exists in the Tracks\n",
    "    table and will load any that don't exist if load_missing=True.\n",
    "    Returns list of db records for tracks.  \n",
    "    If not found, None entry is included in list.\n",
    "    \"\"\"\n",
    "    session = get_session(db_path)\n",
    "    \n",
    "    db_track_list = []\n",
    "    try:\n",
    "        for t in track_uri_list:\n",
    "            db_track = session.query(Tracks).filter(Tracks.track_uri==t).first()\n",
    "            if db_track == None:\n",
    "                if load_missing:\n",
    "                    if debugging:\n",
    "                        print(\"Loading missing track: {}\".format(t))\n",
    "                    loaded_uris = load_tracks([t], db_path)\n",
    "                    if loaded_uris[0] == None:\n",
    "                        db_track_list.append(None)\n",
    "                    else:\n",
    "                        # now get the db listing of the track\n",
    "                        db_track = session.query(Tracks).filter(Tracks.track_uri==t).first()\n",
    "                        db_track_list.append(db_track)\n",
    "                else:\n",
    "                    db_track_list.append(None)\n",
    "    except Exception as e:\n",
    "        print(\"get_db_tracks() ERR at loading uri: {}\".format(t))\n",
    "        print(e)\n",
    "    \n",
    "    session.close()\n",
    "    \n",
    "    if debugging:\n",
    "        none_idxs = np.where(np.array(db_track_list))\n",
    "        if len(none_idxs)>0:\n",
    "            print(\"Note uris that are not in DB. Returned as 'None' is list:\")\n",
    "            for i in none_idxs:\n",
    "                print(\"\\t{}\".format(track_uri_list[i]))\n",
    "        \n",
    "    return db_track_list"
   ]
  },
  {
   "cell_type": "code",
   "execution_count": 14,
   "metadata": {},
   "outputs": [],
   "source": [
    "def update_artist_table(artist_uris:list=None, batch_size:int=50):\n",
    "    \"\"\"\n",
    "    Updates the artist followers, popularity and genres in the Artist table.\n",
    "    If 'artist_uris' argument is blank, updates all.\n",
    "    If list is provided, updates only the items in the list and adds them if missing.\n",
    "    \"\"\"\n",
    "    main_session = get_session(db_path)\n",
    "    batch_gen = ''\n",
    "    if artist_uris != None:\n",
    "        db_artists = get_db_artists(artist_uris, load_missing=True) # creates entries if missing\n",
    "        if len(db_artists) == 0:\n",
    "            print(\"No matching URIs in DB.  No artists updated.\")\n",
    "            return\n",
    "        batch_gen = List_Generator(db_artists, batch_size=batch_size).batch_generator()\n",
    "    else:\n",
    "        query = main_session.query(Artists)\n",
    "        batch_gen = Table_Generator(query=query, batch_size=batch_size).batch_generator()\n",
    "    \n",
    "    try:\n",
    "        for db_artists in batch_gen:\n",
    "\n",
    "            # get spotify artists\n",
    "            db_artist_uris = [a.artist_uri for a in db_artists]\n",
    "            sp_artists = get_artists(db_artist_uris)\n",
    "            if sp_artists == False:\n",
    "                raise Exception(\"Unable to get data from Spotify.  Service may be down.\")\n",
    "\n",
    "            # update each artist with spotify data\n",
    "            for db_artist, sp_artist in zip(db_artists, sp_artists):\n",
    "                db_artist.followers = sp_artist.get(\"followers\").get(\"total\")\n",
    "                db_artist.artist_popularity = sp_artist.get(\"popularity\")\n",
    "                db_artist.genres = \",\".join(sp_artist.get('genres'))\n",
    "\n",
    "    #             print(sp_artist.get(\"followers\").get(\"total\"), sp_artist.get(\"popularity\"), \",\".join(sp_artist.get('genres')))\n",
    "    except Exception as e:\n",
    "        print(e)\n",
    "        print(\"Graceful session termination...\")\n",
    "        main_session.rollback()\n",
    "        main_session.close()\n",
    "        return None\n",
    "    \n",
    "    print(\"Committing Session ...\")\n",
    "    main_session.commit()\n",
    "    print(\"Closing Session ...\")\n",
    "    main_session.close()\n",
    "    "
   ]
  },
  {
   "cell_type": "code",
   "execution_count": 17,
   "metadata": {},
   "outputs": [
    {
     "name": "stdout",
     "output_type": "stream",
     "text": [
      "Creating Table Generator:\n",
      "\tbatch size :  50\n",
      "\tlength     :  296014\n",
      "\tnum batches:  5921\n"
     ]
    },
    {
     "data": {
      "application/vnd.jupyter.widget-view+json": {
       "model_id": "b5092dc9779246958ffb7b4a524fbd1a",
       "version_major": 2,
       "version_minor": 0
      },
      "text/plain": [
       "HBox(children=(IntProgress(value=0, max=296014), HTML(value='')))"
      ]
     },
     "metadata": {},
     "output_type": "display_data"
    },
    {
     "name": "stdout",
     "output_type": "stream",
     "text": [
      "\n",
      "Committing Session ...\n",
      "Closing Session ...\n"
     ]
    }
   ],
   "source": [
    "# # Takes about 15 minutes\n",
    "update_artist_table()"
   ]
  },
  {
   "cell_type": "code",
   "execution_count": 15,
   "metadata": {},
   "outputs": [],
   "source": [
    "def update_tracks_table(track_uris:list=None, batch_size:int=50):\n",
    "    \"\"\"\n",
    "    Updates the tracks table popularity.\n",
    "    If argument is blank, updates all table records.\n",
    "    If argument is provided, updates only the items in the list and adds them if missing.\n",
    "    \"\"\"\n",
    "    main_session = get_session(db_path)\n",
    "    batch_gen = ''\n",
    "    artists_not_in_spotify = []\n",
    "    if track_uris != None:\n",
    "        #make generator from a list\n",
    "        db_tracks = get_db_tracks(track_uris) # creates entries if missing\n",
    "        if len(db_tracks) == 0:\n",
    "            print(\"No matching URIs in DB.  No tracks updated.\")\n",
    "            return\n",
    "        \n",
    "        batch_gen = List_Generator(db_tracks, batch_size=batch_size).batch_generator()\n",
    "    else:\n",
    "        # make generator from database\n",
    "#         query = main_session.query(Tracks)\n",
    "        query = main_session.query(Tracks).filter(Tracks.track_popularity==None)\n",
    "        batch_gen = Table_Generator(query=query, batch_size=batch_size).batch_generator()\n",
    "    \n",
    "    for db_tracks in batch_gen:\n",
    "\n",
    "        # get spotify tracks\n",
    "        db_track_uris = [t.track_uri for t in db_tracks]\n",
    "        sp_tracks = get_tracks(db_track_uris)\n",
    "        if sp_tracks == False:\n",
    "            continue\n",
    "        \n",
    "        # see if spotify returns some as None - remove them from the update lists\n",
    "        none_idxs = np.where(np.array(sp_tracks)==None)[0]\n",
    "        \n",
    "        try:\n",
    "            if len(none_idxs) > 0:\n",
    "                none_idxs[::-1].sort() # sort them descending to pop off the end first\n",
    "                for i in none_idxs:\n",
    "#                     print(\"index: {}  db_tracks: {}   sp_tracks: {}\".format(i,len(db_tracks),len(sp_tracks)) )\n",
    "                    db_tracks.pop(i)\n",
    "#                     db_track_uris.pop(i)\n",
    "                    sp_tracks.pop(i)\n",
    "                    artists_not_in_spotify.append(db_track_uris.pop(i))\n",
    "\n",
    "            if len(db_tracks)!= len(sp_tracks):\n",
    "                print(\"List length error.  db_tracks:{} sp_tracks:{}\".format(db_tracks, sp_tracks))\n",
    "                main_session.rollback()\n",
    "                main_session.close()\n",
    "                return\n",
    "        except Exception as e:\n",
    "            print(e)\n",
    "            print(\"Closing.  Check rv for values on error.\")\n",
    "            main_session.close()\n",
    "            return [db_tracks, sp_tracks, db_track_uris, artists_not_in_spotify]\n",
    "            \n",
    "            \n",
    "        \n",
    "        # update each track with spotify data\n",
    "        for db_track, sp_track in zip(db_tracks, sp_tracks):\n",
    "            if db_track==None or sp_track==None:\n",
    "                continue\n",
    "            db_track.track_popularity = sp_track.get(\"popularity\")\n",
    "            db_track.artist_uri = sp_track.get(\"artists\")[0].get(\"uri\")\n",
    "    \n",
    "            main_session.commit()\n",
    "        \n",
    "    main_session.close()\n",
    "    \n",
    "    return artists_not_in_spotify"
   ]
  },
  {
   "cell_type": "code",
   "execution_count": 37,
   "metadata": {},
   "outputs": [
    {
     "name": "stdout",
     "output_type": "stream",
     "text": [
      "Creating Table Generator:\n",
      "\tbatch size :  50\n",
      "\tlength     :  584\n",
      "\tnum batches:  12\n"
     ]
    },
    {
     "data": {
      "application/vnd.jupyter.widget-view+json": {
       "model_id": "5a1a6f2a6e304d2fa198fbd3b8bc35e8",
       "version_major": 2,
       "version_minor": 0
      },
      "text/plain": [
       "HBox(children=(IntProgress(value=0, max=584), HTML(value='')))"
      ]
     },
     "metadata": {},
     "output_type": "display_data"
    },
    {
     "name": "stdout",
     "output_type": "stream",
     "text": [
      "\n"
     ]
    }
   ],
   "source": [
    "# # takes about 2hrs\n",
    "missing_tracks_in_spotify = update_tracks_table()"
   ]
  },
  {
   "cell_type": "code",
   "execution_count": null,
   "metadata": {},
   "outputs": [],
   "source": []
  },
  {
   "cell_type": "code",
   "execution_count": 16,
   "metadata": {},
   "outputs": [],
   "source": [
    "# save pickle file of missing track uris\n",
    "# pickle_save(missing_tracks_in_spotify, 'missing_tracks_in_spotify.pkl')"
   ]
  },
  {
   "cell_type": "code",
   "execution_count": 17,
   "metadata": {},
   "outputs": [],
   "source": [
    "def delete_tracks(track_uris:list, table_name, batch_size:int=200) -> list:\n",
    "    \"\"\"\n",
    "    Deletes tracks from the table_name provided\n",
    "    \"\"\"\n",
    "    # if num tracks is < batch_size, make batch_size same as num track_uris\n",
    "    if len(track_uris) < batch_size:\n",
    "        batch_size = len(track_uris)\n",
    "    \n",
    "    # Setup generators\n",
    "    session = get_session(db_path)\n",
    "    batch_list_gen = List_Generator(track_uris, batch_size=batch_size).batch_generator()\n",
    "    \n",
    "    for batch_track_uris in batch_list_gen:\n",
    "        db_records = session.query(table_name).filter(table_name.track_uri.in_(batch_track_uris)).delete()\n",
    "        session.commit()\n",
    "    \n",
    "    session.close()\n",
    "    \n",
    "    "
   ]
  },
  {
   "cell_type": "code",
   "execution_count": 18,
   "metadata": {},
   "outputs": [],
   "source": [
    "def clean_up_db(delete:bool=False, batch_size:int=50):\n",
    "    \"\"\"\n",
    "    Check to make sure that the artist uri is current.\n",
    "    Make sure entries have valid track and artist uris.\n",
    "    Removes items where uri is not valid.\n",
    "    \"\"\"\n",
    "    main_session = get_session(db_path)\n",
    "    query = main_session.query(Playlists)\n",
    "    batch_gen = Table_Generator(query=query, batch_size=batch_size).batch_generator()\n",
    "\n",
    "    playlist_ids_to_delete = []\n",
    "    artists_to_update = []\n",
    "    \n",
    "    try:\n",
    "        for batch in batch_gen:\n",
    "\n",
    "            # build a list of track uris, artist uris\n",
    "            uris = [(r.track_uri, r.artist_uri) for r in batch]\n",
    "            uris = np.array(uris)\n",
    "            db_track_uris = uris[:,0]\n",
    "            db_artist_uris = uris[:,1]\n",
    "\n",
    "\n",
    "            # TRACKS - adds if they dont exists - includes None's where invalid\n",
    "            db_tracks = np.array(get_db_tracks(db_track_uris.tolist()))\n",
    "\n",
    "            # ARTISTS - adds if they dont exists - includes None's where invalid\n",
    "            db_artists = np.array(get_db_artists(db_artist_uris.tolist(), load_missing=True))\n",
    "\n",
    "            # Check if any tracks/artists are None - remove them from db and lists we made\n",
    "            for db_cat in (db_tracks, db_artists):\n",
    "                none_idxs = np.where(db_cat==None)[0]\n",
    "                if len(none_idxs)>0:\n",
    "                    # remove from db, batch, sp_tracks and sp_artists\n",
    "                    for idx in none_idxs:\n",
    "                        if delete:\n",
    "                            main_session.delete(batch[idx])\n",
    "                        playlist_ids_to_delete.append(batch[idx].get('id'))\n",
    "                        batch.pop(idx)\n",
    "                        db_tracks.pop(idx)\n",
    "                        db_artists.pop(idx)\n",
    "\n",
    "                    # remove from db_track_uris, db_artist_uris, \n",
    "                    db_track_uris  = np.delete(db_track_uris, none_idxs)\n",
    "                    db_artist_uris = np.delete(db_artist_uris, none_idxs)\n",
    "\n",
    "\n",
    "            # make sure we don't have any list mis-matches\n",
    "            if len(db_artist_uris) != len(batch):\n",
    "                raise Exception(\"clean_up_db() ERR: list length error: db_artists={}  batch={}\".format(len(db_artist_uris), len(batch))) \n",
    "\n",
    "            # iterate over remaining records in batch\n",
    "            # update artist if changed - spotify changes artist uris sometimes\n",
    "            for r, record in enumerate(batch):\n",
    "                # check if artist uri has been updated - if so update in playlists table\n",
    "                db_playlist_artist_uri = record.artist_uri\n",
    "                db_artist_uri = db_artist_uris[r]\n",
    "\n",
    "                if  db_playlist_artist_uri != db_artist_uri:\n",
    "                    print(\"Need to update artist from: {}  to: {}\".format(db_playlist_artist_uri, db_artist_uri))\n",
    "                    artists_to_update.append((db_playlist_artist_uri, db_artist_uri))\n",
    "                    if delete:\n",
    "                        record.artist_uri = db_artist_uri\n",
    "    except Exception as e:\n",
    "        print(e)\n",
    "        print(\"Graceful rollback ...\")\n",
    "        main_session.rollback()\n",
    "        print(\"Session close ...\")\n",
    "        main_session.close()\n",
    "        return artists_to_update, playlist_ids_to_delete\n",
    "\n",
    "    print(\"Session commit ...\")\n",
    "    main_session.commit()\n",
    "    print(\"Session close ...\")\n",
    "    main_session.close()\n",
    "    \n",
    "    return artists_to_update, playlist_ids_to_delete\n",
    "    "
   ]
  },
  {
   "cell_type": "code",
   "execution_count": 19,
   "metadata": {},
   "outputs": [],
   "source": [
    "# takes days to execute\n",
    "# artists_to_update, playlist_ids_to_delete = clean_up_db()"
   ]
  },
  {
   "cell_type": "code",
   "execution_count": null,
   "metadata": {},
   "outputs": [],
   "source": []
  },
  {
   "cell_type": "markdown",
   "metadata": {},
   "source": [
    "### Missing Tracks Review and Updates"
   ]
  },
  {
   "cell_type": "code",
   "execution_count": 16,
   "metadata": {},
   "outputs": [],
   "source": [
    "eric_missing_tracks = pickle_load('eric_bad_track_uris.pkl')"
   ]
  },
  {
   "cell_type": "code",
   "execution_count": 17,
   "metadata": {},
   "outputs": [],
   "source": [
    "mark_missing_tracks = pickle_load('mark_missing_tracks_in_spotify.pkl')"
   ]
  },
  {
   "cell_type": "code",
   "execution_count": 18,
   "metadata": {},
   "outputs": [
    {
     "data": {
      "text/plain": [
       "(584, 556)"
      ]
     },
     "execution_count": 18,
     "metadata": {},
     "output_type": "execute_result"
    }
   ],
   "source": [
    "len(eric_missing_tracks), len(mark_missing_tracks)"
   ]
  },
  {
   "cell_type": "code",
   "execution_count": 19,
   "metadata": {},
   "outputs": [],
   "source": [
    "in_both_lists = list(set(eric_missing_tracks) & set(mark_missing_tracks))"
   ]
  },
  {
   "cell_type": "code",
   "execution_count": 20,
   "metadata": {},
   "outputs": [
    {
     "data": {
      "text/plain": [
       "556"
      ]
     },
     "execution_count": 20,
     "metadata": {},
     "output_type": "execute_result"
    }
   ],
   "source": [
    "len(in_both_lists)"
   ]
  },
  {
   "cell_type": "code",
   "execution_count": 21,
   "metadata": {},
   "outputs": [],
   "source": [
    "in_eric_not_in_mark = set(eric_missing_tracks) - set(mark_missing_tracks)\n",
    "in_mark_not_in_eric = set(mark_missing_tracks) - set(eric_missing_tracks)\n"
   ]
  },
  {
   "cell_type": "code",
   "execution_count": 22,
   "metadata": {},
   "outputs": [
    {
     "data": {
      "text/plain": [
       "(28, 0)"
      ]
     },
     "execution_count": 22,
     "metadata": {},
     "output_type": "execute_result"
    }
   ],
   "source": [
    "len(in_eric_not_in_mark), len(in_mark_not_in_eric)"
   ]
  },
  {
   "cell_type": "code",
   "execution_count": null,
   "metadata": {},
   "outputs": [],
   "source": []
  },
  {
   "cell_type": "markdown",
   "metadata": {},
   "source": [
    "### Check a Missing Tracks List\n",
    "Make sure that all of the missing tracks return None from Spotify"
   ]
  },
  {
   "cell_type": "code",
   "execution_count": 20,
   "metadata": {},
   "outputs": [],
   "source": [
    "def check_tracks_for_none(track_uris:list) -> np.array:\n",
    "    \"\"\"\n",
    "    Checks that a list of artists returns None.\n",
    "    Returns list of valid artist urls that were in the list.\n",
    "    \"\"\"\n",
    "    batch_gen = List_Generator(track_uris, batch_size=50).batch_generator()\n",
    "\n",
    "    orig_tracks = []\n",
    "    sp_tracks = []\n",
    "    for batch in batch_gen:\n",
    "        batch_sp_tracks = get_tracks(batch)\n",
    "        for t in batch_sp_tracks:\n",
    "            if t==None:\n",
    "                sp_tracks.extend([\"None\"])\n",
    "            else:\n",
    "                sp_tracks.extend([t.get('uri')])\n",
    "\n",
    "        orig_tracks.extend(batch)\n",
    "\n",
    "    idxs = np.where(np.array(sp_tracks)!=\"None\")\n",
    "\n",
    "    if len(idxs[0])>0:\n",
    "        print(\"The following tracks were in list but returned sportify values:\")\n",
    "        for i in idxs[0]:\n",
    "            print(\"list: {}  spotify: {}\".format(orig_tracks[i], sp_tracks[i]))\n",
    "        return np.array(sp_tracks)[idxs]\n",
    "    else:\n",
    "        print(\"All provided tracks returned 'None' from Spotify!\")\n",
    "    \n",
    "    return None"
   ]
  },
  {
   "cell_type": "code",
   "execution_count": 47,
   "metadata": {},
   "outputs": [
    {
     "name": "stdout",
     "output_type": "stream",
     "text": [
      "Creating List Generator:\n",
      "\tbatch size :  50\n",
      "\tlength     :  584\n",
      "\tnum batches:  12\n"
     ]
    },
    {
     "data": {
      "application/vnd.jupyter.widget-view+json": {
       "model_id": "6fdf82683e6746dbb2e084c1c6f01251",
       "version_major": 2,
       "version_minor": 0
      },
      "text/plain": [
       "HBox(children=(IntProgress(value=0, max=584), HTML(value='')))"
      ]
     },
     "metadata": {},
     "output_type": "display_data"
    },
    {
     "name": "stdout",
     "output_type": "stream",
     "text": [
      "token():INFO:   Token refreshed\n",
      "\n",
      "All provided tracks returned 'None' from Spotify!\n"
     ]
    }
   ],
   "source": [
    "sp_tracks = check_tracks_for_none(eric_missing_tracks)"
   ]
  },
  {
   "cell_type": "code",
   "execution_count": null,
   "metadata": {},
   "outputs": [],
   "source": []
  },
  {
   "cell_type": "code",
   "execution_count": null,
   "metadata": {},
   "outputs": [],
   "source": []
  },
  {
   "cell_type": "code",
   "execution_count": null,
   "metadata": {},
   "outputs": [],
   "source": []
  },
  {
   "cell_type": "markdown",
   "metadata": {},
   "source": [
    "### Remove the Missing Tracks from Table\n",
    "specifiy Tracks or Playlists in the TABLE argument"
   ]
  },
  {
   "cell_type": "code",
   "execution_count": 27,
   "metadata": {},
   "outputs": [],
   "source": [
    "def remove_none_tracks(track_uris:np.array, TABLE, batch_size:int=50) -> list:\n",
    "    \"\"\"\n",
    "    Removes a list of uris from the Tracks and Playlists tables.\n",
    "    First checks that items truly return None from Spotify before deleting.\n",
    "    \"\"\"\n",
    "    \n",
    "    print(\"Preparing to delete records from table: \\n{}\".format(TABLE))\n",
    "    \n",
    "    # First check that they are all \"None\" in Spotify\n",
    "    sp_results = check_tracks_for_none(track_uris)\n",
    "    if sp_results != None:\n",
    "        print(\"Some URIS were valid in Spotify.  No deletions made.\")\n",
    "        return sp_results\n",
    "    \n",
    "    removed_uris = []\n",
    "    \n",
    "    # get Table entries\n",
    "    print(\"Getting records to delete from database...\")\n",
    "    main_session = get_session(db_path)\n",
    "    query = main_session.query(TABLE).filter(TABLE.track_uri.in_(track_uris))\n",
    "    batch_gen = Table_Generator(query=query, batch_size=batch_size, name=\"deleting tracks progress\").batch_generator()\n",
    "    \n",
    "    # iterate batches and delete entries\n",
    "    del_count = 0\n",
    "    try:\n",
    "        print(\"Deleting records ...\")\n",
    "        for batch in batch_gen:\n",
    "            for item in batch:\n",
    "                main_session.delete(item)\n",
    "                main_session.commit()\n",
    "                del_count += 1\n",
    "            main_session.commit()\n",
    "        \n",
    "    except Exception as e:\n",
    "        print (e)\n",
    "        print (\"ERR: Exception ocurred.  Rolling back.  No deletes made.\")\n",
    "        print (\"ERR: Error ocurred when handling: {}\",item.track_uri)\n",
    "        main_session.rollback()\n",
    "        main_session.close()\n",
    "        return\n",
    "    \n",
    "#     print(\"Committing deletions ...\")\n",
    "    main_session.commit()\n",
    "    print(\"Done.  Deleted {} records.\".format(del_count))\n",
    "    main_session.close()\n",
    "    return "
   ]
  },
  {
   "cell_type": "code",
   "execution_count": 25,
   "metadata": {},
   "outputs": [],
   "source": [
    "missing_tracks = pickle_load('eric_bad_track_uris.pkl')"
   ]
  },
  {
   "cell_type": "code",
   "execution_count": 28,
   "metadata": {},
   "outputs": [
    {
     "name": "stdout",
     "output_type": "stream",
     "text": [
      "Preparing to delete records from table: \n",
      "<class 'spotify_database.get_session.<locals>.Playlists'>\n",
      "Creating List Generator:\n",
      "\tbatch size :  50\n",
      "\tlength     :  584\n",
      "\tnum batches:  12\n"
     ]
    },
    {
     "data": {
      "application/vnd.jupyter.widget-view+json": {
       "model_id": "b1d6b8aef7424f70974af92f8e6a160c",
       "version_major": 2,
       "version_minor": 0
      },
      "text/plain": [
       "HBox(children=(IntProgress(value=0, max=584), HTML(value='')))"
      ]
     },
     "metadata": {},
     "output_type": "display_data"
    },
    {
     "name": "stdout",
     "output_type": "stream",
     "text": [
      "\n",
      "All provided tracks returned 'None' from Spotify!\n",
      "Getting records to delete from database...\n",
      "Creating Table Generator:\n",
      "\tbatch size :  50\n",
      "\tlength     :  50\n",
      "\tnum batches:  2\n",
      "Deleting records ...\n"
     ]
    },
    {
     "data": {
      "application/vnd.jupyter.widget-view+json": {
       "model_id": "715bcac3641c4f83bfb0db5ca9da593c",
       "version_major": 2,
       "version_minor": 0
      },
      "text/plain": [
       "HBox(children=(IntProgress(value=0, max=50), HTML(value='')))"
      ]
     },
     "metadata": {},
     "output_type": "display_data"
    },
    {
     "name": "stdout",
     "output_type": "stream",
     "text": [
      "\n",
      "Done.  Deleted 50 records.\n"
     ]
    }
   ],
   "source": [
    "# Remove tracks from Playlists table\n",
    "remove_none_tracks(missing_tracks, Playlists) # completed on 11/7/2019 - takes 3hrs"
   ]
  },
  {
   "cell_type": "code",
   "execution_count": 29,
   "metadata": {},
   "outputs": [
    {
     "name": "stdout",
     "output_type": "stream",
     "text": [
      "Preparing to delete records from table: \n",
      "<class 'spotify_database.get_session.<locals>.Tracks'>\n",
      "Creating List Generator:\n",
      "\tbatch size :  50\n",
      "\tlength     :  584\n",
      "\tnum batches:  12\n"
     ]
    },
    {
     "data": {
      "application/vnd.jupyter.widget-view+json": {
       "model_id": "d4cec714ef404563bcd162c0fc6c58f4",
       "version_major": 2,
       "version_minor": 0
      },
      "text/plain": [
       "HBox(children=(IntProgress(value=0, max=584), HTML(value='')))"
      ]
     },
     "metadata": {},
     "output_type": "display_data"
    },
    {
     "name": "stdout",
     "output_type": "stream",
     "text": [
      "token():INFO:   Token refreshed\n",
      "\n",
      "All provided tracks returned 'None' from Spotify!\n",
      "Getting records to delete from database...\n",
      "Creating Table Generator:\n",
      "\tbatch size :  10\n",
      "\tlength     :  0\n",
      "\tnum batches:  1\n",
      "Deleting records ...\n"
     ]
    },
    {
     "data": {
      "application/vnd.jupyter.widget-view+json": {
       "model_id": "06251488be6544ecb0ad89d7e9280c49",
       "version_major": 2,
       "version_minor": 0
      },
      "text/plain": [
       "HBox(children=(IntProgress(value=1, bar_style='info', max=1), HTML(value='')))"
      ]
     },
     "metadata": {},
     "output_type": "display_data"
    },
    {
     "name": "stdout",
     "output_type": "stream",
     "text": [
      "\n",
      "Done.  Deleted 0 records.\n"
     ]
    }
   ],
   "source": [
    "# Remove tracks from Tracks table\n",
    "remove_none_tracks(missing_tracks, Tracks) # completed on 11/7/2019"
   ]
  },
  {
   "cell_type": "code",
   "execution_count": null,
   "metadata": {},
   "outputs": [],
   "source": []
  },
  {
   "cell_type": "markdown",
   "metadata": {},
   "source": [
    "### Update mis-matched Artist Records\n",
    "Some records in the db return an updated artist uri from Spotify.\n",
    "These are updated in the Playlists and Artists Table"
   ]
  },
  {
   "cell_type": "code",
   "execution_count": 137,
   "metadata": {},
   "outputs": [],
   "source": [
    "def check_mismatched_artists(artist_uris:dict):\n",
    "    \"\"\"\n",
    "    Checks that dict of artist returns a new value from Spotify.\n",
    "    Argument is in form {db_uri:spotify_uri}\n",
    "    Returns a list of the incorrect entries.  If list has zero length, all are correct.\n",
    "    \"\"\"\n",
    "    print(\"Validating mis-mathced entries...\")\n",
    "    # convert to numpy array [:,0] is db uris and [:,1] is new spotify uris\n",
    "    np_artists = np.array([(k,v) for (k,v) in mismatched_artists.items()])\n",
    "    db_artists, sp_artists = np_artists[:,0], np_artists[:,1]\n",
    "    \n",
    "    db_batch_gen = List_Generator(list(db_artists), batch_size=50).batch_generator()\n",
    "    sp_batch_gen = List_Generator(list(sp_artists), batch_size=50).batch_generator()\n",
    "    \n",
    "    sp_uris = []\n",
    "    for db_artist_batch, sp_artist_batch in zip(db_batch_gen, sp_batch_gen):\n",
    "        sp_artists = get_artists(db_artist_batch)\n",
    "        sp_artists_uris = [a.get(\"uri\") for a in sp_artists]\n",
    "        sp_uris.extend(sp_artists_uris)\n",
    "        \n",
    "        # compare sp_artist_batch and sp_artists -- they should be the same\n",
    "        mismatch_idxs = np.where(sp_artist_batch!=sp_artists_uris)\n",
    "        \n",
    "        if len(mismatch_idxs[0])>0:\n",
    "            for idx in mismatch_idxs[0]:\n",
    "                print(\"ERR: for db track: {}\".format(db_artist_batch[idx]))\n",
    "                print(\"\\t List said: {}  spotify says: {}\",format(sp_artist_batch[idx], sp_artists_uris[idx]))\n",
    "    \n",
    "    incorrect_entries = np_artists[np.where(np.array(sp_uris)!=np_artists[:,1])]\n",
    "    if len(incorrect_entries)==0:\n",
    "        print(\"All mis-matched entries have been validated!\")\n",
    "\n",
    "    return incorrect_entries\n",
    "    \n",
    "    "
   ]
  },
  {
   "cell_type": "code",
   "execution_count": 156,
   "metadata": {},
   "outputs": [],
   "source": [
    "def update_mismatched_artists(mismatched_artists:dict, TABLE):\n",
    "    \"\"\"\n",
    "    Updates artist uri records in a table.\n",
    "    First checks that supplied table is correct.\n",
    "    Nothing returned.  Confirmation message sent to output.\n",
    "    \"\"\"\n",
    "    \n",
    "    incorrect_entries = check_mismatched_artists(mismatched_artists)\n",
    "    if len(incorrect_entries)>0:\n",
    "        print(\"There are incorrectly identified mismatches in the list.\")\n",
    "        print(\"No updates were made.  Correct list and retry.\")\n",
    "        return incorrect_entries\n",
    "    \n",
    "    # convert to numpy array [:,0] is db uris and [:,1] is new spotify uris\n",
    "    np_artists = np.array([(k,v) for (k,v) in mismatched_artists.items()])\n",
    "    db_artists, sp_artists = np_artists[:,0], np_artists[:,1]\n",
    "    \n",
    "    # get Table entries\n",
    "    print(\"Getting records to update from database...\")\n",
    "    main_session = get_session(db_path)\n",
    "    query = main_session.query(TABLE).filter(TABLE.artist_uri.in_(list(db_artists)))\n",
    "    batch_gen = Table_Generator(query=query, batch_size=50).batch_generator()\n",
    "    \n",
    "    update_count = 0\n",
    "    old_uri = ''\n",
    "    try:\n",
    "        print(\"Updating records ...\")\n",
    "        for batch in batch_gen:\n",
    "            for item in batch:\n",
    "                new_uri = mismatched_artists.get(item.artist_uri)\n",
    "                if new_uri != None:\n",
    "                    old_uri = item.artist_uri\n",
    "                    item.artist_uri = new_uri\n",
    "                    try:\n",
    "                        main_session.commit()\n",
    "                        update_count += 1\n",
    "                    except exc.IntegrityError as e:\n",
    "                        print(\"Entry already exists: {}  Deleting old record: {}\".format(new_uri, old_uri))\n",
    "                        main_session.rollback()\n",
    "                        main_session.delete(item)\n",
    "                        main_session.commit()\n",
    "    \n",
    "    \n",
    "    except Exception as e:\n",
    "        print (e)\n",
    "        print (\"ERR: Exception ocurred.  Rolling back.  No deletes made.\")\n",
    "        print (\"ERR: Error ocurred when handling: {}\".format(old_uri))\n",
    "        main_session.rollback()\n",
    "        main_session.close()\n",
    "        return\n",
    "    \n",
    "    print(\"Updates complete!  {} records updated.\".format(update_count))\n",
    "    return\n",
    "    \n",
    "    "
   ]
  },
  {
   "cell_type": "code",
   "execution_count": 146,
   "metadata": {},
   "outputs": [],
   "source": [
    "mismatched_artists = pickle_load('eric_mismatched_artist_uris.pkl')"
   ]
  },
  {
   "cell_type": "code",
   "execution_count": 160,
   "metadata": {},
   "outputs": [
    {
     "name": "stdout",
     "output_type": "stream",
     "text": [
      "Validating mis-mathced entries...\n",
      "Creating List Generator:\n",
      "\tbatch size :  50\n",
      "\tlength     :  17\n",
      "\tnum batches:  1\n",
      "Creating List Generator:\n",
      "\tbatch size :  50\n",
      "\tlength     :  17\n",
      "\tnum batches:  1\n"
     ]
    },
    {
     "data": {
      "application/vnd.jupyter.widget-view+json": {
       "model_id": "a8910cb04a874abf8a251791e2519fd7",
       "version_major": 2,
       "version_minor": 0
      },
      "text/plain": [
       "HBox(children=(IntProgress(value=0, max=17), HTML(value='')))"
      ]
     },
     "metadata": {},
     "output_type": "display_data"
    },
    {
     "data": {
      "application/vnd.jupyter.widget-view+json": {
       "model_id": "cafb1fc25b2941bebbf47d34532cf1d4",
       "version_major": 2,
       "version_minor": 0
      },
      "text/plain": [
       "HBox(children=(IntProgress(value=0, max=17), HTML(value='')))"
      ]
     },
     "metadata": {},
     "output_type": "display_data"
    },
    {
     "name": "stdout",
     "output_type": "stream",
     "text": [
      "\n",
      "All mis-matched entries have been validated!\n",
      "Getting records to update from database...\n",
      "\n",
      "Creating Table Generator:\n",
      "\tbatch size :  50\n",
      "\tlength     :  50\n",
      "\tnum batches:  2\n",
      "Updating records ...\n"
     ]
    },
    {
     "data": {
      "application/vnd.jupyter.widget-view+json": {
       "model_id": "bf893b210cc045709dcecfc7c405d653",
       "version_major": 2,
       "version_minor": 0
      },
      "text/plain": [
       "HBox(children=(IntProgress(value=0, max=50), HTML(value='')))"
      ]
     },
     "metadata": {},
     "output_type": "display_data"
    },
    {
     "name": "stdout",
     "output_type": "stream",
     "text": [
      "\n",
      "Updates complete!  50 records updated.\n"
     ]
    }
   ],
   "source": [
    "# Update mismatched artists in the Playlists table\n",
    "# update_mismatched_artists(mismatched_artists, TABLE=Playlists) # updated 11/7"
   ]
  },
  {
   "cell_type": "code",
   "execution_count": 158,
   "metadata": {},
   "outputs": [
    {
     "name": "stdout",
     "output_type": "stream",
     "text": [
      "Validating mis-mathced entries...\n",
      "Creating List Generator:\n",
      "\tbatch size :  50\n",
      "\tlength     :  17\n",
      "\tnum batches:  1\n",
      "Creating List Generator:\n",
      "\tbatch size :  50\n",
      "\tlength     :  17\n",
      "\tnum batches:  1\n"
     ]
    },
    {
     "data": {
      "application/vnd.jupyter.widget-view+json": {
       "model_id": "f86b91b664e846f49c7338a466788496",
       "version_major": 2,
       "version_minor": 0
      },
      "text/plain": [
       "HBox(children=(IntProgress(value=0, max=17), HTML(value='')))"
      ]
     },
     "metadata": {},
     "output_type": "display_data"
    },
    {
     "data": {
      "application/vnd.jupyter.widget-view+json": {
       "model_id": "95a2b1a5b80249dc903b544421eb2610",
       "version_major": 2,
       "version_minor": 0
      },
      "text/plain": [
       "HBox(children=(IntProgress(value=0, max=17), HTML(value='')))"
      ]
     },
     "metadata": {},
     "output_type": "display_data"
    },
    {
     "name": "stdout",
     "output_type": "stream",
     "text": [
      "\n",
      "All mis-matched entries have been validated!\n",
      "Getting records to update from database...\n",
      "\n",
      "Creating Table Generator:\n",
      "\tbatch size :  50\n",
      "\tlength     :  0\n",
      "\tnum batches:  1\n",
      "Updating records ...\n"
     ]
    },
    {
     "data": {
      "application/vnd.jupyter.widget-view+json": {
       "model_id": "36eaaba1f3604f90a07ffac5d7ae4a14",
       "version_major": 2,
       "version_minor": 0
      },
      "text/plain": [
       "HBox(children=(IntProgress(value=1, bar_style='info', max=1), HTML(value='')))"
      ]
     },
     "metadata": {},
     "output_type": "display_data"
    },
    {
     "name": "stdout",
     "output_type": "stream",
     "text": [
      "\n",
      "Updates complete!  0 records updated.\n"
     ]
    }
   ],
   "source": [
    "# Update mismatched artists in the Artists table\n",
    "# update_mismatched_artists(mismatched_artists, TABLE=Artists) # updated 11/7"
   ]
  },
  {
   "cell_type": "code",
   "execution_count": null,
   "metadata": {},
   "outputs": [],
   "source": []
  },
  {
   "cell_type": "markdown",
   "metadata": {},
   "source": [
    "### Add artist_popularity and track_popularity\n",
    "We will add values from artist and track popularity from values retrieved from the \n",
    "Sportify API.  Since this may change, we will want to make this in such a way that a normal database maintenace can be run to include this task.\n"
   ]
  },
  {
   "cell_type": "code",
   "execution_count": null,
   "metadata": {},
   "outputs": [],
   "source": []
  }
 ],
 "metadata": {
  "kernelspec": {
   "display_name": "Python 3",
   "language": "python",
   "name": "python3"
  },
  "language_info": {
   "codemirror_mode": {
    "name": "ipython",
    "version": 3
   },
   "file_extension": ".py",
   "mimetype": "text/x-python",
   "name": "python",
   "nbconvert_exporter": "python",
   "pygments_lexer": "ipython3",
   "version": "3.7.4"
  }
 },
 "nbformat": 4,
 "nbformat_minor": 2
}
