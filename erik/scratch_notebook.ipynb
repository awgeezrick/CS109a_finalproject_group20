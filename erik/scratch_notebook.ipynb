{
 "cells": [
  {
   "cell_type": "markdown",
   "metadata": {},
   "source": [
    "# CS109a - Spotify Project - Scratch notebook"
   ]
  },
  {
   "cell_type": "code",
   "execution_count": 1,
   "metadata": {},
   "outputs": [
    {
     "name": "stdout",
     "output_type": "stream",
     "text": [
      "env: SPOTIFY_CLIENT_ID=aff9ad651d0b4181a541bc73c6852474\n",
      "env: SPOTIFY_CLIENT_SECRET=258c115477814b09b93b0b04d507e929\n",
      "env: SPOTIFY_REDIRECT_URI=FinalProjectCS109a://callback\n"
     ]
    }
   ],
   "source": [
    "# imports\n",
    "import numpy as np\n",
    "import pandas as pd\n",
    "from scipy import stats\n",
    "import os\n",
    "import sys\n",
    "import json\n",
    "import time\n",
    "import pickle\n",
    "\n",
    "from IPython.display import clear_output\n",
    "\n",
    "import matplotlib\n",
    "import matplotlib.pyplot as plt\n",
    "%matplotlib inline\n",
    "\n",
    "import sqlalchemy as db\n",
    "from sqlalchemy import Table, Column, Integer, String, MetaData, and_, or_, func,distinct\n",
    "from sqlalchemy import create_engine\n",
    "import sqlite3\n",
    "from sqlalchemy.orm import sessionmaker\n",
    "from sqlalchemy.ext.declarative import declarative_base \n",
    "\n",
    "import importlib\n",
    "\n",
    "from spotify_api import get_spotify_data, get_tracks, get_artists, get_audiofeatures\n",
    "from spotify_database import get_session, display_time\n",
    "from spotify_utils import Table_Generator, List_Generator\n",
    "\n",
    "%env SPOTIFY_CLIENT_ID=aff9ad651d0b4181a541bc73c6852474\n",
    "%env SPOTIFY_CLIENT_SECRET=258c115477814b09b93b0b04d507e929\n",
    "%env SPOTIFY_REDIRECT_URI=FinalProjectCS109a://callback"
   ]
  },
  {
   "cell_type": "markdown",
   "metadata": {},
   "source": [
    "## SQLITE DB"
   ]
  },
  {
   "cell_type": "code",
   "execution_count": 2,
   "metadata": {},
   "outputs": [],
   "source": [
    "# Set database path on local drive\n",
    "db_path = \"../data/spotify_songs.db\"\n",
    "\n",
    "# Get sesion\n",
    "session = get_session(db_path)\n",
    "\n",
    "# Get Classes\n",
    "Playlists = getattr(get_session, \"Playlists\")\n",
    "Artists = getattr(get_session, \"Artists\")\n",
    "Tracks = getattr(get_session, \"Tracks\")"
   ]
  },
  {
   "cell_type": "code",
   "execution_count": 3,
   "metadata": {},
   "outputs": [
    {
     "name": "stdout",
     "output_type": "stream",
     "text": [
      "Time to Execute: 0.01 seconds\n"
     ]
    },
    {
     "data": {
      "text/plain": [
       "'spotify:track:2d7LPtieXdIYzf7yHPooWd'"
      ]
     },
     "metadata": {},
     "output_type": "display_data"
    },
    {
     "name": "stdout",
     "output_type": "stream",
     "text": [
      "Time to Execute: 0.0 seconds\n"
     ]
    },
    {
     "data": {
      "text/plain": [
       "'spotify:artist:3tBUUrQ26CCErBABEw2EXo'"
      ]
     },
     "metadata": {},
     "output_type": "display_data"
    }
   ],
   "source": [
    "# test\n",
    "result = display_time(session.query(Tracks).first)\n",
    "display(result.track_uri)\n",
    "\n",
    "result = display_time(session.query(Artists).first)\n",
    "display(result.artist_uri)"
   ]
  },
  {
   "cell_type": "markdown",
   "metadata": {},
   "source": [
    "## Data read functions"
   ]
  },
  {
   "cell_type": "markdown",
   "metadata": {},
   "source": [
    "### Spotify Data"
   ]
  },
  {
   "cell_type": "code",
   "execution_count": 27,
   "metadata": {},
   "outputs": [],
   "source": [
    "''' The staff provided data has filenames 'songs0.csv' through 'songs999.csv'\n",
    "    This function returns a single dataframe containing the desired CSV files.\n",
    "    Args:\n",
    "        1) file_nums:  list ... List of file #s to read (e.g. 0, 1, 2 ... 999); default is to just read 'songs0.csv'\n",
    "        2) songs_dir:  str  ... Where the songs CSVs reside; default is 'songs/'\n",
    "    \n",
    "    You can pass a single parameter \"ALL_FILES\" (defined below) to simply get a full dataframe of all CSVs.\n",
    "'''\n",
    "\n",
    "def read_songs_csv(file_nums: list = [0], songs_dir: str = '../data/songs/') -> pd.core.frame.DataFrame:\n",
    "    # check for valid input\n",
    "    if any(i < 0 for i in file_nums) or any(i > 999 for i in file_nums) or len(file_nums) == 0:\n",
    "        print('ERROR - read_songs_csv: Bad parameters; file numbers are out of bounds, or list is empty')\n",
    "        return\n",
    "    \n",
    "    # put all listed songs CSV #s into a dataframe\n",
    "    df = pd.concat((pd.read_csv(songs_dir + 'songs' + str(i) + '.csv') for i in file_nums))\n",
    "    \n",
    "    return df"
   ]
  },
  {
   "cell_type": "code",
   "execution_count": 28,
   "metadata": {},
   "outputs": [],
   "source": [
    "# for convenience, constants to read all files or a randomly selected assortment of files\n",
    "# (re-run cell for a different random assortment!)\n",
    "\n",
    "# WARNING: this will take awhile and requires ~16+ GB RAM to be even feasible (and still not worth it!)\n",
    "ALL_FILES = np.arange(0, 1000, 1) \n",
    "\n",
    "# reads N random files\n",
    "N = 10\n",
    "RANDOM = np.random.randint(0, 1000, N)"
   ]
  },
  {
   "cell_type": "code",
   "execution_count": 32,
   "metadata": {},
   "outputs": [
    {
     "data": {
      "text/html": [
       "<div>\n",
       "<style scoped>\n",
       "    .dataframe tbody tr th:only-of-type {\n",
       "        vertical-align: middle;\n",
       "    }\n",
       "\n",
       "    .dataframe tbody tr th {\n",
       "        vertical-align: top;\n",
       "    }\n",
       "\n",
       "    .dataframe thead th {\n",
       "        text-align: right;\n",
       "    }\n",
       "</style>\n",
       "<table border=\"1\" class=\"dataframe\">\n",
       "  <thead>\n",
       "    <tr style=\"text-align: right;\">\n",
       "      <th></th>\n",
       "      <th>pid</th>\n",
       "      <th>pos</th>\n",
       "      <th>duration_ms</th>\n",
       "    </tr>\n",
       "  </thead>\n",
       "  <tbody>\n",
       "    <tr>\n",
       "      <th>count</th>\n",
       "      <td>664158.000000</td>\n",
       "      <td>664158.000000</td>\n",
       "      <td>6.641580e+05</td>\n",
       "    </tr>\n",
       "    <tr>\n",
       "      <th>mean</th>\n",
       "      <td>496.614635</td>\n",
       "      <td>54.567041</td>\n",
       "      <td>2.349680e+05</td>\n",
       "    </tr>\n",
       "    <tr>\n",
       "      <th>std</th>\n",
       "      <td>288.522076</td>\n",
       "      <td>48.405135</td>\n",
       "      <td>7.335380e+04</td>\n",
       "    </tr>\n",
       "    <tr>\n",
       "      <th>min</th>\n",
       "      <td>0.000000</td>\n",
       "      <td>0.000000</td>\n",
       "      <td>0.000000e+00</td>\n",
       "    </tr>\n",
       "    <tr>\n",
       "      <th>25%</th>\n",
       "      <td>245.000000</td>\n",
       "      <td>17.000000</td>\n",
       "      <td>1.985730e+05</td>\n",
       "    </tr>\n",
       "    <tr>\n",
       "      <th>50%</th>\n",
       "      <td>495.000000</td>\n",
       "      <td>40.000000</td>\n",
       "      <td>2.252170e+05</td>\n",
       "    </tr>\n",
       "    <tr>\n",
       "      <th>75%</th>\n",
       "      <td>749.000000</td>\n",
       "      <td>79.000000</td>\n",
       "      <td>2.595000e+05</td>\n",
       "    </tr>\n",
       "    <tr>\n",
       "      <th>max</th>\n",
       "      <td>999.000000</td>\n",
       "      <td>248.000000</td>\n",
       "      <td>6.348017e+06</td>\n",
       "    </tr>\n",
       "  </tbody>\n",
       "</table>\n",
       "</div>"
      ],
      "text/plain": [
       "                 pid            pos   duration_ms\n",
       "count  664158.000000  664158.000000  6.641580e+05\n",
       "mean      496.614635      54.567041  2.349680e+05\n",
       "std       288.522076      48.405135  7.335380e+04\n",
       "min         0.000000       0.000000  0.000000e+00\n",
       "25%       245.000000      17.000000  1.985730e+05\n",
       "50%       495.000000      40.000000  2.252170e+05\n",
       "75%       749.000000      79.000000  2.595000e+05\n",
       "max       999.000000     248.000000  6.348017e+06"
      ]
     },
     "execution_count": 32,
     "metadata": {},
     "output_type": "execute_result"
    }
   ],
   "source": [
    "# test\n",
    "rand_songs_df = read_songs_csv(RANDOM)\n",
    "\n",
    "rand_songs_df.describe()"
   ]
  },
  {
   "cell_type": "markdown",
   "metadata": {},
   "source": [
    "### LastFM"
   ]
  },
  {
   "cell_type": "code",
   "execution_count": null,
   "metadata": {},
   "outputs": [],
   "source": [
    "''' The lastFM data set is organized into individual JSON files, in nested directories.\n",
    "    This function returns a single dataframe containing JSON data. It is designed to work with\n",
    "    the pre-split train/test data sets for the subset of the 300GB million song data set.\n",
    "    \n",
    "    Args: lastfm_dir ... ROOT directory of the data containing letter folders\n",
    "                        (e.g. lastfm_train or lastfm_test). Reads train data by default '''\n",
    "\n",
    "def read_lastfm_json(lastfm_dir: str = 'lastfm_train') -> pd.core.frame.DataFrame:\n",
    "    # put all jsons in a DF\n",
    "    return "
   ]
  },
  {
   "cell_type": "code",
   "execution_count": 12,
   "metadata": {},
   "outputs": [
    {
     "ename": "ValueError",
     "evalue": "arrays must all be same length",
     "output_type": "error",
     "traceback": [
      "\u001b[1;31m---------------------------------------------------------------------------\u001b[0m",
      "\u001b[1;31mValueError\u001b[0m                                Traceback (most recent call last)",
      "\u001b[1;32m<ipython-input-12-40c13927071b>\u001b[0m in \u001b[0;36m<module>\u001b[1;34m\u001b[0m\n\u001b[0;32m      7\u001b[0m     \u001b[0mdata\u001b[0m \u001b[1;33m=\u001b[0m \u001b[0mjson\u001b[0m\u001b[1;33m.\u001b[0m\u001b[0mload\u001b[0m\u001b[1;33m(\u001b[0m\u001b[0mjson_file\u001b[0m\u001b[1;33m)\u001b[0m\u001b[1;33m\u001b[0m\u001b[1;33m\u001b[0m\u001b[0m\n\u001b[0;32m      8\u001b[0m \u001b[1;33m\u001b[0m\u001b[0m\n\u001b[1;32m----> 9\u001b[1;33m \u001b[0mtest\u001b[0m \u001b[1;33m=\u001b[0m \u001b[0mpd\u001b[0m\u001b[1;33m.\u001b[0m\u001b[0mDataFrame\u001b[0m\u001b[1;33m(\u001b[0m\u001b[0mdata\u001b[0m\u001b[1;33m,\u001b[0m \u001b[0mcolumns\u001b[0m\u001b[1;33m=\u001b[0m\u001b[0mdata\u001b[0m\u001b[1;33m.\u001b[0m\u001b[0mkeys\u001b[0m\u001b[1;33m(\u001b[0m\u001b[1;33m)\u001b[0m\u001b[1;33m)\u001b[0m\u001b[1;33m\u001b[0m\u001b[1;33m\u001b[0m\u001b[0m\n\u001b[0m\u001b[0;32m     10\u001b[0m \u001b[0mtest\u001b[0m\u001b[1;33m\u001b[0m\u001b[1;33m\u001b[0m\u001b[0m\n",
      "\u001b[1;32mC:\\e\\Anaconda3\\lib\\site-packages\\pandas\\core\\frame.py\u001b[0m in \u001b[0;36m__init__\u001b[1;34m(self, data, index, columns, dtype, copy)\u001b[0m\n\u001b[0;32m    390\u001b[0m                                  dtype=dtype, copy=copy)\n\u001b[0;32m    391\u001b[0m         \u001b[1;32melif\u001b[0m \u001b[0misinstance\u001b[0m\u001b[1;33m(\u001b[0m\u001b[0mdata\u001b[0m\u001b[1;33m,\u001b[0m \u001b[0mdict\u001b[0m\u001b[1;33m)\u001b[0m\u001b[1;33m:\u001b[0m\u001b[1;33m\u001b[0m\u001b[1;33m\u001b[0m\u001b[0m\n\u001b[1;32m--> 392\u001b[1;33m             \u001b[0mmgr\u001b[0m \u001b[1;33m=\u001b[0m \u001b[0minit_dict\u001b[0m\u001b[1;33m(\u001b[0m\u001b[0mdata\u001b[0m\u001b[1;33m,\u001b[0m \u001b[0mindex\u001b[0m\u001b[1;33m,\u001b[0m \u001b[0mcolumns\u001b[0m\u001b[1;33m,\u001b[0m \u001b[0mdtype\u001b[0m\u001b[1;33m=\u001b[0m\u001b[0mdtype\u001b[0m\u001b[1;33m)\u001b[0m\u001b[1;33m\u001b[0m\u001b[1;33m\u001b[0m\u001b[0m\n\u001b[0m\u001b[0;32m    393\u001b[0m         \u001b[1;32melif\u001b[0m \u001b[0misinstance\u001b[0m\u001b[1;33m(\u001b[0m\u001b[0mdata\u001b[0m\u001b[1;33m,\u001b[0m \u001b[0mma\u001b[0m\u001b[1;33m.\u001b[0m\u001b[0mMaskedArray\u001b[0m\u001b[1;33m)\u001b[0m\u001b[1;33m:\u001b[0m\u001b[1;33m\u001b[0m\u001b[1;33m\u001b[0m\u001b[0m\n\u001b[0;32m    394\u001b[0m             \u001b[1;32mimport\u001b[0m \u001b[0mnumpy\u001b[0m\u001b[1;33m.\u001b[0m\u001b[0mma\u001b[0m\u001b[1;33m.\u001b[0m\u001b[0mmrecords\u001b[0m \u001b[1;32mas\u001b[0m \u001b[0mmrecords\u001b[0m\u001b[1;33m\u001b[0m\u001b[1;33m\u001b[0m\u001b[0m\n",
      "\u001b[1;32mC:\\e\\Anaconda3\\lib\\site-packages\\pandas\\core\\internals\\construction.py\u001b[0m in \u001b[0;36minit_dict\u001b[1;34m(data, index, columns, dtype)\u001b[0m\n\u001b[0;32m    182\u001b[0m             \u001b[1;31m# GH10856\u001b[0m\u001b[1;33m\u001b[0m\u001b[1;33m\u001b[0m\u001b[1;33m\u001b[0m\u001b[0m\n\u001b[0;32m    183\u001b[0m             \u001b[1;31m# raise ValueError if only scalars in dict\u001b[0m\u001b[1;33m\u001b[0m\u001b[1;33m\u001b[0m\u001b[1;33m\u001b[0m\u001b[0m\n\u001b[1;32m--> 184\u001b[1;33m             \u001b[0mindex\u001b[0m \u001b[1;33m=\u001b[0m \u001b[0mextract_index\u001b[0m\u001b[1;33m(\u001b[0m\u001b[0marrays\u001b[0m\u001b[1;33m[\u001b[0m\u001b[1;33m~\u001b[0m\u001b[0mmissing\u001b[0m\u001b[1;33m]\u001b[0m\u001b[1;33m)\u001b[0m\u001b[1;33m\u001b[0m\u001b[1;33m\u001b[0m\u001b[0m\n\u001b[0m\u001b[0;32m    185\u001b[0m         \u001b[1;32melse\u001b[0m\u001b[1;33m:\u001b[0m\u001b[1;33m\u001b[0m\u001b[1;33m\u001b[0m\u001b[0m\n\u001b[0;32m    186\u001b[0m             \u001b[0mindex\u001b[0m \u001b[1;33m=\u001b[0m \u001b[0mensure_index\u001b[0m\u001b[1;33m(\u001b[0m\u001b[0mindex\u001b[0m\u001b[1;33m)\u001b[0m\u001b[1;33m\u001b[0m\u001b[1;33m\u001b[0m\u001b[0m\n",
      "\u001b[1;32mC:\\e\\Anaconda3\\lib\\site-packages\\pandas\\core\\internals\\construction.py\u001b[0m in \u001b[0;36mextract_index\u001b[1;34m(data)\u001b[0m\n\u001b[0;32m    315\u001b[0m             \u001b[0mlengths\u001b[0m \u001b[1;33m=\u001b[0m \u001b[0mlist\u001b[0m\u001b[1;33m(\u001b[0m\u001b[0mset\u001b[0m\u001b[1;33m(\u001b[0m\u001b[0mraw_lengths\u001b[0m\u001b[1;33m)\u001b[0m\u001b[1;33m)\u001b[0m\u001b[1;33m\u001b[0m\u001b[1;33m\u001b[0m\u001b[0m\n\u001b[0;32m    316\u001b[0m             \u001b[1;32mif\u001b[0m \u001b[0mlen\u001b[0m\u001b[1;33m(\u001b[0m\u001b[0mlengths\u001b[0m\u001b[1;33m)\u001b[0m \u001b[1;33m>\u001b[0m \u001b[1;36m1\u001b[0m\u001b[1;33m:\u001b[0m\u001b[1;33m\u001b[0m\u001b[1;33m\u001b[0m\u001b[0m\n\u001b[1;32m--> 317\u001b[1;33m                 \u001b[1;32mraise\u001b[0m \u001b[0mValueError\u001b[0m\u001b[1;33m(\u001b[0m\u001b[1;34m'arrays must all be same length'\u001b[0m\u001b[1;33m)\u001b[0m\u001b[1;33m\u001b[0m\u001b[1;33m\u001b[0m\u001b[0m\n\u001b[0m\u001b[0;32m    318\u001b[0m \u001b[1;33m\u001b[0m\u001b[0m\n\u001b[0;32m    319\u001b[0m             \u001b[1;32mif\u001b[0m \u001b[0mhave_dicts\u001b[0m\u001b[1;33m:\u001b[0m\u001b[1;33m\u001b[0m\u001b[1;33m\u001b[0m\u001b[0m\n",
      "\u001b[1;31mValueError\u001b[0m: arrays must all be same length"
     ]
    }
   ],
   "source": [
    "import json\n",
    "\n",
    "# test = pd.read_json('lastfm_train/A/A/A/TRAAAAK128F9318786.json')\n",
    "# test\n",
    "\n",
    "with open('lastfm_train/A/A/A/TRAAAAK128F9318786.json') as json_file:\n",
    "    data = json.load(json_file)\n",
    "\n",
    "test = pd.DataFrame(data, columns=data.keys())\n",
    "test"
   ]
  },
  {
   "cell_type": "markdown",
   "metadata": {},
   "source": [
    "## Reading data Examples - Spotify"
   ]
  },
  {
   "cell_type": "code",
   "execution_count": 11,
   "metadata": {},
   "outputs": [
    {
     "data": {
      "text/html": [
       "<div>\n",
       "<style scoped>\n",
       "    .dataframe tbody tr th:only-of-type {\n",
       "        vertical-align: middle;\n",
       "    }\n",
       "\n",
       "    .dataframe tbody tr th {\n",
       "        vertical-align: top;\n",
       "    }\n",
       "\n",
       "    .dataframe thead th {\n",
       "        text-align: right;\n",
       "    }\n",
       "</style>\n",
       "<table border=\"1\" class=\"dataframe\">\n",
       "  <thead>\n",
       "    <tr style=\"text-align: right;\">\n",
       "      <th></th>\n",
       "      <th>pid</th>\n",
       "      <th>pos</th>\n",
       "      <th>artist_name</th>\n",
       "      <th>track_uri</th>\n",
       "      <th>artist_uri</th>\n",
       "      <th>track_name</th>\n",
       "      <th>album_uri</th>\n",
       "      <th>duration_ms</th>\n",
       "      <th>album_name</th>\n",
       "    </tr>\n",
       "  </thead>\n",
       "  <tbody>\n",
       "    <tr>\n",
       "      <th>0</th>\n",
       "      <td>0</td>\n",
       "      <td>0</td>\n",
       "      <td>Lil Uzi Vert</td>\n",
       "      <td>spotify:track:5wyrQLBbmKdxY6yLNdienj</td>\n",
       "      <td>spotify:artist:4O15NlyKLIASxsJ0PrXPfz</td>\n",
       "      <td>I Can Drive</td>\n",
       "      <td>spotify:album:6LX75kNicFqjjiAOeZgN67</td>\n",
       "      <td>153808</td>\n",
       "      <td>The Perfect LUV Tape</td>\n",
       "    </tr>\n",
       "    <tr>\n",
       "      <th>1</th>\n",
       "      <td>0</td>\n",
       "      <td>1</td>\n",
       "      <td>Young Thug</td>\n",
       "      <td>spotify:track:4cg1yakyRSIOjxKM2I7J1q</td>\n",
       "      <td>spotify:artist:50co4Is1HCEo8bhOyUWKpn</td>\n",
       "      <td>Digits</td>\n",
       "      <td>spotify:album:2z4c8M8aVzl7CTobIp36KF</td>\n",
       "      <td>176386</td>\n",
       "      <td>Slime Season 3</td>\n",
       "    </tr>\n",
       "    <tr>\n",
       "      <th>2</th>\n",
       "      <td>0</td>\n",
       "      <td>2</td>\n",
       "      <td>21 Savage</td>\n",
       "      <td>spotify:track:2kE82JhBcoS7mimFO1SqqX</td>\n",
       "      <td>spotify:artist:1URnnhqYAYcrqrcwql10ft</td>\n",
       "      <td>No Advance</td>\n",
       "      <td>spotify:album:4I3EcXD4e3KcEoDJfFEZ5b</td>\n",
       "      <td>276466</td>\n",
       "      <td>Savage Mode</td>\n",
       "    </tr>\n",
       "    <tr>\n",
       "      <th>3</th>\n",
       "      <td>0</td>\n",
       "      <td>3</td>\n",
       "      <td>Rich Chigga</td>\n",
       "      <td>spotify:track:7uuBfgY1vBCalrQRyyQhqs</td>\n",
       "      <td>spotify:artist:2IDLDx25HU1nQMKde4n61a</td>\n",
       "      <td>Gospel</td>\n",
       "      <td>spotify:album:79M1nv9rYaZvyt1GmyDAEa</td>\n",
       "      <td>173294</td>\n",
       "      <td>Gospel</td>\n",
       "    </tr>\n",
       "    <tr>\n",
       "      <th>4</th>\n",
       "      <td>0</td>\n",
       "      <td>4</td>\n",
       "      <td>Playboi Carti</td>\n",
       "      <td>spotify:track:1e1JKLEDKP7hEQzJfNAgPl</td>\n",
       "      <td>spotify:artist:699OTQXzgjhIYAHMy9RyPD</td>\n",
       "      <td>Magnolia</td>\n",
       "      <td>spotify:album:4rJgzzfFHAVFhCSt2P4I3j</td>\n",
       "      <td>181812</td>\n",
       "      <td>Playboi Carti</td>\n",
       "    </tr>\n",
       "  </tbody>\n",
       "</table>\n",
       "</div>"
      ],
      "text/plain": [
       "   pid  pos    artist_name                             track_uri  \\\n",
       "0    0    0   Lil Uzi Vert  spotify:track:5wyrQLBbmKdxY6yLNdienj   \n",
       "1    0    1     Young Thug  spotify:track:4cg1yakyRSIOjxKM2I7J1q   \n",
       "2    0    2      21 Savage  spotify:track:2kE82JhBcoS7mimFO1SqqX   \n",
       "3    0    3    Rich Chigga  spotify:track:7uuBfgY1vBCalrQRyyQhqs   \n",
       "4    0    4  Playboi Carti  spotify:track:1e1JKLEDKP7hEQzJfNAgPl   \n",
       "\n",
       "                              artist_uri   track_name  \\\n",
       "0  spotify:artist:4O15NlyKLIASxsJ0PrXPfz  I Can Drive   \n",
       "1  spotify:artist:50co4Is1HCEo8bhOyUWKpn       Digits   \n",
       "2  spotify:artist:1URnnhqYAYcrqrcwql10ft   No Advance   \n",
       "3  spotify:artist:2IDLDx25HU1nQMKde4n61a       Gospel   \n",
       "4  spotify:artist:699OTQXzgjhIYAHMy9RyPD     Magnolia   \n",
       "\n",
       "                              album_uri  duration_ms            album_name  \n",
       "0  spotify:album:6LX75kNicFqjjiAOeZgN67       153808  The Perfect LUV Tape  \n",
       "1  spotify:album:2z4c8M8aVzl7CTobIp36KF       176386        Slime Season 3  \n",
       "2  spotify:album:4I3EcXD4e3KcEoDJfFEZ5b       276466           Savage Mode  \n",
       "3  spotify:album:79M1nv9rYaZvyt1GmyDAEa       173294                Gospel  \n",
       "4  spotify:album:4rJgzzfFHAVFhCSt2P4I3j       181812         Playboi Carti  "
      ]
     },
     "execution_count": 11,
     "metadata": {},
     "output_type": "execute_result"
    }
   ],
   "source": [
    "# Read all files to DF in memory\n",
    "#               ----------- commented out, just an example\n",
    "#songs_df = read_songs_csv(ALL_FILES)\n",
    "#songs_df.head()\n",
    "\n",
    "# Read randomly assorted files\n",
    "\n",
    "songs_df = read_songs_csv(RANDOM)\n",
    "songs_df.head()"
   ]
  },
  {
   "cell_type": "code",
   "execution_count": 7,
   "metadata": {},
   "outputs": [
    {
     "data": {
      "text/plain": [
       "{'total_records': 6649984,\n",
       " 'unique_artists': 109410,\n",
       " 'unique_songs': 683295,\n",
       " 'unique_albums': 271958,\n",
       " 'average_track_length': 234929.8703678084}"
      ]
     },
     "metadata": {},
     "output_type": "display_data"
    }
   ],
   "source": [
    "# Get some summary stats\n",
    "summary_stats = {\n",
    "    'total_records': songs_df['pid'].count(),\n",
    "    'unique_artists': songs_df['artist_uri'].unique().size,\n",
    "    'unique_songs': songs_df['track_uri'].unique().size,\n",
    "    'unique_albums': songs_df['album_uri'].unique().size,\n",
    "    'average_track_length': songs_df['duration_ms'].mean()\n",
    "}\n",
    "display(summary_stats)"
   ]
  },
  {
   "cell_type": "code",
   "execution_count": 11,
   "metadata": {},
   "outputs": [
    {
     "data": {
      "text/html": [
       "<div>\n",
       "<style scoped>\n",
       "    .dataframe tbody tr th:only-of-type {\n",
       "        vertical-align: middle;\n",
       "    }\n",
       "\n",
       "    .dataframe tbody tr th {\n",
       "        vertical-align: top;\n",
       "    }\n",
       "\n",
       "    .dataframe thead th {\n",
       "        text-align: right;\n",
       "    }\n",
       "</style>\n",
       "<table border=\"1\" class=\"dataframe\">\n",
       "  <thead>\n",
       "    <tr style=\"text-align: right;\">\n",
       "      <th></th>\n",
       "      <th>pos</th>\n",
       "      <th>duration_ms</th>\n",
       "    </tr>\n",
       "    <tr>\n",
       "      <th>pid</th>\n",
       "      <th></th>\n",
       "      <th></th>\n",
       "    </tr>\n",
       "  </thead>\n",
       "  <tbody>\n",
       "    <tr>\n",
       "      <th>0</th>\n",
       "      <td>55.481721</td>\n",
       "      <td>231016.939017</td>\n",
       "    </tr>\n",
       "    <tr>\n",
       "      <th>1</th>\n",
       "      <td>56.614440</td>\n",
       "      <td>234642.595866</td>\n",
       "    </tr>\n",
       "    <tr>\n",
       "      <th>2</th>\n",
       "      <td>48.218701</td>\n",
       "      <td>235214.725133</td>\n",
       "    </tr>\n",
       "    <tr>\n",
       "      <th>3</th>\n",
       "      <td>51.795475</td>\n",
       "      <td>233915.773588</td>\n",
       "    </tr>\n",
       "    <tr>\n",
       "      <th>4</th>\n",
       "      <td>52.793873</td>\n",
       "      <td>235971.105573</td>\n",
       "    </tr>\n",
       "    <tr>\n",
       "      <th>5</th>\n",
       "      <td>46.131243</td>\n",
       "      <td>229379.479841</td>\n",
       "    </tr>\n",
       "    <tr>\n",
       "      <th>6</th>\n",
       "      <td>53.447182</td>\n",
       "      <td>235991.526640</td>\n",
       "    </tr>\n",
       "    <tr>\n",
       "      <th>7</th>\n",
       "      <td>52.855638</td>\n",
       "      <td>234893.126859</td>\n",
       "    </tr>\n",
       "    <tr>\n",
       "      <th>8</th>\n",
       "      <td>58.281458</td>\n",
       "      <td>239455.512413</td>\n",
       "    </tr>\n",
       "    <tr>\n",
       "      <th>9</th>\n",
       "      <td>49.904195</td>\n",
       "      <td>236778.802513</td>\n",
       "    </tr>\n",
       "    <tr>\n",
       "      <th>10</th>\n",
       "      <td>60.029330</td>\n",
       "      <td>237749.917570</td>\n",
       "    </tr>\n",
       "    <tr>\n",
       "      <th>11</th>\n",
       "      <td>48.373405</td>\n",
       "      <td>234474.050423</td>\n",
       "    </tr>\n",
       "    <tr>\n",
       "      <th>12</th>\n",
       "      <td>59.636817</td>\n",
       "      <td>233900.308298</td>\n",
       "    </tr>\n",
       "    <tr>\n",
       "      <th>13</th>\n",
       "      <td>48.789801</td>\n",
       "      <td>240655.422311</td>\n",
       "    </tr>\n",
       "    <tr>\n",
       "      <th>14</th>\n",
       "      <td>52.691262</td>\n",
       "      <td>237565.937061</td>\n",
       "    </tr>\n",
       "    <tr>\n",
       "      <th>15</th>\n",
       "      <td>58.330765</td>\n",
       "      <td>234615.835226</td>\n",
       "    </tr>\n",
       "    <tr>\n",
       "      <th>16</th>\n",
       "      <td>52.542806</td>\n",
       "      <td>238268.548663</td>\n",
       "    </tr>\n",
       "    <tr>\n",
       "      <th>17</th>\n",
       "      <td>62.280953</td>\n",
       "      <td>232729.544639</td>\n",
       "    </tr>\n",
       "    <tr>\n",
       "      <th>18</th>\n",
       "      <td>56.910288</td>\n",
       "      <td>237080.009366</td>\n",
       "    </tr>\n",
       "    <tr>\n",
       "      <th>19</th>\n",
       "      <td>58.366527</td>\n",
       "      <td>240490.029847</td>\n",
       "    </tr>\n",
       "    <tr>\n",
       "      <th>20</th>\n",
       "      <td>57.725273</td>\n",
       "      <td>245455.923627</td>\n",
       "    </tr>\n",
       "    <tr>\n",
       "      <th>21</th>\n",
       "      <td>52.246033</td>\n",
       "      <td>234474.840411</td>\n",
       "    </tr>\n",
       "    <tr>\n",
       "      <th>22</th>\n",
       "      <td>53.256885</td>\n",
       "      <td>237336.118637</td>\n",
       "    </tr>\n",
       "    <tr>\n",
       "      <th>23</th>\n",
       "      <td>57.507588</td>\n",
       "      <td>234572.020436</td>\n",
       "    </tr>\n",
       "    <tr>\n",
       "      <th>24</th>\n",
       "      <td>46.226154</td>\n",
       "      <td>225310.792707</td>\n",
       "    </tr>\n",
       "    <tr>\n",
       "      <th>25</th>\n",
       "      <td>59.904584</td>\n",
       "      <td>233064.819801</td>\n",
       "    </tr>\n",
       "    <tr>\n",
       "      <th>26</th>\n",
       "      <td>56.411920</td>\n",
       "      <td>232350.167960</td>\n",
       "    </tr>\n",
       "    <tr>\n",
       "      <th>27</th>\n",
       "      <td>55.243243</td>\n",
       "      <td>230838.861396</td>\n",
       "    </tr>\n",
       "    <tr>\n",
       "      <th>28</th>\n",
       "      <td>48.366672</td>\n",
       "      <td>236421.532706</td>\n",
       "    </tr>\n",
       "    <tr>\n",
       "      <th>29</th>\n",
       "      <td>47.832691</td>\n",
       "      <td>230101.063306</td>\n",
       "    </tr>\n",
       "    <tr>\n",
       "      <th>...</th>\n",
       "      <td>...</td>\n",
       "      <td>...</td>\n",
       "    </tr>\n",
       "    <tr>\n",
       "      <th>970</th>\n",
       "      <td>53.696137</td>\n",
       "      <td>241866.121222</td>\n",
       "    </tr>\n",
       "    <tr>\n",
       "      <th>971</th>\n",
       "      <td>53.858865</td>\n",
       "      <td>245221.322258</td>\n",
       "    </tr>\n",
       "    <tr>\n",
       "      <th>972</th>\n",
       "      <td>66.607891</td>\n",
       "      <td>238508.011273</td>\n",
       "    </tr>\n",
       "    <tr>\n",
       "      <th>973</th>\n",
       "      <td>43.923904</td>\n",
       "      <td>231952.344532</td>\n",
       "    </tr>\n",
       "    <tr>\n",
       "      <th>974</th>\n",
       "      <td>47.206471</td>\n",
       "      <td>240357.363541</td>\n",
       "    </tr>\n",
       "    <tr>\n",
       "      <th>975</th>\n",
       "      <td>56.418536</td>\n",
       "      <td>236556.232879</td>\n",
       "    </tr>\n",
       "    <tr>\n",
       "      <th>976</th>\n",
       "      <td>56.696458</td>\n",
       "      <td>233048.497510</td>\n",
       "    </tr>\n",
       "    <tr>\n",
       "      <th>977</th>\n",
       "      <td>53.379815</td>\n",
       "      <td>236858.987758</td>\n",
       "    </tr>\n",
       "    <tr>\n",
       "      <th>978</th>\n",
       "      <td>55.127806</td>\n",
       "      <td>238149.953450</td>\n",
       "    </tr>\n",
       "    <tr>\n",
       "      <th>979</th>\n",
       "      <td>50.342853</td>\n",
       "      <td>234256.766074</td>\n",
       "    </tr>\n",
       "    <tr>\n",
       "      <th>980</th>\n",
       "      <td>52.076956</td>\n",
       "      <td>237294.286890</td>\n",
       "    </tr>\n",
       "    <tr>\n",
       "      <th>981</th>\n",
       "      <td>59.998010</td>\n",
       "      <td>239995.686974</td>\n",
       "    </tr>\n",
       "    <tr>\n",
       "      <th>982</th>\n",
       "      <td>54.443994</td>\n",
       "      <td>239009.648021</td>\n",
       "    </tr>\n",
       "    <tr>\n",
       "      <th>983</th>\n",
       "      <td>58.283760</td>\n",
       "      <td>233246.673458</td>\n",
       "    </tr>\n",
       "    <tr>\n",
       "      <th>984</th>\n",
       "      <td>62.087717</td>\n",
       "      <td>231175.765668</td>\n",
       "    </tr>\n",
       "    <tr>\n",
       "      <th>985</th>\n",
       "      <td>56.142385</td>\n",
       "      <td>238031.432529</td>\n",
       "    </tr>\n",
       "    <tr>\n",
       "      <th>986</th>\n",
       "      <td>49.542857</td>\n",
       "      <td>231849.429050</td>\n",
       "    </tr>\n",
       "    <tr>\n",
       "      <th>987</th>\n",
       "      <td>58.474668</td>\n",
       "      <td>232039.808877</td>\n",
       "    </tr>\n",
       "    <tr>\n",
       "      <th>988</th>\n",
       "      <td>45.470261</td>\n",
       "      <td>241560.529565</td>\n",
       "    </tr>\n",
       "    <tr>\n",
       "      <th>989</th>\n",
       "      <td>59.764373</td>\n",
       "      <td>239153.694279</td>\n",
       "    </tr>\n",
       "    <tr>\n",
       "      <th>990</th>\n",
       "      <td>58.800997</td>\n",
       "      <td>233642.534900</td>\n",
       "    </tr>\n",
       "    <tr>\n",
       "      <th>991</th>\n",
       "      <td>54.935297</td>\n",
       "      <td>227592.943276</td>\n",
       "    </tr>\n",
       "    <tr>\n",
       "      <th>992</th>\n",
       "      <td>57.087822</td>\n",
       "      <td>235111.659429</td>\n",
       "    </tr>\n",
       "    <tr>\n",
       "      <th>993</th>\n",
       "      <td>59.379992</td>\n",
       "      <td>231578.683340</td>\n",
       "    </tr>\n",
       "    <tr>\n",
       "      <th>994</th>\n",
       "      <td>56.094151</td>\n",
       "      <td>235383.035505</td>\n",
       "    </tr>\n",
       "    <tr>\n",
       "      <th>995</th>\n",
       "      <td>51.395375</td>\n",
       "      <td>237830.566846</td>\n",
       "    </tr>\n",
       "    <tr>\n",
       "      <th>996</th>\n",
       "      <td>48.212725</td>\n",
       "      <td>233901.836652</td>\n",
       "    </tr>\n",
       "    <tr>\n",
       "      <th>997</th>\n",
       "      <td>44.248591</td>\n",
       "      <td>234693.675219</td>\n",
       "    </tr>\n",
       "    <tr>\n",
       "      <th>998</th>\n",
       "      <td>50.608427</td>\n",
       "      <td>230532.661461</td>\n",
       "    </tr>\n",
       "    <tr>\n",
       "      <th>999</th>\n",
       "      <td>53.841496</td>\n",
       "      <td>234284.660137</td>\n",
       "    </tr>\n",
       "  </tbody>\n",
       "</table>\n",
       "<p>1000 rows × 2 columns</p>\n",
       "</div>"
      ],
      "text/plain": [
       "           pos    duration_ms\n",
       "pid                          \n",
       "0    55.481721  231016.939017\n",
       "1    56.614440  234642.595866\n",
       "2    48.218701  235214.725133\n",
       "3    51.795475  233915.773588\n",
       "4    52.793873  235971.105573\n",
       "5    46.131243  229379.479841\n",
       "6    53.447182  235991.526640\n",
       "7    52.855638  234893.126859\n",
       "8    58.281458  239455.512413\n",
       "9    49.904195  236778.802513\n",
       "10   60.029330  237749.917570\n",
       "11   48.373405  234474.050423\n",
       "12   59.636817  233900.308298\n",
       "13   48.789801  240655.422311\n",
       "14   52.691262  237565.937061\n",
       "15   58.330765  234615.835226\n",
       "16   52.542806  238268.548663\n",
       "17   62.280953  232729.544639\n",
       "18   56.910288  237080.009366\n",
       "19   58.366527  240490.029847\n",
       "20   57.725273  245455.923627\n",
       "21   52.246033  234474.840411\n",
       "22   53.256885  237336.118637\n",
       "23   57.507588  234572.020436\n",
       "24   46.226154  225310.792707\n",
       "25   59.904584  233064.819801\n",
       "26   56.411920  232350.167960\n",
       "27   55.243243  230838.861396\n",
       "28   48.366672  236421.532706\n",
       "29   47.832691  230101.063306\n",
       "..         ...            ...\n",
       "970  53.696137  241866.121222\n",
       "971  53.858865  245221.322258\n",
       "972  66.607891  238508.011273\n",
       "973  43.923904  231952.344532\n",
       "974  47.206471  240357.363541\n",
       "975  56.418536  236556.232879\n",
       "976  56.696458  233048.497510\n",
       "977  53.379815  236858.987758\n",
       "978  55.127806  238149.953450\n",
       "979  50.342853  234256.766074\n",
       "980  52.076956  237294.286890\n",
       "981  59.998010  239995.686974\n",
       "982  54.443994  239009.648021\n",
       "983  58.283760  233246.673458\n",
       "984  62.087717  231175.765668\n",
       "985  56.142385  238031.432529\n",
       "986  49.542857  231849.429050\n",
       "987  58.474668  232039.808877\n",
       "988  45.470261  241560.529565\n",
       "989  59.764373  239153.694279\n",
       "990  58.800997  233642.534900\n",
       "991  54.935297  227592.943276\n",
       "992  57.087822  235111.659429\n",
       "993  59.379992  231578.683340\n",
       "994  56.094151  235383.035505\n",
       "995  51.395375  237830.566846\n",
       "996  48.212725  233901.836652\n",
       "997  44.248591  234693.675219\n",
       "998  50.608427  230532.661461\n",
       "999  53.841496  234284.660137\n",
       "\n",
       "[1000 rows x 2 columns]"
      ]
     },
     "execution_count": 11,
     "metadata": {},
     "output_type": "execute_result"
    }
   ],
   "source": [
    "# Group by playlists\n",
    "playlists_df = songs_df.groupby('pid').agg({\n",
    "    'pos': np.mean,\n",
    "    'duration_ms': np.mean\n",
    "})\n",
    "\n",
    "playlists_df"
   ]
  },
  {
   "cell_type": "markdown",
   "metadata": {},
   "source": [
    "## EDA - Spotify DB"
   ]
  },
  {
   "cell_type": "markdown",
   "metadata": {},
   "source": [
    "#### Columns"
   ]
  },
  {
   "cell_type": "code",
   "execution_count": 4,
   "metadata": {},
   "outputs": [
    {
     "name": "stdout",
     "output_type": "stream",
     "text": [
      "Playlists Columns:\n",
      "\n",
      "id\n",
      "playlist_id\n",
      "pos\n",
      "artist_name\n",
      "track_uri\n",
      "artist_uri\n",
      "track_name\n",
      "album_uri\n",
      "duration_ms\n",
      "album_name\n",
      "\n",
      "Artist columns:\n",
      "\n",
      "artist_uri\n",
      "followers\n",
      "genres\n",
      "artist_name\n",
      "artist_popularity\n",
      "\n",
      "Track columns:\n",
      "\n",
      "track_uri\n",
      "artist_uri\n",
      "danceability\n",
      "energy\n",
      "key\n",
      "loudness\n",
      "mode\n",
      "speechiness\n",
      "acousticness\n",
      "instrumentalness\n",
      "liveness\n",
      "valence\n",
      "tempo\n",
      "duration_ms\n",
      "time_signature\n",
      "track_popularity\n"
     ]
    }
   ],
   "source": [
    "print('Playlists Columns:\\n')\n",
    "for c in Playlists.__table__.columns:\n",
    "    print(c.name)\n",
    "    \n",
    "print('\\nArtist columns:\\n')\n",
    "for c in Artists.__table__.columns:\n",
    "    print(c.name)\n",
    "    \n",
    "print('\\nTrack columns:\\n')\n",
    "for c in Tracks.__table__.columns:\n",
    "    print(c.name)"
   ]
  },
  {
   "cell_type": "markdown",
   "metadata": {},
   "source": [
    "#### Total Counts"
   ]
  },
  {
   "cell_type": "code",
   "execution_count": 5,
   "metadata": {},
   "outputs": [
    {
     "name": "stdout",
     "output_type": "stream",
     "text": [
      "track_count : 2261597\n",
      "artist_count : 296014\n",
      "playlist_records_count : 66344450\n",
      "playlists_count : 999001\n"
     ]
    }
   ],
   "source": [
    "counts = { \n",
    "    'track_count': session.query(func.count(distinct(Tracks.track_uri))).scalar(),\n",
    "    'artist_count': session.query(func.count(distinct(Artists.artist_uri))).scalar(),\n",
    "    'playlist_records_count':  session.query(func.count(Playlists.playlist_id)).scalar(),\n",
    "    'playlists_count':  session.query(func.count(distinct(Playlists.playlist_id))).scalar()\n",
    "    }\n",
    "\n",
    "for k,v in counts.items():\n",
    "    print(k, ':', v)"
   ]
  },
  {
   "cell_type": "markdown",
   "metadata": {},
   "source": [
    "#### Playlists"
   ]
  },
  {
   "cell_type": "code",
   "execution_count": 73,
   "metadata": {},
   "outputs": [
    {
     "data": {
      "text/plain": [
       "array([ 13,  85, 158, ...,  52,  66,  21])"
      ]
     },
     "metadata": {},
     "output_type": "display_data"
    }
   ],
   "source": [
    "# songs per playlist\n",
    "songs_per_playlist_count = session.query(Playlists.playlist_id, func.count(Playlists.track_name).label('count')).group_by(Playlists.playlist_id).all()\n",
    "\n",
    "songs_per_playlist_count = np.array(songs_per_playlist_count)\n",
    "display(songs_per_playlist_count[:, 1])"
   ]
  },
  {
   "cell_type": "code",
   "execution_count": 74,
   "metadata": {},
   "outputs": [
    {
     "data": {
      "text/plain": [
       "array([2.54620154e+05, 2.25012235e+05, 2.25930443e+05, ...,\n",
       "       0.00000000e+00, 3.03030303e-02, 0.00000000e+00])"
      ]
     },
     "metadata": {},
     "output_type": "display_data"
    }
   ],
   "source": [
    "# average song length per playlist\n",
    "songs_per_playlist_avg = session.query(Playlists.playlist_id, func.avg(Playlists.duration_ms).label('avg_song_length')).group_by(Playlists.playlist_id).all()\n",
    "\n",
    "songs_per_playlist_avg = np.array(songs_per_playlist_avg)\n",
    "display(songs_per_playlist_avg[:, 1])"
   ]
  },
  {
   "cell_type": "code",
   "execution_count": 85,
   "metadata": {},
   "outputs": [
    {
     "name": "stdout",
     "output_type": "stream",
     "text": [
      "Smallest playlist: 4\n",
      "Largest playlist: 459\n",
      "Mean playlist length: 66.4107923815892\n",
      "Median playlist length: 49.0\n",
      "Mode playlist length: 20 songs ( 15028 playlists )\n"
     ]
    },
    {
     "data": {
      "image/png": "[encoded data removed]",
      "text/plain": [
       "<Figure size 1152x432 with 1 Axes>"
      ]
     },
     "metadata": {
      "needs_background": "light"
     },
     "output_type": "display_data"
    }
   ],
   "source": [
    "# plot playlist lengths\n",
    "fig, ax = plt.subplots(1, 1, figsize=(16, 6))\n",
    "    \n",
    "ax.hist(songs_per_playlist_count[:, 1], bins=50);\n",
    "    \n",
    "ax.set_title('Songs per playlist')\n",
    "ax.set_ylabel('# of playlists')\n",
    "ax.set_xlabel('# of songs on playlist');\n",
    "\n",
    "print('Smallest playlist:', np.min(songs_per_playlist_count[:, 1]))\n",
    "print('Largest playlist:', np.max(songs_per_playlist_count[:, 1]))\n",
    "print('Mean playlist length:', np.mean(songs_per_playlist_count[:, 1]))\n",
    "print('Median playlist length:', np.median(songs_per_playlist_count[:, 1]))\n",
    "print('Mode playlist length:', stats.mode(songs_per_playlist_count[:, 1])[0][0], 'songs (',\n",
    "     stats.mode(songs_per_playlist_count[:, 1])[1][0], 'playlists )')"
   ]
  },
  {
   "cell_type": "code",
   "execution_count": 90,
   "metadata": {},
   "outputs": [
    {
     "name": "stdout",
     "output_type": "stream",
     "text": [
      "Shortest avg length: -1.0\n",
      "Longest avg length: 4350476.743589744\n",
      "Mean avg length: 160710.60076846372\n",
      "Median avg length: 220159.53846153847\n",
      "Mode avg length: 0.0 ms ( 15028 playlists )\n"
     ]
    },
    {
     "data": {
      "image/png": "[encoded data removed]",
      "text/plain": [
       "<Figure size 1152x432 with 1 Axes>"
      ]
     },
     "metadata": {
      "needs_background": "light"
     },
     "output_type": "display_data"
    }
   ],
   "source": [
    "# plot playlist avg song lengths\n",
    "fig, ax = plt.subplots(1, 1, figsize=(16, 6))\n",
    "    \n",
    "ax.hist(songs_per_playlist_avg[:, 1], bins=50);\n",
    "    \n",
    "ax.set_title('Avg song lengths per playlist')\n",
    "ax.set_ylabel('# of playlists')\n",
    "ax.set_xlabel('Average song length');\n",
    "\n",
    "print('Shortest avg length:', np.min(songs_per_playlist_avg[:, 1]))\n",
    "print('Longest avg length:', np.max(songs_per_playlist_avg[:, 1]))\n",
    "print('Mean avg length:', np.mean(songs_per_playlist_avg[:, 1]))\n",
    "print('Median avg length:', np.median(songs_per_playlist_avg[:, 1]))\n",
    "print('Mode avg length:', stats.mode(songs_per_playlist_avg[:, 1])[0][0], 'ms (',\n",
    "     stats.mode(songs_per_playlist_count[:, 1])[1][0], 'playlists )')"
   ]
  },
  {
   "cell_type": "code",
   "execution_count": 91,
   "metadata": {},
   "outputs": [],
   "source": [
    "# Most popular artists by playlist appearance (artist name)\n",
    "artist_playlist_app_count = session.query(Playlists.artist_name, func.count(Playlists.artist_name).label('count')).group_by(Playlists.artist_name).all()"
   ]
  },
  {
   "cell_type": "code",
   "execution_count": 109,
   "metadata": {},
   "outputs": [
    {
     "data": {
      "text/plain": [
       "[('Drake', 847159),\n",
       " ('Kanye West', 413291),\n",
       " ('Kendrick Lamar', 353624),\n",
       " ('Rihanna', 339548),\n",
       " ('The Weeknd', 316603),\n",
       " ('Eminem', 294667),\n",
       " ('Ed Sheeran', 272116),\n",
       " ('Future', 250734),\n",
       " ('Justin Bieber', 243119),\n",
       " ('J. Cole', 241560),\n",
       " ('Beyoncé', 230857),\n",
       " ('The Chainsmokers', 223509),\n",
       " ('Chris Brown', 212772),\n",
       " ('Calvin Harris', 203047),\n",
       " ('Twenty One Pilots', 198905),\n",
       " ('Lil Uzi Vert', 197855),\n",
       " ('Post Malone', 195907),\n",
       " ('Big Sean', 192478),\n",
       " ('Maroon 5', 187029),\n",
       " ('JAY Z', 185520)]"
      ]
     },
     "execution_count": 109,
     "metadata": {},
     "output_type": "execute_result"
    }
   ],
   "source": [
    "artist_playlist_app_count.sort(key=lambda x: x[1], reverse=True)\n",
    "artist_playlist_app_count[:20]"
   ]
  },
  {
   "cell_type": "code",
   "execution_count": 119,
   "metadata": {},
   "outputs": [],
   "source": [
    "# Most popular tracks by playlist appearance (uri)\n",
    "track_playlist_app_count = session.query(Playlists.artist_name, Playlists.track_name, func.count(Playlists.track_uri).label('count')).group_by(Playlists.track_uri).all()"
   ]
  },
  {
   "cell_type": "code",
   "execution_count": 121,
   "metadata": {},
   "outputs": [
    {
     "data": {
      "text/plain": [
       "[('Kendrick Lamar', 'HUMBLE.', 46574),\n",
       " ('Drake', 'One Dance', 43447),\n",
       " ('DRAM', 'Broccoli (feat. Lil Yachty)', 41309),\n",
       " ('The Chainsmokers', 'Closer', 41079),\n",
       " ('Post Malone', 'Congratulations', 39987),\n",
       " ('Aminé', 'Caroline', 35202),\n",
       " ('KYLE', 'iSpy (feat. Lil Yachty)', 35138),\n",
       " ('Migos', 'Bad and Boujee (feat. Lil Uzi Vert)', 34999),\n",
       " ('Lil Uzi Vert', 'XO TOUR Llif3', 34922),\n",
       " ('Khalid', 'Location', 34657),\n",
       " ('Big Sean', 'Bounce Back', 33699),\n",
       " ('R. Kelly', 'Ignition - Remix', 32391),\n",
       " ('J. Cole', 'No Role Modelz', 32336),\n",
       " ('Future', 'Mask Off', 32059),\n",
       " ('Chance The Rapper', 'No Problem (feat. Lil Wayne & 2 Chainz)', 31492),\n",
       " ('DJ Khaled', \"I'm the One\", 31374),\n",
       " ('Drake', 'Jumpman', 31119),\n",
       " ('Travis Scott', 'goosebumps', 31106),\n",
       " ('Drake', 'Fake Love', 30678),\n",
       " ('Luis Fonsi', 'Despacito - Remix', 30485)]"
      ]
     },
     "execution_count": 121,
     "metadata": {},
     "output_type": "execute_result"
    }
   ],
   "source": [
    "track_playlist_app_count.sort(key=lambda x: x[2], reverse=True)\n",
    "track_playlist_app_count[:20]"
   ]
  },
  {
   "cell_type": "code",
   "execution_count": 137,
   "metadata": {},
   "outputs": [
    {
     "data": {
      "image/png": "[encoded data removed]",
      "text/plain": [
       "<Figure size 1152x720 with 2 Axes>"
      ]
     },
     "metadata": {
      "needs_background": "light"
     },
     "output_type": "display_data"
    }
   ],
   "source": [
    "top20_track_counts = [x[2] for x in track_playlist_app_count[:20]]\n",
    "top20_track_labels = [x[0] + ' - ' + x[1] for x in track_playlist_app_count[:20]]\n",
    "\n",
    "top20_artist_counts = [x[1] for x in artist_playlist_app_count[:20]]\n",
    "top20_artist_labels = [x[0] for x in artist_playlist_app_count[:20]]\n",
    "\n",
    "top20_track_counts.reverse()\n",
    "top20_track_labels.reverse()\n",
    "top20_artist_counts.reverse()\n",
    "top20_artist_labels.reverse()\n",
    "\n",
    "# barplots for 20 most popular artists/tracks\n",
    "fig, axs = plt.subplots(2, 1, figsize=(16, 10))\n",
    "\n",
    "y1 = np.arange(len(top20_track_counts))\n",
    "y2 = np.arange(len(top20_artist_counts))\n",
    "    \n",
    "axs[0].barh(y1, top20_track_counts)\n",
    "    \n",
    "axs[0].set_title('Top tracks')\n",
    "# axs[0].set_ylabel('# of playlists')\n",
    "# axs[0].set_xlabel('Average song length')\n",
    "axs[0].set_yticks(y1)\n",
    "axs[0].set_yticklabels(top20_track_labels)\n",
    "\n",
    "axs[1].barh(y2, top20_artist_counts)\n",
    "    \n",
    "axs[1].set_title('Top artists')\n",
    "# axs[1].set_ylabel('# of playlists')\n",
    "# axs[1].set_xlabel('Average song length')\n",
    "axs[1].set_yticks(y2)\n",
    "axs[1].set_yticklabels(top20_artist_labels)\n",
    "\n",
    "fig.suptitle('Top tracks/artists by appearance in playlists');"
   ]
  },
  {
   "cell_type": "markdown",
   "metadata": {},
   "source": [
    "#### Artists"
   ]
  },
  {
   "cell_type": "code",
   "execution_count": 141,
   "metadata": {},
   "outputs": [
    {
     "data": {
      "text/plain": [
       "[0, 8, 5, 40, 21, 0, 7, 37, 40, 38]"
      ]
     },
     "execution_count": 141,
     "metadata": {},
     "output_type": "execute_result"
    }
   ],
   "source": [
    "artist_popularities = session.query(Artists.artist_popularity).all()\n",
    "artist_popularities = [x[0] for x in artist_popularities] \n",
    "artist_popularities[:10]"
   ]
  },
  {
   "cell_type": "code",
   "execution_count": 144,
   "metadata": {},
   "outputs": [
    {
     "name": "stdout",
     "output_type": "stream",
     "text": [
      "Min popularity: 0\n",
      "Max popularity: 100\n",
      "Average popularity: 16.3771983757525\n",
      "Median popularity: 11.0\n",
      "Mode popularity: 0 ( 15028 artists )\n"
     ]
    },
    {
     "data": {
      "image/png": "[encoded data removed]",
      "text/plain": [
       "<Figure size 1152x432 with 1 Axes>"
      ]
     },
     "metadata": {
      "needs_background": "light"
     },
     "output_type": "display_data"
    }
   ],
   "source": [
    "# plot playlist avg song lengths\n",
    "fig, ax = plt.subplots(1, 1, figsize=(16, 6))\n",
    "    \n",
    "ax.hist(artist_popularities, bins=25);\n",
    "    \n",
    "ax.set_title('Distribution of artist popularities')\n",
    "ax.set_ylabel('# of artists')\n",
    "ax.set_xlabel('Artist popularity');\n",
    "\n",
    "print('Min popularity:', np.min(artist_popularities))\n",
    "print('Max popularity:', np.max(artist_popularities))\n",
    "print('Average popularity:', np.mean(artist_popularities))\n",
    "print('Median popularity:', np.median(artist_popularities))\n",
    "print('Mode popularity:', stats.mode(artist_popularities)[0][0], '(',\n",
    "     stats.mode(songs_per_playlist_count[:, 1])[1][0], 'artists )')"
   ]
  },
  {
   "cell_type": "code",
   "execution_count": 158,
   "metadata": {},
   "outputs": [
    {
     "name": "stdout",
     "output_type": "stream",
     "text": [
      "TOTAL: 30167\n",
      "[('', 181365), ('fake', 202), ('karaoke', 188), ('deep underground hip hop', 186), ('praise', 185), ('sleep', 181), ('indie electropop', 149), ('country pop', 145), ('relaxative', 136), ('deep pop r&b', 132), ('deep talent show', 125), ('regional mexican pop', 120), ('sky room', 119), ('deep tropical house', 118), ('vapor soul', 118), ('indie anthem-folk', 117), ('deep dubstep', 116), ('workout product', 116), ('pop reggaeton', 115), ('channel pop', 114)]\n"
     ]
    }
   ],
   "source": [
    "artist_genres = session.query(Artists.genres, func.count(Artists.genres)).group_by(Artists.genres).all()\n",
    "artist_genres.sort(key=lambda x: x[1], reverse=True)\n",
    "\n",
    "print('TOTAL:', len(artist_genres))\n",
    "print(artist_genres[:20])"
   ]
  },
  {
   "cell_type": "markdown",
   "metadata": {},
   "source": [
    "#### Tracks"
   ]
  },
  {
   "cell_type": "code",
   "execution_count": 186,
   "metadata": {},
   "outputs": [
    {
     "data": {
      "image/png": "[encoded data removed]",
      "text/plain": [
       "<Figure size 720x1152 with 14 Axes>"
      ]
     },
     "metadata": {
      "needs_background": "light"
     },
     "output_type": "display_data"
    }
   ],
   "source": [
    "track_feature_cols = ['danceability', 'energy', 'key', 'loudness', 'mode', 'speechiness', \n",
    "                      'acousticness', 'instrumentalness', 'liveness', 'valence', 'tempo', \n",
    "                      'duration_ms', 'time_signature', 'track_popularity']\n",
    "\n",
    "# plot distributions of each track attribute\n",
    "fig, axs = plt.subplots(7, 2, figsize=(16, 16))\n",
    "\n",
    "# plot individual values by fold\n",
    "for i, ax in enumerate(axs.ravel()):\n",
    "    tr_feature = session.query(getattr(Tracks, track_feature_cols[i])).all()\n",
    "    tr_feature = [x[0] is not None and x[0] or 0 for x in tr_feature]\n",
    "    ax.hist(tr_feature, bins=20)\n",
    "    ax.set_title(track_feature_cols[i]);"
   ]
  },
  {
   "cell_type": "code",
   "execution_count": null,
   "metadata": {},
   "outputs": [],
   "source": []
  }
 ],
 "metadata": {
  "kernelspec": {
   "display_name": "Python 3",
   "language": "python",
   "name": "python3"
  },
  "language_info": {
   "codemirror_mode": {
    "name": "ipython",
    "version": 3
   },
   "file_extension": ".py",
   "mimetype": "text/x-python",
   "name": "python",
   "nbconvert_exporter": "python",
   "pygments_lexer": "ipython3",
   "version": "3.7.3"
  }
 },
 "nbformat": 4,
 "nbformat_minor": 2
}
