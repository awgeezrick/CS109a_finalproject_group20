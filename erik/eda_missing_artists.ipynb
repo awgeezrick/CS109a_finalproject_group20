{
 "cells": [
  {
   "cell_type": "markdown",
   "metadata": {},
   "source": [
    "# Spotify EDA: Compiling list of Missing Artist/Tracks URIs"
   ]
  },
  {
   "cell_type": "markdown",
   "metadata": {},
   "source": [
    "This notebook compiles file(s) containing all URIs that return errors when querying the Spotify API for data cleanup. "
   ]
  },
  {
   "cell_type": "markdown",
   "metadata": {},
   "source": [
    "## Setup"
   ]
  },
  {
   "cell_type": "code",
   "execution_count": 14,
   "metadata": {},
   "outputs": [
    {
     "name": "stdout",
     "output_type": "stream",
     "text": [
      "env: SPOTIFY_CLIENT_ID=aff9ad651d0b4181a541bc73c6852474\n",
      "env: SPOTIFY_CLIENT_SECRET=258c115477814b09b93b0b04d507e929\n",
      "env: SPOTIFY_REDIRECT_URI=FinalProjectCS109a://callback\n"
     ]
    }
   ],
   "source": [
    "import os\n",
    "import sys\n",
    "import json\n",
    "import time\n",
    "import pickle\n",
    "\n",
    "from IPython.display import clear_output\n",
    "\n",
    "from sqlalchemy.ext.declarative import declarative_base \n",
    "from sqlalchemy import Table, Column, Integer, String, MetaData, and_, or_, func,distinct\n",
    "\n",
    "import importlib\n",
    "\n",
    "from spotify_api import get_spotify_data, get_tracks, get_artists, get_audiofeatures\n",
    "from spotify_database import get_session, display_time\n",
    "from spotify_utils import Table_Generator, List_Generator\n",
    "\n",
    "%env SPOTIFY_CLIENT_ID=aff9ad651d0b4181a541bc73c6852474\n",
    "%env SPOTIFY_CLIENT_SECRET=258c115477814b09b93b0b04d507e929\n",
    "%env SPOTIFY_REDIRECT_URI=FinalProjectCS109a://callback"
   ]
  },
  {
   "cell_type": "code",
   "execution_count": 15,
   "metadata": {},
   "outputs": [
    {
     "data": {
      "text/plain": [
       "'aff9ad651d0b4181a541bc73c6852474'"
      ]
     },
     "metadata": {},
     "output_type": "display_data"
    },
    {
     "data": {
      "text/plain": [
       "'258c115477814b09b93b0b04d507e929'"
      ]
     },
     "metadata": {},
     "output_type": "display_data"
    },
    {
     "data": {
      "text/plain": [
       "'FinalProjectCS109a://callback'"
      ]
     },
     "metadata": {},
     "output_type": "display_data"
    }
   ],
   "source": [
    "# Just a test to see that the credentails are setup\n",
    "display(os.environ['SPOTIFY_CLIENT_ID'])\n",
    "display(os.environ['SPOTIFY_CLIENT_SECRET'])\n",
    "display(os.environ['SPOTIFY_REDIRECT_URI'])"
   ]
  },
  {
   "cell_type": "code",
   "execution_count": 16,
   "metadata": {},
   "outputs": [],
   "source": [
    "# Set database path on local drive\n",
    "db_path = \"../data/spotify_songsv2.db\"\n",
    "\n",
    "# Get sesion\n",
    "session = get_session(db_path)\n",
    "\n",
    "# Get Classes\n",
    "Playlists = getattr(get_session, \"Playlists\")\n",
    "Artists = getattr(get_session, \"Artists\")\n",
    "Tracks = getattr(get_session, \"Tracks\")"
   ]
  },
  {
   "cell_type": "code",
   "execution_count": 17,
   "metadata": {},
   "outputs": [
    {
     "name": "stdout",
     "output_type": "stream",
     "text": [
      "Time to Execute: 0.01 seconds\n"
     ]
    },
    {
     "data": {
      "text/plain": [
       "'spotify:track:2d7LPtieXdIYzf7yHPooWd'"
      ]
     },
     "metadata": {},
     "output_type": "display_data"
    },
    {
     "name": "stdout",
     "output_type": "stream",
     "text": [
      "Time to Execute: 0.0 seconds\n"
     ]
    },
    {
     "data": {
      "text/plain": [
       "'spotify:artist:3tBUUrQ26CCErBABEw2EXo'"
      ]
     },
     "metadata": {},
     "output_type": "display_data"
    }
   ],
   "source": [
    "# test\n",
    "result = display_time(session.query(Tracks).first)\n",
    "display(result.track_uri)\n",
    "\n",
    "result = display_time(session.query(Artists).first)\n",
    "display(result.artist_uri)"
   ]
  },
  {
   "cell_type": "markdown",
   "metadata": {},
   "source": [
    "## Test - Artists"
   ]
  },
  {
   "cell_type": "code",
   "execution_count": 18,
   "metadata": {},
   "outputs": [
    {
     "name": "stdout",
     "output_type": "stream",
     "text": [
      "Creating Table Generator:\n",
      "\tbatch size :  50\n",
      "\tlength     :  296014\n",
      "\tnum batches:  5921\n"
     ]
    }
   ],
   "source": [
    "# build table generator\n",
    "tbl_gen = Table_Generator(query=session.query(Artists), batch_size=50).batch_generator()"
   ]
  },
  {
   "cell_type": "code",
   "execution_count": 19,
   "metadata": {},
   "outputs": [
    {
     "data": {
      "application/vnd.jupyter.widget-view+json": {
       "model_id": "afa1997c5b3a4233b87faca0f1610aa8",
       "version_major": 2,
       "version_minor": 0
      },
      "text/plain": [
       "HBox(children=(IntProgress(value=0, max=296014), HTML(value='')))"
      ]
     },
     "metadata": {},
     "output_type": "display_data"
    },
    {
     "data": {
      "text/plain": [
       "['spotify:artist:3tBUUrQ26CCErBABEw2EXo',\n",
       " 'spotify:artist:614CRLw0nKYoThHBfYETJ5',\n",
       " 'spotify:artist:1ZeMjRwmR1Mwcc8OHBhnuo',\n",
       " 'spotify:artist:29AMdFTZ4Ahs3fFXIq8Dic',\n",
       " 'spotify:artist:7F0ZmNdg6ofNy2S4gRiIfI',\n",
       " 'spotify:artist:6ylPKBT7j4mNXtoJeKlBoj',\n",
       " 'spotify:artist:5Ny8cN3lGmui6Pu5H26Xqj',\n",
       " 'spotify:artist:3MLPFTe4BrpEV2eOVG0gLK',\n",
       " 'spotify:artist:6kN7AbeUV4yRewiVUToouk',\n",
       " 'spotify:artist:1mkThrz3Up9YGWnb3NDyZV',\n",
       " 'spotify:artist:4WaoY882GlpN7vKtNB25zC',\n",
       " 'spotify:artist:51S9dRF8a9hrdg4N1PbEWT',\n",
       " 'spotify:artist:7d779nStwID81AfOrbz7s6',\n",
       " 'spotify:artist:1stsCjH4vP2aRdIhkxdguc',\n",
       " 'spotify:artist:2vBXjxCF5BK4tEobAXl10f',\n",
       " 'spotify:artist:0mu8JFOMnbPRERjQu4nYvX',\n",
       " 'spotify:artist:4KQBlgVeRGs6D2kG5rdwRQ',\n",
       " 'spotify:artist:4xW7Z8zF4QZpzPjJUsSw1f',\n",
       " 'spotify:artist:2t2iHbw9NMohNNDBDAZzOz',\n",
       " 'spotify:artist:6f1O7MaPkmSMsTpaXsGpLk',\n",
       " 'spotify:artist:7AutmNQynw0f6nuuKHqNY2',\n",
       " 'spotify:artist:3lcmzWPTzejqs36ZSSlV0S',\n",
       " 'spotify:artist:74tKoyDq7xSvvgUXUU1FHG',\n",
       " 'spotify:artist:4SqkB08U0CNJuLAvxGdfeg',\n",
       " 'spotify:artist:5hYb7x5D1ifqKGAqRoorAT',\n",
       " 'spotify:artist:6myWEltroKJtquoUCuxCy5',\n",
       " 'spotify:artist:76tScm4a86UBdfxYhvpOKm',\n",
       " 'spotify:artist:1s6BD7L9myVhlTcBR3vJCV',\n",
       " 'spotify:artist:6PR1LVsphqrgunxIxhn3c9',\n",
       " 'spotify:artist:0wpqtyKg5mLinVFBXaurGj',\n",
       " 'spotify:artist:3H30Bw5wJvJj7GJMT5IZh0',\n",
       " 'spotify:artist:6OdTpuphUo5xxCfFMWuwvr',\n",
       " 'spotify:artist:29RIDUuuCBiDMzigd4Krep',\n",
       " 'spotify:artist:3OLnHRNglHm2359CcDOR2J',\n",
       " 'spotify:artist:1bYHMZ8s6WzVgB2IKXKJc2',\n",
       " 'spotify:artist:5tqIfXw3eUv978SKkIG6Kv',\n",
       " 'spotify:artist:5Xa1IUqYrcJX260usTOsKL',\n",
       " 'spotify:artist:5SQBOynpm1BVfSFGv6IH41',\n",
       " 'spotify:artist:6rGiV1XLnMtVLvVxStgpmB',\n",
       " 'spotify:artist:5cYEZ1KCvrdc55Hx5DZo9j',\n",
       " 'spotify:artist:6HftmklnESF1Pbi9mUIj9T',\n",
       " 'spotify:artist:2qmqBDnM7A0DtIZr0njLoa',\n",
       " 'spotify:artist:53YSn9tHwGJ6bq5P0gGoYo',\n",
       " 'spotify:artist:3pZ0onlMgvPmBES1d5B24J',\n",
       " 'spotify:artist:6djMoGvRwtmJ4bXEBAId9o',\n",
       " 'spotify:artist:0AIiQmGC0tGrOuAF05UAXz',\n",
       " 'spotify:artist:1o8k1i2sES0V9Gz1rNg3RI',\n",
       " 'spotify:artist:5METgwJLMMFIcUE3zperGs',\n",
       " 'spotify:artist:7B68elt9OqbxEOQA1ilnPh',\n",
       " 'spotify:artist:2uD39iQnUxZuocGsz8dPPD']"
      ]
     },
     "execution_count": 19,
     "metadata": {},
     "output_type": "execute_result"
    }
   ],
   "source": [
    "# get 50 artists, extract URIs\n",
    "first50_artists = tbl_gen.__next__()[0:50]\n",
    "first50_artist_uris = [a.artist_uri for a in first50_artists]\n",
    "\n",
    "first50_artist_uris"
   ]
  },
  {
   "cell_type": "code",
   "execution_count": null,
   "metadata": {},
   "outputs": [],
   "source": [
    "# use spotify API to get artist info based on above URIs\n",
    "artist_api_test_response = get_artists(first50_artist_uris)"
   ]
  },
  {
   "cell_type": "code",
   "execution_count": null,
   "metadata": {},
   "outputs": [],
   "source": [
    "artist_api_test_response"
   ]
  },
  {
   "cell_type": "code",
   "execution_count": null,
   "metadata": {},
   "outputs": [],
   "source": [
    "# change a few URIs in the example to be \"bad\"\n",
    "first50_artist_uris[0] = 'spotify:artist:3tBUUrQ26CCErBABEwbad1'\n",
    "first50_artist_uris[10] = 'spotify:artist:3tBUUrQ26CCErBABEwbad2'\n",
    "first50_artist_uris[48] = 'spotify:artist:3tBUUrQ26CCErBABEwbad3'"
   ]
  },
  {
   "cell_type": "code",
   "execution_count": null,
   "metadata": {},
   "outputs": [],
   "source": [
    "# rerun request\n",
    "artist_api_test_response = get_artists(first50_artist_uris)"
   ]
  },
  {
   "cell_type": "code",
   "execution_count": null,
   "metadata": {},
   "outputs": [],
   "source": [
    "artist_api_test_response"
   ]
  },
  {
   "cell_type": "code",
   "execution_count": null,
   "metadata": {},
   "outputs": [],
   "source": [
    "# test - get bad indices\n",
    "bad_uris_indices = [i for i,v in enumerate(artist_api_test_response) if v == None]\n",
    "\n",
    "display(bad_uris_indices)\n",
    "\n",
    "for i in bad_uris_indices:\n",
    "    print(first50_artist_uris[i])\n",
    "    \n",
    "# test - get bad URIs\n",
    "bad_uris = [first50_artist_uris[i] for i in bad_uris_indices]\n",
    "\n",
    "bad_uris"
   ]
  },
  {
   "cell_type": "code",
   "execution_count": null,
   "metadata": {},
   "outputs": [],
   "source": [
    "# function that takes a chunk of 50 artists and returns a list of bad URIs\n",
    "def get_bad_artist_uris(artist_uris:list) -> list:\n",
    "    response = get_artists(artist_uris)\n",
    "    bad_uris_indices = [i for i,v in enumerate(response) if v == None]\n",
    "    return [artist_uris[i] for i in bad_uris_indices]"
   ]
  },
  {
   "cell_type": "code",
   "execution_count": null,
   "metadata": {},
   "outputs": [],
   "source": [
    "# test function above\n",
    "display(get_bad_artist_uris(first50_artist_uris))"
   ]
  },
  {
   "cell_type": "code",
   "execution_count": null,
   "metadata": {},
   "outputs": [],
   "source": [
    "# test function to process a few batches (adding in some bad apples as we go)\n",
    "def find_all_bad_artist_uris(tbl_gen, num_iterations=5) -> list:\n",
    "    bad_artist_uris = []\n",
    "    \n",
    "    for i in range(num_iterations):\n",
    "        batch = tbl_gen.__next__()\n",
    "        artist_uris = [a.artist_uri for a in batch]\n",
    "        \n",
    "        artist_uris[0] = 'spotify:artist:3tBUUrQ26CCErBABEwbad1'\n",
    "        artist_uris[10] = 'spotify:artist:3tBUUrQ26CCErBABEwbad2'\n",
    "        artist_uris[48] = 'spotify:artist:3tBUUrQ26CCErBABEwbad3'\n",
    "        \n",
    "        l = get_bad_artist_uris(artist_uris)\n",
    "        bad_artist_uris.extend(l)\n",
    "    \n",
    "    return bad_artist_uris"
   ]
  },
  {
   "cell_type": "code",
   "execution_count": null,
   "metadata": {},
   "outputs": [],
   "source": [
    "# test function\n",
    "test_list = find_all_bad_artist_uris(tbl_gen)"
   ]
  },
  {
   "cell_type": "code",
   "execution_count": null,
   "metadata": {},
   "outputs": [],
   "source": [
    "test_list"
   ]
  },
  {
   "cell_type": "code",
   "execution_count": null,
   "metadata": {},
   "outputs": [],
   "source": [
    "# dump list to pickle\n",
    "with open('test_pickle.pkl', 'wb') as f:\n",
    "    pickle.dump(test_list, f)"
   ]
  },
  {
   "cell_type": "code",
   "execution_count": null,
   "metadata": {},
   "outputs": [],
   "source": [
    "# test reload of pickle\n",
    "with open('test_pickle.pkl', 'rb') as f:\n",
    "    test_open_list = pickle.load(f)"
   ]
  },
  {
   "cell_type": "code",
   "execution_count": null,
   "metadata": {},
   "outputs": [],
   "source": [
    "test_open_list"
   ]
  },
  {
   "cell_type": "markdown",
   "metadata": {},
   "source": [
    "## Run - Artists"
   ]
  },
  {
   "cell_type": "code",
   "execution_count": null,
   "metadata": {},
   "outputs": [],
   "source": [
    "# FUNCTIONS TO PARSE DATA (part of this is copied from above to keep it in one place)\n",
    "\n",
    "# function that takes a chunk of 50 artists and returns a list of bad URIs\n",
    "def get_bad_artist_uris(artist_uris:list) -> list:\n",
    "    response = get_artists(artist_uris)\n",
    "    bad_uris_indices = [i for i,v in enumerate(response) if v == None]\n",
    "    return [artist_uris[i] for i in bad_uris_indices]\n",
    "\n",
    "# function that takes a table generator and iterates over it to find bad artist URIs\n",
    "def find_all_bad_artist_uris(tbl_gen) -> list:\n",
    "    bad_artist_uris = []\n",
    "    \n",
    "    for batch in tbl_gen:\n",
    "        artist_uris = [a.artist_uri for a in batch]\n",
    "        l = get_bad_artist_uris(artist_uris)\n",
    "        bad_artist_uris.extend(l)\n",
    "    \n",
    "    return bad_artist_uris"
   ]
  },
  {
   "cell_type": "code",
   "execution_count": null,
   "metadata": {},
   "outputs": [],
   "source": [
    "# set up table generator again for full run-through\n",
    "tbl_gen = Table_Generator(query=session.query(Artists), batch_size=50).batch_generator()"
   ]
  },
  {
   "cell_type": "code",
   "execution_count": null,
   "metadata": {},
   "outputs": [],
   "source": [
    "# run API requests to build full list of bad URIs\n",
    "full_list = find_all_bad_artist_uris(tbl_gen)"
   ]
  },
  {
   "cell_type": "code",
   "execution_count": null,
   "metadata": {},
   "outputs": [],
   "source": [
    "# check list\n",
    "display(len(full_list))\n",
    "display(full_list)"
   ]
  },
  {
   "cell_type": "code",
   "execution_count": null,
   "metadata": {},
   "outputs": [],
   "source": [
    "# dump list to pickle\n",
    "with open('bad_artist_uris.pkl', 'wb') as f:\n",
    "    pickle.dump(full_list, f)"
   ]
  },
  {
   "cell_type": "code",
   "execution_count": null,
   "metadata": {},
   "outputs": [],
   "source": [
    "# test load\n",
    "with open('bad_artist_uris.pkl', 'rb') as f:\n",
    "    test_open_list = pickle.load(f)"
   ]
  },
  {
   "cell_type": "code",
   "execution_count": null,
   "metadata": {},
   "outputs": [],
   "source": [
    "test_open_list"
   ]
  },
  {
   "cell_type": "markdown",
   "metadata": {},
   "source": [
    "#### NOTE: Zero bad artists found."
   ]
  },
  {
   "cell_type": "markdown",
   "metadata": {},
   "source": [
    "## Test - tracks"
   ]
  },
  {
   "cell_type": "code",
   "execution_count": null,
   "metadata": {},
   "outputs": [],
   "source": [
    "# build table generator\n",
    "tbl_gen = Table_Generator(query=session.query(Tracks), batch_size=50).batch_generator()"
   ]
  },
  {
   "cell_type": "code",
   "execution_count": null,
   "metadata": {},
   "outputs": [],
   "source": [
    "# get 50 artists, extract URIs\n",
    "first50_tracks = tbl_gen.__next__()[0:50]\n",
    "first50_track_uris = [a.track_uri for a in first50_tracks]\n",
    "\n",
    "first50_track_uris"
   ]
  },
  {
   "cell_type": "code",
   "execution_count": null,
   "metadata": {},
   "outputs": [],
   "source": [
    "# use spotify API to get artist info based on above URIs\n",
    "track_api_test_response = get_tracks(first50_track_uris)"
   ]
  },
  {
   "cell_type": "code",
   "execution_count": null,
   "metadata": {},
   "outputs": [],
   "source": [
    "track_api_test_response"
   ]
  },
  {
   "cell_type": "code",
   "execution_count": null,
   "metadata": {},
   "outputs": [],
   "source": [
    "# change a few URIs in the example to be \"bad\"\n",
    "first50_track_uris[0] = 'spotify:track:3tBUUrQ26CCErBABEwbad1'\n",
    "first50_track_uris[10] = 'spotify:track:3tBUUrQ26CCErBABEwbad2'\n",
    "first50_track_uris[48] = 'spotify:track:3tBUUrQ26CCErBABEwbad3'"
   ]
  },
  {
   "cell_type": "code",
   "execution_count": null,
   "metadata": {},
   "outputs": [],
   "source": [
    "# function that takes a chunk of 50 artists and returns a list of bad URIs\n",
    "def get_bad_track_uris(track_uris:list) -> list:\n",
    "    response = get_tracks(track_uris)\n",
    "    bad_uris_indices = [i for i,v in enumerate(response) if v == None]\n",
    "    return [track_uris[i] for i in bad_uris_indices]"
   ]
  },
  {
   "cell_type": "code",
   "execution_count": null,
   "metadata": {},
   "outputs": [],
   "source": [
    "# test function above\n",
    "display(get_bad_track_uris(first50_track_uris))"
   ]
  },
  {
   "cell_type": "markdown",
   "metadata": {},
   "source": [
    "## Run - Tracks"
   ]
  },
  {
   "cell_type": "code",
   "execution_count": 5,
   "metadata": {},
   "outputs": [],
   "source": [
    "# FUNCTIONS TO PARSE DATA (part of this is copied from above to keep it in one place)\n",
    "\n",
    "# function that takes a chunk of 50 tracks and returns a list of bad URIs\n",
    "def get_bad_track_uris(track_uris:list) -> list:\n",
    "    response = get_tracks(track_uris)\n",
    "    bad_uris_indices = [i for i,v in enumerate(response) if v == None]\n",
    "    return [track_uris[i] for i in bad_uris_indices]\n",
    "\n",
    "# function that takes a table generator and iterates over it to find bad artist URIs\n",
    "def find_all_bad_track_uris(tbl_gen) -> list:\n",
    "    bad_track_uris = []\n",
    "    \n",
    "    for batch in tbl_gen:\n",
    "        track_uris = [t.track_uri for t in batch]\n",
    "        l = get_bad_track_uris(track_uris)\n",
    "        bad_track_uris.extend(l)\n",
    "    \n",
    "    return bad_track_uris"
   ]
  },
  {
   "cell_type": "code",
   "execution_count": 6,
   "metadata": {},
   "outputs": [
    {
     "name": "stdout",
     "output_type": "stream",
     "text": [
      "Creating Table Generator:\n",
      "\tbatch size :  50\n",
      "\tlength     :  2262181\n",
      "\tnum batches:  45244\n"
     ]
    }
   ],
   "source": [
    "# build table generator\n",
    "tbl_gen = Table_Generator(query=session.query(Tracks), batch_size=50).batch_generator()"
   ]
  },
  {
   "cell_type": "code",
   "execution_count": 7,
   "metadata": {},
   "outputs": [
    {
     "data": {
      "application/vnd.jupyter.widget-view+json": {
       "model_id": "b4615c4b5ae14ffc871bf096817473ec",
       "version_major": 2,
       "version_minor": 0
      },
      "text/plain": [
       "HBox(children=(IntProgress(value=0, max=2262181), HTML(value='')))"
      ]
     },
     "metadata": {},
     "output_type": "display_data"
    },
    {
     "name": "stdout",
     "output_type": "stream",
     "text": [
      "Setting credentials\n",
      "token():INFO:   Getting initial token\n",
      "token():INFO:   Token refreshed\n",
      "token():INFO:   Token refreshed\n",
      "token():INFO:   Token refreshed\n",
      "token():INFO:   Token refreshed\n",
      "token():INFO:   Token refreshed\n",
      "token():INFO:   Token refreshed\n",
      "token():INFO:   Token refreshed\n",
      "\n"
     ]
    }
   ],
   "source": [
    "# run API requests to build full list of bad URIs\n",
    "full_list = find_all_bad_track_uris(tbl_gen)"
   ]
  },
  {
   "cell_type": "code",
   "execution_count": 8,
   "metadata": {},
   "outputs": [
    {
     "data": {
      "text/plain": [
       "584"
      ]
     },
     "execution_count": 8,
     "metadata": {},
     "output_type": "execute_result"
    }
   ],
   "source": [
    "len(full_list)"
   ]
  },
  {
   "cell_type": "code",
   "execution_count": 9,
   "metadata": {},
   "outputs": [],
   "source": [
    "# dump list to pickle\n",
    "with open('bad_track_uris.pkl', 'wb') as f:\n",
    "    pickle.dump(full_list, f)"
   ]
  },
  {
   "cell_type": "code",
   "execution_count": 3,
   "metadata": {},
   "outputs": [],
   "source": [
    "# test load\n",
    "with open('bad_track_uris.pkl', 'rb') as f:\n",
    "    test_open_list = pickle.load(f)"
   ]
  },
  {
   "cell_type": "code",
   "execution_count": 4,
   "metadata": {},
   "outputs": [
    {
     "data": {
      "text/plain": [
       "['spotify:track:1pTy8JZSD7UTU5Xg4Cs8VX',\n",
       " 'spotify:track:05iPvBxNaTbMi1twl3rnTJ',\n",
       " 'spotify:track:2nOyWmvoS9AffQFUc9I7v0',\n",
       " 'spotify:track:11NIehXWtiykABhxSCRwFI',\n",
       " 'spotify:track:7sRmheYLtEzJtc2MeVbT6F',\n",
       " 'spotify:track:4WHjf37BBXUo3WYBmJPdoU',\n",
       " 'spotify:track:0KiU8DYL1oUZP0MrEHC5CS',\n",
       " 'spotify:track:0jcNaEKRJSwdW1Oz7LvuG7',\n",
       " 'spotify:track:5nxkWaHFSqk1ep5wS3WelK',\n",
       " 'spotify:track:2rGNgMHMn9NvjeoUCX2wc4',\n",
       " 'spotify:track:0crHjy8Lrvkz7oPPRq1L6E',\n",
       " 'spotify:track:5wWSOTMSqYUGFJ5Fl599LI',\n",
       " 'spotify:track:1SuyTHBUdlsDJeZ77viTVY',\n",
       " 'spotify:track:18JnPuzORjaFXgdcVJWjjI',\n",
       " 'spotify:track:5mbnHTT20qMKEbj31NmpHF',\n",
       " 'spotify:track:6cePxNkX02pGoQHhiVohO1',\n",
       " 'spotify:track:5WJ2L1bDMN2mXiwyQaXUz0',\n",
       " 'spotify:track:0zA7okPLt66GVf2ilDN9Eq',\n",
       " 'spotify:track:3o9RCvd6Vg8wD8b9SLBhDr',\n",
       " 'spotify:track:35yeDq2AngBhej5A3qNnpX',\n",
       " 'spotify:track:6UnswPYevOy5rxgZPslKGn',\n",
       " 'spotify:track:14FXVh0pq4KjGzzSsHfSoy',\n",
       " 'spotify:track:3naqPs5OCvHpl6c3ViHIqu',\n",
       " 'spotify:track:4BivwSVjlIZiRIPvxBk5s7',\n",
       " 'spotify:track:1XOmeD5yaCCwjqOtX2eEi2',\n",
       " 'spotify:track:2Gu5evIIp7KyXbhqEnL6YC',\n",
       " 'spotify:track:20fm88MHpkoqTUDCsHM3na',\n",
       " 'spotify:track:41SsTPHM7NWmNAorFRIirw',\n",
       " 'spotify:track:3nrZjTJT5BM5bXGPVZlOrp',\n",
       " 'spotify:track:15U8rfkO57LOjrq7BYieMN',\n",
       " 'spotify:track:3M1r36fZnWXbTXYSvM5B0x',\n",
       " 'spotify:track:7DFlVLqLufZkIPwU4v4SjA',\n",
       " 'spotify:track:5qzY4R9MDaHeNqIfQ6COTO',\n",
       " 'spotify:track:0BmzHs9pzTEzPrIincgybc',\n",
       " 'spotify:track:3shKUOchFxWHrFJbBMPNzW',\n",
       " 'spotify:track:0SSC0sePHmluTebCPRGJFc',\n",
       " 'spotify:track:62rhiYfhHwWco2L8CG4dxH',\n",
       " 'spotify:track:7FRoiXM7YRZ2wsKBlWZ9nR',\n",
       " 'spotify:track:5GiU7GOYjDH2yp7fMf9w9j',\n",
       " 'spotify:track:1bOeJnwdyA1MIsNH5KE9jW',\n",
       " 'spotify:track:4vjgGKKctk8BPui1TcymNd',\n",
       " 'spotify:track:7Aq04R5A0U0kGmwsbFCCiH',\n",
       " 'spotify:track:0msQOLNzGMKihyNXMkLL8x',\n",
       " 'spotify:track:5BRT6U0jtwvRJQHObtL5HZ',\n",
       " 'spotify:track:0yrKM7TtOWDJQtFXv2UjYq',\n",
       " 'spotify:track:4GBC5hRigIgKFpsPsF0YyH',\n",
       " 'spotify:track:3e3RrqJidaVj2EFxCECYjD',\n",
       " 'spotify:track:0ZtckWScaCcgqmAK3NMwi4',\n",
       " 'spotify:track:0tQBcMmEpyHX7UEDtGAbXk',\n",
       " 'spotify:track:4oK7iW1UVjoiSSkZhaYKHO',\n",
       " 'spotify:track:7IonlNwpfF3JORoAbHcWNi',\n",
       " 'spotify:track:3DYJDfQD4YKjTTbqHzR73M',\n",
       " 'spotify:track:64Ys4T9UmkOHUqdBGbWPgz',\n",
       " 'spotify:track:7uuDC0Ad8LRSwyFehY891c',\n",
       " 'spotify:track:3EcZ7IpUEmouqRRgFSCMhL',\n",
       " 'spotify:track:0jcw5eUrPrHDQVwpDYRVLi',\n",
       " 'spotify:track:0r9bfkWYTQyp8iWcwPhMEN',\n",
       " 'spotify:track:08wAtSQt0f5afOraxtouYu',\n",
       " 'spotify:track:0CRMc9fmFP5Jd15452h871',\n",
       " 'spotify:track:20a91c7QeqVxzjZM9czN7k',\n",
       " 'spotify:track:7J9FLKVtgvpVW5PnT1Bfza',\n",
       " 'spotify:track:4py5Xr11xJ2o0hsvIul7jm',\n",
       " 'spotify:track:1bdvSyhLE493FniIYo3zNL',\n",
       " 'spotify:track:5VAujg4b6Wg7RvpGcxTPKi',\n",
       " 'spotify:track:3p6ggWRpZdOtmubX1YNSag',\n",
       " 'spotify:track:1uDSywPwjXUjzn6ID3VpkF',\n",
       " 'spotify:track:2KR2anTedQ0gJ7w6QvvZpl',\n",
       " 'spotify:track:5fvaxEFkmknV9SCwHXJqZ7',\n",
       " 'spotify:track:5uV4O7sxniPCUvoOFsssHi',\n",
       " 'spotify:track:6Nq2deyH9Jjlu7p84UY30M',\n",
       " 'spotify:track:3QLe9mwBXD52JtztbGGPHY',\n",
       " 'spotify:track:0y9fRmvHjBgOJ4Rdlq5gr8',\n",
       " 'spotify:track:2kcIS2hU6q5N2oBhUVQUb8',\n",
       " 'spotify:track:44gsdstlnZnf92k3e6RfFt',\n",
       " 'spotify:track:1D9a8hdUKKiChnf97tNeVd',\n",
       " 'spotify:track:3DqC2M1tQVPpcJYR30Khje',\n",
       " 'spotify:track:4z7Yxuo7ZQ3CY2JE415rsO',\n",
       " 'spotify:track:0dqchGNIcgUigCZtI5DVEg',\n",
       " 'spotify:track:7kp2IUhGCg9jZRKb2C09rE',\n",
       " 'spotify:track:6u8jQhicdVJcrYtPaHvBua',\n",
       " 'spotify:track:7i5qLc09jcxWwUwGurQnUk',\n",
       " 'spotify:track:7uosRrnI5XLioRXSZXQ9iH',\n",
       " 'spotify:track:2ZF3gpgGPjOfi1yTWGX6Bm',\n",
       " 'spotify:track:72O0QH6iyWp9Eb3Nng6YtZ',\n",
       " 'spotify:track:77JuWfTMr5d3LvXKoze8Om',\n",
       " 'spotify:track:6aBfbQQGR8mkgW6QjthwdN',\n",
       " 'spotify:track:7BVJhJvs21GFQW8j7LrQez',\n",
       " 'spotify:track:157rlQ2ENtwLFtILXCD0p5',\n",
       " 'spotify:track:47GnmOToK8VRWreg4ysxB6',\n",
       " 'spotify:track:1Ovlng3GEp1eCBmtV5YyF9',\n",
       " 'spotify:track:47PlDlc3RXGFvnG6a2iEL8',\n",
       " 'spotify:track:4P55JwZTzq9Pt0Y0LSbLuR',\n",
       " 'spotify:track:1Av5shMA0jRcGgO4fiiy51',\n",
       " 'spotify:track:507VXxtQ5DDxm4iXhzdjuk',\n",
       " 'spotify:track:1PnAazq0RUUBsInmo8thVO',\n",
       " 'spotify:track:2upGOmVWxPATfVcFaxCRYI',\n",
       " 'spotify:track:7lXfV5jriRfEFxCkKaSABy',\n",
       " 'spotify:track:2GSfjAalZjdEGBAXNekCYO',\n",
       " 'spotify:track:2eXiLtAWwIn1cCZcAbG27J',\n",
       " 'spotify:track:25HVwiOihDzV1ngWN03uy9',\n",
       " 'spotify:track:1aGUq4LqnF4XYtw7zfrusZ',\n",
       " 'spotify:track:2hN7c6yy6BV83kkv4bisZI',\n",
       " 'spotify:track:2BwmnvcyJH6IG5ZcNNf0an',\n",
       " 'spotify:track:14vKz7ynff1lWYkWScrmqQ',\n",
       " 'spotify:track:6c2rAra9pzecI9u8HeLkwV',\n",
       " 'spotify:track:7hAfYnZAmyj1Kcf9z0ga3j',\n",
       " 'spotify:track:44GYu84aHyPELY661jvnZ5',\n",
       " 'spotify:track:2gItulDmdiGq2LYqJXU8np',\n",
       " 'spotify:track:5mlAS9U8x5mDxcokB6Qlm5',\n",
       " 'spotify:track:0pCCeFdJZj8ALqiDGWIoHf',\n",
       " 'spotify:track:3HK0jWtvZFKst1LJ9j51s6',\n",
       " 'spotify:track:3aobM35IlC89bd6vXNj2gh',\n",
       " 'spotify:track:0TFeqiu2zpZcgqaTaV9vMU',\n",
       " 'spotify:track:2sqE0at7NMyqVxSiUcYoDV',\n",
       " 'spotify:track:1HubPEsZLy8R1HuCzMNBCd',\n",
       " 'spotify:track:55VnUwg8lykCe4261ZHosd',\n",
       " 'spotify:track:03BQxC3hHyrLKYAHTBHTdd',\n",
       " 'spotify:track:1r2WL5rFzoUtpB7SRZv0iP',\n",
       " 'spotify:track:2FoF63C7rwtqzjVykYH25I',\n",
       " 'spotify:track:79KXw4nOZzpZ0MV9sZdQbf',\n",
       " 'spotify:track:0rzrqUOUqacpk7T2VOu4pO',\n",
       " 'spotify:track:6pc2U2jB0ErCx2wxOHYbJp',\n",
       " 'spotify:track:3ysETSggkwO78wgSWgqbYk',\n",
       " 'spotify:track:7gRg2O8egErj2J9Ng3CI4B',\n",
       " 'spotify:track:1VwCtymXjTIYVeOyulBoPH',\n",
       " 'spotify:track:1jRhhy2AlDuq6KvjxNeYwh',\n",
       " 'spotify:track:2lNRy9W7w42N58IRFpV2te',\n",
       " 'spotify:track:2OZ0DWLU1nkAlKY69hGMaw',\n",
       " 'spotify:track:2GmATmrO3uGjiSoB2iYnri',\n",
       " 'spotify:track:6CEGpOhV7gFTdxUFUYq6Oz',\n",
       " 'spotify:track:2rzQI1Rj1lmXDto4mE6ZZM',\n",
       " 'spotify:track:0BHdc05LUjB5gh6UOhL8Eg',\n",
       " 'spotify:track:2fRqglhmZSZRXm2AyHjKmR',\n",
       " 'spotify:track:6a20nH6x3mibQlKpuxD5lj',\n",
       " 'spotify:track:5ErcxRqtWFAU7Ej4CTKHqv',\n",
       " 'spotify:track:3hR7JrmSAl9qv3ggQhk9uv',\n",
       " 'spotify:track:0w9vOWYTxl6v22VXehciSw',\n",
       " 'spotify:track:5jkO073gzPzAh15XUIeOK7',\n",
       " 'spotify:track:1rtdKMaFOvjPymMIPIIzV4',\n",
       " 'spotify:track:0UedZMaUmeXUevjqv3v7ph',\n",
       " 'spotify:track:0e5yWYJKBT1uXXVc1AX9yC',\n",
       " 'spotify:track:2GWWKne6EZGE5xOk1lp0HD',\n",
       " 'spotify:track:5FMI8ppRF7qmnEDIN5seXs',\n",
       " 'spotify:track:6eo9Smj042z1TMgT6yNugt',\n",
       " 'spotify:track:3lpztVF5LO9anPQLyZLfsz',\n",
       " 'spotify:track:3aw5GypleqzoZvpYcMF10I',\n",
       " 'spotify:track:4oN2pipgeT64G04lOV5sEp',\n",
       " 'spotify:track:7c7rmBcZT05UTuxXCQKTHF',\n",
       " 'spotify:track:0jfEP18EOlVgpCpdiJ3JF7',\n",
       " 'spotify:track:3wL3iOitN1I94Sv97jqvz5',\n",
       " 'spotify:track:3St5iUh0KbKyhKAuxBVtll',\n",
       " 'spotify:track:2yVXgZxVm0nAiMfgf0rdXg',\n",
       " 'spotify:track:1b5oM3EY0ll49aGGLxVPZW',\n",
       " 'spotify:track:1XyvDWIWbT5GjFBL0aGx0b',\n",
       " 'spotify:track:3fSvQJwBpwJ1cvpkZC6GJ2',\n",
       " 'spotify:track:06wN4NpsaCQqm8Y6TKSdMU',\n",
       " 'spotify:track:3jOjCphHdPcpUA4lteWnMW',\n",
       " 'spotify:track:6Db37UH9ps5w20fIdzXGo6',\n",
       " 'spotify:track:7CIc1dtghbWc9sWrslutGT',\n",
       " 'spotify:track:62BLtcORIW1Xb3MlhwwUy1',\n",
       " 'spotify:track:3fsBgSjBVBQIXOMxaXonah',\n",
       " 'spotify:track:1b8AkAqycWIiKse7IeZMzS',\n",
       " 'spotify:track:1IvKdqLEq0OEZWd3SaN76t',\n",
       " 'spotify:track:4a6cxNGlrehJH9Y6W3oImi',\n",
       " 'spotify:track:6zx5Uw4tZZTozG5dc7QuP4',\n",
       " 'spotify:track:57EAHIllglIWYr1iIqF4yr',\n",
       " 'spotify:track:1Ek5UTanfZK6RKFAtAxGaH',\n",
       " 'spotify:track:3Wldj8FEyvuB5QMmfaIDDn',\n",
       " 'spotify:track:5papWg0WO722O5EXhCC30Z',\n",
       " 'spotify:track:7yvL70kVwHnnh34o4oYBjU',\n",
       " 'spotify:track:65Xf42wYSZ24gHECMsLHSZ',\n",
       " 'spotify:track:1b0cjXZlzGvKAf37sjii1s',\n",
       " 'spotify:track:42imYKt0sMqQgnp2SLPHl5',\n",
       " 'spotify:track:2Up3erhR98V8xhqGpumIQz',\n",
       " 'spotify:track:2abLj7OdBKUEPr9SIPVXZ9',\n",
       " 'spotify:track:6UPnpO5lV7FpH9upYvLH8y',\n",
       " 'spotify:track:3n4RjsdQcY3HORntDIIYmk',\n",
       " 'spotify:track:6VtelLYw7cOhlVQUhum8rS',\n",
       " 'spotify:track:0pczTcSCYxGFao4zFXRuxv',\n",
       " 'spotify:track:3DtYpmIZHV6OW97LmVpDnw',\n",
       " 'spotify:track:7Ab9ZmvUnJvpdefUHt1h6A',\n",
       " 'spotify:track:1S5bv4nkcpblWm2Bi3obB8',\n",
       " 'spotify:track:024KZlkgad1so6glXzJMWr',\n",
       " 'spotify:track:6HGOtaKycYxNPZdNgx0X2a',\n",
       " 'spotify:track:5vgwdrmRUe2rWAfEqOUXjl',\n",
       " 'spotify:track:0SLz2j0Bo6H9jmbRS8uOe6',\n",
       " 'spotify:track:4e4pOhwC9oaeri0avD2g74',\n",
       " 'spotify:track:6q21OBshyzlHzP7uWBKlPT',\n",
       " 'spotify:track:5Pm6o1pupu7lZbdR1UmmPj',\n",
       " 'spotify:track:0Abq5f48pIWolZBnUDc4Rr',\n",
       " 'spotify:track:3Y3TIRGDEfypbmaUhVMe0Y',\n",
       " 'spotify:track:6Erq5nvrHu4amhOeoS5kNH',\n",
       " 'spotify:track:7CpBnPlqB2Zz7Wzkp4QSQ8',\n",
       " 'spotify:track:04YCmir0Db1e5wQTRqYT0Q',\n",
       " 'spotify:track:3edHxKni7XeZWBILIJHvp1',\n",
       " 'spotify:track:40NCbIylbgFTWicfS7yYvf',\n",
       " 'spotify:track:1srOja5mDLuInbSQH7t4uO',\n",
       " 'spotify:track:014HLpvOOZU8qRADWr0Gj5',\n",
       " 'spotify:track:22pZyhGVGQMvsdNr1SN4Lo',\n",
       " 'spotify:track:4w4RyYEfda5p2fKgeY3mAy',\n",
       " 'spotify:track:1ANiTKpuhhDwEZ0sTuXnSg',\n",
       " 'spotify:track:6S7DNJrBIbGd0C0JAKVwDz',\n",
       " 'spotify:track:55HiGFPgSbxBcwGQOwfGah',\n",
       " 'spotify:track:79SrSXIi7d7aCPT2PWysIp',\n",
       " 'spotify:track:1MzwkBAACu3cnU763yE4EL',\n",
       " 'spotify:track:4qhqjXrvvFYHeYFCKmz1Bg',\n",
       " 'spotify:track:1NjVAuMd8QAgRrojGYpGDH',\n",
       " 'spotify:track:2t69uhcd1lBMStQokxDuBc',\n",
       " 'spotify:track:3V5TUak35y9wzBbTBjZ6LK',\n",
       " 'spotify:track:1yyrIRrGKqL0HtFwha99iu',\n",
       " 'spotify:track:0rO4mJv0lAE6vCwrc1K1am',\n",
       " 'spotify:track:3p70Wqz79OTYo3o0bDkFtN',\n",
       " 'spotify:track:4WR64ny1oaqUFh9X8SnCQz',\n",
       " 'spotify:track:2tLgNFCePVJt2ri0edBAna',\n",
       " 'spotify:track:6eYLopwF2uK7BEuxXGWzNe',\n",
       " 'spotify:track:0a8ff3yt2gBOWIaI5Ju4IL',\n",
       " 'spotify:track:2nOxDi28hOSK8ekCehxSgn',\n",
       " 'spotify:track:23G0EqBsYOII3As5MzLinK',\n",
       " 'spotify:track:0Sxv2jqCuYAFilReQvhytk',\n",
       " 'spotify:track:671sMPpJBlLWaK4J5e6Ptc',\n",
       " 'spotify:track:64CybZaZkov212Uf8WsrH1',\n",
       " 'spotify:track:0gKp2xnxIqcedHZrQ3Ha3M',\n",
       " 'spotify:track:6vKKDMqZzR36LsxLgZEMG5',\n",
       " 'spotify:track:4Qy0CR9znT8Egh6A8ihcTJ',\n",
       " 'spotify:track:32V1zcxeHiSao1A0stmULG',\n",
       " 'spotify:track:0BSV8lqgIk93qjSUL2dFrD',\n",
       " 'spotify:track:3iZX2JNMKJ7VhJvC6uQR7Y',\n",
       " 'spotify:track:1mRcrl0uu9L6jnA3V2Xf5K',\n",
       " 'spotify:track:0GQsVyzqD3gEkZg8fa3Gti',\n",
       " 'spotify:track:7Bn1PdyXRIueG2oO5wXskh',\n",
       " 'spotify:track:4XBlO8i9xuE3ayz7xCCL6M',\n",
       " 'spotify:track:28jJQMfQOno6dUtnQ7o25V',\n",
       " 'spotify:track:0G7r7Y2s2bi18p860jPjIi',\n",
       " 'spotify:track:3m15xt9oaUjFP70bORdVGx',\n",
       " 'spotify:track:3k7RSU5ItF1T2BbPvRGPlz',\n",
       " 'spotify:track:5fGefHgRPfyLDGApeMN1Yv',\n",
       " 'spotify:track:6HEuz32p9tDDChfUC1nBR9',\n",
       " 'spotify:track:73x4phXEvt9eBDXQELzYzE',\n",
       " 'spotify:track:373hY21nLFwSYFCDzCkchh',\n",
       " 'spotify:track:5ysEGZwJH4htllYSHPAXDW',\n",
       " 'spotify:track:2Ny7aWQh9CT0HXIfonQKvL',\n",
       " 'spotify:track:1kl4gqBvLN0t1SpXVVzVvO',\n",
       " 'spotify:track:2qNdTalNPOO1ZZiyE0V5hf',\n",
       " 'spotify:track:6yTn9SXCJqGqOHLomMIWA3',\n",
       " 'spotify:track:0eWIuXiC5JTL9QqZq5IqxH',\n",
       " 'spotify:track:20F51PucgNugkjywSOk4sq',\n",
       " 'spotify:track:6VLgfSkFhqb7gGcx6C9ZBn',\n",
       " 'spotify:track:5rMa0UaLokmPnoG2NSQo6x',\n",
       " 'spotify:track:1Dpx35j2arNFEK9xz8W81p',\n",
       " 'spotify:track:0ulY7ghl3ZUN9gCgt4wSjI',\n",
       " 'spotify:track:1r2WpOU9mEKQ90CwuLVyv1',\n",
       " 'spotify:track:2rZd7MpKf0J1Yi31aC9wJj',\n",
       " 'spotify:track:4epTkWKjzqE9FEAIiFcssS',\n",
       " 'spotify:track:0qMz4QkMNUkQMAA3u68qdO',\n",
       " 'spotify:track:1oObkdtLw7ty1NJ2YoNpgF',\n",
       " 'spotify:track:2t4QnjTHOvsWpVGg1nQ7fg',\n",
       " 'spotify:track:2U8uA1cWSTtM5gbKbcnmAP',\n",
       " 'spotify:track:0ybSowrCwnFjqPPEOqTisK',\n",
       " 'spotify:track:1OHyNVsVlsca42g4KyJi36',\n",
       " 'spotify:track:0wTtYvCWQYu29PgRr2Lqgc',\n",
       " 'spotify:track:5JqhMe7CEdtWXHWDvP9plW',\n",
       " 'spotify:track:5TkIJwxhscQJzYtb1bGtwH',\n",
       " 'spotify:track:6qGXp0UE3fGKMzbUEvaL50',\n",
       " 'spotify:track:1iTmeAIGXWk91iCrmi4M6x',\n",
       " 'spotify:track:2rdAWicuUneTdMWKncqzPc',\n",
       " 'spotify:track:1at7nggWNv0OBeoMkwU4Au',\n",
       " 'spotify:track:0nRpaaHHNxyUUgqwjMbKY8',\n",
       " 'spotify:track:3AhkzZZmBNMvBPomPp8dgu',\n",
       " 'spotify:track:4OMCYWr8ZvdKnpkEbHw4FE',\n",
       " 'spotify:track:30siIrNgHZ6fk6xNhiA4Tj',\n",
       " 'spotify:track:641GuRmMx3ScGUmogkLuo4',\n",
       " 'spotify:track:583065RDLD5sA3yrsdIc8t',\n",
       " 'spotify:track:6p2MbX4b3ojP3YtABLMNFC',\n",
       " 'spotify:track:3G4EQISTNmoZvsWzDl6gO3',\n",
       " 'spotify:track:241RaO2ibTJcSsOvQxVN6Q',\n",
       " 'spotify:track:2JRV7jISom5irLTlLefMti',\n",
       " 'spotify:track:37TWuMW8fj2p9mfjNAQhP5',\n",
       " 'spotify:track:1nnAR25btZC9koqewvGfxT',\n",
       " 'spotify:track:4J10PEVepjSYSHwJZ4WOFw',\n",
       " 'spotify:track:1gltuqWZSydQ1rHZUHXCC2',\n",
       " 'spotify:track:4orhWDJyZ2CA2id1jDdclR',\n",
       " 'spotify:track:662Br6ADZX9KBCJbOE2QOf',\n",
       " 'spotify:track:28SBNxXOM55qRlznDNHtlu',\n",
       " 'spotify:track:1twS88IpKei9re17WbeiDs',\n",
       " 'spotify:track:2Xmg1w9buOeHH4MxcOFxpp',\n",
       " 'spotify:track:4gqv0BeBndagPveidmklpm',\n",
       " 'spotify:track:71Phl9bgV8V4LJyX4CL5jX',\n",
       " 'spotify:track:46FcfkkuNdYW4uTNqyOC63',\n",
       " 'spotify:track:6BKioR4hkoBkuTVWbSRGwU',\n",
       " 'spotify:track:250ABH9McQFiXbtgrLLovm',\n",
       " 'spotify:track:78aCs6WKo0G9lqFzyWuqw0',\n",
       " 'spotify:track:6WrQqg3C070HQwOonVYMMA',\n",
       " 'spotify:track:42Vx9J2kK6qutsHyec9xgK',\n",
       " 'spotify:track:7ILoBWp3pqjMk7n0WJ5QQZ',\n",
       " 'spotify:track:2lpHzLzH3Tfku4oKChjE91',\n",
       " 'spotify:track:0QfiQIJZBhX72AZRViUUSZ',\n",
       " 'spotify:track:3dTT5tnyLFc3BqNS8v35ga',\n",
       " 'spotify:track:7ryOEZZwI1Y0XrkkgC41jB',\n",
       " 'spotify:track:1rZoRjXJmInV6CcE2INwSk',\n",
       " 'spotify:track:2aKPyKxdx2czPh7pih5SKv',\n",
       " 'spotify:track:2Ug7pJ2dGKPl91ksDRfX9s',\n",
       " 'spotify:track:5AmMLoAQUm5ULnx7Q31bJp',\n",
       " 'spotify:track:1JAFWAqUqdyhS5uGNs1Bg6',\n",
       " 'spotify:track:3a6s8f2H97PXIpAeR21qQo',\n",
       " 'spotify:track:4n889zK6tPrXd2zwciw3BH',\n",
       " 'spotify:track:1LnCp0F3Qg0TOjvehuuLw8',\n",
       " 'spotify:track:0abyybTyeJhg8brqNGEAOZ',\n",
       " 'spotify:track:0Jb7g80rInlj3fa6W65Bp2',\n",
       " 'spotify:track:1dsDQMziEvA7iHr8b8fq3A',\n",
       " 'spotify:track:3inzt0nLde0qTNG995lQ6X',\n",
       " 'spotify:track:7lj5pquwJ8kyEZILZwzLzH',\n",
       " 'spotify:track:6Mk7Qb8TAFZK2lD4K4NHz6',\n",
       " 'spotify:track:7h5J86E9D64oEkL7bhtv50',\n",
       " 'spotify:track:3Z3qGp8VXzW6LWiDNxxZcs',\n",
       " 'spotify:track:0yyRxW2wnZ2cDpUr4SaJuh',\n",
       " 'spotify:track:1PgA8ngafMmdwZHZrTRI4A',\n",
       " 'spotify:track:0z7sRe8kuJA5ywUOEdhdmI',\n",
       " 'spotify:track:360OR1ljk51YHuo6PzVdit',\n",
       " 'spotify:track:4d67ZEqyJKa6xh5iTSpvZ6',\n",
       " 'spotify:track:4OODDcGoh25rrYNWljzOs6',\n",
       " 'spotify:track:6ffJEsvyE8IxdSRvhSL8HV',\n",
       " 'spotify:track:1LdTmMeTjkEBNFCFdTSz7j',\n",
       " 'spotify:track:2zs4TCNE0NaxPCIgQqq5Zs',\n",
       " 'spotify:track:4Tvw41wuykWuRtAq1sqRqG',\n",
       " 'spotify:track:7GMSF7VQrNkwsLNPSECKvc',\n",
       " 'spotify:track:3UShdcGVs3Se18xUiIRUiY',\n",
       " 'spotify:track:3F0ejgvrx2dj6BNPTtdeN2',\n",
       " 'spotify:track:0Wa2NgWPJU0pylk0cyMVCH',\n",
       " 'spotify:track:6wDfZpMZ2ljFCoSozE2gka',\n",
       " 'spotify:track:2B1EWFxszxKYY1SXpVkyGY',\n",
       " 'spotify:track:6VRRyEm94Tyi8ozpoEqMpP',\n",
       " 'spotify:track:4vgrHYC5R1psthjlMWzqGJ',\n",
       " 'spotify:track:6ug4KMkrc6II7ZuTTBwJvK',\n",
       " 'spotify:track:4ZmiXDHe9stuE9avUz7yJ2',\n",
       " 'spotify:track:5Tipiu1iD7hbVBXwrFeLnQ',\n",
       " 'spotify:track:1NJyFLtPrJrTX3qWJ5kUQ4',\n",
       " 'spotify:track:3JJL4OmS8VmYqTODuIlKbq',\n",
       " 'spotify:track:3FWrdPYaJU1sZbFOA6tZEN',\n",
       " 'spotify:track:3ehTjB2AzJBnqJyXerH9qc',\n",
       " 'spotify:track:3xhMGDCA5qKOLgqFQwTnwm',\n",
       " 'spotify:track:3J6llKGMACpeoFKzF3eJ2h',\n",
       " 'spotify:track:6298jk0zUCC5o7zM6MvIJR',\n",
       " 'spotify:track:3icILd8q27Ame5iuVXVEtV',\n",
       " 'spotify:track:1obuIICGlDTXwAc4WuNSur',\n",
       " 'spotify:track:5sCVrKco9ndohfFedimrUs',\n",
       " 'spotify:track:0UQ25sc4F2S8CZIpZ76T1g',\n",
       " 'spotify:track:2dyhbHX4VYpboVzhSejYMD',\n",
       " 'spotify:track:1YBlG1YMZgdaKoOs7nxW9A',\n",
       " 'spotify:track:45R6YGzvHnGGeFc7m2nBJu',\n",
       " 'spotify:track:0GmywvxPYAcV4oOpV3Ap04',\n",
       " 'spotify:track:5YWlfzDFQLkR4Hb4UirhjI',\n",
       " 'spotify:track:1rrYHXy4ACXmDyu8hXlSzs',\n",
       " 'spotify:track:04ProUvjAVAZFxmTPnjYQI',\n",
       " 'spotify:track:7mJyxWQkJayCwah0i8MWnC',\n",
       " 'spotify:track:1DRoFzfTnUXCWHLVKtthqa',\n",
       " 'spotify:track:5zvuaXcAtktVudZYFGaJiA',\n",
       " 'spotify:track:08DhpNtCDXATIUrnXHap6A',\n",
       " 'spotify:track:7w0GRszHaZdONXaygIMlqG',\n",
       " 'spotify:track:4ir6p6PnPPtnvXNxlrQXwd',\n",
       " 'spotify:track:3wCnrxmEFRJNVp7w7U2N1M',\n",
       " 'spotify:track:3CyicwkWRsq1qQJPTY1N1c',\n",
       " 'spotify:track:5hllcvGHAaVPsHoci0CU3F',\n",
       " 'spotify:track:0jRkng5lmi5oDK4XeJie9J',\n",
       " 'spotify:track:43aZJop9csqynr5WqX4fZC',\n",
       " 'spotify:track:4xxLodLvettV5I2T2WIT8Q',\n",
       " 'spotify:track:0AoWRVbTtdI21FxgHPyoGS',\n",
       " 'spotify:track:0xZSKO2PRyAqjHICVzUkPo',\n",
       " 'spotify:track:7e79O3W1HPLGcJ6DzvhZ6C',\n",
       " 'spotify:track:0DZc7YmytSZ6wG4GSyUVV5',\n",
       " 'spotify:track:4yPFq6MFsfTl1x27T4ZPdu',\n",
       " 'spotify:track:09lmzcVsCxQtOsMPUuolkF',\n",
       " 'spotify:track:0pB2EK8cd7iDVSKtJxgrjv',\n",
       " 'spotify:track:7mVzQfEA02N2Riyrv9ownq',\n",
       " 'spotify:track:3u7FZw6PC5RviVLFmMEO8d',\n",
       " 'spotify:track:2mdaBBgiDjEopvOEgKwYvM',\n",
       " 'spotify:track:2aT2oHJ1bKR5DDjllG22oK',\n",
       " 'spotify:track:2Gm08HZBAdPvGzQ9kwpL15',\n",
       " 'spotify:track:2KegIGpoROWUf0jp7sRaKM',\n",
       " 'spotify:track:4vYkjgemZcxeGOZPqI5Jzu',\n",
       " 'spotify:track:0ehNint3vWYCqNXgkUKYVC',\n",
       " 'spotify:track:0gzcXZMnFePPe7w1RQ71Rb',\n",
       " 'spotify:track:7Afu9d327Zb5jNc9dUPxwH',\n",
       " 'spotify:track:7Jp91XOf5ob6Wwrh6eFUer',\n",
       " 'spotify:track:3zVXbbfrhU1C0MTq2OxHHP',\n",
       " 'spotify:track:32QQ7XIVz7Hs46v14wlkQO',\n",
       " 'spotify:track:2c3lYNOUAq4Kr4S710nVIk',\n",
       " 'spotify:track:5XlvS81nDH1vbw1tTCD4t1',\n",
       " 'spotify:track:53IOeywLX2yvldy2Lzgphj',\n",
       " 'spotify:track:6B5AN5Eo3WsInjDDTsNdXI',\n",
       " 'spotify:track:16yYRxcSwosj1OiWetGy9O',\n",
       " 'spotify:track:1HNNIeKp8Mnor4XFznICrD',\n",
       " 'spotify:track:775Ru48Yw3UmDCwtNSxVDm',\n",
       " 'spotify:track:7rgPMBHAI8lVwG5Wu8u8xu',\n",
       " 'spotify:track:29ykA8mjBZIPwEOXlf40Kz',\n",
       " 'spotify:track:4I5kC99YXU0VPFjT9yd6hL',\n",
       " 'spotify:track:1nCdjvIM5PmKEP3StWycIh',\n",
       " 'spotify:track:5fClWH7gpPUeIWFGM4Nkh3',\n",
       " 'spotify:track:320MSFTzIbf8wlLKtXd4dD',\n",
       " 'spotify:track:1qwAffW2uypd0MzDgQ24BO',\n",
       " 'spotify:track:5PIN2j9gYz02t6Zu4x1xMI',\n",
       " 'spotify:track:129XTmXg9KZSkhwmfwsT7u',\n",
       " 'spotify:track:1xOGQC9KONDTMLwfCVrjAO',\n",
       " 'spotify:track:0o2NA61Ja3tq8YP80HKji3',\n",
       " 'spotify:track:5pa4o5ISIl7lQoM8VSoePi',\n",
       " 'spotify:track:6br8TMDFGQm6J4YKICRF7F',\n",
       " 'spotify:track:1SoICR9RRjbLuCPkTX3Bmc',\n",
       " 'spotify:track:3t6pKhIoo9nYnxf73DGlzQ',\n",
       " 'spotify:track:3VeQf3fG3XUzmxhbfWuAfw',\n",
       " 'spotify:track:6P9XXOv2L6QO76IRd05HO2',\n",
       " 'spotify:track:17mz87rZmWo2KbD4sVnaMM',\n",
       " 'spotify:track:6NT9pjc9v3s2Cey8JRhDuv',\n",
       " 'spotify:track:0mJekKv51MV2nq5l5m5gon',\n",
       " 'spotify:track:656TZlNdVe90zHvmebFt9U',\n",
       " 'spotify:track:0yHwWhiFREbsIEcPYOV6GD',\n",
       " 'spotify:track:37zeXLBk5rqNUUiturc0YL',\n",
       " 'spotify:track:6QJMZ6wGSsioL2XaUaXeaf',\n",
       " 'spotify:track:2lsj4sremFlAGHitGKnbrO',\n",
       " 'spotify:track:21xxvh6wPDWIymwlziVfYJ',\n",
       " 'spotify:track:1nW1wQb86FtVxLzgaoxGCH',\n",
       " 'spotify:track:0EHnpJVdVOc8yc9IBRHF2V',\n",
       " 'spotify:track:11RqB1ipj6BoBdtHe8wIhl',\n",
       " 'spotify:track:6SctaFY2Rgb3R50I7tiWlK',\n",
       " 'spotify:track:219B3iNOVIuFXTPzPpgXOD',\n",
       " 'spotify:track:7qlpltVrP1AXDmgovTXwkE',\n",
       " 'spotify:track:1OGAMq4T2lu88357lic4vT',\n",
       " 'spotify:track:5ArdDpyh2xZlFL2VtnC0mG',\n",
       " 'spotify:track:4N2rLan1lt7agUy4k518QF',\n",
       " 'spotify:track:6cATDvZxye7HFloXKLneA3',\n",
       " 'spotify:track:6tf7ENqpF89Xox3xyNPGMv',\n",
       " 'spotify:track:7lccWoTChKnj3pfu8YwByH',\n",
       " 'spotify:track:3PYeuAqv4T9YXUCyPcRDnC',\n",
       " 'spotify:track:46lVA4DqNJZ3Sq84izl5wr',\n",
       " 'spotify:track:4KBt75e1hSqg69gXmsxy3V',\n",
       " 'spotify:track:6uYqtCmKlTu44SzA57CSky',\n",
       " 'spotify:track:5ffjIWabLBLfRc0iM6bWqd',\n",
       " 'spotify:track:3js0LBKi6PKc7kVJd6NNDm',\n",
       " 'spotify:track:3JpyJWKwhaZdwmbUlSQ4pL',\n",
       " 'spotify:track:4LmRaucDx83nvZoAgn477j',\n",
       " 'spotify:track:5aTBHEJh3LhKstnIyMGbip',\n",
       " 'spotify:track:0lSrPHwTVolXbTCPGo6vAR',\n",
       " 'spotify:track:6yisWIOp5g0UgNkOCWFK3a',\n",
       " 'spotify:track:2nn1wKK5FJe3ucYmWhUJvR',\n",
       " 'spotify:track:0uwG1pfbORdQqT80dI3LaF',\n",
       " 'spotify:track:6BjKfjIKufkhia9OG4GR8z',\n",
       " 'spotify:track:3RoeQ8kCHLS27l8cgL2Ryh',\n",
       " 'spotify:track:6JdVyVxHEOYlc9G64gJ8ug',\n",
       " 'spotify:track:0RsC1e9oiR8roiyn4q3eLR',\n",
       " 'spotify:track:3hCTaVixVZrT9rr151DkyX',\n",
       " 'spotify:track:5OF465Cok2E5X3kSK5klhY',\n",
       " 'spotify:track:2QN3jjXChQudisdnbjllGv',\n",
       " 'spotify:track:404vKLqK8SfyaGZSqoZD7N',\n",
       " 'spotify:track:6FHSU1Uc5IWSwuxzgvvRFa',\n",
       " 'spotify:track:4TtylW4eixUdy2IwJxWd02',\n",
       " 'spotify:track:14bDaG7RSWKbKZHmRTsHZ4',\n",
       " 'spotify:track:6S6xVViWt4ILIWh7Bfnerl',\n",
       " 'spotify:track:2pD0u5yIuii4PfGdqwo6uN',\n",
       " 'spotify:track:4qUVdbZY7O0ES4h95G0jmr',\n",
       " 'spotify:track:5OHDELUtX9wxvgHb94z0md',\n",
       " 'spotify:track:6FihDlURheDLwxY4hLDab8',\n",
       " 'spotify:track:0MX6LSH1vQ65Jg6L4k2I8H',\n",
       " 'spotify:track:5WEvvVGiGX1NvFCGNXPliH',\n",
       " 'spotify:track:6HpTsNXakiXd8RcXCIpama',\n",
       " 'spotify:track:5ans4HRlY6g5oksnmwXltC',\n",
       " 'spotify:track:6uFaWQRH8Dg2vndvn061AP',\n",
       " 'spotify:track:3kCHjwLGc6wUwS5tyXYc1q',\n",
       " 'spotify:track:0m7WBKxgj9BJ2PKMpGAn1V',\n",
       " 'spotify:track:12fiTnCIPiGodYhMz1c1BZ',\n",
       " 'spotify:track:324QBggNKEU7r8UnLCksAX',\n",
       " 'spotify:track:5rmdTL5FAZy9OBke9VZE3K',\n",
       " 'spotify:track:1pMezvHWufGgzwfLOigNsJ',\n",
       " 'spotify:track:5FkzzbTS6DhBTeGUQQGMKm',\n",
       " 'spotify:track:0n7bhJKSYb15fe92oKuFIs',\n",
       " 'spotify:track:1dpFSJKLcVWiWN8vendQu1',\n",
       " 'spotify:track:11y4qU5HiX3hXaF3PHTJFk',\n",
       " 'spotify:track:2JRkkgVVkW95jk8w3VAK9R',\n",
       " 'spotify:track:0jBR9RCLdVmNTJF5IeT835',\n",
       " 'spotify:track:0sTUrSCA69TKERWOHHxJ4W',\n",
       " 'spotify:track:6yEM9T4SUaEc4V8pzGpcwp',\n",
       " 'spotify:track:3bo94HgMNbUsL1V0zwjoEl',\n",
       " 'spotify:track:6CNzVurjdLR4seIfAsRxai',\n",
       " 'spotify:track:2odGdanrUsgu0d2i2Q5XoT',\n",
       " 'spotify:track:1SGPYFqCGF9JVsWwKOyR6u',\n",
       " 'spotify:track:2oy6dHfW08sK08z3nrrlAw',\n",
       " 'spotify:track:1oxtTfRCCXWU88fCZGhXsE',\n",
       " 'spotify:track:40nA14QlY0Q3e3DQzVoE7m',\n",
       " 'spotify:track:6qkTG9pYVquNqFuksVFNpP',\n",
       " 'spotify:track:4HnVWA4hGuTGwU3IoyLzJv',\n",
       " 'spotify:track:513IYkdYYrwGWF51Ob5k4d',\n",
       " 'spotify:track:5oXHIBOX3CXzHWnBhTvyV5',\n",
       " 'spotify:track:1ipOBDTQ3Q2euPWoGG5wmE',\n",
       " 'spotify:track:1A06D62zrTOXnDvQOZhDrD',\n",
       " 'spotify:track:5cOi3BvFk9pMNkbD4dE5mm',\n",
       " 'spotify:track:5Bts9sysszTYnblY62tHRJ',\n",
       " 'spotify:track:2F2bvHudFG0JfiVHGuU7Nb',\n",
       " 'spotify:track:5nIckrKw5eCga7VxfoITk2',\n",
       " 'spotify:track:2udAFffny5PMzp1aAvHAL2',\n",
       " 'spotify:track:0YYW6bIpcayL53PQJPJLP5',\n",
       " 'spotify:track:0ihqhW3krgT9pT8fHcKED2',\n",
       " 'spotify:track:0k0HZIsdf43HwYOGosWGp1',\n",
       " 'spotify:track:6HHmmyo6QTNsKsDFS4bnlv',\n",
       " 'spotify:track:1m4uqNiC4KcL1F0eONF2pT',\n",
       " 'spotify:track:4ihJ9kc6VQ3gRx3j9NeLj0',\n",
       " 'spotify:track:13jc5syJqKaYMbidxWt1Ec',\n",
       " 'spotify:track:22R3y7XjuUEghBbFY1djmZ',\n",
       " 'spotify:track:5RrBXlu2hqGFpOE6mE7tPT',\n",
       " 'spotify:track:1bxFtUbdaQuHmWyIQBbQiS',\n",
       " 'spotify:track:4RsRGwXVt8hO4zqbhBVSpR',\n",
       " 'spotify:track:2wJFeYhy3p4k0tupY71i2B',\n",
       " 'spotify:track:5jeDZLnyjzOTZv9121clCU',\n",
       " 'spotify:track:0tXj2J2SmgvuCVa6fvPGKr',\n",
       " 'spotify:track:1YTiVucVyndZj8aeOjnPQ3',\n",
       " 'spotify:track:4N5N6f0FChCy0hktmnQrxs',\n",
       " 'spotify:track:7dFjM6u5WHN1xldq5mOPjG',\n",
       " 'spotify:track:4LnDoSgdUhQpNNZL7dCWDZ',\n",
       " 'spotify:track:5qdQNS9Wz5LfCr1kCJU6ie',\n",
       " 'spotify:track:43AheJKuryOBisfVYzV1AZ',\n",
       " 'spotify:track:0soGt31beG9D6zsDjA75Vy',\n",
       " 'spotify:track:23xJveigynJXGExQO31zTb',\n",
       " 'spotify:track:2qiqgRVuikWDyARkynCaOh',\n",
       " 'spotify:track:3PTWUEXPtVugO7W1Q9acJ1',\n",
       " 'spotify:track:28X5M2Bjldm60vXnk5XcQR',\n",
       " 'spotify:track:4AlWCgg6S3UTqiU1VEMFl8',\n",
       " 'spotify:track:705ZuLpOAsduGTngfD1mSS',\n",
       " 'spotify:track:4FtuTC2jWaVa5MGPBkmLKK',\n",
       " 'spotify:track:1Ao4qh8zznTmlPg8CEsqpW',\n",
       " 'spotify:track:0oy3c63HiOCWmzUPKAwgne',\n",
       " 'spotify:track:7ytwdIJslENNp24MegwMpz',\n",
       " 'spotify:track:0Xd5AKP5LEoww0OlCoFYz2',\n",
       " 'spotify:track:4Y6LsPprMv7DC0x5rsDVtz',\n",
       " 'spotify:track:5yZ76YaCVNqhRIXihlHzPs',\n",
       " 'spotify:track:4PPNvzVd0k0uCGtGEHm8CZ',\n",
       " 'spotify:track:4n5BeUwK1vbB5FspXKbSvc',\n",
       " 'spotify:track:5S50fjY1seJKATwEXVwV30',\n",
       " 'spotify:track:0f17GHQeMMtEmAbVSfWywa',\n",
       " 'spotify:track:7tJ0eG2RGhCz3bfmH9Jgal',\n",
       " 'spotify:track:3UgLC6csZlaur2hyfRIwIp',\n",
       " 'spotify:track:3CoD5JJ0XHki8VvXr62mJi',\n",
       " 'spotify:track:4wc2w7Z3LL9fQUbk8o50Fc',\n",
       " 'spotify:track:3NqrMtNkABEuO12WVRr01X',\n",
       " 'spotify:track:2TjcmYF9XNMpIVXMHddT4J',\n",
       " 'spotify:track:4monRshQkILe3LgSTYhRVp',\n",
       " 'spotify:track:0TudCaVDlJatAx3ksT2Ci5',\n",
       " 'spotify:track:6fpl5CDqfBJfNhYG9Hdh0t',\n",
       " 'spotify:track:5c1BKtGLTGvI9zGy36O9q3',\n",
       " 'spotify:track:1Hx4sDKZAHc2c8Dkt8um3L',\n",
       " 'spotify:track:1YQUyCnOaTaLegdNR3Nkso',\n",
       " 'spotify:track:0YpumbmZj7lfaC81yD5m1k',\n",
       " 'spotify:track:58SYbNnvt3pdEl1DFDVeWB',\n",
       " 'spotify:track:0fJ6UuZ7onqcldGr8HT5QV',\n",
       " 'spotify:track:1m1jCSZA8gSGsFBgjZ3C1D',\n",
       " 'spotify:track:22CGg3QU5LxI8NtdX0ZnJp',\n",
       " 'spotify:track:2aeURFmfpaB6NGp09TCdzi',\n",
       " 'spotify:track:2OB1UIqSqNyQVnbcal179j',\n",
       " 'spotify:track:5V2ILz6mXdOgdN6HA6fJGE',\n",
       " 'spotify:track:6ZKtSSrJe17vzEX0MIsSdw',\n",
       " 'spotify:track:0kRr5NdzmjOOn6HjOy7a5i',\n",
       " 'spotify:track:1C88QIwzXkNU6YIsMANGd3',\n",
       " 'spotify:track:0csxYtm7QWYRlvG2csxtLR',\n",
       " 'spotify:track:0L5ZjRp347Z16doZenkYvT',\n",
       " 'spotify:track:1S6coAoEnxDQolw9UBK1xO',\n",
       " 'spotify:track:466wQToHdCmlqJj9QiZTIL',\n",
       " 'spotify:track:2N7s8TaIEtjkPWHMm6n2BQ',\n",
       " 'spotify:track:4N3ok50e7zjkUvH7CqlZR2',\n",
       " 'spotify:track:3YfElBKD0jQuBaw58h2IZ1',\n",
       " 'spotify:track:5zNRLkZitVhtauFvTzVZsE',\n",
       " 'spotify:track:2ZX6kfzgMgLo2FYKobtriU',\n",
       " 'spotify:track:0uRPyrWAm95uPUnyMyADlL',\n",
       " 'spotify:track:21bvgsPOoH8oXdiufROb3d',\n",
       " 'spotify:track:3drz6FfjgyeobkUcM5Gniw',\n",
       " 'spotify:track:5ro40fdKdiCwLvrDs7R8xh',\n",
       " 'spotify:track:41yvj70yT4zh1fwdvzpAzo',\n",
       " 'spotify:track:2PJizvXmGyOh4Kk3Vn1ezW',\n",
       " 'spotify:track:2RDTJCKlVrGRom4f25USnN',\n",
       " 'spotify:track:1rIaH96S0AQfy5wpZDo8Db',\n",
       " 'spotify:track:2dTDYwRX1XVIZ46s5acj4r',\n",
       " 'spotify:track:2nb5BRwC1lskf1k8YrduRG',\n",
       " 'spotify:track:1wilgLyyKhXFQWFrl0Yew3',\n",
       " 'spotify:track:2dHos6tfOWJJLe5IIOCnO1',\n",
       " 'spotify:track:06jA8zatwH7mNeqOHENgwN',\n",
       " 'spotify:track:30n2MCoaoxizz41X1ctQ1W',\n",
       " 'spotify:track:3KgtB2KlJGEtnoQh1Zko58',\n",
       " 'spotify:track:6qvy1MDnzHi8lUz11oWdAD',\n",
       " 'spotify:track:00nKUDq2CEKdNTdrLjFLdL',\n",
       " 'spotify:track:4VuBFHLQJ6DoL21DKaYDRV']"
      ]
     },
     "execution_count": 4,
     "metadata": {},
     "output_type": "execute_result"
    }
   ],
   "source": [
    "test_open_list"
   ]
  },
  {
   "cell_type": "code",
   "execution_count": 11,
   "metadata": {},
   "outputs": [
    {
     "name": "stdout",
     "output_type": "stream",
     "text": [
      "[None, None, None, None, None, None, None, None, None, None, None, None, None, None, None, None, None, None, None, None, None, None, None, None, None, None, None, None, None, None, None, None, None, None, None, None, None, None, None, None, None, None, None, None, None, None, None, None, None, None]\n",
      "[None, None, None, None, None, None, None, None, None, None, None, None, None, None, None, None, None, None, None, None, None, None, None, None, None, None, None, None, None, None, None, None, None, None, None, None, None, None, None, None, None, None, None, None, None, None, None, None, None, None]\n",
      "[None, None, None, None, None, None, None, None, None, None, None, None, None, None, None, None, None, None, None, None, None, None, None, None, None, None, None, None, None, None, None, None, None, None, None, None, None, None, None, None, None, None, None, None, None, None, None, None, None, None]\n",
      "[None, None, None, None, None, None, None, None, None, None, None, None, None, None, None, None, None, None, None, None, None, None, None, None, None, None, None, None, None, None, None, None, None, None, None, None, None, None, None, None, None, None, None, None, None, None, None, None, None, None]\n",
      "[None, None, None, None, None, None, None, None, None, None, None, None, None, None, None, None, None, None, None, None, None, None, None, None, None, None, None, None, None, None, None, None, None, None, None, None, None, None, None, None, None, None, None, None, None, None, None, None, None, None]\n",
      "[None, None, None, None, None, None, None, None, None, None, None, None, None, None, None, None, None, None, None, None, None, None, None, None, None, None, None, None, None, None, None, None, None, None, None, None, None, None, None, None, None, None, None, None, None, None, None, None, None, None]\n",
      "[None, None, None, None, None, None, None, None, None, None, None, None, None, None, None, None, None, None, None, None, None, None, None, None, None, None, None, None, None, None, None, None, None, None, None, None, None, None, None, None, None, None, None, None, None, None, None, None, None, None]\n",
      "[None, None, None, None, None, None, None, None, None, None, None, None, None, None, None, None, None, None, None, None, None, None, None, None, None, None, None, None, None, None, None, None, None, None, None, None, None, None, None, None, None, None, None, None, None, None, None, None, None, None]\n",
      "[None, None, None, None, None, None, None, None, None, None, None, None, None, None, None, None, None, None, None, None, None, None, None, None, None, None, None, None, None, None, None, None, None, None, None, None, None, None, None, None, None, None, None, None, None, None, None, None, None, None]\n",
      "[None, None, None, None, None, None, None, None, None, None, None, None, None, None, None, None, None, None, None, None, None, None, None, None, None, None, None, None, None, None, None, None, None, None, None, None, None, None, None, None, None, None, None, None, None, None, None, None, None, None]\n",
      "[None, None, None, None, None, None, None, None, None, None, None, None, None, None, None, None, None, None, None, None, None, None, None, None, None, None, None, None, None, None, None, None, None, None, None, None, None, None, None, None, None, None, None, None, None, None, None, None, None, None]\n",
      "[None, None, None, None, None, None, None, None, None, None, None, None, None, None, None, None, None, None, None, None, None, None, None, None, None, None, None, None, None, None, None, None, None, None]\n"
     ]
    }
   ],
   "source": [
    "# test that these are in fact missing\n",
    "N_URIS = len(test_open_list)\n",
    "BATCH_SZ = 50\n",
    "\n",
    "i = 0\n",
    "while i < N_URIS:\n",
    "    sz = min(BATCH_SZ, N_URIS-i)\n",
    "    response = get_tracks(test_open_list[i:i+sz])\n",
    "    print(response)\n",
    "    i += BATCH_SZ"
   ]
  },
  {
   "cell_type": "markdown",
   "metadata": {},
   "source": [
    "## Artist URI mismatches"
   ]
  },
  {
   "cell_type": "markdown",
   "metadata": {},
   "source": [
    "Rather than looking for missing URIs (which there are none) this modification to the earlier code creates a dictionary mapping the URIs in the DB to the actual URI returned by spotify."
   ]
  },
  {
   "cell_type": "code",
   "execution_count": 32,
   "metadata": {},
   "outputs": [],
   "source": [
    "# function that takes a table generator and iterates over it to find mismatched artist URIs\n",
    "# returns a dict mapping current URIs to the returned (from API) URIs\n",
    "def find_artist_mismatch_uris(tbl_gen) -> dict:\n",
    "    mismatch_uris = {}\n",
    "    \n",
    "    for batch in tbl_gen:\n",
    "        artist_uris = [a.artist_uri for a in batch]\n",
    "        response = get_artists(artist_uris)\n",
    "        \n",
    "        for i in range(len(response)):\n",
    "            if response[i]['uri'] != artist_uris[i]:\n",
    "                mismatch_uris[artist_uris[i]] = response[i]['uri']\n",
    "                \n",
    "    return mismatch_uris"
   ]
  },
  {
   "cell_type": "code",
   "execution_count": 33,
   "metadata": {},
   "outputs": [
    {
     "name": "stdout",
     "output_type": "stream",
     "text": [
      "Creating Table Generator:\n",
      "\tbatch size :  50\n",
      "\tlength     :  296014\n",
      "\tnum batches:  5921\n"
     ]
    }
   ],
   "source": [
    "# set up table generator again for full run-through\n",
    "tbl_gen = Table_Generator(query=session.query(Artists), batch_size=50).batch_generator()"
   ]
  },
  {
   "cell_type": "code",
   "execution_count": 34,
   "metadata": {},
   "outputs": [
    {
     "data": {
      "application/vnd.jupyter.widget-view+json": {
       "model_id": "8081bde586704186adfbc502680b0e7b",
       "version_major": 2,
       "version_minor": 0
      },
      "text/plain": [
       "HBox(children=(IntProgress(value=0, max=296014), HTML(value='')))"
      ]
     },
     "metadata": {},
     "output_type": "display_data"
    }
   ],
   "source": [
    "mismatched_dict = find_artist_mismatch_uris(tbl_gen)"
   ]
  },
  {
   "cell_type": "code",
   "execution_count": 35,
   "metadata": {},
   "outputs": [
    {
     "data": {
      "text/plain": [
       "17"
      ]
     },
     "execution_count": 35,
     "metadata": {},
     "output_type": "execute_result"
    }
   ],
   "source": [
    "len(mismatched_dict)"
   ]
  },
  {
   "cell_type": "code",
   "execution_count": 36,
   "metadata": {},
   "outputs": [
    {
     "data": {
      "text/plain": [
       "{'spotify:artist:6U7UttPmVs321tWQZnQoEt': 'spotify:artist:1vc9BdsxN00MpgIY1lifuB',\n",
       " 'spotify:artist:0cVSr2fyCKZhweKdgDtzpv': 'spotify:artist:2URUumnB8mguimUYWej7Vh',\n",
       " 'spotify:artist:2X559F6FePOMHWNjY926ja': 'spotify:artist:5JZYv0z6YzsztblsEpst8g',\n",
       " 'spotify:artist:2t4d35GMIVX8cQFYbP89j8': 'spotify:artist:1XujSdsxykPhP3dn6HaT4l',\n",
       " 'spotify:artist:3S4Y2OLp04uG7EgeLUuP5v': 'spotify:artist:6ISSzeT1ACKbGLO0JBZ23r',\n",
       " 'spotify:artist:3nWDbRY3mWD7ObzRUva5Tf': 'spotify:artist:1XvC09ZYvWgsa5pXROeT9Y',\n",
       " 'spotify:artist:3qTW0weIxjRdGSEKMbGRNZ': 'spotify:artist:4rv0B6KyCBBpV1xcNmqmCM',\n",
       " 'spotify:artist:3ts3Txswf4tjfQIY2nC43m': 'spotify:artist:6fTEkjuuZ3hH6fdeBxxbA2',\n",
       " 'spotify:artist:40dWpjd3A0HVYI2Y7ReobD': 'spotify:artist:6GqL4bwmVbFVhvupr8HF4u',\n",
       " 'spotify:artist:4WIIabZbvghOasFdVWyl68': 'spotify:artist:1vc9BdsxN00MpgIY1lifuB',\n",
       " 'spotify:artist:4mFx0DNvB2QGSC2XfEidWA': 'spotify:artist:2R6hhNDQT8vBWQgCCmDnK0',\n",
       " 'spotify:artist:6Qix2PtaC8xSwi0cbepQc8': 'spotify:artist:2UocIcNiHj5n4tj1CnBzRq',\n",
       " 'spotify:artist:6bsL3HiEow63Gv0OpsfbrK': 'spotify:artist:5BclDYLlC8kap9AJhDWca3',\n",
       " 'spotify:artist:4k2mSg1rvHksEIWk0d876L': 'spotify:artist:39KwCUfxTyIasDijrgwhRn',\n",
       " 'spotify:artist:1QNAEaAqVu6vIsZygeFFv7': 'spotify:artist:7l1peIdJKqJfezlY4eRe2I',\n",
       " 'spotify:artist:2ECC3RRBj523jrauP4l1yM': 'spotify:artist:25wMXkplvEHJpJHX8A6Ved',\n",
       " 'spotify:artist:6hBwlLpcPWxMNigjMcA3o0': 'spotify:artist:1vc9BdsxN00MpgIY1lifuB'}"
      ]
     },
     "execution_count": 36,
     "metadata": {},
     "output_type": "execute_result"
    }
   ],
   "source": [
    "mismatched_dict"
   ]
  },
  {
   "cell_type": "code",
   "execution_count": 37,
   "metadata": {},
   "outputs": [
    {
     "data": {
      "text/plain": [
       "[{'external_urls': {'spotify': 'https://open.spotify.com/artist/1vc9BdsxN00MpgIY1lifuB'},\n",
       "  'followers': {'href': None, 'total': 265},\n",
       "  'genres': ['reggae', 'roots reggae'],\n",
       "  'href': 'https://api.spotify.com/v1/artists/1vc9BdsxN00MpgIY1lifuB',\n",
       "  'id': '1vc9BdsxN00MpgIY1lifuB',\n",
       "  'images': [{'height': 640,\n",
       "    'url': 'https://i.scdn.co/image/ab67616d0000b273adbe12caba8da1342c74d896',\n",
       "    'width': 640},\n",
       "   {'height': 300,\n",
       "    'url': 'https://i.scdn.co/image/ab67616d00001e02adbe12caba8da1342c74d896',\n",
       "    'width': 300},\n",
       "   {'height': 64,\n",
       "    'url': 'https://i.scdn.co/image/ab67616d00004851adbe12caba8da1342c74d896',\n",
       "    'width': 64}],\n",
       "  'name': 'Ras Michael and The Sons Of Negus',\n",
       "  'popularity': 22,\n",
       "  'type': 'artist',\n",
       "  'uri': 'spotify:artist:1vc9BdsxN00MpgIY1lifuB'}]"
      ]
     },
     "execution_count": 37,
     "metadata": {},
     "output_type": "execute_result"
    }
   ],
   "source": [
    "test = get_artists(['spotify:artist:6U7UttPmVs321tWQZnQoEt'])\n",
    "test"
   ]
  },
  {
   "cell_type": "code",
   "execution_count": 38,
   "metadata": {},
   "outputs": [
    {
     "data": {
      "text/plain": [
       "[{'external_urls': {'spotify': 'https://open.spotify.com/artist/3MLPFTe4BrpEV2eOVG0gLK'},\n",
       "  'followers': {'href': None, 'total': 14362},\n",
       "  'genres': ['fado', 'morna'],\n",
       "  'href': 'https://api.spotify.com/v1/artists/3MLPFTe4BrpEV2eOVG0gLK',\n",
       "  'id': '3MLPFTe4BrpEV2eOVG0gLK',\n",
       "  'images': [{'height': 640,\n",
       "    'url': 'https://i.scdn.co/image/d4856c118db23a50247d798a3dfa4e92001c120a',\n",
       "    'width': 640},\n",
       "   {'height': 320,\n",
       "    'url': 'https://i.scdn.co/image/3c8c083b6fef768189b335849047781407be2c60',\n",
       "    'width': 320},\n",
       "   {'height': 160,\n",
       "    'url': 'https://i.scdn.co/image/c51fced09660babac3ac564cb11e3377db0a3385',\n",
       "    'width': 160}],\n",
       "  'name': 'Camane',\n",
       "  'popularity': 37,\n",
       "  'type': 'artist',\n",
       "  'uri': 'spotify:artist:3MLPFTe4BrpEV2eOVG0gLK'}]"
      ]
     },
     "execution_count": 38,
     "metadata": {},
     "output_type": "execute_result"
    }
   ],
   "source": [
    "test2 = get_artists(['spotify:artist:3MLPFTe4BrpEV2eOVG0gLK'])\n",
    "test2"
   ]
  },
  {
   "cell_type": "code",
   "execution_count": 39,
   "metadata": {},
   "outputs": [],
   "source": [
    "# dump dict to pickle\n",
    "with open('mismatched_artist_uris.pkl', 'wb') as f:\n",
    "    pickle.dump(mismatched_dict, f)"
   ]
  },
  {
   "cell_type": "code",
   "execution_count": 40,
   "metadata": {},
   "outputs": [],
   "source": [
    "# test\n",
    "with open('mismatched_artist_uris.pkl', 'rb') as f:\n",
    "    test_open_dict = pickle.load(f)"
   ]
  },
  {
   "cell_type": "code",
   "execution_count": 41,
   "metadata": {},
   "outputs": [
    {
     "data": {
      "text/plain": [
       "{'spotify:artist:6U7UttPmVs321tWQZnQoEt': 'spotify:artist:1vc9BdsxN00MpgIY1lifuB',\n",
       " 'spotify:artist:0cVSr2fyCKZhweKdgDtzpv': 'spotify:artist:2URUumnB8mguimUYWej7Vh',\n",
       " 'spotify:artist:2X559F6FePOMHWNjY926ja': 'spotify:artist:5JZYv0z6YzsztblsEpst8g',\n",
       " 'spotify:artist:2t4d35GMIVX8cQFYbP89j8': 'spotify:artist:1XujSdsxykPhP3dn6HaT4l',\n",
       " 'spotify:artist:3S4Y2OLp04uG7EgeLUuP5v': 'spotify:artist:6ISSzeT1ACKbGLO0JBZ23r',\n",
       " 'spotify:artist:3nWDbRY3mWD7ObzRUva5Tf': 'spotify:artist:1XvC09ZYvWgsa5pXROeT9Y',\n",
       " 'spotify:artist:3qTW0weIxjRdGSEKMbGRNZ': 'spotify:artist:4rv0B6KyCBBpV1xcNmqmCM',\n",
       " 'spotify:artist:3ts3Txswf4tjfQIY2nC43m': 'spotify:artist:6fTEkjuuZ3hH6fdeBxxbA2',\n",
       " 'spotify:artist:40dWpjd3A0HVYI2Y7ReobD': 'spotify:artist:6GqL4bwmVbFVhvupr8HF4u',\n",
       " 'spotify:artist:4WIIabZbvghOasFdVWyl68': 'spotify:artist:1vc9BdsxN00MpgIY1lifuB',\n",
       " 'spotify:artist:4mFx0DNvB2QGSC2XfEidWA': 'spotify:artist:2R6hhNDQT8vBWQgCCmDnK0',\n",
       " 'spotify:artist:6Qix2PtaC8xSwi0cbepQc8': 'spotify:artist:2UocIcNiHj5n4tj1CnBzRq',\n",
       " 'spotify:artist:6bsL3HiEow63Gv0OpsfbrK': 'spotify:artist:5BclDYLlC8kap9AJhDWca3',\n",
       " 'spotify:artist:4k2mSg1rvHksEIWk0d876L': 'spotify:artist:39KwCUfxTyIasDijrgwhRn',\n",
       " 'spotify:artist:1QNAEaAqVu6vIsZygeFFv7': 'spotify:artist:7l1peIdJKqJfezlY4eRe2I',\n",
       " 'spotify:artist:2ECC3RRBj523jrauP4l1yM': 'spotify:artist:25wMXkplvEHJpJHX8A6Ved',\n",
       " 'spotify:artist:6hBwlLpcPWxMNigjMcA3o0': 'spotify:artist:1vc9BdsxN00MpgIY1lifuB'}"
      ]
     },
     "execution_count": 41,
     "metadata": {},
     "output_type": "execute_result"
    }
   ],
   "source": [
    "test_open_dict"
   ]
  },
  {
   "cell_type": "code",
   "execution_count": null,
   "metadata": {},
   "outputs": [],
   "source": []
  }
 ],
 "metadata": {
  "kernelspec": {
   "display_name": "Python 3",
   "language": "python",
   "name": "python3"
  },
  "language_info": {
   "codemirror_mode": {
    "name": "ipython",
    "version": 3
   },
   "file_extension": ".py",
   "mimetype": "text/x-python",
   "name": "python",
   "nbconvert_exporter": "python",
   "pygments_lexer": "ipython3",
   "version": "3.7.3"
  }
 },
 "nbformat": 4,
 "nbformat_minor": 2
}
