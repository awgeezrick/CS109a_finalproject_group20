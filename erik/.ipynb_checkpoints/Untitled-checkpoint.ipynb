{
 "cells": [
  {
   "cell_type": "markdown",
   "metadata": {},
   "source": [
    "# Spotify EDA: Compiling list of Missing Artist/Tracks URIs"
   ]
  },
  {
   "cell_type": "markdown",
   "metadata": {},
   "source": [
    "This notebook compiles file(s) containing all URIs that return errors when querying the Spotify API for data cleanup. "
   ]
  },
  {
   "cell_type": "markdown",
   "metadata": {},
   "source": [
    "## Setup"
   ]
  },
  {
   "cell_type": "code",
   "execution_count": 11,
   "metadata": {},
   "outputs": [
    {
     "name": "stdout",
     "output_type": "stream",
     "text": [
      "env: SPOTIFY_CLIENT_ID=aff9ad651d0b4181a541bc73c6852474%\n",
      "env: SPOTIFY_CLIENT_SECRET=258c115477814b09b93b0b04d507e929%\n",
      "env: SPOTIFY_REDIRECT_URI=FinalProjectCS109a://callback%\n"
     ]
    }
   ],
   "source": [
    "import numpy as np\n",
    "import pandas as pd\n",
    "import matplotlib\n",
    "import matplotlib.pyplot as plt\n",
    "import os\n",
    "import sys\n",
    "import json\n",
    "import time\n",
    "\n",
    "from sqlalchemy.ext.declarative import declarative_base \n",
    "from sqlalchemy import Table, Column, Integer, String, MetaData, and_, or_, func,distinct\n",
    "\n",
    "%matplotlib inline\n",
    "\n",
    "import importlib\n",
    "\n",
    "from spotify_api import get_spotify_data, get_tracks, get_artists, get_audiofeatures\n",
    "from spotify_database import get_session, display_time\n",
    "from spotify_utils import Table_Generator, List_Generator\n",
    "\n",
    "%env SPOTIFY_CLIENT_ID=aff9ad651d0b4181a541bc73c6852474%\n",
    "%env SPOTIFY_CLIENT_SECRET=258c115477814b09b93b0b04d507e929%\n",
    "%env SPOTIFY_REDIRECT_URI=FinalProjectCS109a://callback%"
   ]
  },
  {
   "cell_type": "code",
   "execution_count": 12,
   "metadata": {},
   "outputs": [
    {
     "data": {
      "text/plain": [
       "'aff9ad651d0b4181a541bc73c6852474%'"
      ]
     },
     "execution_count": 12,
     "metadata": {},
     "output_type": "execute_result"
    }
   ],
   "source": [
    "# Just a test to see that the credentails are setup\n",
    "os.environ['SPOTIFY_CLIENT_ID']"
   ]
  },
  {
   "cell_type": "code",
   "execution_count": 13,
   "metadata": {},
   "outputs": [],
   "source": [
    "# Set database path on local drive\n",
    "db_path = \"../data/spotify_songsv2.db\"\n",
    "\n",
    "# Get sesion\n",
    "session = get_session(db_path)\n",
    "\n",
    "# Get Classes\n",
    "Playlists = getattr(get_session, \"Playlists\")\n",
    "Artists = getattr(get_session, \"Artists\")\n",
    "Tracks = getattr(get_session, \"Tracks\")"
   ]
  },
  {
   "cell_type": "code",
   "execution_count": 15,
   "metadata": {},
   "outputs": [
    {
     "name": "stdout",
     "output_type": "stream",
     "text": [
      "Time to Execute: 0.0 seconds\n"
     ]
    },
    {
     "data": {
      "text/plain": [
       "'spotify:track:2d7LPtieXdIYzf7yHPooWd'"
      ]
     },
     "metadata": {},
     "output_type": "display_data"
    },
    {
     "name": "stdout",
     "output_type": "stream",
     "text": [
      "Time to Execute: 0.01 seconds\n"
     ]
    },
    {
     "data": {
      "text/plain": [
       "'spotify:artist:3tBUUrQ26CCErBABEw2EXo'"
      ]
     },
     "metadata": {},
     "output_type": "display_data"
    }
   ],
   "source": [
    "# test\n",
    "result = display_time(session.query(Tracks).first)\n",
    "display(result.track_uri)\n",
    "\n",
    "result = display_time(session.query(Artists).first)\n",
    "display(result.artist_uri)"
   ]
  },
  {
   "cell_type": "markdown",
   "metadata": {},
   "source": [
    "## Test"
   ]
  },
  {
   "cell_type": "code",
   "execution_count": null,
   "metadata": {},
   "outputs": [],
   "source": []
  }
 ],
 "metadata": {
  "kernelspec": {
   "display_name": "Python 3",
   "language": "python",
   "name": "python3"
  },
  "language_info": {
   "codemirror_mode": {
    "name": "ipython",
    "version": 3
   },
   "file_extension": ".py",
   "mimetype": "text/x-python",
   "name": "python",
   "nbconvert_exporter": "python",
   "pygments_lexer": "ipython3",
   "version": "3.7.3"
  }
 },
 "nbformat": 4,
 "nbformat_minor": 2
}
