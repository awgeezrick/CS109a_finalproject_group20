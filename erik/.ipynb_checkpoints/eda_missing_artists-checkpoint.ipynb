{
 "cells": [
  {
   "cell_type": "markdown",
   "metadata": {},
   "source": [
    "# Spotify EDA: Compiling list of Missing Artist/Tracks URIs"
   ]
  },
  {
   "cell_type": "markdown",
   "metadata": {},
   "source": [
    "This notebook compiles file(s) containing all URIs that return errors when querying the Spotify API for data cleanup. "
   ]
  },
  {
   "cell_type": "markdown",
   "metadata": {},
   "source": [
    "## Setup"
   ]
  },
  {
   "cell_type": "code",
   "execution_count": 11,
   "metadata": {},
   "outputs": [
    {
     "name": "stdout",
     "output_type": "stream",
     "text": [
      "env: SPOTIFY_CLIENT_ID=aff9ad651d0b4181a541bc73c6852474%\n",
      "env: SPOTIFY_CLIENT_SECRET=258c115477814b09b93b0b04d507e929%\n",
      "env: SPOTIFY_REDIRECT_URI=FinalProjectCS109a://callback%\n"
     ]
    }
   ],
   "source": [
    "import numpy as np\n",
    "import pandas as pd\n",
    "import matplotlib\n",
    "import matplotlib.pyplot as plt\n",
    "import os\n",
    "import sys\n",
    "import json\n",
    "import time\n",
    "\n",
    "from sqlalchemy.ext.declarative import declarative_base \n",
    "from sqlalchemy import Table, Column, Integer, String, MetaData, and_, or_, func,distinct\n",
    "\n",
    "%matplotlib inline\n",
    "\n",
    "import importlib\n",
    "\n",
    "from spotify_api import get_spotify_data, get_tracks, get_artists, get_audiofeatures\n",
    "from spotify_database import get_session, display_time\n",
    "from spotify_utils import Table_Generator, List_Generator\n",
    "\n",
    "%env SPOTIFY_CLIENT_ID=aff9ad651d0b4181a541bc73c6852474%\n",
    "%env SPOTIFY_CLIENT_SECRET=258c115477814b09b93b0b04d507e929%\n",
    "%env SPOTIFY_REDIRECT_URI=FinalProjectCS109a://callback%"
   ]
  },
  {
   "cell_type": "code",
   "execution_count": 12,
   "metadata": {},
   "outputs": [
    {
     "data": {
      "text/plain": [
       "'aff9ad651d0b4181a541bc73c6852474%'"
      ]
     },
     "execution_count": 12,
     "metadata": {},
     "output_type": "execute_result"
    }
   ],
   "source": [
    "# Just a test to see that the credentails are setup\n",
    "os.environ['SPOTIFY_CLIENT_ID']"
   ]
  },
  {
   "cell_type": "code",
   "execution_count": 13,
   "metadata": {},
   "outputs": [],
   "source": [
    "# Set database path on local drive\n",
    "db_path = \"../data/spotify_songsv2.db\"\n",
    "\n",
    "# Get sesion\n",
    "session = get_session(db_path)\n",
    "\n",
    "# Get Classes\n",
    "Playlists = getattr(get_session, \"Playlists\")\n",
    "Artists = getattr(get_session, \"Artists\")\n",
    "Tracks = getattr(get_session, \"Tracks\")"
   ]
  },
  {
   "cell_type": "code",
   "execution_count": 25,
   "metadata": {},
   "outputs": [
    {
     "name": "stdout",
     "output_type": "stream",
     "text": [
      "Time to Execute: 0.0 seconds\n"
     ]
    },
    {
     "data": {
      "text/plain": [
       "'spotify:track:2d7LPtieXdIYzf7yHPooWd'"
      ]
     },
     "metadata": {},
     "output_type": "display_data"
    },
    {
     "name": "stdout",
     "output_type": "stream",
     "text": [
      "Time to Execute: 0.0 seconds\n"
     ]
    },
    {
     "data": {
      "text/plain": [
       "'spotify:artist:3tBUUrQ26CCErBABEw2EXo'"
      ]
     },
     "metadata": {},
     "output_type": "display_data"
    }
   ],
   "source": [
    "# test\n",
    "result = display_time(session.query(Tracks).first)\n",
    "display(result.track_uri)\n",
    "\n",
    "result = display_time(session.query(Artists).first)\n",
    "display(result.artist_uri)"
   ]
  },
  {
   "cell_type": "markdown",
   "metadata": {},
   "source": [
    "## Test - Artists"
   ]
  },
  {
   "cell_type": "code",
   "execution_count": 53,
   "metadata": {},
   "outputs": [
    {
     "name": "stdout",
     "output_type": "stream",
     "text": [
      "Creating Table Generator:\n",
      "\tbatch size :  50\n",
      "\tlength     :  296014\n",
      "\tnum batches:  5921\n"
     ]
    }
   ],
   "source": [
    "# build table generator\n",
    "tbl_gen = Table_Generator(query=session.query(Artists), batch_size=50).batch_generator()"
   ]
  },
  {
   "cell_type": "code",
   "execution_count": 57,
   "metadata": {},
   "outputs": [
    {
     "data": {
      "text/plain": [
       "['spotify:artist:3FGwjRuHPhCmLnwqpFwJSO',\n",
       " 'spotify:artist:3iHsVcEikOmh8WiAAijLko',\n",
       " 'spotify:artist:1zFsUyfg69wbWpA9IlGMfi',\n",
       " 'spotify:artist:7AcroiPUunAZ8MWD539aog',\n",
       " 'spotify:artist:3hi7ew4Y6Lr9lWS1E3lDBX',\n",
       " 'spotify:artist:0zPkOJuDZe08O6BIx1uBPz',\n",
       " 'spotify:artist:7KRl34HSYhZMooBhfaERmS',\n",
       " 'spotify:artist:3DzJfHyqLa79DDgu32piVi',\n",
       " 'spotify:artist:3BbLQNj5OTxm4AZcwyREFF',\n",
       " 'spotify:artist:0sHN89qak07mnug3LVVjzP',\n",
       " 'spotify:artist:1eVJpCyT8JStWU3sou78Q7',\n",
       " 'spotify:artist:47A6d84PBFb6GeroA8x7ei',\n",
       " 'spotify:artist:5dlfpSzRV0DkVvqxOOzFqb',\n",
       " 'spotify:artist:1EnscKRqKyq19bQ2bl642c',\n",
       " 'spotify:artist:5cCnOTvuh6xlWf1ZA4trF2',\n",
       " 'spotify:artist:6pmuyoxuRuDyAVZkCOpYcP',\n",
       " 'spotify:artist:5aDL74wsXdkpjAMmvgt3xR',\n",
       " 'spotify:artist:1d2LhBJAr2XGi4fjGnHnbS',\n",
       " 'spotify:artist:3bTLHhgWgGqn9XwnL57y82',\n",
       " 'spotify:artist:5bRULziD2hCP3acYRcfK3E',\n",
       " 'spotify:artist:4u9ixzaoYbgVyamVQ4Nowq',\n",
       " 'spotify:artist:27HMFXL88ctHeNeyGZUrLe',\n",
       " 'spotify:artist:4L6i1I6tFpc1bKui5coGme',\n",
       " 'spotify:artist:2U7nIOFSqqsKaBdSIdL0iZ',\n",
       " 'spotify:artist:4DedTBbPVMtOiIxPIdqA5Z',\n",
       " 'spotify:artist:4ht1mwP4ouSu79jOOktCY3',\n",
       " 'spotify:artist:1JT1kIzfXL16XZslgqowkQ',\n",
       " 'spotify:artist:0txGm276CtKROXpx67TrON',\n",
       " 'spotify:artist:0FzH16EqZdAriIaskUZFjS',\n",
       " 'spotify:artist:6EjrxsoIAFlQfAMIFyi11R',\n",
       " 'spotify:artist:5SA64I5HEQH6HmpsmBJ3Ps',\n",
       " 'spotify:artist:3aJDRv7IGtj8wYHsYYfF03',\n",
       " 'spotify:artist:2VlC9QJxeA4FzsZDaMjvV5',\n",
       " 'spotify:artist:1aq7wEUP6Jan2WlqE8phza',\n",
       " 'spotify:artist:2DADSRUSlP6Xd0Fb6ppFyw',\n",
       " 'spotify:artist:49hU6fSkjACxkiMx9hntt2',\n",
       " 'spotify:artist:03CwTrMMY6etaGNMkwgcao',\n",
       " 'spotify:artist:49DP8vibQSErViCKGzt12l',\n",
       " 'spotify:artist:1zD9BYh9C3vAxVxQAkFf5f',\n",
       " 'spotify:artist:4Sn1YwYJW2sbhFREOenuNm',\n",
       " 'spotify:artist:1RcFtMUS8nKo22k9o5juJa',\n",
       " 'spotify:artist:37E8ahyGvKUJONvlVwHOaI',\n",
       " 'spotify:artist:2xoDN5GlMYE7ebaMKrx0Lv',\n",
       " 'spotify:artist:4m8fltTHwl25SRaOJRpTvF',\n",
       " 'spotify:artist:5WRtTebQK14LZmLzewvkyC',\n",
       " 'spotify:artist:6CIjEEuKjrCQSDxyMiPnTc',\n",
       " 'spotify:artist:6TcX8lWv3xIvFJOxMMZQ7w',\n",
       " 'spotify:artist:2meUQKRm9yos5hbsWl9TRq',\n",
       " 'spotify:artist:5smA3m11ZwF0uLPprozBEh',\n",
       " 'spotify:artist:5pz8lD12W3R2izNY2PP8gN']"
      ]
     },
     "execution_count": 57,
     "metadata": {},
     "output_type": "execute_result"
    }
   ],
   "source": [
    "# get 50 artists, extract URIs\n",
    "first50_artists = tbl_gen.__next__()[0:50]\n",
    "first50_artist_uris = [a.artist_uri for a in first50_artists]\n",
    "\n",
    "first50_artist_uris"
   ]
  },
  {
   "cell_type": "code",
   "execution_count": 58,
   "metadata": {},
   "outputs": [
    {
     "name": "stdout",
     "output_type": "stream",
     "text": [
      "token():INFO:   Getting initial token\n",
      "Error getting token: 400\n"
     ]
    },
    {
     "ename": "AttributeError",
     "evalue": "'function' object has no attribute 'token'",
     "output_type": "error",
     "traceback": [
      "\u001b[1;31m---------------------------------------------------------------------------\u001b[0m",
      "\u001b[1;31mAttributeError\u001b[0m                            Traceback (most recent call last)",
      "\u001b[1;32m<ipython-input-58-f788a82f7b6e>\u001b[0m in \u001b[0;36m<module>\u001b[1;34m\u001b[0m\n\u001b[0;32m      1\u001b[0m \u001b[1;31m# use spotify API to get artist info based on above URIs\u001b[0m\u001b[1;33m\u001b[0m\u001b[1;33m\u001b[0m\u001b[1;33m\u001b[0m\u001b[0m\n\u001b[1;32m----> 2\u001b[1;33m \u001b[0martist_api_test_response\u001b[0m \u001b[1;33m=\u001b[0m \u001b[0mget_artists\u001b[0m\u001b[1;33m(\u001b[0m\u001b[0mfirst50_artist_uris\u001b[0m\u001b[1;33m)\u001b[0m\u001b[1;33m\u001b[0m\u001b[1;33m\u001b[0m\u001b[0m\n\u001b[0m",
      "\u001b[1;32m~\\_anaconda_hes\\CS109a_finalproject_group20\\erik\\spotify_api.py\u001b[0m in \u001b[0;36mget_artists\u001b[1;34m(uri_list)\u001b[0m\n\u001b[0;32m    326\u001b[0m         \u001b[1;32mreturn\u001b[0m \u001b[1;32mFalse\u001b[0m\u001b[1;33m\u001b[0m\u001b[1;33m\u001b[0m\u001b[0m\n\u001b[0;32m    327\u001b[0m     \u001b[0mspotify_url\u001b[0m \u001b[1;33m=\u001b[0m \u001b[1;34m\"https://api.spotify.com/v1/artists/\"\u001b[0m\u001b[1;33m\u001b[0m\u001b[1;33m\u001b[0m\u001b[0m\n\u001b[1;32m--> 328\u001b[1;33m     \u001b[0mresponse\u001b[0m \u001b[1;33m=\u001b[0m \u001b[0mget_spotify_list\u001b[0m\u001b[1;33m(\u001b[0m\u001b[0mspotify_url\u001b[0m\u001b[1;33m,\u001b[0m \u001b[0muri_list\u001b[0m\u001b[1;33m)\u001b[0m\u001b[1;33m\u001b[0m\u001b[1;33m\u001b[0m\u001b[0m\n\u001b[0m\u001b[0;32m    329\u001b[0m     \u001b[1;32mreturn\u001b[0m \u001b[0mresponse\u001b[0m\u001b[1;33m.\u001b[0m\u001b[0mjson\u001b[0m\u001b[1;33m(\u001b[0m\u001b[1;33m)\u001b[0m\u001b[1;33m.\u001b[0m\u001b[0mget\u001b[0m\u001b[1;33m(\u001b[0m\u001b[1;34m'artists'\u001b[0m\u001b[1;33m)\u001b[0m\u001b[1;33m\u001b[0m\u001b[1;33m\u001b[0m\u001b[0m\n\u001b[0;32m    330\u001b[0m \u001b[1;33m\u001b[0m\u001b[0m\n",
      "\u001b[1;32m~\\_anaconda_hes\\CS109a_finalproject_group20\\erik\\spotify_api.py\u001b[0m in \u001b[0;36mget_spotify_list\u001b[1;34m(spotify_url, uri_list)\u001b[0m\n\u001b[0;32m    266\u001b[0m     \u001b[0mtoken\u001b[0m\u001b[1;33m(\u001b[0m\u001b[1;33m)\u001b[0m  \u001b[1;31m# ensure token is valid\u001b[0m\u001b[1;33m\u001b[0m\u001b[1;33m\u001b[0m\u001b[0m\n\u001b[0;32m    267\u001b[0m     response = requests.get(spotify_url,\n\u001b[1;32m--> 268\u001b[1;33m                             \u001b[0mauth\u001b[0m\u001b[1;33m=\u001b[0m\u001b[0mTokenAuth\u001b[0m\u001b[1;33m(\u001b[0m\u001b[1;34m'Bearer '\u001b[0m \u001b[1;33m+\u001b[0m \u001b[0mtoken\u001b[0m\u001b[1;33m.\u001b[0m\u001b[0mtoken\u001b[0m\u001b[1;33m)\u001b[0m\u001b[1;33m,\u001b[0m\u001b[1;33m\u001b[0m\u001b[1;33m\u001b[0m\u001b[0m\n\u001b[0m\u001b[0;32m    269\u001b[0m                             params=r_dict)\n\u001b[0;32m    270\u001b[0m \u001b[1;33m\u001b[0m\u001b[0m\n",
      "\u001b[1;31mAttributeError\u001b[0m: 'function' object has no attribute 'token'"
     ]
    }
   ],
   "source": [
    "# use spotify API to get artist info based on above URIs\n",
    "artist_api_test_response = get_artists(first50_artist_uris)"
   ]
  },
  {
   "cell_type": "code",
   "execution_count": null,
   "metadata": {},
   "outputs": [],
   "source": []
  }
 ],
 "metadata": {
  "kernelspec": {
   "display_name": "Python 3",
   "language": "python",
   "name": "python3"
  },
  "language_info": {
   "codemirror_mode": {
    "name": "ipython",
    "version": 3
   },
   "file_extension": ".py",
   "mimetype": "text/x-python",
   "name": "python",
   "nbconvert_exporter": "python",
   "pygments_lexer": "ipython3",
   "version": "3.7.3"
  }
 },
 "nbformat": 4,
 "nbformat_minor": 2
}
