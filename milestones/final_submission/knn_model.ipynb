{
 "cells": [
  {
   "cell_type": "markdown",
   "metadata": {},
   "source": [
    "# Playlist Recommendation Using Collaborative Filtering and kNN\n",
    "\n",
    "### CS109a - Introduction To Data Science \n",
    "### Final Project - Spotify Song Recommendation\n",
    "### Group 20 - Erik Subatis, Mark McDonald, and Ankit Bhargava"
   ]
  },
  {
   "cell_type": "code",
   "execution_count": 425,
   "metadata": {},
   "outputs": [],
   "source": [
    "import numpy as np\n",
    "import pandas as pd\n",
    "\n",
    "from sklearn.feature_extraction.text import CountVectorizer\n",
    "from sklearn.neighbors import NearestNeighbors\n",
    "\n",
    "import warnings\n",
    "from IPython.display import clear_output\n",
    "\n",
    "import pickle\n",
    "\n",
    "import matplotlib\n",
    "import matplotlib.pyplot as plt\n",
    "%matplotlib inline"
   ]
  },
  {
   "cell_type": "markdown",
   "metadata": {},
   "source": [
    "## Summary"
   ]
  },
  {
   "cell_type": "markdown",
   "metadata": {},
   "source": [
    "Collaborative filtering relies on similarities between user behavior to make predictions. In recommendation systems, a matrix is often encoded to represent user behavior. For this model, the matrix represents playlists (in rows) vs. songs that are present in a given playlist (in columns), where a 1 represents a song being present. Given the large volume of songs, this matrix is very sparse. \n",
    "\n",
    "This approach builds this sparse matrix using SKLearn's CountVectorizer and then uses cosine distance to make predictions using a k-nearest neighbors model. Recommendations are drawn from similar playlists while avoiding duplication with the input set. In short:\n",
    "\n",
    "1. Build a sparse matrix for playlists X tracks\n",
    "2. Fit a kNN model to this data using cosine distance\n",
    "3. Find nearest playlists using this model given a list of songs\n",
    "4. Select songs from nearest neighbor lists as recommendations\n",
    "\n",
    "Two strategies are explored for selecting songs from the nearest neighbors. The first approach simply grabs songs from the closest neighbor(s) in order of proximity. The second approach counts the frequencies of song appearances among the selected neighbors, and recommends the most frequent songs in order.\n",
    "\n",
    "The data is split into train and test sets, each consisting of a number of playlists. The model is built on the train set. Accuracy is assessed by feeding the model a portion each test set playlist, and checking the number of matches between what was recommended and the songs that were withheld from each test playlist (R-precision, as defined here: https://recsys-challenge.spotify.com/rules). This accuracy is averaged across all test playlists considered."
   ]
  },
  {
   "cell_type": "markdown",
   "metadata": {},
   "source": [
    "## Model Class"
   ]
  },
  {
   "cell_type": "markdown",
   "metadata": {},
   "source": [
    "This class contains everything needed to run the collaborative filtering model via kNN as described above. It is used as follows:\n",
    "\n",
    "1. Instantiate the CollaborativeFilteringKNN object by feeding it the training dataframe. It is assumed the DF has columns: playlist_id, track_uri, track_name, artist_uri,  artist_name. \n",
    "\n",
    "2. build_matrix() fits and transforms the training data into a binary sparse matrix using SKLearn's CountVectorizer. The matrix and vectorizer are stored internally. \n",
    "\n",
    "3. build_model() fits the kNN model to the matrix.\n",
    "\n",
    "4. predict() takes the following arguments:\n",
    "    - input_data: a dataframe containing the playlists to predict on (e.g. to 'seed' recommendation). should follow the same format as the training DF\n",
    "    - num_recos: maximum recommendations to return per input playlist\n",
    "    - strategy: 'closest_playlists' or 'frequency'\n",
    "    - n_neighbors: how many neighboring playlists to consider given the model\n",
    "    \n",
    "   It returns a dictionary mapping given playlists -> a list of recommended song URIs for that playlist.\n",
    "    \n",
    "   \n",
    "5. r_precision() can be used to calculate average accuracy by examining withheld songs from the input playlists given to predict(). It takes in the same kind of DF as described above, where the playlist_ids match the input_data given to predict() exactly, as well as the results of predict() (a dictionary)."
   ]
  },
  {
   "cell_type": "code",
   "execution_count": 426,
   "metadata": {},
   "outputs": [],
   "source": [
    "''' This class contains all logic for building/implementing a Collaborative Filtering model via kNN\n",
    "    for Spotify Playlist recommendation. Assumes a Playlist x Song matrix. '''\n",
    "\n",
    "class CollaborativeFilteringKNN:\n",
    "    \n",
    "    ''' Takes the training data as a dataframe. \n",
    "        Columns expected: playlist_id, track_uri, track_name, artist_uri,  artist_name '''\n",
    "    def __init__(self, train_data: pd.core.frame.DataFrame, init_model=True):\n",
    "        print('Initializing CollaborativeFilteringKNN...')\n",
    "        \n",
    "        # constants in case column names change\n",
    "        self.PREFIX = 'spotify:track:'\n",
    "        self.PID = 'playlist_id'\n",
    "        self.TRACK_URI = 'track_uri'\n",
    "        \n",
    "        self.train_df = train_data\n",
    "        self.train_pids = train_data[self.PID].unique()\n",
    "        \n",
    "        if init_model:\n",
    "            self.build_matrix()\n",
    "            self.build_model()\n",
    "\n",
    "    ''' Builds sparse matrix for song counts by playlist. '''\n",
    "    def build_matrix(self):\n",
    "        print('Building matrix...')\n",
    "        \n",
    "        # all vals are 1 or 0; stop_words omits the track URI prefix from each 'word'\n",
    "        self.vectorizer = CountVectorizer(lowercase=False, binary=True, stop_words=['spotify', 'track']) \n",
    "        \n",
    "        # corpus is built by concatenating all track URIs by playlist ID\n",
    "        self.matrix = self.vectorizer.fit_transform(self.train_df.groupby([self.PID])[self.TRACK_URI].apply(' '.join))\n",
    "        \n",
    "    ''' Builds a kNN model using a sparse matrix. '''\n",
    "    def build_model(self):\n",
    "        print('Building kNN model...')\n",
    "        self.model = NearestNeighbors(metric='cosine')\n",
    "        self.model.fit(self.matrix)\n",
    "        \n",
    "    ''' Gets k neighbors for each playlist in a test set from model based on input. \n",
    "        Returns the INDICES of neighbors in the matrix, NOT playlist_ids. '''\n",
    "    def get_neighbors(self, input_data: pd.core.frame.DataFrame, n_neighbors: int=5):\n",
    "        # transform input data into sparse matrix (see build_matrix())\n",
    "        print('Building input matrix...')\n",
    "        input_matrix = self.vectorizer.transform(input_data.groupby([self.PID])[self.TRACK_URI].apply(' '.join))\n",
    "        origin_pids = input_data[self.PID].unique()\n",
    "    \n",
    "        print('kneighbors running...')\n",
    "        return self.model.kneighbors(input_matrix, n_neighbors=n_neighbors, return_distance=False), origin_pids\n",
    "    \n",
    "    ''' Gets song recommendations for a given playlist based on neighbors based on specified strategy.\n",
    "        Returns a list of track URIs with prefix prepended to URI (e.g. as in the original DF).\n",
    "        Mostly a utility method for predict() -- see below. '''\n",
    "    def get_recos_for_playlist(self, origin_playlist: list, neighbors: list, strategy: str='closest_playlists', num_recos: int=10):\n",
    "        recos = []\n",
    "        origin_playlist = set(origin_playlist)\n",
    "        \n",
    "        # Closest playlists - this strategy simply pulls non-overlapping songs from the closest neighbors, in order.\n",
    "        if strategy == 'closest_playlists':\n",
    "            for i in neighbors:\n",
    "                pid = self.train_pids[i] # index into proper playlist_id\n",
    "                cur_playlist = self.train_df.loc[self.train_df[self.PID] == pid][self.TRACK_URI].tolist()\n",
    "                for track in cur_playlist:\n",
    "                    if track not in origin_playlist:\n",
    "                        recos.append(track)\n",
    "                    if len(recos) == num_recos:\n",
    "                        break\n",
    "                        \n",
    "                if len(recos) == num_recos:\n",
    "                        break    \n",
    "                        \n",
    "            return recos\n",
    "            \n",
    "        # Frequency - this strategy sums up appearences of songs in neighbor playlists and returns the most common songs\n",
    "        elif strategy == 'frequency':\n",
    "            # get dataframe of neighbors and count song occurrences\n",
    "            neighbor_pids = [self.train_pids[i] for i in neighbors]\n",
    "            neighbors_df = self.train_df[self.train_df[self.PID].isin(neighbor_pids)]\n",
    "            tracks = neighbors_df[self.TRACK_URI].value_counts()\n",
    "            \n",
    "            for track, count in tracks.items():\n",
    "                if track not in origin_playlist:\n",
    "                    recos.append(track)\n",
    "                if len(recos) == num_recos:\n",
    "                    break\n",
    "                \n",
    "            return recos\n",
    "\n",
    "        else:\n",
    "            print(f'get_recos_for_playlist(origin_pid={origin_pid}): No or invalid strategy selected for recommendation.')\n",
    "            return\n",
    "        \n",
    "    ''' Recommends songs based on neighbors (given by get_neighbors, above).\n",
    "        Returns a dict of original pid -> lists of URIs formatted exactly as-is in the Spotify data (e.g. with prefix).\n",
    "        \n",
    "        Options allow different methods of selecting songs from neighbors. Must choose at least one method:\n",
    "        \n",
    "        closest_playlists (default) - Selects songs from the closest playlist(s) until num_songs is reached \n",
    "        frequency                   - Selects songs from neighbors based on frequency of song appearences '''\n",
    "    def predict(self, input_data: pd.core.frame.DataFrame, num_recos: int=10, strategy: str='closest_playlists', n_neighbors=5): \n",
    "        print('Retrieving neighbors...')\n",
    "        neighbors, origin_pids = self.get_neighbors(input_data, n_neighbors=n_neighbors)\n",
    "        recommendations = {}\n",
    "        \n",
    "        for i, pid in enumerate(origin_pids):\n",
    "            # show progress, as this can take awhile\n",
    "            clear_output()\n",
    "            print('Progress:', i, '/', len(origin_pids))\n",
    "            \n",
    "            origin_playlist = input_data[input_data[self.PID] == pid][self.TRACK_URI].tolist()\n",
    "            recos = self.get_recos_for_playlist(origin_playlist, neighbors[i], strategy=strategy, num_recos=num_recos)\n",
    "            recommendations[pid] = recos\n",
    "        \n",
    "        return recommendations\n",
    "    \n",
    "    ''' Calculates R-precision by dividing matches / withheld tracks and averaging for each test list.\n",
    "        Val_df playlist IDs should match what is in the recos dict. '''\n",
    "    def r_precision(self, val_df: pd.core.frame.DataFrame, recos: dict):\n",
    "        accs = []\n",
    "        for pid, predicted_tracks in recos.items():\n",
    "            withheld_tracks = val_df[val_df[self.PID] == pid][self.TRACK_URI].tolist()\n",
    "            matches = list(set(withheld_tracks) & set(predicted_tracks))\n",
    "            score = len(matches) / len(withheld_tracks)\n",
    "            accs.append(score)\n",
    "        \n",
    "        return np.mean(accs)\n",
    "    \n",
    "    # helper to display track info. Note that artist_uri and artist_name were switched in this DF by accident\n",
    "    # but it was inconsequential for the results.\n",
    "    def display_track_info(self, df: pd.core.frame.DataFrame, uri: str):\n",
    "        track = df[df[self.TRACK_URI] == uri].iloc[0]\n",
    "        print(track.artist_uri, '-', track.track_name)"
   ]
  },
  {
   "cell_type": "markdown",
   "metadata": {},
   "source": [
    "## Training Data"
   ]
  },
  {
   "cell_type": "markdown",
   "metadata": {},
   "source": [
    "The training data contains the vast majority of the staff-provided Spotify playlists data. "
   ]
  },
  {
   "cell_type": "code",
   "execution_count": 427,
   "metadata": {},
   "outputs": [],
   "source": [
    "with warnings.catch_warnings():\n",
    "    warnings.simplefilter(action='ignore', category=FutureWarning)\n",
    "    df_playlists_train = pd.read_csv('../data/df_playlists_train.csv', index_col='index')\n",
    "    \n",
    "# for reference:\n",
    "# FutureWarning: elementwise comparison failed; returning scalar instead, but in the future will perform elementwise comparison\n",
    "#   mask |= (ar1 == a)"
   ]
  },
  {
   "cell_type": "code",
   "execution_count": 428,
   "metadata": {},
   "outputs": [
    {
     "data": {
      "text/html": [
       "<div>\n",
       "<style scoped>\n",
       "    .dataframe tbody tr th:only-of-type {\n",
       "        vertical-align: middle;\n",
       "    }\n",
       "\n",
       "    .dataframe tbody tr th {\n",
       "        vertical-align: top;\n",
       "    }\n",
       "\n",
       "    .dataframe thead th {\n",
       "        text-align: right;\n",
       "    }\n",
       "</style>\n",
       "<table border=\"1\" class=\"dataframe\">\n",
       "  <thead>\n",
       "    <tr style=\"text-align: right;\">\n",
       "      <th></th>\n",
       "      <th>Unnamed: 0</th>\n",
       "      <th>playlist_id</th>\n",
       "      <th>track_uri</th>\n",
       "      <th>track_name</th>\n",
       "      <th>artist_name</th>\n",
       "      <th>artist_uri</th>\n",
       "    </tr>\n",
       "    <tr>\n",
       "      <th>index</th>\n",
       "      <th></th>\n",
       "      <th></th>\n",
       "      <th></th>\n",
       "      <th></th>\n",
       "      <th></th>\n",
       "      <th></th>\n",
       "    </tr>\n",
       "  </thead>\n",
       "  <tbody>\n",
       "    <tr>\n",
       "      <th>0</th>\n",
       "      <td>0</td>\n",
       "      <td>1</td>\n",
       "      <td>spotify:track:2d7LPtieXdIYzf7yHPooWd</td>\n",
       "      <td>Chasing Cars</td>\n",
       "      <td>spotify:artist:0MeLMJJcouYXCymQSHPn8g</td>\n",
       "      <td>Sleeping At Last</td>\n",
       "    </tr>\n",
       "    <tr>\n",
       "      <th>1</th>\n",
       "      <td>1</td>\n",
       "      <td>1</td>\n",
       "      <td>spotify:track:0y4TKcc7p2H6P0GJlt01EI</td>\n",
       "      <td>Elephants</td>\n",
       "      <td>spotify:artist:7w0qj2HiAPIeUcoPogvOZ6</td>\n",
       "      <td>Rachael Yamagata</td>\n",
       "    </tr>\n",
       "    <tr>\n",
       "      <th>2</th>\n",
       "      <td>2</td>\n",
       "      <td>1</td>\n",
       "      <td>spotify:track:6q4c1vPRZREh7nw3wG7Ixz</td>\n",
       "      <td>That Home</td>\n",
       "      <td>spotify:artist:32ogthv0BdaSMPml02X9YB</td>\n",
       "      <td>The Cinematic Orchestra</td>\n",
       "    </tr>\n",
       "    <tr>\n",
       "      <th>3</th>\n",
       "      <td>3</td>\n",
       "      <td>1</td>\n",
       "      <td>spotify:track:54KFQB6N4pn926IUUYZGzK</td>\n",
       "      <td>To Build A Home</td>\n",
       "      <td>spotify:artist:32ogthv0BdaSMPml02X9YB</td>\n",
       "      <td>The Cinematic Orchestra</td>\n",
       "    </tr>\n",
       "    <tr>\n",
       "      <th>4</th>\n",
       "      <td>4</td>\n",
       "      <td>1</td>\n",
       "      <td>spotify:track:0NeJjNlprGfZpeX2LQuN6c</td>\n",
       "      <td>River</td>\n",
       "      <td>spotify:artist:3qnGvpP8Yth1AqSBMqON5x</td>\n",
       "      <td>Leon Bridges</td>\n",
       "    </tr>\n",
       "  </tbody>\n",
       "</table>\n",
       "</div>"
      ],
      "text/plain": [
       "       Unnamed: 0  playlist_id                             track_uri  \\\n",
       "index                                                                  \n",
       "0               0            1  spotify:track:2d7LPtieXdIYzf7yHPooWd   \n",
       "1               1            1  spotify:track:0y4TKcc7p2H6P0GJlt01EI   \n",
       "2               2            1  spotify:track:6q4c1vPRZREh7nw3wG7Ixz   \n",
       "3               3            1  spotify:track:54KFQB6N4pn926IUUYZGzK   \n",
       "4               4            1  spotify:track:0NeJjNlprGfZpeX2LQuN6c   \n",
       "\n",
       "            track_name                            artist_name  \\\n",
       "index                                                           \n",
       "0         Chasing Cars  spotify:artist:0MeLMJJcouYXCymQSHPn8g   \n",
       "1            Elephants  spotify:artist:7w0qj2HiAPIeUcoPogvOZ6   \n",
       "2            That Home  spotify:artist:32ogthv0BdaSMPml02X9YB   \n",
       "3      To Build A Home  spotify:artist:32ogthv0BdaSMPml02X9YB   \n",
       "4                River  spotify:artist:3qnGvpP8Yth1AqSBMqON5x   \n",
       "\n",
       "                    artist_uri  \n",
       "index                           \n",
       "0             Sleeping At Last  \n",
       "1             Rachael Yamagata  \n",
       "2      The Cinematic Orchestra  \n",
       "3      The Cinematic Orchestra  \n",
       "4                 Leon Bridges  "
      ]
     },
     "execution_count": 428,
     "metadata": {},
     "output_type": "execute_result"
    }
   ],
   "source": [
    "df_playlists_train.head()"
   ]
  },
  {
   "cell_type": "code",
   "execution_count": 429,
   "metadata": {},
   "outputs": [
    {
     "name": "stdout",
     "output_type": "stream",
     "text": [
      "Number of training playlists: 989001\n"
     ]
    }
   ],
   "source": [
    "print('Number of training playlists:', len(df_playlists_train['playlist_id'].unique()))"
   ]
  },
  {
   "cell_type": "markdown",
   "metadata": {},
   "source": [
    "## Build & Train a Model"
   ]
  },
  {
   "cell_type": "code",
   "execution_count": 430,
   "metadata": {},
   "outputs": [
    {
     "name": "stdout",
     "output_type": "stream",
     "text": [
      "Initializing CollaborativeFilteringKNN...\n"
     ]
    }
   ],
   "source": [
    "model = CollaborativeFilteringKNN(train_data=df_playlists_train, init_model=False)"
   ]
  },
  {
   "cell_type": "code",
   "execution_count": 431,
   "metadata": {},
   "outputs": [
    {
     "name": "stdout",
     "output_type": "stream",
     "text": [
      "Building matrix...\n"
     ]
    }
   ],
   "source": [
    "model.build_matrix()"
   ]
  },
  {
   "cell_type": "code",
   "execution_count": 432,
   "metadata": {},
   "outputs": [
    {
     "name": "stdout",
     "output_type": "stream",
     "text": [
      "Building kNN model...\n"
     ]
    }
   ],
   "source": [
    "model.build_model()"
   ]
  },
  {
   "cell_type": "code",
   "execution_count": 433,
   "metadata": {},
   "outputs": [
    {
     "data": {
      "text/plain": [
       "NearestNeighbors(algorithm='auto', leaf_size=30, metric='cosine',\n",
       "                 metric_params=None, n_jobs=None, n_neighbors=5, p=2,\n",
       "                 radius=1.0)"
      ]
     },
     "execution_count": 433,
     "metadata": {},
     "output_type": "execute_result"
    }
   ],
   "source": [
    "model.model"
   ]
  },
  {
   "cell_type": "markdown",
   "metadata": {},
   "source": [
    "## Test Data"
   ]
  },
  {
   "cell_type": "markdown",
   "metadata": {},
   "source": [
    "The test data consists of the remaining playlists from the complete Spotify data set not included in the training data. It is split into 2 pieces: portions of each test playlist that we will feed the model in order to predict tracks, and the other portions of each test playlist that we will use benchmark these predictions."
   ]
  },
  {
   "cell_type": "code",
   "execution_count": 434,
   "metadata": {},
   "outputs": [],
   "source": [
    "df_playlists_test_given = pd.read_csv('../data/df_playlists_test_given.csv', index_col='index')\n",
    "df_playlists_test_withheld = pd.read_csv('../data/df_playlists_test_withheld.csv', index_col='index')"
   ]
  },
  {
   "cell_type": "code",
   "execution_count": 435,
   "metadata": {},
   "outputs": [
    {
     "data": {
      "text/html": [
       "<div>\n",
       "<style scoped>\n",
       "    .dataframe tbody tr th:only-of-type {\n",
       "        vertical-align: middle;\n",
       "    }\n",
       "\n",
       "    .dataframe tbody tr th {\n",
       "        vertical-align: top;\n",
       "    }\n",
       "\n",
       "    .dataframe thead th {\n",
       "        text-align: right;\n",
       "    }\n",
       "</style>\n",
       "<table border=\"1\" class=\"dataframe\">\n",
       "  <thead>\n",
       "    <tr style=\"text-align: right;\">\n",
       "      <th></th>\n",
       "      <th>playlist_id</th>\n",
       "      <th>track_uri</th>\n",
       "      <th>track_name</th>\n",
       "      <th>artist_name</th>\n",
       "      <th>artist_uri</th>\n",
       "    </tr>\n",
       "    <tr>\n",
       "      <th>index</th>\n",
       "      <th></th>\n",
       "      <th></th>\n",
       "      <th></th>\n",
       "      <th></th>\n",
       "      <th></th>\n",
       "    </tr>\n",
       "  </thead>\n",
       "  <tbody>\n",
       "    <tr>\n",
       "      <th>23255</th>\n",
       "      <td>358</td>\n",
       "      <td>spotify:track:2xt2piJx6jlFkjS77YiqpL</td>\n",
       "      <td>Like a Stone</td>\n",
       "      <td>spotify:artist:2ziB7fzrXBoh1HUPS6sVFn</td>\n",
       "      <td>Audioslave</td>\n",
       "    </tr>\n",
       "    <tr>\n",
       "      <th>23256</th>\n",
       "      <td>358</td>\n",
       "      <td>spotify:track:21tuvt3CXIsNquc32v8jpc</td>\n",
       "      <td>Show Me How to Live</td>\n",
       "      <td>spotify:artist:2ziB7fzrXBoh1HUPS6sVFn</td>\n",
       "      <td>Audioslave</td>\n",
       "    </tr>\n",
       "    <tr>\n",
       "      <th>23257</th>\n",
       "      <td>358</td>\n",
       "      <td>spotify:track:7w87IxuO7BDcJ3YUqCyMTT</td>\n",
       "      <td>Pumped Up Kicks</td>\n",
       "      <td>spotify:artist:7gP3bB2nilZXLfPHJhMdvc</td>\n",
       "      <td>Foster The People</td>\n",
       "    </tr>\n",
       "    <tr>\n",
       "      <th>23258</th>\n",
       "      <td>358</td>\n",
       "      <td>spotify:track:6b2oQwSGFkzsMtQruIWm2p</td>\n",
       "      <td>Creep</td>\n",
       "      <td>spotify:artist:4Z8W4fKeB5YxbusRsdQVPb</td>\n",
       "      <td>Radiohead</td>\n",
       "    </tr>\n",
       "    <tr>\n",
       "      <th>23259</th>\n",
       "      <td>358</td>\n",
       "      <td>spotify:track:2takcwOaAZWiXQijPHIx7B</td>\n",
       "      <td>Time Is Running Out</td>\n",
       "      <td>spotify:artist:12Chz98pHFMPJEknJQMWvI</td>\n",
       "      <td>Muse</td>\n",
       "    </tr>\n",
       "  </tbody>\n",
       "</table>\n",
       "</div>"
      ],
      "text/plain": [
       "       playlist_id                             track_uri           track_name  \\\n",
       "index                                                                           \n",
       "23255          358  spotify:track:2xt2piJx6jlFkjS77YiqpL         Like a Stone   \n",
       "23256          358  spotify:track:21tuvt3CXIsNquc32v8jpc  Show Me How to Live   \n",
       "23257          358  spotify:track:7w87IxuO7BDcJ3YUqCyMTT      Pumped Up Kicks   \n",
       "23258          358  spotify:track:6b2oQwSGFkzsMtQruIWm2p                Creep   \n",
       "23259          358  spotify:track:2takcwOaAZWiXQijPHIx7B  Time Is Running Out   \n",
       "\n",
       "                                 artist_name         artist_uri  \n",
       "index                                                            \n",
       "23255  spotify:artist:2ziB7fzrXBoh1HUPS6sVFn         Audioslave  \n",
       "23256  spotify:artist:2ziB7fzrXBoh1HUPS6sVFn         Audioslave  \n",
       "23257  spotify:artist:7gP3bB2nilZXLfPHJhMdvc  Foster The People  \n",
       "23258  spotify:artist:4Z8W4fKeB5YxbusRsdQVPb          Radiohead  \n",
       "23259  spotify:artist:12Chz98pHFMPJEknJQMWvI               Muse  "
      ]
     },
     "metadata": {},
     "output_type": "display_data"
    },
    {
     "data": {
      "text/html": [
       "<div>\n",
       "<style scoped>\n",
       "    .dataframe tbody tr th:only-of-type {\n",
       "        vertical-align: middle;\n",
       "    }\n",
       "\n",
       "    .dataframe tbody tr th {\n",
       "        vertical-align: top;\n",
       "    }\n",
       "\n",
       "    .dataframe thead th {\n",
       "        text-align: right;\n",
       "    }\n",
       "</style>\n",
       "<table border=\"1\" class=\"dataframe\">\n",
       "  <thead>\n",
       "    <tr style=\"text-align: right;\">\n",
       "      <th></th>\n",
       "      <th>playlist_id</th>\n",
       "      <th>track_uri</th>\n",
       "      <th>track_name</th>\n",
       "      <th>artist_name</th>\n",
       "      <th>artist_uri</th>\n",
       "    </tr>\n",
       "    <tr>\n",
       "      <th>index</th>\n",
       "      <th></th>\n",
       "      <th></th>\n",
       "      <th></th>\n",
       "      <th></th>\n",
       "      <th></th>\n",
       "    </tr>\n",
       "  </thead>\n",
       "  <tbody>\n",
       "    <tr>\n",
       "      <th>23410</th>\n",
       "      <td>358</td>\n",
       "      <td>spotify:track:4cQIbDqCZrHknxlDUjRHZ0</td>\n",
       "      <td>Supersoaker</td>\n",
       "      <td>spotify:artist:2qk9voo8llSGYcZ6xrBzKx</td>\n",
       "      <td>Kings of Leon</td>\n",
       "    </tr>\n",
       "    <tr>\n",
       "      <th>23409</th>\n",
       "      <td>358</td>\n",
       "      <td>spotify:track:4QQg6DXsx6G3lv3W4A15CZ</td>\n",
       "      <td>Recover</td>\n",
       "      <td>spotify:artist:3CjlHNtplJyTf9npxaPl5w</td>\n",
       "      <td>CHVRCHES</td>\n",
       "    </tr>\n",
       "    <tr>\n",
       "      <th>23290</th>\n",
       "      <td>358</td>\n",
       "      <td>spotify:track:5jafMI8FLibnjkYTZ33m0c</td>\n",
       "      <td>High And Dry</td>\n",
       "      <td>spotify:artist:4Z8W4fKeB5YxbusRsdQVPb</td>\n",
       "      <td>Radiohead</td>\n",
       "    </tr>\n",
       "    <tr>\n",
       "      <th>23265</th>\n",
       "      <td>358</td>\n",
       "      <td>spotify:track:76Je5Wklky23mVoxiRszcN</td>\n",
       "      <td>Walk</td>\n",
       "      <td>spotify:artist:7jy3rLJdDQY21OgRLCZ9sD</td>\n",
       "      <td>Foo Fighters</td>\n",
       "    </tr>\n",
       "    <tr>\n",
       "      <th>23268</th>\n",
       "      <td>358</td>\n",
       "      <td>spotify:track:5OQsiBsky2k2kDKy2bX2eT</td>\n",
       "      <td>Learn to Fly</td>\n",
       "      <td>spotify:artist:7jy3rLJdDQY21OgRLCZ9sD</td>\n",
       "      <td>Foo Fighters</td>\n",
       "    </tr>\n",
       "  </tbody>\n",
       "</table>\n",
       "</div>"
      ],
      "text/plain": [
       "       playlist_id                             track_uri    track_name  \\\n",
       "index                                                                    \n",
       "23410          358  spotify:track:4cQIbDqCZrHknxlDUjRHZ0   Supersoaker   \n",
       "23409          358  spotify:track:4QQg6DXsx6G3lv3W4A15CZ       Recover   \n",
       "23290          358  spotify:track:5jafMI8FLibnjkYTZ33m0c  High And Dry   \n",
       "23265          358  spotify:track:76Je5Wklky23mVoxiRszcN          Walk   \n",
       "23268          358  spotify:track:5OQsiBsky2k2kDKy2bX2eT  Learn to Fly   \n",
       "\n",
       "                                 artist_name     artist_uri  \n",
       "index                                                        \n",
       "23410  spotify:artist:2qk9voo8llSGYcZ6xrBzKx  Kings of Leon  \n",
       "23409  spotify:artist:3CjlHNtplJyTf9npxaPl5w       CHVRCHES  \n",
       "23290  spotify:artist:4Z8W4fKeB5YxbusRsdQVPb      Radiohead  \n",
       "23265  spotify:artist:7jy3rLJdDQY21OgRLCZ9sD   Foo Fighters  \n",
       "23268  spotify:artist:7jy3rLJdDQY21OgRLCZ9sD   Foo Fighters  "
      ]
     },
     "metadata": {},
     "output_type": "display_data"
    }
   ],
   "source": [
    "display(df_playlists_test_given.head())\n",
    "display(df_playlists_test_withheld.head())"
   ]
  },
  {
   "cell_type": "code",
   "execution_count": 436,
   "metadata": {},
   "outputs": [
    {
     "name": "stdout",
     "output_type": "stream",
     "text": [
      "Number of test playlists: 10000\n"
     ]
    }
   ],
   "source": [
    "print('Number of test playlists:', len(df_playlists_test_given['playlist_id'].unique()))"
   ]
  },
  {
   "cell_type": "markdown",
   "metadata": {},
   "source": [
    "## Make Predictions"
   ]
  },
  {
   "cell_type": "markdown",
   "metadata": {},
   "source": [
    "There are a couple of dimensions to play with to build predictions for the test set:\n",
    "- Number of neighbors considered\n",
    "- Number of recommendations to make\n",
    "- Strategy for recommendations (closest playlists vs frequency of songs among neighbors)\n",
    "\n",
    "We use the Spotify Recsys-inspired convention of making (up to) 500 recommendations per test playlist. From there, we explore the implications of varied k-values for neighbors for each strategy. \n",
    "\n",
    "We test accuracy against 100 randomly selected test playlists for performance/speed considerations."
   ]
  },
  {
   "cell_type": "code",
   "execution_count": 464,
   "metadata": {},
   "outputs": [],
   "source": [
    "N_TEST_PLAYLISTS = 100\n",
    "K_VALS = [ 1, 5, 10, 20, 30, 40, 50, 75, 100 ]"
   ]
  },
  {
   "cell_type": "code",
   "execution_count": 459,
   "metadata": {},
   "outputs": [],
   "source": [
    "test_playlist_ids = np.random.choice(df_playlists_test_given['playlist_id'].unique(), N_TEST_PLAYLISTS, replace=False)\n",
    "\n",
    "test_df_given = df_playlists_test_given[df_playlists_test_given['playlist_id'].isin(test_playlist_ids)]\n",
    "test_df_withheld = df_playlists_test_withheld[df_playlists_test_withheld['playlist_id'].isin(test_playlist_ids)]"
   ]
  },
  {
   "cell_type": "code",
   "execution_count": 462,
   "metadata": {},
   "outputs": [
    {
     "name": "stdout",
     "output_type": "stream",
     "text": [
      "100\n",
      "100\n"
     ]
    },
    {
     "data": {
      "text/html": [
       "<div>\n",
       "<style scoped>\n",
       "    .dataframe tbody tr th:only-of-type {\n",
       "        vertical-align: middle;\n",
       "    }\n",
       "\n",
       "    .dataframe tbody tr th {\n",
       "        vertical-align: top;\n",
       "    }\n",
       "\n",
       "    .dataframe thead th {\n",
       "        text-align: right;\n",
       "    }\n",
       "</style>\n",
       "<table border=\"1\" class=\"dataframe\">\n",
       "  <thead>\n",
       "    <tr style=\"text-align: right;\">\n",
       "      <th></th>\n",
       "      <th>playlist_id</th>\n",
       "      <th>track_uri</th>\n",
       "      <th>track_name</th>\n",
       "      <th>artist_name</th>\n",
       "      <th>artist_uri</th>\n",
       "    </tr>\n",
       "    <tr>\n",
       "      <th>index</th>\n",
       "      <th></th>\n",
       "      <th></th>\n",
       "      <th></th>\n",
       "      <th></th>\n",
       "      <th></th>\n",
       "    </tr>\n",
       "  </thead>\n",
       "  <tbody>\n",
       "    <tr>\n",
       "      <th>143276</th>\n",
       "      <td>2188</td>\n",
       "      <td>spotify:track:5f4Y1zAYIinYJV5TlZgKLt</td>\n",
       "      <td>Hot As You Want</td>\n",
       "      <td>spotify:artist:27gtK7m9vYwCyJ04zz0kIb</td>\n",
       "      <td>Lane 8</td>\n",
       "    </tr>\n",
       "    <tr>\n",
       "      <th>143278</th>\n",
       "      <td>2188</td>\n",
       "      <td>spotify:track:7lfrMwa8FtTtI7uub3w03Q</td>\n",
       "      <td>Poolside</td>\n",
       "      <td>spotify:artist:28yVvEvA2lT3K5RNIhV1Dj</td>\n",
       "      <td>BAYNK</td>\n",
       "    </tr>\n",
       "    <tr>\n",
       "      <th>143279</th>\n",
       "      <td>2188</td>\n",
       "      <td>spotify:track:6yMxfx9wpiuhhdb8vHDVMu</td>\n",
       "      <td>Whatever You Need (feat. Chris Brown &amp; Ty Doll...</td>\n",
       "      <td>spotify:artist:20sxb77xiYeusSH8cVdatc</td>\n",
       "      <td>Meek Mill</td>\n",
       "    </tr>\n",
       "    <tr>\n",
       "      <th>143280</th>\n",
       "      <td>2188</td>\n",
       "      <td>spotify:track:67SdUpnALp42jMq0mATVYV</td>\n",
       "      <td>Dust</td>\n",
       "      <td>spotify:artist:14DGJVYmuwwsdHmW8a02eM</td>\n",
       "      <td>Antony &amp; Cleopatra</td>\n",
       "    </tr>\n",
       "    <tr>\n",
       "      <th>143281</th>\n",
       "      <td>2188</td>\n",
       "      <td>spotify:track:31mgN2XJGaP0Y0BtJquRQY</td>\n",
       "      <td>Spoonful</td>\n",
       "      <td>spotify:artist:7mZgBMpvaBziYQfc9TbJH5</td>\n",
       "      <td>Benjamin Booker</td>\n",
       "    </tr>\n",
       "  </tbody>\n",
       "</table>\n",
       "</div>"
      ],
      "text/plain": [
       "        playlist_id                             track_uri  \\\n",
       "index                                                       \n",
       "143276         2188  spotify:track:5f4Y1zAYIinYJV5TlZgKLt   \n",
       "143278         2188  spotify:track:7lfrMwa8FtTtI7uub3w03Q   \n",
       "143279         2188  spotify:track:6yMxfx9wpiuhhdb8vHDVMu   \n",
       "143280         2188  spotify:track:67SdUpnALp42jMq0mATVYV   \n",
       "143281         2188  spotify:track:31mgN2XJGaP0Y0BtJquRQY   \n",
       "\n",
       "                                               track_name  \\\n",
       "index                                                       \n",
       "143276                                    Hot As You Want   \n",
       "143278                                           Poolside   \n",
       "143279  Whatever You Need (feat. Chris Brown & Ty Doll...   \n",
       "143280                                               Dust   \n",
       "143281                                           Spoonful   \n",
       "\n",
       "                                  artist_name          artist_uri  \n",
       "index                                                              \n",
       "143276  spotify:artist:27gtK7m9vYwCyJ04zz0kIb              Lane 8  \n",
       "143278  spotify:artist:28yVvEvA2lT3K5RNIhV1Dj               BAYNK  \n",
       "143279  spotify:artist:20sxb77xiYeusSH8cVdatc           Meek Mill  \n",
       "143280  spotify:artist:14DGJVYmuwwsdHmW8a02eM  Antony & Cleopatra  \n",
       "143281  spotify:artist:7mZgBMpvaBziYQfc9TbJH5     Benjamin Booker  "
      ]
     },
     "metadata": {},
     "output_type": "display_data"
    },
    {
     "data": {
      "text/html": [
       "<div>\n",
       "<style scoped>\n",
       "    .dataframe tbody tr th:only-of-type {\n",
       "        vertical-align: middle;\n",
       "    }\n",
       "\n",
       "    .dataframe tbody tr th {\n",
       "        vertical-align: top;\n",
       "    }\n",
       "\n",
       "    .dataframe thead th {\n",
       "        text-align: right;\n",
       "    }\n",
       "</style>\n",
       "<table border=\"1\" class=\"dataframe\">\n",
       "  <thead>\n",
       "    <tr style=\"text-align: right;\">\n",
       "      <th></th>\n",
       "      <th>playlist_id</th>\n",
       "      <th>track_uri</th>\n",
       "      <th>track_name</th>\n",
       "      <th>artist_name</th>\n",
       "      <th>artist_uri</th>\n",
       "    </tr>\n",
       "    <tr>\n",
       "      <th>index</th>\n",
       "      <th></th>\n",
       "      <th></th>\n",
       "      <th></th>\n",
       "      <th></th>\n",
       "      <th></th>\n",
       "    </tr>\n",
       "  </thead>\n",
       "  <tbody>\n",
       "    <tr>\n",
       "      <th>143276</th>\n",
       "      <td>2188</td>\n",
       "      <td>spotify:track:5f4Y1zAYIinYJV5TlZgKLt</td>\n",
       "      <td>Hot As You Want</td>\n",
       "      <td>spotify:artist:27gtK7m9vYwCyJ04zz0kIb</td>\n",
       "      <td>Lane 8</td>\n",
       "    </tr>\n",
       "    <tr>\n",
       "      <th>143278</th>\n",
       "      <td>2188</td>\n",
       "      <td>spotify:track:7lfrMwa8FtTtI7uub3w03Q</td>\n",
       "      <td>Poolside</td>\n",
       "      <td>spotify:artist:28yVvEvA2lT3K5RNIhV1Dj</td>\n",
       "      <td>BAYNK</td>\n",
       "    </tr>\n",
       "    <tr>\n",
       "      <th>143279</th>\n",
       "      <td>2188</td>\n",
       "      <td>spotify:track:6yMxfx9wpiuhhdb8vHDVMu</td>\n",
       "      <td>Whatever You Need (feat. Chris Brown &amp; Ty Doll...</td>\n",
       "      <td>spotify:artist:20sxb77xiYeusSH8cVdatc</td>\n",
       "      <td>Meek Mill</td>\n",
       "    </tr>\n",
       "    <tr>\n",
       "      <th>143280</th>\n",
       "      <td>2188</td>\n",
       "      <td>spotify:track:67SdUpnALp42jMq0mATVYV</td>\n",
       "      <td>Dust</td>\n",
       "      <td>spotify:artist:14DGJVYmuwwsdHmW8a02eM</td>\n",
       "      <td>Antony &amp; Cleopatra</td>\n",
       "    </tr>\n",
       "    <tr>\n",
       "      <th>143281</th>\n",
       "      <td>2188</td>\n",
       "      <td>spotify:track:31mgN2XJGaP0Y0BtJquRQY</td>\n",
       "      <td>Spoonful</td>\n",
       "      <td>spotify:artist:7mZgBMpvaBziYQfc9TbJH5</td>\n",
       "      <td>Benjamin Booker</td>\n",
       "    </tr>\n",
       "  </tbody>\n",
       "</table>\n",
       "</div>"
      ],
      "text/plain": [
       "        playlist_id                             track_uri  \\\n",
       "index                                                       \n",
       "143276         2188  spotify:track:5f4Y1zAYIinYJV5TlZgKLt   \n",
       "143278         2188  spotify:track:7lfrMwa8FtTtI7uub3w03Q   \n",
       "143279         2188  spotify:track:6yMxfx9wpiuhhdb8vHDVMu   \n",
       "143280         2188  spotify:track:67SdUpnALp42jMq0mATVYV   \n",
       "143281         2188  spotify:track:31mgN2XJGaP0Y0BtJquRQY   \n",
       "\n",
       "                                               track_name  \\\n",
       "index                                                       \n",
       "143276                                    Hot As You Want   \n",
       "143278                                           Poolside   \n",
       "143279  Whatever You Need (feat. Chris Brown & Ty Doll...   \n",
       "143280                                               Dust   \n",
       "143281                                           Spoonful   \n",
       "\n",
       "                                  artist_name          artist_uri  \n",
       "index                                                              \n",
       "143276  spotify:artist:27gtK7m9vYwCyJ04zz0kIb              Lane 8  \n",
       "143278  spotify:artist:28yVvEvA2lT3K5RNIhV1Dj               BAYNK  \n",
       "143279  spotify:artist:20sxb77xiYeusSH8cVdatc           Meek Mill  \n",
       "143280  spotify:artist:14DGJVYmuwwsdHmW8a02eM  Antony & Cleopatra  \n",
       "143281  spotify:artist:7mZgBMpvaBziYQfc9TbJH5     Benjamin Booker  "
      ]
     },
     "metadata": {},
     "output_type": "display_data"
    }
   ],
   "source": [
    "print(len(test_df_given['playlist_id'].unique()))\n",
    "print(len(test_df_withheld['playlist_id'].unique()))\n",
    "\n",
    "display(test_df_given.head())\n",
    "display(test_df_withheld.head())"
   ]
  },
  {
   "cell_type": "markdown",
   "metadata": {},
   "source": [
    "#### Closest Playlist Approach"
   ]
  },
  {
   "cell_type": "markdown",
   "metadata": {},
   "source": [
    "This somewhat \"naive\" approach simply pulls songs from the closest neighboring playlist(s)."
   ]
  },
  {
   "cell_type": "code",
   "execution_count": 465,
   "metadata": {},
   "outputs": [
    {
     "name": "stdout",
     "output_type": "stream",
     "text": [
      "Progress: 99 / 100\n"
     ]
    }
   ],
   "source": [
    "closest_accs = {}\n",
    "for k in K_VALS:\n",
    "    preds = model.predict(test_df_given, num_recos=500, strategy='closest_playlists', n_neighbors=k)\n",
    "    closest_accs[k] = model.r_precision(test_df_withheld, preds)"
   ]
  },
  {
   "cell_type": "code",
   "execution_count": 466,
   "metadata": {},
   "outputs": [
    {
     "data": {
      "text/plain": [
       "{1: 0.16400000000000003,\n",
       " 5: 0.325,\n",
       " 10: 0.38300000000000006,\n",
       " 20: 0.408,\n",
       " 30: 0.4159999999999999,\n",
       " 40: 0.419,\n",
       " 50: 0.42100000000000004,\n",
       " 75: 0.42100000000000004,\n",
       " 100: 0.42100000000000004}"
      ]
     },
     "execution_count": 466,
     "metadata": {},
     "output_type": "execute_result"
    }
   ],
   "source": [
    "closest_accs"
   ]
  },
  {
   "cell_type": "markdown",
   "metadata": {},
   "source": [
    "#### Frequent Appearences Approach"
   ]
  },
  {
   "cell_type": "markdown",
   "metadata": {},
   "source": [
    "This approach tallies up the number of times tracks appear among 'k' neighbor playlists and recommends the most frequent songs."
   ]
  },
  {
   "cell_type": "code",
   "execution_count": 467,
   "metadata": {},
   "outputs": [
    {
     "name": "stdout",
     "output_type": "stream",
     "text": [
      "Progress: 99 / 100\n"
     ]
    }
   ],
   "source": [
    "frequency_accs = {}\n",
    "for k in K_VALS:\n",
    "    preds = model.predict(test_df_given, num_recos=500, strategy='frequency', n_neighbors=k)\n",
    "    frequency_accs[k] = model.r_precision(test_df_withheld, preds)"
   ]
  },
  {
   "cell_type": "code",
   "execution_count": 468,
   "metadata": {},
   "outputs": [
    {
     "data": {
      "text/plain": [
       "{1: 0.16400000000000003,\n",
       " 5: 0.326,\n",
       " 10: 0.39799999999999996,\n",
       " 20: 0.44599999999999995,\n",
       " 30: 0.47499999999999987,\n",
       " 40: 0.49699999999999994,\n",
       " 50: 0.509,\n",
       " 75: 0.52,\n",
       " 100: 0.517}"
      ]
     },
     "execution_count": 468,
     "metadata": {},
     "output_type": "execute_result"
    }
   ],
   "source": [
    "frequency_accs"
   ]
  },
  {
   "cell_type": "markdown",
   "metadata": {},
   "source": [
    "## Assess and Visualize Accuracy"
   ]
  },
  {
   "cell_type": "code",
   "execution_count": 479,
   "metadata": {},
   "outputs": [
    {
     "data": {
      "image/png": "[encoded data removed]",
      "text/plain": [
       "<Figure size 1152x432 with 1 Axes>"
      ]
     },
     "metadata": {
      "needs_background": "light"
     },
     "output_type": "display_data"
    }
   ],
   "source": [
    "fig, ax = plt.subplots(1, 1, figsize=(16, 6))\n",
    "\n",
    "# plot accuracy for each strategy by k\n",
    "ax.plot(np.arange(9), list(closest_accs.values()), label='Closest neighbors')\n",
    "ax.plot(np.arange(9), list(frequency_accs.values()), label='By Frequency')\n",
    "\n",
    "ax.set_title('R-precision by k-value for Spotify Recommendation Strategy')\n",
    "ax.set_ylabel('accuracy')\n",
    "ax.set_xlabel('k')\n",
    "ax.set_ylim(0.0, 0.60)\n",
    "ax.set(xticks=range(9), xticklabels=K_VALS)\n",
    "ax.legend();"
   ]
  },
  {
   "cell_type": "markdown",
   "metadata": {},
   "source": [
    "Accuracy increases with greater value of k up to a point. The closest neighbors approach flattens, presumably as it begins to have enough available playlists to consistently draw 500 recommendations--the method is deterministic in that it will always choose the same songs for the test set once it has enough neighbors to choose from (since it is purely based on playlist proximity). The frequent song approach quickly outperforms the closest neighbors approach, granting R-precision of >50%, and appears optimal around the k=75 range."
   ]
  },
  {
   "cell_type": "markdown",
   "metadata": {},
   "source": [
    "## Conclusion"
   ]
  },
  {
   "cell_type": "markdown",
   "metadata": {},
   "source": [
    "The model is ultimately based on the assumption that users with similar playlists will share preferences, so we can recommend songs from some users' playlist to another user. By building a sparse matrix designating which songs appear in which playlists, we can fit a kNN model to analyze playlist similarity. The questions then become how to tune this initial model to select the appropriate number of similar playlists, and what strategy to use to draw on this pool of neighboring playlists.\n",
    "\n",
    "We see that reasonably large k tends to benefit song recommendation. Even for the 'naive' strategy we need a sufficient number of neighbors to pull enough recommendations, and we see even greater improvent by further analyzing song frequency. It is noteworthy that this implementation takes a fairly long time to run recommendations for large numbers of data sets. SKLearn's kNN model doesn't appear well-suited toward large matrices. That said, even though we used the entire training data set here, earlier testing suggested that we could achieve solid results by training with just a portion of the data. The song recommendation strategies here were also rather slow, but that could likely be improved.\n",
    "\n",
    "One could envision further 'filtering' on the neighboring playlists to boost accuracy. For example, leveraging song features via the Spotify API, popularity, or other metrics could add another dimension to song recommendation. "
   ]
  }
 ],
 "metadata": {
  "kernelspec": {
   "display_name": "Python 3",
   "language": "python",
   "name": "python3"
  },
  "language_info": {
   "codemirror_mode": {
    "name": "ipython",
    "version": 3
   },
   "file_extension": ".py",
   "mimetype": "text/x-python",
   "name": "python",
   "nbconvert_exporter": "python",
   "pygments_lexer": "ipython3",
   "version": "3.7.3"
  }
 },
 "nbformat": 4,
 "nbformat_minor": 2
}
