{
 "cells": [
  {
   "cell_type": "markdown",
   "metadata": {},
   "source": [
    "# Spotify Recommender Model\n",
    "\n",
    "This notebook will explore making recommendations based on the vectorization of songs.  Using Word2Vec, a variety of different recommender model options are explored.  \n",
    "\n",
    "1. **Content-Based**\n",
    "> Predicts based on what a user has listened to in the past.\n",
    "> Uses features of songs to find similar songs.\n",
    "\n",
    "2. **Collaborative**\n",
    "> Predicts based on what other listeners like\n",
    "> Focuses on what songs other users liked who also liked a chosen song. \n",
    "\n",
    "2 collaborative-based approaches are presented in this notebook as well as 2 content-based models.\n",
    "\n",
    "## Word2Vec\n",
    "Word2Vec is a library that will create a vector space.  As its name implies, Word2Vec was originally intended to convert Words to Vectors.  Here, we will use that intended functionality to convert Songs to Vectors.  \n",
    "\n",
    "### Embeddings\n",
    "Word2Vec is a process that uses vectorized words to predict other words.  It does this by ingesting a series of documents, parsing out the words, vectorizing the words and then using the vector representations to predict other words.  The vectors are built in such a way that each word has a unique vector that is based on its usage in the documents.  The result is a vector space filled with words where related words have vectors that are similar.  This vector space is referred to an an **embedding**.  This embedding is used in two common word prediction tasks: `Skip-Gram` and `Continuous Bag of Words`.\n",
    "\n",
    "> **Skip-Gram** <br>\n",
    "> The Skip-Gram model attempt to find words that surround a given word or set of words.\n",
    "\n",
    "> **Bag-of-Words** <br>\n",
    "> The bag-of-words model asks for a series of words and will return words that appear to be missing from the provided context.\n",
    "\n",
    "<a name='metrics'></a>\n",
    "### Metrics\n",
    "<a href=#r-prec>R-precision</a> and <a href=#ndgc>Normialzed Discounted Cumulative Gain (NDGC)</a> are used as metrics.  Methods are included below that calculate these metrics.  In order to test a model, 100 playlists are passed through each metric and a mean of the results is returned.\n",
    "\n",
    "\n",
    "### Making a Playlist\n",
    "What does this have to do with playlists?  Good question.  If we can consider a Song as a Word and a Playlist as a document, the applicability is more evident.\n",
    "\n",
    "To make a playlist, we simply convert Songs to Vectors and then find new songs by finding other songs with similar vectors.  To schieve this, we can use the Bag-of-Words or Skip-Gram approach as mentioned above.  \n",
    "\n",
    "Various approaches using these concepts are explored below:\n",
    "\n",
    "<a name='index'></a>\n",
    "### <a href=#1>1. Embeddings from Playlists - Content-Based</a>\n",
    "> Here, we will take data from Spotify that included 1M playlists and the songs in each playlist.  We'll use the Word2Vec process supplying playlists as documents and each song's unique id is used as the word. <br><br>\n",
    "Word2Vec will create an embedding of song vectors that can subsequently be used to create a Skip-Gram or Bag-of_words model; however, in this first approach, we will simply use the embeddings to find a playlist. <br><br>This approach is unsupervised.  No process is used to 'guide' the model into determining if it's output is correct or not.\n",
    "\n",
    "### <a href=#2>2. Bag-of-Words Model - Collaborative</a>\n",
    "> In this approach, we will use the embedding used above to train a Bag-of-Words model to create a recommended playlist.  Unlike the first approach, this model is supervised and requires a training process.\n",
    "\n",
    "\n",
    "### <a href=#3>3. Skip-Gram Model - Collaborative</a>\n",
    "> Using the same embedding as before, we will train a Skip-Gram model to create recommendations.  Like the Bag-of_words model, Skip-Gram is a supervised model and will require a training process.\n",
    "\n",
    "\n",
    "### <a href=#4>4. Song Features Embedding - 'Home-Made Vectors' - Content-Based</a>\n",
    "> Here, we can take a break from Word2Vec and get very basic.  We create our own vectors based on Spotify accoustive feature data.  We have a series of fields available for all of our songs that numerically represent various characteristics of the songs; dancebaility, loudness, temp, key, energy, etc.  We can create vectors for each song based on these values and cast them into the Word2Vec format so that we can exploit some of the Word2Vec functionality. <br><br> Like our first model, this approach is unsupervised.  The model will be built without any feedback on whether is is achieving a certain result or not.\n",
    "\n",
    "\n",
    "\n",
    "<br>\n",
    "\n",
    "**References:**\n",
    "\n",
    "https://www.analyticsvidhya.com/blog/2019/07/how-to-build-recommendation-system-word2vec-python/\n",
    "\n",
    "https://towardsdatascience.com/using-word2vec-for-music-recommendations-bb9649ac2484\n",
    "\n",
    "https://towardsdatascience.com/how-to-build-a-simple-song-recommender-296fcbc8c85\n",
    "\n"
   ]
  },
  {
   "cell_type": "markdown",
   "metadata": {},
   "source": [
    "### Import libraries"
   ]
  },
  {
   "cell_type": "code",
   "execution_count": 1,
   "metadata": {},
   "outputs": [],
   "source": [
    "# Basic Imports\n",
    "import warnings;\n",
    "warnings.filterwarnings('ignore')\n",
    "\n",
    "import os\n",
    "import sys\n",
    "import pandas as pd\n",
    "import numpy as np\n",
    "import seaborn as sns\n",
    "import time\n",
    "import random\n",
    "import matplotlib.pyplot as plt\n",
    "%matplotlib inline\n",
    "\n",
    "from sklearn.preprocessing import normalize, Normalizer\n",
    "from sklearn.preprocessing import MinMaxScaler\n",
    "from sklearn.preprocessing import StandardScaler\n",
    "\n",
    "from gensim.models import Word2Vec\n",
    "from gensim import utils\n",
    "import gensim.models\n",
    "from gensim.models import KeyedVectors\n",
    "\n",
    "# For the Spotify Dataset\n",
    "from sqlalchemy.ext.declarative import declarative_base\n",
    "from sqlalchemy import Table, Column, Integer, String, Float, MetaData, and_, or_, func\n",
    "from sqlalchemy import create_engine\n",
    "import sqlite3\n",
    "from sqlalchemy.orm import sessionmaker\n",
    "from sqlalchemy import exc\n",
    "\n",
    "from sklearn.model_selection import train_test_split\n",
    "\n",
    "sys.path.append('../../')\n",
    "from spotify_api import get_spotify_data, get_tracks, get_artists, get_audiofeatures\n",
    "from spotify_database import get_session, display_time\n",
    "from spotify_utils import Table_Generator, List_Generator, pickle_load, pickle_save\n",
    "\n",
    "# !pip install ipywidgets \n",
    "# !jupyter nbextension enable --py widgetsnbextension\n",
    "# !jupyter labextension install @jupyter-widgets/jupyterlab-manager\n",
    "\n",
    "# %%capture\n",
    "from tqdm import tqdm_notebook as tqdm"
   ]
  },
  {
   "cell_type": "markdown",
   "metadata": {},
   "source": [
    "\n",
    "## Metrics\n",
    "Before creating any playlists, let's setup some metrics so that we can evaluate our models."
   ]
  },
  {
   "cell_type": "markdown",
   "metadata": {},
   "source": [
    "<a name='r-prec'></a>\n",
    "### R-Precision\n",
    "<a href=#metrics>back to index</a>\n",
    "\n",
    "Compares the a recommended list to a ground truth list.  This metric will simply calculate the percentage of tracks that match a ground truth.\n",
    "\n",
    "We can compare the intersection of tracks and the intersection of artists.\n",
    "\n",
    "let: <br>\n",
    "> $G$ = ground truth (validation playlist) <br>\n",
    "> $R$ = recommendation list<br>\n",
    "\n",
    "> $R-precision = \\frac{|G \\bigcap R_{1:|G|}|}{|G|}$\n"
   ]
  },
  {
   "cell_type": "code",
   "execution_count": 2,
   "metadata": {},
   "outputs": [],
   "source": [
    "def calc_rPrecision(ground_truth, recommendation)->float:\n",
    "    \"\"\"\n",
    "    Calculates r-precision based on a list of ground truth \n",
    "    items and a list of recommended items.\n",
    "    Each argument is a list of items to compare.\n",
    "    \"\"\"\n",
    "    G=set(ground_truth)\n",
    "    R=set(recommendation)\n",
    "    \n",
    "    return len(G&R)/len(G)"
   ]
  },
  {
   "cell_type": "markdown",
   "metadata": {
    "variables": {
     "i": "2"
    }
   },
   "source": [
    "<a name='ndgc'></a>\n",
    "### NDCG - Normalized Discounted Cumulative Gain\n",
    "<a href=#metrics>back to index</a>\n",
    "\n",
    "NDCG will incorporate not only the relevance, but also the order of the items in the recommended playlist.\n",
    "\n",
    "To caluclate, we need the the DCG (discounted cumulative gain)  which measures the ranking quality.  We also need the IDCG (ideal discounted cumulative gain).\n",
    "\n",
    "> $DCG = rel_1 + \\sum^{|R|}_{i=2}\\frac{rel_i}{log_2(i+1)} $ <br>\n",
    "> $IDCG = 1 + \\sum^{|G|}_{i=2}\\frac{1}{log_2(i+1)} $\n",
    "\n",
    "NDGC is calculated as follows: <br>\n",
    "> $NDCG=\\frac{DCG}{IDCG}$\n",
    "\n",
    "Where $rel_{{i}}$ is the graded relevance of the result at position $i$.  Relevance = 1 when the recommended track is in the ground truth playlist."
   ]
  },
  {
   "cell_type": "code",
   "execution_count": 3,
   "metadata": {},
   "outputs": [],
   "source": [
    "def calc_track_NDCG(ground_truth, recommendation)->float:\n",
    "    list_len = len(recommendation)\n",
    "    scores = [(track in recommendation) for track in ground_truth[0:list_len]]\n",
    "    \n",
    "    DCG  = scores[0] + np.sum(scores[1:]/np.log2( np.arange(1,list_len)+1) )\n",
    "    IDCG = 1 + np.sum(1/np.log2( np.arange(1,list_len)+1 ))\n",
    "    NDGC = DCG/IDCG\n",
    "    \n",
    "    return NDGC"
   ]
  },
  {
   "cell_type": "code",
   "execution_count": 4,
   "metadata": {},
   "outputs": [],
   "source": [
    "def calc_track_metrics(ground_truth, recommendation, display=True)-> (float,float):\n",
    "    \"\"\"\n",
    "    Prints relevant metrics give a grount truth playlist and a \n",
    "    recommended playlist.\n",
    "    \"\"\"\n",
    "    r_prec = calc_rPrecision(ground_truth, recommendation)\n",
    "    NDGC = calc_track_NDCG(ground_truth, recommendation)\n",
    "    \n",
    "    if display:\n",
    "        print(\"Track R-Precision: {}\".format(r_prec))\n",
    "        print(\"Track NDGC       : {}\".format(NDGC))\n",
    "    \n",
    "    return r_prec, NDGC"
   ]
  },
  {
   "cell_type": "code",
   "execution_count": 5,
   "metadata": {},
   "outputs": [],
   "source": [
    "def eval_model(model, df_withheld, df_given, display=True, num_test:int=10) -> (float,float):\n",
    "    \"\"\"\n",
    "    Will perform an r_precision and NDCG calculation on a\n",
    "    restricted set of test playlists and return a mean of each score\n",
    "    for all scored playlists.\n",
    "    \"\"\"\n",
    "    r_precs_tracks = []\n",
    "    r_precs_artists = []\n",
    "    NDCGs = []\n",
    "    lengths = []\n",
    "    playlists = np.unique(df_given.playlist_id.values)\n",
    "    playlists = np.random.choice(playlists, size=num_test)\n",
    "    \n",
    "    for plistID in tqdm(playlists, desc=\"calculating metrics\"):\n",
    "        df_seed_tracks = df_given[df_given.playlist_id.isin([plistID])]\n",
    "        seed_uris = df_seed_tracks.track_uri.values\n",
    "        \n",
    "        try:\n",
    "            # for embedding, use the first track as the seed\n",
    "            if type(model) == gensim.models.keyedvectors.Word2VecKeyedVectors:\n",
    "                playlist_rec = np.array(embedding.similar_by_word(seed_uris[0], \n",
    "                                                              topn=10))\n",
    "\n",
    "            elif type(model) == gensim.models.word2vec.Word2Vec:\n",
    "                playlist_rec = np.array(BOW_model.predict_output_word(seed_uris, \n",
    "                                                                      topn=10))\n",
    "\n",
    "            withheld_uris = df_withheld[df_withheld.playlist_id.isin([plistID])].track_uri.values\n",
    "\n",
    "            r_prec_track, NDGC = calc_track_metrics(withheld_uris, \n",
    "                                                    playlist_rec[:,0],\n",
    "                                                    display=False)\n",
    "            \n",
    "            \n",
    "            \n",
    "            # calculate artist r-precision\n",
    "            withheld_artist_uris = np.unique(df_withheld[df_withheld.playlist_id.isin([plistID])].artist_uri.values)\n",
    "\n",
    "            # get artists from playlist tracks\n",
    "            playlist_artists = np.unique(df_playlists_train[df_playlists_train.track_uri.isin(playlist_rec[:,0])]['artist_uri'].values)\n",
    "\n",
    "            r_prec_artist = calc_rPrecision(withheld_artist_uris, playlist_artists)\n",
    "            \n",
    "            r_precs_artists.append(r_prec_artist)\n",
    "            r_precs_tracks.append(r_prec_track)\n",
    "            NDCGs.append(NDGC)\n",
    "            lengths.append(len(df_seed_tracks)+10)\n",
    "            \n",
    "        except:\n",
    "            continue\n",
    "    \n",
    "    if display:\n",
    "        print(\"Mean Artist R-Precision: {}\".format(np.mean(r_precs_artists)))\n",
    "        print(\"Mean Track R-Precision : {}\".format(np.mean(r_precs_tracks)))\n",
    "        print(\"Mean Track NDGC        : {}\".format(np.mean(NDCGs)))\n",
    "        \n",
    "        fig, ax = plt.subplots(ncols=3, figsize=(12,4))\n",
    "        fig.suptitle(\"Embedding Model Metrics\", fontsize=16)\n",
    "        fig.tight_layout(pad=4)\n",
    "\n",
    "        sns.distplot(r_precs_tracks, kde=False, ax=ax[0])\n",
    "        ax[0].set_title(\"R-Precision Track Scores\")\n",
    "        ax[0].set_xlabel(\"Score\")\n",
    "        ax[0].set_ylabel(\"Count\")\n",
    "        ax[0].set_xlim(0,1)\n",
    "        \n",
    "        sns.distplot(r_precs_artists, kde=False, ax=ax[1])\n",
    "        ax[1].set_title(\"R-Precision Artist Scores\")\n",
    "        ax[1].set_xlabel(\"Score\")\n",
    "        ax[1].set_ylabel(\"Count\")\n",
    "        ax[1].set_xlim(0,1)\n",
    "\n",
    "        sns.distplot(NDCGs, kde=False, ax=ax[2])\n",
    "        ax[2].set_title(\"NDGC Scores\")\n",
    "        ax[2].set_xlim(0,1)\n",
    "        fig.show()\n",
    "        \n",
    "    return r_precs_tracks, r_precs_artists, NDCGs\n",
    "        \n",
    "    "
   ]
  },
  {
   "cell_type": "markdown",
   "metadata": {},
   "source": [
    "### Setup a Metrics DataFrame to collect results"
   ]
  },
  {
   "cell_type": "code",
   "execution_count": 142,
   "metadata": {},
   "outputs": [],
   "source": [
    "df_metrics = pd.DataFrame(columns=['Artist_Rprec','Track_Rprec','NDGC'])"
   ]
  },
  {
   "cell_type": "markdown",
   "metadata": {},
   "source": [
    "### Set Data Path Variables"
   ]
  },
  {
   "cell_type": "code",
   "execution_count": 6,
   "metadata": {},
   "outputs": [],
   "source": [
    "data_path = '../../data/SpotifyDataSet'\n",
    "db_path = '../../data/SpotifyDataSet/spotify_songs.db'\n",
    "\n",
    "# Get sesion\n",
    "session = get_session(db_path)\n",
    "engine = create_engine('sqlite:///' + db_path)\n",
    "\n",
    "# Get Songs class\n",
    "Playlists = getattr(get_session, \"Playlists\")\n",
    "Artists = getattr(get_session, \"Artists\")\n",
    "Tracks = getattr(get_session, \"Tracks\")"
   ]
  },
  {
   "cell_type": "code",
   "execution_count": 8,
   "metadata": {},
   "outputs": [],
   "source": [
    "# takes 5 minutes\n",
    "df_playlists_test_withheld = pd.read_csv(os.path.join(data_path, \"df_playlists_test_withheld.csv\"), index_col='index')#.drop('Unnamed: 0', axis=1)\n",
    "df_playlists_test_given    = pd.read_csv(os.path.join(data_path, \"df_playlists_test_given.csv\"), index_col='index')#.drop('Unnamed: 0', axis=1)\n",
    "df_playlists_train         = pd.read_csv(os.path.join(data_path, \"df_playlists_train.csv\"), index_col='index')# .drop('Unnamed: 0', axis=1)\n"
   ]
  },
  {
   "cell_type": "code",
   "execution_count": 11,
   "metadata": {},
   "outputs": [
    {
     "data": {
      "text/html": [
       "<div>\n",
       "<style scoped>\n",
       "    .dataframe tbody tr th:only-of-type {\n",
       "        vertical-align: middle;\n",
       "    }\n",
       "\n",
       "    .dataframe tbody tr th {\n",
       "        vertical-align: top;\n",
       "    }\n",
       "\n",
       "    .dataframe thead th {\n",
       "        text-align: right;\n",
       "    }\n",
       "</style>\n",
       "<table border=\"1\" class=\"dataframe\">\n",
       "  <thead>\n",
       "    <tr style=\"text-align: right;\">\n",
       "      <th></th>\n",
       "      <th>playlist_id</th>\n",
       "      <th>track_uri</th>\n",
       "      <th>track_name</th>\n",
       "      <th>artist_uri</th>\n",
       "      <th>artist_name</th>\n",
       "    </tr>\n",
       "    <tr>\n",
       "      <th>index</th>\n",
       "      <th></th>\n",
       "      <th></th>\n",
       "      <th></th>\n",
       "      <th></th>\n",
       "      <th></th>\n",
       "    </tr>\n",
       "  </thead>\n",
       "  <tbody>\n",
       "    <tr>\n",
       "      <th>0</th>\n",
       "      <td>1</td>\n",
       "      <td>spotify:track:2d7LPtieXdIYzf7yHPooWd</td>\n",
       "      <td>Chasing Cars</td>\n",
       "      <td>spotify:artist:0MeLMJJcouYXCymQSHPn8g</td>\n",
       "      <td>Sleeping At Last</td>\n",
       "    </tr>\n",
       "    <tr>\n",
       "      <th>1</th>\n",
       "      <td>1</td>\n",
       "      <td>spotify:track:0y4TKcc7p2H6P0GJlt01EI</td>\n",
       "      <td>Elephants</td>\n",
       "      <td>spotify:artist:7w0qj2HiAPIeUcoPogvOZ6</td>\n",
       "      <td>Rachael Yamagata</td>\n",
       "    </tr>\n",
       "    <tr>\n",
       "      <th>2</th>\n",
       "      <td>1</td>\n",
       "      <td>spotify:track:6q4c1vPRZREh7nw3wG7Ixz</td>\n",
       "      <td>That Home</td>\n",
       "      <td>spotify:artist:32ogthv0BdaSMPml02X9YB</td>\n",
       "      <td>The Cinematic Orchestra</td>\n",
       "    </tr>\n",
       "    <tr>\n",
       "      <th>3</th>\n",
       "      <td>1</td>\n",
       "      <td>spotify:track:54KFQB6N4pn926IUUYZGzK</td>\n",
       "      <td>To Build A Home</td>\n",
       "      <td>spotify:artist:32ogthv0BdaSMPml02X9YB</td>\n",
       "      <td>The Cinematic Orchestra</td>\n",
       "    </tr>\n",
       "    <tr>\n",
       "      <th>4</th>\n",
       "      <td>1</td>\n",
       "      <td>spotify:track:0NeJjNlprGfZpeX2LQuN6c</td>\n",
       "      <td>River</td>\n",
       "      <td>spotify:artist:3qnGvpP8Yth1AqSBMqON5x</td>\n",
       "      <td>Leon Bridges</td>\n",
       "    </tr>\n",
       "  </tbody>\n",
       "</table>\n",
       "</div>"
      ],
      "text/plain": [
       "       playlist_id                             track_uri       track_name  \\\n",
       "index                                                                       \n",
       "0                1  spotify:track:2d7LPtieXdIYzf7yHPooWd     Chasing Cars   \n",
       "1                1  spotify:track:0y4TKcc7p2H6P0GJlt01EI        Elephants   \n",
       "2                1  spotify:track:6q4c1vPRZREh7nw3wG7Ixz        That Home   \n",
       "3                1  spotify:track:54KFQB6N4pn926IUUYZGzK  To Build A Home   \n",
       "4                1  spotify:track:0NeJjNlprGfZpeX2LQuN6c            River   \n",
       "\n",
       "                                  artist_uri              artist_name  \n",
       "index                                                                  \n",
       "0      spotify:artist:0MeLMJJcouYXCymQSHPn8g         Sleeping At Last  \n",
       "1      spotify:artist:7w0qj2HiAPIeUcoPogvOZ6         Rachael Yamagata  \n",
       "2      spotify:artist:32ogthv0BdaSMPml02X9YB  The Cinematic Orchestra  \n",
       "3      spotify:artist:32ogthv0BdaSMPml02X9YB  The Cinematic Orchestra  \n",
       "4      spotify:artist:3qnGvpP8Yth1AqSBMqON5x             Leon Bridges  "
      ]
     },
     "execution_count": 11,
     "metadata": {},
     "output_type": "execute_result"
    }
   ],
   "source": [
    "df_playlists_train.head()"
   ]
  },
  {
   "cell_type": "markdown",
   "metadata": {},
   "source": [
    "## Review the Given Set of Songs\n",
    "For reference, let's look at the songs that will be used in our models to produce recommendations.  This will help us to determin if the recommendations are reasonable.\n",
    "\n",
    "We will use the `df_playlists_test_given` and `df_playlists_test_withheld` dataframes to test the models.  The `given` dataframe inlcludes 10 tracks from each of 10,000 playlists.  Any playlist of 10 tracks should be used to predict the corresponding `withheld` tracks from each playlist."
   ]
  },
  {
   "cell_type": "code",
   "execution_count": 16,
   "metadata": {},
   "outputs": [
    {
     "data": {
      "text/plain": [
       "array([212727])"
      ]
     },
     "execution_count": 16,
     "metadata": {},
     "output_type": "execute_result"
    }
   ],
   "source": [
    "# pick a random playlist\n",
    "test_playlistIDs = np.unique(df_playlists_test_given.playlist_id.values)\n",
    "test_playlist_ID = np.random.choice(test_playlistIDs, size=1)\n",
    "test_playlist_ID"
   ]
  },
  {
   "cell_type": "code",
   "execution_count": 17,
   "metadata": {},
   "outputs": [],
   "source": [
    "# define 'given' and 'withheld' portions of test set\n",
    "test_given = df_playlists_test_given[df_playlists_test_given.playlist_id.isin(test_playlist_ID)].track_uri.values\n",
    "test_withheld = df_playlists_test_withheld[df_playlists_test_withheld.playlist_id.isin(test_playlist_ID)]"
   ]
  },
  {
   "cell_type": "code",
   "execution_count": 18,
   "metadata": {},
   "outputs": [],
   "source": [
    "def print_recommended_playlist(playlist:np.array, df_withheld:pd.DataFrame=None)->None:\n",
    "    \"\"\"\n",
    "    Print a playlist recommendation. Display to terminal output.\n",
    "    \"\"\"\n",
    "    \n",
    "    if len(playlist)>50:\n",
    "        playlist = playlist[0:50]\n",
    "    \n",
    "    note = \"\"\n",
    "    match = np.zeros(len(playlist))\n",
    "    if df_withheld is not None:\n",
    "        note = \"(* indicates a match)\"\n",
    "        for i, t in enumerate(playlist):\n",
    "            if t in df_withheld.track_uri.values:\n",
    "                match[i] = 1\n",
    "        print (\"{} tracks matches.\".format(np.sum(match).astype(int)))\n",
    "    \n",
    "    sp_playlist = get_tracks(playlist)\n",
    "    print(\"RECOMMENDED PLAYLIST {}\".format(note))\n",
    "    print(\"{:1}{:20}{:30}{:30}\".format(\"\",\"Artist\",\"Track\",\"URI\"))\n",
    "    for i, t in enumerate(sp_playlist):\n",
    "        print(\"{0:1}{1:20}{2:30}{3:30}\".format( \"*\" if match[i] else \"\", t['artists'][0]['name'],  t['name'], t['uri']))\n",
    "        print(\" {}\".format(\"<no preview>\" if t['preview_url']==None else t['preview_url']))\n",
    "        print()"
   ]
  },
  {
   "cell_type": "markdown",
   "metadata": {},
   "source": [
    "<a name='1'></a>\n",
    "## 1. Embeddings from Playlists - Content-Based\n",
    "<a href=#index>back to index</a>\n",
    "\n",
    "\n",
    "The baseline model will use embeddings to find similarities between songs.  The embeddings are built from playlists, where the playlist serves as a sentence made up of songs.\n",
    "\n",
    "Similarities between songs are determined by their cosine distance with other songs.\n",
    "\n",
    "To speed up to building of the enbedding, an extract is made from the database which will serve as documents for the embedding.  Each 'sentence' is a playlist and each 'word' is a song in the playlist.\n",
    "\n",
    "From the DB, the following view is created which is subseqntly extracted as a CSV file:<br>\n",
    "\n",
    "`CREATE VIEW playlist_tracks_uris AS SELECT t.playlist_id, group_concat(t.track_uri, ' ')  FROM playlists t GROUP BY  t.playlist_id;`\n"
   ]
  },
  {
   "cell_type": "code",
   "execution_count": 20,
   "metadata": {},
   "outputs": [
    {
     "data": {
      "text/html": [
       "<div>\n",
       "<style scoped>\n",
       "    .dataframe tbody tr th:only-of-type {\n",
       "        vertical-align: middle;\n",
       "    }\n",
       "\n",
       "    .dataframe tbody tr th {\n",
       "        vertical-align: top;\n",
       "    }\n",
       "\n",
       "    .dataframe thead th {\n",
       "        text-align: right;\n",
       "    }\n",
       "</style>\n",
       "<table border=\"1\" class=\"dataframe\">\n",
       "  <thead>\n",
       "    <tr style=\"text-align: right;\">\n",
       "      <th></th>\n",
       "      <th>tracks</th>\n",
       "    </tr>\n",
       "    <tr>\n",
       "      <th>playlistID</th>\n",
       "      <th></th>\n",
       "    </tr>\n",
       "  </thead>\n",
       "  <tbody>\n",
       "    <tr>\n",
       "      <th>1</th>\n",
       "      <td>spotify:track:2d7LPtieXdIYzf7yHPooWd spotify:t...</td>\n",
       "    </tr>\n",
       "    <tr>\n",
       "      <th>2</th>\n",
       "      <td>spotify:track:5j9iuo3tMmQIfnEEQOOjxh spotify:t...</td>\n",
       "    </tr>\n",
       "    <tr>\n",
       "      <th>3</th>\n",
       "      <td>spotify:track:4HBVGSeSPpSZ1QmMBhEtqp spotify:t...</td>\n",
       "    </tr>\n",
       "    <tr>\n",
       "      <th>4</th>\n",
       "      <td>spotify:track:1f5AW15GV76mk8JNxaPJIx spotify:t...</td>\n",
       "    </tr>\n",
       "    <tr>\n",
       "      <th>5</th>\n",
       "      <td>spotify:track:4Sj3djQIFuaH3VICDN3uAA spotify:t...</td>\n",
       "    </tr>\n",
       "  </tbody>\n",
       "</table>\n",
       "</div>"
      ],
      "text/plain": [
       "                                                       tracks\n",
       "playlistID                                                   \n",
       "1           spotify:track:2d7LPtieXdIYzf7yHPooWd spotify:t...\n",
       "2           spotify:track:5j9iuo3tMmQIfnEEQOOjxh spotify:t...\n",
       "3           spotify:track:4HBVGSeSPpSZ1QmMBhEtqp spotify:t...\n",
       "4           spotify:track:1f5AW15GV76mk8JNxaPJIx spotify:t...\n",
       "5           spotify:track:4Sj3djQIFuaH3VICDN3uAA spotify:t..."
      ]
     },
     "execution_count": 20,
     "metadata": {},
     "output_type": "execute_result"
    }
   ],
   "source": [
    "# get playlists CSV file into DataFrame - take 5 minutes\n",
    "corpus_file = 'playlist_tracks.csv'\n",
    "corpus_filepath = os.path.join(data_path, corpus_file)\n",
    "\n",
    "df_playlists = pd.read_csv(corpus_filepath, sep='\\t', header=None)\n",
    "df_playlists.columns = [\"playlistID\",\"tracks\"]\n",
    "df_playlists.set_index('playlistID', drop=True, inplace=True)\n",
    "df_playlists.head()"
   ]
  },
  {
   "cell_type": "code",
   "execution_count": 21,
   "metadata": {},
   "outputs": [],
   "source": [
    "# remove test playlists from corpus\n",
    "# playlists_train = df_playlists[df_playlists.index.isin(np.unique(df_playlists_train.playlist_id))]\n",
    "playlists_train = df_playlists"
   ]
  },
  {
   "cell_type": "code",
   "execution_count": 22,
   "metadata": {},
   "outputs": [],
   "source": [
    "# Iterator that yields the songs for each playlist in a Dataframe\n",
    "class Playlist_URIs_df(object):\n",
    "    \"\"\"\n",
    "    Playlist generator that yileds the track uris in a playlist.\n",
    "    Yields one playlist at a time.\n",
    "    \"\"\"\n",
    "    def __init__(self,\n",
    "                 dataframe:pd.DataFrame=None,\n",
    "                 name:str=None,\n",
    "                 iters:int=None):\n",
    "        self.dataframe    = dataframe\n",
    "        self.length       = len(dataframe)\n",
    "        self.name         = name\n",
    "        self.count        = 0\n",
    "        self.iters        = iters\n",
    "        print(\"Creating Playlist Track Listing Generator:\")\n",
    "        print(\"\\tlength     : \", self.length)\n",
    "    \n",
    "    def __iter__(self):\n",
    "        \n",
    "        self.count += 1\n",
    "        progbar = tqdm(total=self.length, desc=\"{}:{}/{}\".format(self.name, self.count, self.iters+1))\n",
    "        \n",
    "        for plId, line in self.dataframe.itertuples():\n",
    "            progbar.update(1)\n",
    "            yield line.split(' ') # space-delimited tracks\n",
    "            \n",
    "        progbar.close()    "
   ]
  },
  {
   "cell_type": "code",
   "execution_count": 23,
   "metadata": {},
   "outputs": [
    {
     "name": "stdout",
     "output_type": "stream",
     "text": [
      "Creating Playlist Track Listing Generator:\n",
      "\tlength     :  999001\n"
     ]
    }
   ],
   "source": [
    "iters = 10\n",
    "playlists_gen = Playlist_URIs_df(dataframe=playlists_train,\n",
    "                                 name=\"Building Vectors\",\n",
    "                                 iters=iters) "
   ]
  },
  {
   "cell_type": "markdown",
   "metadata": {},
   "source": [
    "### Build embedding and BOW model"
   ]
  },
  {
   "cell_type": "code",
   "execution_count": 24,
   "metadata": {},
   "outputs": [
    {
     "data": {
      "application/vnd.jupyter.widget-view+json": {
       "model_id": "21adf8ba74134512b65bd9baa334f3e0",
       "version_major": 2,
       "version_minor": 0
      },
      "text/plain": [
       "HBox(children=(IntProgress(value=0, description='Building Vectors:1/11', max=999001, style=ProgressStyle(descr…"
      ]
     },
     "metadata": {},
     "output_type": "display_data"
    },
    {
     "name": "stdout",
     "output_type": "stream",
     "text": [
      "\n"
     ]
    },
    {
     "data": {
      "application/vnd.jupyter.widget-view+json": {
       "model_id": "b241a6c82a8c4f81aa1ca6134338f5e9",
       "version_major": 2,
       "version_minor": 0
      },
      "text/plain": [
       "HBox(children=(IntProgress(value=0, description='Building Vectors:2/11', max=999001, style=ProgressStyle(descr…"
      ]
     },
     "metadata": {},
     "output_type": "display_data"
    },
    {
     "name": "stdout",
     "output_type": "stream",
     "text": [
      "\n"
     ]
    },
    {
     "data": {
      "application/vnd.jupyter.widget-view+json": {
       "model_id": "2d5b224c7ce941c99cba8fe1f78494ec",
       "version_major": 2,
       "version_minor": 0
      },
      "text/plain": [
       "HBox(children=(IntProgress(value=0, description='Building Vectors:3/11', max=999001, style=ProgressStyle(descr…"
      ]
     },
     "metadata": {},
     "output_type": "display_data"
    },
    {
     "name": "stdout",
     "output_type": "stream",
     "text": [
      "\n"
     ]
    },
    {
     "data": {
      "application/vnd.jupyter.widget-view+json": {
       "model_id": "e2af16cdca1648d59841f6965d122a31",
       "version_major": 2,
       "version_minor": 0
      },
      "text/plain": [
       "HBox(children=(IntProgress(value=0, description='Building Vectors:4/11', max=999001, style=ProgressStyle(descr…"
      ]
     },
     "metadata": {},
     "output_type": "display_data"
    },
    {
     "name": "stdout",
     "output_type": "stream",
     "text": [
      "\n"
     ]
    },
    {
     "data": {
      "application/vnd.jupyter.widget-view+json": {
       "model_id": "b94f7ee14b454490b215578cda2985f6",
       "version_major": 2,
       "version_minor": 0
      },
      "text/plain": [
       "HBox(children=(IntProgress(value=0, description='Building Vectors:5/11', max=999001, style=ProgressStyle(descr…"
      ]
     },
     "metadata": {},
     "output_type": "display_data"
    },
    {
     "name": "stdout",
     "output_type": "stream",
     "text": [
      "\n"
     ]
    },
    {
     "data": {
      "application/vnd.jupyter.widget-view+json": {
       "model_id": "8a6a52226b28480fab1a6cafaf97d50d",
       "version_major": 2,
       "version_minor": 0
      },
      "text/plain": [
       "HBox(children=(IntProgress(value=0, description='Building Vectors:6/11', max=999001, style=ProgressStyle(descr…"
      ]
     },
     "metadata": {},
     "output_type": "display_data"
    },
    {
     "name": "stdout",
     "output_type": "stream",
     "text": [
      "\n"
     ]
    },
    {
     "data": {
      "application/vnd.jupyter.widget-view+json": {
       "model_id": "a7b66806b56e494682f89104a64da7a9",
       "version_major": 2,
       "version_minor": 0
      },
      "text/plain": [
       "HBox(children=(IntProgress(value=0, description='Building Vectors:7/11', max=999001, style=ProgressStyle(descr…"
      ]
     },
     "metadata": {},
     "output_type": "display_data"
    },
    {
     "name": "stdout",
     "output_type": "stream",
     "text": [
      "\n"
     ]
    },
    {
     "data": {
      "application/vnd.jupyter.widget-view+json": {
       "model_id": "ba56959db70e40ff85594d2e0a36deb3",
       "version_major": 2,
       "version_minor": 0
      },
      "text/plain": [
       "HBox(children=(IntProgress(value=0, description='Building Vectors:8/11', max=999001, style=ProgressStyle(descr…"
      ]
     },
     "metadata": {},
     "output_type": "display_data"
    },
    {
     "name": "stdout",
     "output_type": "stream",
     "text": [
      "\n"
     ]
    },
    {
     "data": {
      "application/vnd.jupyter.widget-view+json": {
       "model_id": "5d99a42edfdd4528be5c3690845acb42",
       "version_major": 2,
       "version_minor": 0
      },
      "text/plain": [
       "HBox(children=(IntProgress(value=0, description='Building Vectors:9/11', max=999001, style=ProgressStyle(descr…"
      ]
     },
     "metadata": {},
     "output_type": "display_data"
    },
    {
     "name": "stdout",
     "output_type": "stream",
     "text": [
      "\n"
     ]
    },
    {
     "data": {
      "application/vnd.jupyter.widget-view+json": {
       "model_id": "de1f4bf7d19e4bfb9fe2ee8dfcd3f939",
       "version_major": 2,
       "version_minor": 0
      },
      "text/plain": [
       "HBox(children=(IntProgress(value=0, description='Building Vectors:10/11', max=999001, style=ProgressStyle(desc…"
      ]
     },
     "metadata": {},
     "output_type": "display_data"
    },
    {
     "name": "stdout",
     "output_type": "stream",
     "text": [
      "\n"
     ]
    },
    {
     "data": {
      "application/vnd.jupyter.widget-view+json": {
       "model_id": "f76c2b72ac8645c6beed8e7dbfd574dd",
       "version_major": 2,
       "version_minor": 0
      },
      "text/plain": [
       "HBox(children=(IntProgress(value=0, description='Building Vectors:11/11', max=999001, style=ProgressStyle(desc…"
      ]
     },
     "metadata": {},
     "output_type": "display_data"
    },
    {
     "name": "stdout",
     "output_type": "stream",
     "text": [
      "\n"
     ]
    }
   ],
   "source": [
    "# Build a gensim BOW model including a word embedding\n",
    "model_BOW = gensim.models.Word2Vec(sentences=playlists_gen,\n",
    "                               workers = 8,    # number of processors\n",
    "                               sg = 0,         # 1=skip-gram, 0=CBOW\n",
    "                               iter=iters      # training iterations - default=5\n",
    "                              )\n",
    "\n",
    "# save the model\n",
    "model_filepath = os.path.join(data_path, 'playlists_BOW.model')\n",
    "model_BOW.save(model_filepath)\n",
    "\n",
    "# Save the embedding\n",
    "kv_filepath = os.path.join(data_path, 'playlists.embedding')\n",
    "model_BOW.wv.save(kv_filepath)\n",
    "\n",
    "# about 5 minutes per iteration with 4 processors // 2 min per iteration with 8"
   ]
  },
  {
   "cell_type": "markdown",
   "metadata": {},
   "source": [
    "### Build Skip-Gram Model"
   ]
  },
  {
   "cell_type": "code",
   "execution_count": 25,
   "metadata": {},
   "outputs": [
    {
     "data": {
      "application/vnd.jupyter.widget-view+json": {
       "model_id": "8971fa81a45840c1a20c54dfbaaf8941",
       "version_major": 2,
       "version_minor": 0
      },
      "text/plain": [
       "HBox(children=(IntProgress(value=0, description='Building Vectors:12/11', max=999001, style=ProgressStyle(desc…"
      ]
     },
     "metadata": {},
     "output_type": "display_data"
    },
    {
     "name": "stdout",
     "output_type": "stream",
     "text": [
      "\n"
     ]
    },
    {
     "data": {
      "application/vnd.jupyter.widget-view+json": {
       "model_id": "ddf8e216d13741ffab2aa92819766ea0",
       "version_major": 2,
       "version_minor": 0
      },
      "text/plain": [
       "HBox(children=(IntProgress(value=0, description='Building Vectors:13/11', max=999001, style=ProgressStyle(desc…"
      ]
     },
     "metadata": {},
     "output_type": "display_data"
    },
    {
     "name": "stdout",
     "output_type": "stream",
     "text": [
      "\n"
     ]
    },
    {
     "data": {
      "application/vnd.jupyter.widget-view+json": {
       "model_id": "d34181c4bc844e68950b76f7fec2608a",
       "version_major": 2,
       "version_minor": 0
      },
      "text/plain": [
       "HBox(children=(IntProgress(value=0, description='Building Vectors:14/11', max=999001, style=ProgressStyle(desc…"
      ]
     },
     "metadata": {},
     "output_type": "display_data"
    },
    {
     "name": "stdout",
     "output_type": "stream",
     "text": [
      "\n"
     ]
    },
    {
     "data": {
      "application/vnd.jupyter.widget-view+json": {
       "model_id": "2c0d7e2b47c742479f879c47f7108ef8",
       "version_major": 2,
       "version_minor": 0
      },
      "text/plain": [
       "HBox(children=(IntProgress(value=0, description='Building Vectors:15/11', max=999001, style=ProgressStyle(desc…"
      ]
     },
     "metadata": {},
     "output_type": "display_data"
    },
    {
     "name": "stdout",
     "output_type": "stream",
     "text": [
      "\n"
     ]
    },
    {
     "data": {
      "application/vnd.jupyter.widget-view+json": {
       "model_id": "2a75a592e7d04690b5c0ea90dba3acd2",
       "version_major": 2,
       "version_minor": 0
      },
      "text/plain": [
       "HBox(children=(IntProgress(value=0, description='Building Vectors:16/11', max=999001, style=ProgressStyle(desc…"
      ]
     },
     "metadata": {},
     "output_type": "display_data"
    },
    {
     "name": "stdout",
     "output_type": "stream",
     "text": [
      "\n"
     ]
    },
    {
     "data": {
      "application/vnd.jupyter.widget-view+json": {
       "model_id": "06cbbf438a334a9cb1e41d4ba12603bf",
       "version_major": 2,
       "version_minor": 0
      },
      "text/plain": [
       "HBox(children=(IntProgress(value=0, description='Building Vectors:17/11', max=999001, style=ProgressStyle(desc…"
      ]
     },
     "metadata": {},
     "output_type": "display_data"
    },
    {
     "name": "stdout",
     "output_type": "stream",
     "text": [
      "\n"
     ]
    },
    {
     "data": {
      "application/vnd.jupyter.widget-view+json": {
       "model_id": "1fa0251977fb400cbbe82bacf70c0ad0",
       "version_major": 2,
       "version_minor": 0
      },
      "text/plain": [
       "HBox(children=(IntProgress(value=0, description='Building Vectors:18/11', max=999001, style=ProgressStyle(desc…"
      ]
     },
     "metadata": {},
     "output_type": "display_data"
    },
    {
     "name": "stdout",
     "output_type": "stream",
     "text": [
      "\n"
     ]
    },
    {
     "data": {
      "application/vnd.jupyter.widget-view+json": {
       "model_id": "ee157f6fc1c047929ce83e0c772c9dba",
       "version_major": 2,
       "version_minor": 0
      },
      "text/plain": [
       "HBox(children=(IntProgress(value=0, description='Building Vectors:19/11', max=999001, style=ProgressStyle(desc…"
      ]
     },
     "metadata": {},
     "output_type": "display_data"
    },
    {
     "name": "stdout",
     "output_type": "stream",
     "text": [
      "\n"
     ]
    },
    {
     "data": {
      "application/vnd.jupyter.widget-view+json": {
       "model_id": "42e20ca707b146ada73bda5640324eef",
       "version_major": 2,
       "version_minor": 0
      },
      "text/plain": [
       "HBox(children=(IntProgress(value=0, description='Building Vectors:20/11', max=999001, style=ProgressStyle(desc…"
      ]
     },
     "metadata": {},
     "output_type": "display_data"
    },
    {
     "name": "stdout",
     "output_type": "stream",
     "text": [
      "\n"
     ]
    },
    {
     "data": {
      "application/vnd.jupyter.widget-view+json": {
       "model_id": "01d9ab2456124e7c9ca7ea37342fc4e3",
       "version_major": 2,
       "version_minor": 0
      },
      "text/plain": [
       "HBox(children=(IntProgress(value=0, description='Building Vectors:21/11', max=999001, style=ProgressStyle(desc…"
      ]
     },
     "metadata": {},
     "output_type": "display_data"
    },
    {
     "name": "stdout",
     "output_type": "stream",
     "text": [
      "\n"
     ]
    },
    {
     "data": {
      "application/vnd.jupyter.widget-view+json": {
       "model_id": "727fec87e10747b68b727d5beb5f1a70",
       "version_major": 2,
       "version_minor": 0
      },
      "text/plain": [
       "HBox(children=(IntProgress(value=0, description='Building Vectors:22/11', max=999001, style=ProgressStyle(desc…"
      ]
     },
     "metadata": {},
     "output_type": "display_data"
    },
    {
     "name": "stdout",
     "output_type": "stream",
     "text": [
      "\n"
     ]
    }
   ],
   "source": [
    "# Build a gensim Skip-Gram model including a word embedding\n",
    "model_SG = gensim.models.Word2Vec(sentences=playlists_gen,\n",
    "                               workers = 8,    # number of processors\n",
    "                               sg = 1,         # 1=skip-gram, 0=CBOW\n",
    "                               iter=iters      # training iterations - default=5\n",
    "                              )\n",
    "\n",
    "# save the model\n",
    "model_filepath = os.path.join(data_path, 'playlists_SG.model')\n",
    "model_SG.save(model_filepath)\n",
    "\n",
    "# NOTE: No need to save the embedding again, it is the same as in the BOW model\n",
    "\n",
    "# about 5 minutes per iteration with 4 processors // 2 min per iteration with 8"
   ]
  },
  {
   "cell_type": "markdown",
   "metadata": {},
   "source": [
    "### Model Attributes\n",
    "Now, we have created an embedding and an associated model which follows the BOW approach.\n",
    "\n",
    "#### wv\n",
    "> This object essentially contains the mapping between words and embeddings. It can be used directly to query the embeddings in various ways. \n",
    "\n",
    "#### vocabulary\n",
    "> This object represents the vocabulary (sometimes called Dictionary in gensim) of the model. "
   ]
  },
  {
   "cell_type": "markdown",
   "metadata": {},
   "source": [
    "### Review the Embedding\n",
    "Get 10 'words' from the embedding's vocabulary."
   ]
  },
  {
   "cell_type": "code",
   "execution_count": 26,
   "metadata": {},
   "outputs": [],
   "source": [
    "# reload saved embedding\n",
    "kv_filepath = os.path.join(data_path, 'playlists.embedding')\n",
    "embedding = KeyedVectors.load(kv_filepath, mmap='r')"
   ]
  },
  {
   "cell_type": "code",
   "execution_count": 27,
   "metadata": {},
   "outputs": [
    {
     "name": "stdout",
     "output_type": "stream",
     "text": [
      "Track: spotify:track:2ycJjUMO1mp7BJI9Bl3J2F\n",
      "\t Vocab(count:8, index:422147, sample_int:4294967296)\n",
      "Track: spotify:track:4GIQe408U8mBhB6JNbUpT1\n",
      "\t Vocab(count:17, index:253858, sample_int:4294967296)\n",
      "Track: spotify:track:2n8DBaQEaiz8ZGAIbLFfUC\n",
      "\t Vocab(count:17, index:254511, sample_int:4294967296)\n",
      "Track: spotify:track:4FKvX77CY4m1zmnXfWwim4\n",
      "\t Vocab(count:19, index:238170, sample_int:4294967296)\n",
      "Track: spotify:track:00Xh1x0z7pBEhCYV4eBXtk\n",
      "\t Vocab(count:6, index:512641, sample_int:4294967296)\n",
      "Track: spotify:track:2tzsMo4ijrhKFBWj08t2Bl\n",
      "\t Vocab(count:10, index:350726, sample_int:4294967296)\n",
      "Track: spotify:track:5UMdYIucKxJpbCkZV5KMBE\n",
      "\t Vocab(count:12, index:312184, sample_int:4294967296)\n",
      "Track: spotify:track:1cj5EJd9RVnGlgeZl4VzA0\n",
      "\t Vocab(count:6, index:477695, sample_int:4294967296)\n",
      "Track: spotify:track:0rqDUUtLNrH9YXvtXOjzzb\n",
      "\t Vocab(count:43, index:131821, sample_int:4294967296)\n",
      "Track: spotify:track:3PqErlt7t8ph730otVFpUF\n",
      "\t Vocab(count:154, index:50043, sample_int:4294967296)\n"
     ]
    }
   ],
   "source": [
    "# display list of random track along with a count of appearances\n",
    "songids = list(embedding.wv.vocab.keys())\n",
    "idxs_rnd = [random.randint(0,len(songids)) for x in range(10)]\n",
    "\n",
    "for i in idxs_rnd:\n",
    "    print(\"Track: {}\".format(songids[i]))\n",
    "    print(\"\\t\",embedding.wv.vocab[songids[i]])"
   ]
  },
  {
   "cell_type": "markdown",
   "metadata": {},
   "source": [
    "### Display the Embedded Vector"
   ]
  },
  {
   "cell_type": "code",
   "execution_count": 28,
   "metadata": {},
   "outputs": [
    {
     "name": "stdout",
     "output_type": "stream",
     "text": [
      "spotify:track:2ycJjUMO1mp7BJI9Bl3J2F\n"
     ]
    },
    {
     "data": {
      "text/plain": [
       "memmap([-0.04906062, -0.16023794,  0.0616156 , -0.04528547,  0.17002213,\n",
       "        -0.07163959, -0.09242855, -0.0583556 , -0.13156436, -0.11631884,\n",
       "         0.01870595, -0.1247956 , -0.07950711,  0.09045094,  0.166832  ,\n",
       "        -0.09666175,  0.04698942, -0.03218665,  0.02427904,  0.13340425,\n",
       "         0.2046582 , -0.14894   ,  0.06511585, -0.12604685,  0.13316469,\n",
       "         0.21386394, -0.07712029, -0.0532889 , -0.10996392, -0.20425335,\n",
       "         0.05636339,  0.08799673,  0.0517856 ,  0.17794554,  0.08078325,\n",
       "         0.1987323 , -0.24524432, -0.21204573,  0.05303885, -0.09611975,\n",
       "         0.03385701, -0.17468031, -0.04010149,  0.11034221,  0.03021669,\n",
       "         0.03742981,  0.08916359,  0.03830903, -0.01000426, -0.10330313,\n",
       "        -0.00066237,  0.11884788, -0.00389208, -0.06036279,  0.1666279 ,\n",
       "         0.09202634, -0.33536744,  0.03943907,  0.08834927, -0.23085813,\n",
       "         0.08705314,  0.24790296,  0.18181732, -0.10437281,  0.05712294,\n",
       "        -0.05943719,  0.11297262, -0.18310627,  0.07343957,  0.03829941,\n",
       "         0.16751914,  0.13539596,  0.03596   ,  0.03166227, -0.10455717,\n",
       "        -0.0918421 ,  0.03340035,  0.09325376, -0.08207265, -0.00761122,\n",
       "        -0.02626393, -0.20563054,  0.02163044, -0.18455216, -0.19206026,\n",
       "         0.04170703,  0.04825222,  0.04236477,  0.0344507 , -0.03572838,\n",
       "         0.19690204,  0.00796062, -0.08774234, -0.07913513,  0.20033254,\n",
       "        -0.19186455, -0.02617192,  0.18121587,  0.15981264,  0.1968634 ],\n",
       "       dtype=float32)"
      ]
     },
     "metadata": {},
     "output_type": "display_data"
    }
   ],
   "source": [
    "# Show the vector value for the first word in in the list above\n",
    "rnd = random.randint(0, len(embedding.wv.vocab))\n",
    "print(songids[idxs_rnd[0]])\n",
    "display(embedding.wv.get_vector(songids[idxs_rnd[0]]))"
   ]
  },
  {
   "cell_type": "markdown",
   "metadata": {},
   "source": [
    "### Use the Word2Vec embedding to find similar songs based on single Song\n",
    "Using the Word2Vec function `similar_by_word()`.  When using embeddings to predict a playlist, we are limited to inputting a single 'word' or song."
   ]
  },
  {
   "cell_type": "code",
   "execution_count": 29,
   "metadata": {},
   "outputs": [],
   "source": [
    "seed_uri = test_given[0]"
   ]
  },
  {
   "cell_type": "code",
   "execution_count": 30,
   "metadata": {},
   "outputs": [],
   "source": [
    "# Find similar songs based on a single song\n",
    "playlist_rec = np.array(embedding.similar_by_word(seed_uri, topn=10, restrict_vocab=None))"
   ]
  },
  {
   "cell_type": "code",
   "execution_count": 31,
   "metadata": {},
   "outputs": [
    {
     "name": "stdout",
     "output_type": "stream",
     "text": [
      "SEED TRACK\n",
      "Artist       :  Tom Petty\n",
      "Track        :  You Don't Know How It Feels\n",
      "Track Preview: \n",
      " https://p.scdn.co/mp3-preview/920e1367344e020100e499744890d45f0f8729ce?cid=72413f75d4db4ec79c6caaf02523959e\n",
      "\n",
      "1 tracks matches.\n",
      "RECOMMENDED PLAYLIST (* indicates a match)\n",
      " Artist              Track                         URI                           \n",
      " Tom Petty and the HeartbreakersMary Jane's Last Dance        spotify:track:5xS9hkTGfxqXyxX6wWWTt4\n",
      " <no preview>\n",
      "\n",
      " Tom Petty           I Won't Back Down             spotify:track:7gSQv1OHpkIoAdUiRLdmI6\n",
      " <no preview>\n",
      "\n",
      "*Tom Petty           Free Fallin'                  spotify:track:5tVA6TkbaAH9QMITTQRrNv\n",
      " <no preview>\n",
      "\n",
      " Tom Petty and the HeartbreakersLearning To Fly               spotify:track:17S4XrLvF5jlGvGCJHgF51\n",
      " <no preview>\n",
      "\n",
      " Tom Petty and the HeartbreakersBreakdown                     spotify:track:5x53pbGk6sbl1BGom19QQ5\n",
      " https://p.scdn.co/mp3-preview/f86e333f10221b6b3f7f0a2ebdc6a7871402785c?cid=72413f75d4db4ec79c6caaf02523959e\n",
      "\n",
      " Tom Petty           Wildflowers                   spotify:track:2Pr1nZpt8A8WP7QYpyq6L3\n",
      " https://p.scdn.co/mp3-preview/4f8fc91bd4a98e7c27863b08aa24a57ffaf654c1?cid=72413f75d4db4ec79c6caaf02523959e\n",
      "\n",
      " Tom Petty           Yer So Bad                    spotify:track:2ZS3jFe6p8UoVyrY5jWBlF\n",
      " <no preview>\n",
      "\n",
      " Tom Petty and the HeartbreakersRefugee                       spotify:track:4mcZYzoGwPRDdhWVlygiHf\n",
      " <no preview>\n",
      "\n",
      " Tom Petty and the HeartbreakersAmerican Girl                 spotify:track:7MRyJPksH3G2cXHN8UKYzP\n",
      " https://p.scdn.co/mp3-preview/36d69a9c5b7a78b378f349e319ca49075993717b?cid=72413f75d4db4ec79c6caaf02523959e\n",
      "\n",
      " Tom Petty and the HeartbreakersInto The Great Wide Open      spotify:track:63xBnyUVKIupzjHno4wFs3\n",
      " <no preview>\n",
      "\n"
     ]
    }
   ],
   "source": [
    "# Get the similar songs from Spotify to show their details, including preview link (if available)\n",
    "sp_playlist = get_tracks(playlist_rec[:,0])\n",
    "print(\"SEED TRACK\")\n",
    "sp_seed_track = get_tracks([seed_uri]) # get spotify data for track\n",
    "\n",
    "print(\"Artist       : \",   sp_seed_track[0]['artists'][0]['name'])\n",
    "print(\"Track        : \",   sp_seed_track[0]['name'])\n",
    "print(\"Track Preview: \\n\", sp_seed_track[0]['preview_url'] )\n",
    "print()\n",
    "\n",
    "print_recommended_playlist(playlist_rec[:,0], test_withheld)\n"
   ]
  },
  {
   "cell_type": "markdown",
   "metadata": {},
   "source": [
    "### Calculate Metrics"
   ]
  },
  {
   "cell_type": "code",
   "execution_count": 32,
   "metadata": {},
   "outputs": [
    {
     "name": "stdout",
     "output_type": "stream",
     "text": [
      "Track R-Precision: 0.1\n",
      "Track NDGC       : 0.06779095235709004\n"
     ]
    }
   ],
   "source": [
    "# Calculate the metrics on just this playlist\n",
    "r_prec, NDCG = calc_track_metrics(test_withheld.track_uri.values, playlist_rec[:,0])"
   ]
  },
  {
   "cell_type": "code",
   "execution_count": 143,
   "metadata": {},
   "outputs": [
    {
     "data": {
      "application/vnd.jupyter.widget-view+json": {
       "model_id": "62d1dcf380cb42849d9a86998506b602",
       "version_major": 2,
       "version_minor": 0
      },
      "text/plain": [
       "HBox(children=(IntProgress(value=0, description='calculating metrics', style=ProgressStyle(description_width='…"
      ]
     },
     "metadata": {},
     "output_type": "display_data"
    },
    {
     "name": "stdout",
     "output_type": "stream",
     "text": [
      "\n",
      "Mean Artist R-Precision: 0.06838210978835979\n",
      "Mean Track R-Precision : 0.02291666666666667\n",
      "Mean Track NDGC        : 0.021146730039571997\n"
     ]
    },
    {
     "data": {
      "image/png": "[encoded data removed]",
      "text/plain": [
       "<Figure size 864x288 with 3 Axes>"
      ]
     },
     "metadata": {
      "needs_background": "light"
     },
     "output_type": "display_data"
    }
   ],
   "source": [
    "# calculate metrics on 100 playlists\n",
    "r_precs_tracks, r_precs_artists, NDCGs = eval_model(embedding, df_playlists_test_withheld, df_playlists_test_given, num_test=100)\n",
    "df_metrics = df_metrics.append(pd.Series(name='Embedding', data=[np.mean(r_precs_artists), np.mean(r_precs_tracks), np.mean(NDCGs)], index=df_metrics.columns))\n"
   ]
  },
  {
   "cell_type": "markdown",
   "metadata": {},
   "source": [
    "### Results:\n",
    "Based on the playlists that were supplied when buidling the embedding, the list of Top 10 most similar songs is presented above.  The results don't score well; however, the recommended tracks seem like reasonable recommendations based on the seed track.\n",
    "\n",
    "This playlist is based on the top songs that other users placed in playlists that include the song we selected as our seed.  This is a good example of 'collaborative filtering' as it uses preferences from others to recommend songs."
   ]
  },
  {
   "cell_type": "markdown",
   "metadata": {},
   "source": [
    "<a name='2'></a>\n",
    "## 2. Embeddings from Playlists - Song ID - BOW\n",
    "<a href=#index>back to index</a>\n",
    "\n",
    "Now, let's use the model that was created when we initially established our embedding.  The BOW model can be used to predict a song from a song or a list of supplied songs.\n",
    "\n",
    "The same seed playlist will be used as previously."
   ]
  },
  {
   "cell_type": "code",
   "execution_count": 34,
   "metadata": {},
   "outputs": [],
   "source": [
    "# Load the BOW model saved previously\n",
    "model_filepath = os.path.join(data_path, 'playlists_BOW.model')\n",
    "BOW_model = Word2Vec.load(model_filepath)"
   ]
  },
  {
   "cell_type": "code",
   "execution_count": 35,
   "metadata": {},
   "outputs": [
    {
     "name": "stdout",
     "output_type": "stream",
     "text": [
      "1 tracks matches.\n",
      "RECOMMENDED PLAYLIST (* indicates a match)\n",
      " Artist              Track                         URI                           \n",
      " MAGIC!              Rude                          spotify:track:6RtPijgfPKROxEzTHNRiDp\n",
      " https://p.scdn.co/mp3-preview/c72b1ced01765ebb7cdc26c679a346bea13121d3?cid=72413f75d4db4ec79c6caaf02523959e\n",
      "\n",
      " Sam Smith           Stay With Me                  spotify:track:5Db9VIdDsN5yu3Eu7CT0i4\n",
      " <no preview>\n",
      "\n",
      " Hozier              Take Me To Church             spotify:track:0IqKeD8ZSP72KbGYyzEcAs\n",
      " <no preview>\n",
      "\n",
      " Coldplay            Magic                         spotify:track:23khhseCLQqVMCIT1WMAns\n",
      " https://p.scdn.co/mp3-preview/4bbc6c3a61b175ca895e0f5a2ab79804f290b263?cid=72413f75d4db4ec79c6caaf02523959e\n",
      "\n",
      "*Vance Joy           Riptide                       spotify:track:7yq4Qj7cqayVTp3FF9CWbm\n",
      " https://p.scdn.co/mp3-preview/0dd45171d094ca8d374219054879662fe7982462?cid=72413f75d4db4ec79c6caaf02523959e\n",
      "\n",
      " Nico & Vinz         Am I Wrong                    spotify:track:1fidCEsYlaVE3pHwKCvpFZ\n",
      " https://p.scdn.co/mp3-preview/9ecf91e6cfd4a85b9f9600772bf6d224e051e052?cid=72413f75d4db4ec79c6caaf02523959e\n",
      "\n",
      " Echosmith           Cool Kids                     spotify:track:13P5rwmk2EsoFRIz9UCeh9\n",
      " https://p.scdn.co/mp3-preview/27df0a89036135748fd03fb67114abeb00c529a4?cid=72413f75d4db4ec79c6caaf02523959e\n",
      "\n",
      " Milky Chance        Stolen Dance                  spotify:track:6vECYJHxYmm3Ydt3fF01pE\n",
      " <no preview>\n",
      "\n",
      " Coldplay            A Sky Full of Stars           spotify:track:0FDzzruyVECATHXKHFs9eJ\n",
      " https://p.scdn.co/mp3-preview/dca7402083b8dbf0e2a5e91f49eb76bde94cd493?cid=72413f75d4db4ec79c6caaf02523959e\n",
      "\n",
      " Passenger           Let Her Go                    spotify:track:2jyjhRf6DVbMPU5zxagN2h\n",
      " https://p.scdn.co/mp3-preview/63f413aabb9ba8c4a4114de4f313413a514a47e9?cid=72413f75d4db4ec79c6caaf02523959e\n",
      "\n"
     ]
    }
   ],
   "source": [
    "recommended_songs = np.array(BOW_model.predict_output_word(test_given, topn=10))\n",
    "print_recommended_playlist(recommended_songs[:,0], test_withheld)\n"
   ]
  },
  {
   "cell_type": "markdown",
   "metadata": {},
   "source": [
    "### Calculate Metrics"
   ]
  },
  {
   "cell_type": "code",
   "execution_count": 144,
   "metadata": {},
   "outputs": [
    {
     "data": {
      "application/vnd.jupyter.widget-view+json": {
       "model_id": "f857a825a24540848a1a317af0be1cbc",
       "version_major": 2,
       "version_minor": 0
      },
      "text/plain": [
       "HBox(children=(IntProgress(value=0, description='calculating metrics', style=ProgressStyle(description_width='…"
      ]
     },
     "metadata": {},
     "output_type": "display_data"
    },
    {
     "name": "stdout",
     "output_type": "stream",
     "text": [
      "\n",
      "Mean Artist R-Precision: 0.15074603174603174\n",
      "Mean Track R-Precision : 0.04611111111111111\n",
      "Mean Track NDGC        : 0.048042108746042776\n"
     ]
    },
    {
     "data": {
      "image/png": "[encoded data removed]",
      "text/plain": [
       "<Figure size 864x288 with 3 Axes>"
      ]
     },
     "metadata": {
      "needs_background": "light"
     },
     "output_type": "display_data"
    }
   ],
   "source": [
    "# r_precs, NDCGs = eval_model(BOW_model, df_playlists_test_withheld, df_playlists_test_given)\n",
    "r_precs_tracks, r_precs_artists, NDCGs = eval_model(BOW_model, df_playlists_test_withheld, df_playlists_test_given, num_test=100)\n",
    "df_metrics = df_metrics.append(pd.Series(name='Bag_of_Words', data=[np.mean(r_precs_artists), np.mean(r_precs_tracks), np.mean(NDCGs)], index=df_metrics.columns))\n"
   ]
  },
  {
   "cell_type": "markdown",
   "metadata": {},
   "source": [
    "### Result:\n",
    "Only one song matched the ground truth; however, the returned tracks look very reasonable given the inputs."
   ]
  },
  {
   "cell_type": "markdown",
   "metadata": {},
   "source": [
    "<a name='3'></a>\n",
    "## 3. Embeddings from Playlists - Song ID - Skip-Gram\n",
    "<a href=#index>back to index</a>\n",
    "\n",
    "Here, we create a playlist from the Skip-Gram model.  For consistency, we will use the same song, \"Free Fallin'\", again to see if our results differ."
   ]
  },
  {
   "cell_type": "code",
   "execution_count": 37,
   "metadata": {},
   "outputs": [],
   "source": [
    "# load the skip-gram model we previously created\n",
    "model_filepath = os.path.join(data_path, 'playlists_SG.model')\n",
    "SG_model = Word2Vec.load(model_filepath)"
   ]
  },
  {
   "cell_type": "code",
   "execution_count": 38,
   "metadata": {},
   "outputs": [
    {
     "name": "stdout",
     "output_type": "stream",
     "text": [
      "0 tracks matches.\n",
      "RECOMMENDED PLAYLIST (* indicates a match)\n",
      " Artist              Track                         URI                           \n",
      " Tom Petty           You Don't Know How It Feels   spotify:track:7MooGz4ZPE4bNxjFegR6Jx\n",
      " https://p.scdn.co/mp3-preview/920e1367344e020100e499744890d45f0f8729ce?cid=72413f75d4db4ec79c6caaf02523959e\n",
      "\n",
      " Tom Petty           You Wreck Me                  spotify:track:0YkbYk24ODhuewb79zZZzM\n",
      " https://p.scdn.co/mp3-preview/0721379fbea640b830b91fb1d4e95e06cfde49c4?cid=72413f75d4db4ec79c6caaf02523959e\n",
      "\n",
      " Tom Petty and the HeartbreakersInto The Great Wide Open      spotify:track:63xBnyUVKIupzjHno4wFs3\n",
      " <no preview>\n",
      "\n",
      " Tom Petty           It's Good To Be King          spotify:track:1c0flvMImhKMuiZIc0VzEb\n",
      " https://p.scdn.co/mp3-preview/aedebd4f6c45b3070214f64c15f0d5daf5b76f7b?cid=72413f75d4db4ec79c6caaf02523959e\n",
      "\n",
      " Tom Petty and the HeartbreakersMary Jane's Last Dance        spotify:track:5xS9hkTGfxqXyxX6wWWTt4\n",
      " <no preview>\n",
      "\n",
      " Tom Petty           I Won't Back Down             spotify:track:7gSQv1OHpkIoAdUiRLdmI6\n",
      " <no preview>\n",
      "\n",
      " Tom Petty and the HeartbreakersLearning To Fly               spotify:track:17S4XrLvF5jlGvGCJHgF51\n",
      " <no preview>\n",
      "\n",
      " Tom Petty and the HeartbreakersBreakdown                     spotify:track:5x53pbGk6sbl1BGom19QQ5\n",
      " https://p.scdn.co/mp3-preview/f86e333f10221b6b3f7f0a2ebdc6a7871402785c?cid=72413f75d4db4ec79c6caaf02523959e\n",
      "\n",
      " Tom Petty           Yer So Bad                    spotify:track:2ZS3jFe6p8UoVyrY5jWBlF\n",
      " <no preview>\n",
      "\n",
      " Tom Petty and the HeartbreakersDon't Do Me Like That         spotify:track:5AzpZ5ADn1AFPxcEBd2Ugf\n",
      " <no preview>\n",
      "\n"
     ]
    }
   ],
   "source": [
    "recommended_songs = np.array(SG_model.predict_output_word([seed_uri], topn=10))\n",
    "# sp_tracks = get_tracks(recommended_songs[:,0])\n",
    "\n",
    "print_recommended_playlist(recommended_songs[:,0], test_withheld)\n"
   ]
  },
  {
   "cell_type": "markdown",
   "metadata": {},
   "source": [
    "### Calculate Metrics"
   ]
  },
  {
   "cell_type": "code",
   "execution_count": 145,
   "metadata": {},
   "outputs": [
    {
     "data": {
      "application/vnd.jupyter.widget-view+json": {
       "model_id": "9b013cb8c13744829ddcee3d6c139fcf",
       "version_major": 2,
       "version_minor": 0
      },
      "text/plain": [
       "HBox(children=(IntProgress(value=0, description='calculating metrics', style=ProgressStyle(description_width='…"
      ]
     },
     "metadata": {},
     "output_type": "display_data"
    },
    {
     "name": "stdout",
     "output_type": "stream",
     "text": [
      "\n",
      "Mean Artist R-Precision: 0.15846031746031744\n",
      "Mean Track R-Precision : 0.04311111111111111\n",
      "Mean Track NDGC        : 0.046024440659614585\n"
     ]
    },
    {
     "data": {
      "image/png": "[encoded data removed]",
      "text/plain": [
       "<Figure size 864x288 with 3 Axes>"
      ]
     },
     "metadata": {
      "needs_background": "light"
     },
     "output_type": "display_data"
    }
   ],
   "source": [
    "# r_precs, NDCGs = eval_model(SG_model, df_playlists_test_withheld, df_playlists_test_given)\n",
    "r_precs_tracks, r_precs_artists, NDCGs = eval_model(SG_model, df_playlists_test_withheld, df_playlists_test_given, num_test=100)\n",
    "df_metrics = df_metrics.append(pd.Series(name='Skip_Gram', data=[np.mean(r_precs_artists), np.mean(r_precs_tracks), np.mean(NDCGs)], index=df_metrics.columns))\n"
   ]
  },
  {
   "cell_type": "markdown",
   "metadata": {},
   "source": [
    "### Result:\n",
    "Again, only one tracked matched producing a low evaluation result.  But like in the BOW model, the Skip-Gram model is producing song suggestions are are very much in line with the given set of tracks."
   ]
  },
  {
   "cell_type": "markdown",
   "metadata": {},
   "source": [
    "<a name='4'></a>\n",
    "## 4. Embeddings from Song Features - Unsupervised\n",
    "### 'Home-Made' Vectors\n",
    "<a href=#index>back to index</a>\n",
    "\n",
    "Here, we can take a break from Word2Vec and get very basic.  We create our own 'home-made' vectors based on Spotify accoustive feature data.  We have a series of fields available for all of our songs that numerically represent various characteristics of the songs; dancebaility, loudness, temp, key, energy, etc.\n",
    "\n",
    "Instead of letter Word2Vec create an embedding, we create our own using these values."
   ]
  },
  {
   "cell_type": "code",
   "execution_count": 40,
   "metadata": {},
   "outputs": [
    {
     "name": "stdout",
     "output_type": "stream",
     "text": [
      "Time to Execute: 85.78 seconds\n"
     ]
    }
   ],
   "source": [
    "# fetch all db tracks with accoustic features\n",
    "db_tracks = display_time(session.query(Tracks).all)\n",
    "session.close()"
   ]
  },
  {
   "cell_type": "code",
   "execution_count": 41,
   "metadata": {},
   "outputs": [
    {
     "data": {
      "text/html": [
       "<div>\n",
       "<style scoped>\n",
       "    .dataframe tbody tr th:only-of-type {\n",
       "        vertical-align: middle;\n",
       "    }\n",
       "\n",
       "    .dataframe tbody tr th {\n",
       "        vertical-align: top;\n",
       "    }\n",
       "\n",
       "    .dataframe thead th {\n",
       "        text-align: right;\n",
       "    }\n",
       "</style>\n",
       "<table border=\"1\" class=\"dataframe\">\n",
       "  <thead>\n",
       "    <tr style=\"text-align: right;\">\n",
       "      <th></th>\n",
       "      <th>acousticness</th>\n",
       "      <th>artist_uri</th>\n",
       "      <th>danceability</th>\n",
       "      <th>duration_ms</th>\n",
       "      <th>energy</th>\n",
       "      <th>instrumentalness</th>\n",
       "      <th>key</th>\n",
       "      <th>liveness</th>\n",
       "      <th>loudness</th>\n",
       "      <th>mode</th>\n",
       "      <th>speechiness</th>\n",
       "      <th>tempo</th>\n",
       "      <th>time_signature</th>\n",
       "      <th>track_popularity</th>\n",
       "      <th>valence</th>\n",
       "    </tr>\n",
       "    <tr>\n",
       "      <th>track_uri</th>\n",
       "      <th></th>\n",
       "      <th></th>\n",
       "      <th></th>\n",
       "      <th></th>\n",
       "      <th></th>\n",
       "      <th></th>\n",
       "      <th></th>\n",
       "      <th></th>\n",
       "      <th></th>\n",
       "      <th></th>\n",
       "      <th></th>\n",
       "      <th></th>\n",
       "      <th></th>\n",
       "      <th></th>\n",
       "      <th></th>\n",
       "    </tr>\n",
       "  </thead>\n",
       "  <tbody>\n",
       "    <tr>\n",
       "      <th>spotify:track:2d7LPtieXdIYzf7yHPooWd</th>\n",
       "      <td>0.974</td>\n",
       "      <td>spotify:artist:0MeLMJJcouYXCymQSHPn8g</td>\n",
       "      <td>0.467</td>\n",
       "      <td>242564</td>\n",
       "      <td>0.157</td>\n",
       "      <td>0.000001</td>\n",
       "      <td>11</td>\n",
       "      <td>0.0816</td>\n",
       "      <td>-9.649</td>\n",
       "      <td>1</td>\n",
       "      <td>0.0336</td>\n",
       "      <td>108.130</td>\n",
       "      <td>4</td>\n",
       "      <td>65</td>\n",
       "      <td>0.2770</td>\n",
       "    </tr>\n",
       "    <tr>\n",
       "      <th>spotify:track:0y4TKcc7p2H6P0GJlt01EI</th>\n",
       "      <td>0.961</td>\n",
       "      <td>spotify:artist:7w0qj2HiAPIeUcoPogvOZ6</td>\n",
       "      <td>0.312</td>\n",
       "      <td>253933</td>\n",
       "      <td>0.207</td>\n",
       "      <td>0.008180</td>\n",
       "      <td>10</td>\n",
       "      <td>0.0773</td>\n",
       "      <td>-13.367</td>\n",
       "      <td>1</td>\n",
       "      <td>0.0347</td>\n",
       "      <td>93.778</td>\n",
       "      <td>4</td>\n",
       "      <td>36</td>\n",
       "      <td>0.2780</td>\n",
       "    </tr>\n",
       "    <tr>\n",
       "      <th>spotify:track:6q4c1vPRZREh7nw3wG7Ixz</th>\n",
       "      <td>0.991</td>\n",
       "      <td>spotify:artist:32ogthv0BdaSMPml02X9YB</td>\n",
       "      <td>0.412</td>\n",
       "      <td>103920</td>\n",
       "      <td>0.159</td>\n",
       "      <td>0.772000</td>\n",
       "      <td>9</td>\n",
       "      <td>0.0830</td>\n",
       "      <td>-14.214</td>\n",
       "      <td>1</td>\n",
       "      <td>0.0278</td>\n",
       "      <td>85.462</td>\n",
       "      <td>4</td>\n",
       "      <td>54</td>\n",
       "      <td>0.0389</td>\n",
       "    </tr>\n",
       "    <tr>\n",
       "      <th>spotify:track:54KFQB6N4pn926IUUYZGzK</th>\n",
       "      <td>0.885</td>\n",
       "      <td>spotify:artist:32ogthv0BdaSMPml02X9YB</td>\n",
       "      <td>0.264</td>\n",
       "      <td>371320</td>\n",
       "      <td>0.122</td>\n",
       "      <td>0.349000</td>\n",
       "      <td>9</td>\n",
       "      <td>0.0940</td>\n",
       "      <td>-15.399</td>\n",
       "      <td>1</td>\n",
       "      <td>0.0349</td>\n",
       "      <td>148.658</td>\n",
       "      <td>4</td>\n",
       "      <td>72</td>\n",
       "      <td>0.0735</td>\n",
       "    </tr>\n",
       "    <tr>\n",
       "      <th>spotify:track:0NeJjNlprGfZpeX2LQuN6c</th>\n",
       "      <td>0.689</td>\n",
       "      <td>spotify:artist:3qnGvpP8Yth1AqSBMqON5x</td>\n",
       "      <td>0.658</td>\n",
       "      <td>238560</td>\n",
       "      <td>0.179</td>\n",
       "      <td>0.000000</td>\n",
       "      <td>8</td>\n",
       "      <td>0.1700</td>\n",
       "      <td>-10.866</td>\n",
       "      <td>1</td>\n",
       "      <td>0.0448</td>\n",
       "      <td>128.128</td>\n",
       "      <td>4</td>\n",
       "      <td>75</td>\n",
       "      <td>0.1910</td>\n",
       "    </tr>\n",
       "  </tbody>\n",
       "</table>\n",
       "</div>"
      ],
      "text/plain": [
       "                                      acousticness  \\\n",
       "track_uri                                            \n",
       "spotify:track:2d7LPtieXdIYzf7yHPooWd         0.974   \n",
       "spotify:track:0y4TKcc7p2H6P0GJlt01EI         0.961   \n",
       "spotify:track:6q4c1vPRZREh7nw3wG7Ixz         0.991   \n",
       "spotify:track:54KFQB6N4pn926IUUYZGzK         0.885   \n",
       "spotify:track:0NeJjNlprGfZpeX2LQuN6c         0.689   \n",
       "\n",
       "                                                                 artist_uri  \\\n",
       "track_uri                                                                     \n",
       "spotify:track:2d7LPtieXdIYzf7yHPooWd  spotify:artist:0MeLMJJcouYXCymQSHPn8g   \n",
       "spotify:track:0y4TKcc7p2H6P0GJlt01EI  spotify:artist:7w0qj2HiAPIeUcoPogvOZ6   \n",
       "spotify:track:6q4c1vPRZREh7nw3wG7Ixz  spotify:artist:32ogthv0BdaSMPml02X9YB   \n",
       "spotify:track:54KFQB6N4pn926IUUYZGzK  spotify:artist:32ogthv0BdaSMPml02X9YB   \n",
       "spotify:track:0NeJjNlprGfZpeX2LQuN6c  spotify:artist:3qnGvpP8Yth1AqSBMqON5x   \n",
       "\n",
       "                                      danceability  duration_ms  energy  \\\n",
       "track_uri                                                                 \n",
       "spotify:track:2d7LPtieXdIYzf7yHPooWd         0.467       242564   0.157   \n",
       "spotify:track:0y4TKcc7p2H6P0GJlt01EI         0.312       253933   0.207   \n",
       "spotify:track:6q4c1vPRZREh7nw3wG7Ixz         0.412       103920   0.159   \n",
       "spotify:track:54KFQB6N4pn926IUUYZGzK         0.264       371320   0.122   \n",
       "spotify:track:0NeJjNlprGfZpeX2LQuN6c         0.658       238560   0.179   \n",
       "\n",
       "                                      instrumentalness  key  liveness  \\\n",
       "track_uri                                                               \n",
       "spotify:track:2d7LPtieXdIYzf7yHPooWd          0.000001   11    0.0816   \n",
       "spotify:track:0y4TKcc7p2H6P0GJlt01EI          0.008180   10    0.0773   \n",
       "spotify:track:6q4c1vPRZREh7nw3wG7Ixz          0.772000    9    0.0830   \n",
       "spotify:track:54KFQB6N4pn926IUUYZGzK          0.349000    9    0.0940   \n",
       "spotify:track:0NeJjNlprGfZpeX2LQuN6c          0.000000    8    0.1700   \n",
       "\n",
       "                                      loudness  mode  speechiness    tempo  \\\n",
       "track_uri                                                                    \n",
       "spotify:track:2d7LPtieXdIYzf7yHPooWd    -9.649     1       0.0336  108.130   \n",
       "spotify:track:0y4TKcc7p2H6P0GJlt01EI   -13.367     1       0.0347   93.778   \n",
       "spotify:track:6q4c1vPRZREh7nw3wG7Ixz   -14.214     1       0.0278   85.462   \n",
       "spotify:track:54KFQB6N4pn926IUUYZGzK   -15.399     1       0.0349  148.658   \n",
       "spotify:track:0NeJjNlprGfZpeX2LQuN6c   -10.866     1       0.0448  128.128   \n",
       "\n",
       "                                      time_signature  track_popularity  \\\n",
       "track_uri                                                                \n",
       "spotify:track:2d7LPtieXdIYzf7yHPooWd               4                65   \n",
       "spotify:track:0y4TKcc7p2H6P0GJlt01EI               4                36   \n",
       "spotify:track:6q4c1vPRZREh7nw3wG7Ixz               4                54   \n",
       "spotify:track:54KFQB6N4pn926IUUYZGzK               4                72   \n",
       "spotify:track:0NeJjNlprGfZpeX2LQuN6c               4                75   \n",
       "\n",
       "                                      valence  \n",
       "track_uri                                      \n",
       "spotify:track:2d7LPtieXdIYzf7yHPooWd   0.2770  \n",
       "spotify:track:0y4TKcc7p2H6P0GJlt01EI   0.2780  \n",
       "spotify:track:6q4c1vPRZREh7nw3wG7Ixz   0.0389  \n",
       "spotify:track:54KFQB6N4pn926IUUYZGzK   0.0735  \n",
       "spotify:track:0NeJjNlprGfZpeX2LQuN6c   0.1910  "
      ]
     },
     "execution_count": 41,
     "metadata": {},
     "output_type": "execute_result"
    }
   ],
   "source": [
    "# create a Pandas dataframe\n",
    "df_all_tracks = pd.DataFrame([x.__dict__ for x in db_tracks]).drop('_sa_instance_state', axis=1).set_index(['track_uri'])\n",
    "df_all_tracks.head()"
   ]
  },
  {
   "cell_type": "code",
   "execution_count": 42,
   "metadata": {},
   "outputs": [],
   "source": [
    "# define features that we will use to create our custom vectors\n",
    "vector_features= [\n",
    "    'acousticness',\n",
    "    'danceability',\n",
    "    'duration_ms',\n",
    "    'energy',\n",
    "    'instrumentalness',\n",
    "    'key',\n",
    "    'liveness',\n",
    "    'loudness',\n",
    "    'mode',\n",
    "    'speechiness',\n",
    "    'tempo',\n",
    "    'time_signature',\n",
    "    'valence'\n",
    "]"
   ]
  },
  {
   "cell_type": "code",
   "execution_count": 43,
   "metadata": {},
   "outputs": [
    {
     "data": {
      "text/html": [
       "<div>\n",
       "<style scoped>\n",
       "    .dataframe tbody tr th:only-of-type {\n",
       "        vertical-align: middle;\n",
       "    }\n",
       "\n",
       "    .dataframe tbody tr th {\n",
       "        vertical-align: top;\n",
       "    }\n",
       "\n",
       "    .dataframe thead th {\n",
       "        text-align: right;\n",
       "    }\n",
       "</style>\n",
       "<table border=\"1\" class=\"dataframe\">\n",
       "  <thead>\n",
       "    <tr style=\"text-align: right;\">\n",
       "      <th></th>\n",
       "      <th>acousticness</th>\n",
       "      <th>danceability</th>\n",
       "      <th>duration_ms</th>\n",
       "      <th>energy</th>\n",
       "      <th>instrumentalness</th>\n",
       "      <th>key</th>\n",
       "      <th>liveness</th>\n",
       "      <th>loudness</th>\n",
       "      <th>mode</th>\n",
       "      <th>speechiness</th>\n",
       "      <th>tempo</th>\n",
       "      <th>time_signature</th>\n",
       "      <th>valence</th>\n",
       "    </tr>\n",
       "    <tr>\n",
       "      <th>track_uri</th>\n",
       "      <th></th>\n",
       "      <th></th>\n",
       "      <th></th>\n",
       "      <th></th>\n",
       "      <th></th>\n",
       "      <th></th>\n",
       "      <th></th>\n",
       "      <th></th>\n",
       "      <th></th>\n",
       "      <th></th>\n",
       "      <th></th>\n",
       "      <th></th>\n",
       "      <th></th>\n",
       "    </tr>\n",
       "  </thead>\n",
       "  <tbody>\n",
       "    <tr>\n",
       "      <th>spotify:track:2d7LPtieXdIYzf7yHPooWd</th>\n",
       "      <td>0.974</td>\n",
       "      <td>0.467</td>\n",
       "      <td>242564</td>\n",
       "      <td>0.157</td>\n",
       "      <td>0.000001</td>\n",
       "      <td>11</td>\n",
       "      <td>0.0816</td>\n",
       "      <td>-9.649</td>\n",
       "      <td>1</td>\n",
       "      <td>0.0336</td>\n",
       "      <td>108.130</td>\n",
       "      <td>4</td>\n",
       "      <td>0.2770</td>\n",
       "    </tr>\n",
       "    <tr>\n",
       "      <th>spotify:track:0y4TKcc7p2H6P0GJlt01EI</th>\n",
       "      <td>0.961</td>\n",
       "      <td>0.312</td>\n",
       "      <td>253933</td>\n",
       "      <td>0.207</td>\n",
       "      <td>0.008180</td>\n",
       "      <td>10</td>\n",
       "      <td>0.0773</td>\n",
       "      <td>-13.367</td>\n",
       "      <td>1</td>\n",
       "      <td>0.0347</td>\n",
       "      <td>93.778</td>\n",
       "      <td>4</td>\n",
       "      <td>0.2780</td>\n",
       "    </tr>\n",
       "    <tr>\n",
       "      <th>spotify:track:6q4c1vPRZREh7nw3wG7Ixz</th>\n",
       "      <td>0.991</td>\n",
       "      <td>0.412</td>\n",
       "      <td>103920</td>\n",
       "      <td>0.159</td>\n",
       "      <td>0.772000</td>\n",
       "      <td>9</td>\n",
       "      <td>0.0830</td>\n",
       "      <td>-14.214</td>\n",
       "      <td>1</td>\n",
       "      <td>0.0278</td>\n",
       "      <td>85.462</td>\n",
       "      <td>4</td>\n",
       "      <td>0.0389</td>\n",
       "    </tr>\n",
       "    <tr>\n",
       "      <th>spotify:track:54KFQB6N4pn926IUUYZGzK</th>\n",
       "      <td>0.885</td>\n",
       "      <td>0.264</td>\n",
       "      <td>371320</td>\n",
       "      <td>0.122</td>\n",
       "      <td>0.349000</td>\n",
       "      <td>9</td>\n",
       "      <td>0.0940</td>\n",
       "      <td>-15.399</td>\n",
       "      <td>1</td>\n",
       "      <td>0.0349</td>\n",
       "      <td>148.658</td>\n",
       "      <td>4</td>\n",
       "      <td>0.0735</td>\n",
       "    </tr>\n",
       "    <tr>\n",
       "      <th>spotify:track:0NeJjNlprGfZpeX2LQuN6c</th>\n",
       "      <td>0.689</td>\n",
       "      <td>0.658</td>\n",
       "      <td>238560</td>\n",
       "      <td>0.179</td>\n",
       "      <td>0.000000</td>\n",
       "      <td>8</td>\n",
       "      <td>0.1700</td>\n",
       "      <td>-10.866</td>\n",
       "      <td>1</td>\n",
       "      <td>0.0448</td>\n",
       "      <td>128.128</td>\n",
       "      <td>4</td>\n",
       "      <td>0.1910</td>\n",
       "    </tr>\n",
       "  </tbody>\n",
       "</table>\n",
       "</div>"
      ],
      "text/plain": [
       "                                      acousticness  danceability  duration_ms  \\\n",
       "track_uri                                                                       \n",
       "spotify:track:2d7LPtieXdIYzf7yHPooWd         0.974         0.467       242564   \n",
       "spotify:track:0y4TKcc7p2H6P0GJlt01EI         0.961         0.312       253933   \n",
       "spotify:track:6q4c1vPRZREh7nw3wG7Ixz         0.991         0.412       103920   \n",
       "spotify:track:54KFQB6N4pn926IUUYZGzK         0.885         0.264       371320   \n",
       "spotify:track:0NeJjNlprGfZpeX2LQuN6c         0.689         0.658       238560   \n",
       "\n",
       "                                      energy  instrumentalness  key  liveness  \\\n",
       "track_uri                                                                       \n",
       "spotify:track:2d7LPtieXdIYzf7yHPooWd   0.157          0.000001   11    0.0816   \n",
       "spotify:track:0y4TKcc7p2H6P0GJlt01EI   0.207          0.008180   10    0.0773   \n",
       "spotify:track:6q4c1vPRZREh7nw3wG7Ixz   0.159          0.772000    9    0.0830   \n",
       "spotify:track:54KFQB6N4pn926IUUYZGzK   0.122          0.349000    9    0.0940   \n",
       "spotify:track:0NeJjNlprGfZpeX2LQuN6c   0.179          0.000000    8    0.1700   \n",
       "\n",
       "                                      loudness  mode  speechiness    tempo  \\\n",
       "track_uri                                                                    \n",
       "spotify:track:2d7LPtieXdIYzf7yHPooWd    -9.649     1       0.0336  108.130   \n",
       "spotify:track:0y4TKcc7p2H6P0GJlt01EI   -13.367     1       0.0347   93.778   \n",
       "spotify:track:6q4c1vPRZREh7nw3wG7Ixz   -14.214     1       0.0278   85.462   \n",
       "spotify:track:54KFQB6N4pn926IUUYZGzK   -15.399     1       0.0349  148.658   \n",
       "spotify:track:0NeJjNlprGfZpeX2LQuN6c   -10.866     1       0.0448  128.128   \n",
       "\n",
       "                                      time_signature  valence  \n",
       "track_uri                                                      \n",
       "spotify:track:2d7LPtieXdIYzf7yHPooWd               4   0.2770  \n",
       "spotify:track:0y4TKcc7p2H6P0GJlt01EI               4   0.2780  \n",
       "spotify:track:6q4c1vPRZREh7nw3wG7Ixz               4   0.0389  \n",
       "spotify:track:54KFQB6N4pn926IUUYZGzK               4   0.0735  \n",
       "spotify:track:0NeJjNlprGfZpeX2LQuN6c               4   0.1910  "
      ]
     },
     "execution_count": 43,
     "metadata": {},
     "output_type": "execute_result"
    }
   ],
   "source": [
    "# Create a dataframe with the vectors for simplicity\n",
    "drop_cols = set(df_all_tracks.columns) - set(vector_features)\n",
    "df = df_all_tracks.drop(drop_cols, axis=1)\n",
    "df.head()"
   ]
  },
  {
   "cell_type": "markdown",
   "metadata": {},
   "source": [
    "### Normalize Data\n",
    "The values will need to be normalized to avoid placing greater importance on predictors that have naturally larger values."
   ]
  },
  {
   "cell_type": "code",
   "execution_count": 44,
   "metadata": {},
   "outputs": [
    {
     "data": {
      "text/plain": [
       "Index(['acousticness', 'danceability', 'duration_ms', 'energy',\n",
       "       'instrumentalness', 'key', 'liveness', 'loudness', 'mode',\n",
       "       'speechiness', 'tempo', 'time_signature', 'valence'],\n",
       "      dtype='object')"
      ]
     },
     "execution_count": 44,
     "metadata": {},
     "output_type": "execute_result"
    }
   ],
   "source": [
    "df.columns"
   ]
  },
  {
   "cell_type": "code",
   "execution_count": 45,
   "metadata": {},
   "outputs": [],
   "source": [
    "for col in df.columns:\n",
    "    data = np.array(df[col]).reshape(-1,1)\n",
    "    scaled_data = MinMaxScaler(feature_range=(0,1)).fit(data).transform(data)\n",
    "    df[col] = scaled_data"
   ]
  },
  {
   "cell_type": "code",
   "execution_count": 46,
   "metadata": {},
   "outputs": [
    {
     "data": {
      "text/html": [
       "<div>\n",
       "<style scoped>\n",
       "    .dataframe tbody tr th:only-of-type {\n",
       "        vertical-align: middle;\n",
       "    }\n",
       "\n",
       "    .dataframe tbody tr th {\n",
       "        vertical-align: top;\n",
       "    }\n",
       "\n",
       "    .dataframe thead th {\n",
       "        text-align: right;\n",
       "    }\n",
       "</style>\n",
       "<table border=\"1\" class=\"dataframe\">\n",
       "  <thead>\n",
       "    <tr style=\"text-align: right;\">\n",
       "      <th></th>\n",
       "      <th>acousticness</th>\n",
       "      <th>danceability</th>\n",
       "      <th>duration_ms</th>\n",
       "      <th>energy</th>\n",
       "      <th>instrumentalness</th>\n",
       "      <th>key</th>\n",
       "      <th>liveness</th>\n",
       "      <th>loudness</th>\n",
       "      <th>mode</th>\n",
       "      <th>speechiness</th>\n",
       "      <th>tempo</th>\n",
       "      <th>time_signature</th>\n",
       "      <th>valence</th>\n",
       "    </tr>\n",
       "    <tr>\n",
       "      <th>track_uri</th>\n",
       "      <th></th>\n",
       "      <th></th>\n",
       "      <th></th>\n",
       "      <th></th>\n",
       "      <th></th>\n",
       "      <th></th>\n",
       "      <th></th>\n",
       "      <th></th>\n",
       "      <th></th>\n",
       "      <th></th>\n",
       "      <th></th>\n",
       "      <th></th>\n",
       "      <th></th>\n",
       "    </tr>\n",
       "  </thead>\n",
       "  <tbody>\n",
       "    <tr>\n",
       "      <th>spotify:track:2d7LPtieXdIYzf7yHPooWd</th>\n",
       "      <td>0.977912</td>\n",
       "      <td>0.468876</td>\n",
       "      <td>0.039950</td>\n",
       "      <td>0.157</td>\n",
       "      <td>0.000001</td>\n",
       "      <td>1.000000</td>\n",
       "      <td>0.0816</td>\n",
       "      <td>0.775549</td>\n",
       "      <td>1.0</td>\n",
       "      <td>0.034604</td>\n",
       "      <td>0.432542</td>\n",
       "      <td>0.8</td>\n",
       "      <td>0.2770</td>\n",
       "    </tr>\n",
       "    <tr>\n",
       "      <th>spotify:track:0y4TKcc7p2H6P0GJlt01EI</th>\n",
       "      <td>0.964859</td>\n",
       "      <td>0.313253</td>\n",
       "      <td>0.041830</td>\n",
       "      <td>0.207</td>\n",
       "      <td>0.008180</td>\n",
       "      <td>0.909091</td>\n",
       "      <td>0.0773</td>\n",
       "      <td>0.718282</td>\n",
       "      <td>1.0</td>\n",
       "      <td>0.035736</td>\n",
       "      <td>0.375132</td>\n",
       "      <td>0.8</td>\n",
       "      <td>0.2780</td>\n",
       "    </tr>\n",
       "    <tr>\n",
       "      <th>spotify:track:6q4c1vPRZREh7nw3wG7Ixz</th>\n",
       "      <td>0.994980</td>\n",
       "      <td>0.413655</td>\n",
       "      <td>0.017021</td>\n",
       "      <td>0.159</td>\n",
       "      <td>0.772000</td>\n",
       "      <td>0.818182</td>\n",
       "      <td>0.0830</td>\n",
       "      <td>0.705235</td>\n",
       "      <td>1.0</td>\n",
       "      <td>0.028630</td>\n",
       "      <td>0.341866</td>\n",
       "      <td>0.8</td>\n",
       "      <td>0.0389</td>\n",
       "    </tr>\n",
       "    <tr>\n",
       "      <th>spotify:track:54KFQB6N4pn926IUUYZGzK</th>\n",
       "      <td>0.888554</td>\n",
       "      <td>0.265060</td>\n",
       "      <td>0.061243</td>\n",
       "      <td>0.122</td>\n",
       "      <td>0.349000</td>\n",
       "      <td>0.818182</td>\n",
       "      <td>0.0940</td>\n",
       "      <td>0.686983</td>\n",
       "      <td>1.0</td>\n",
       "      <td>0.035942</td>\n",
       "      <td>0.594663</td>\n",
       "      <td>0.8</td>\n",
       "      <td>0.0735</td>\n",
       "    </tr>\n",
       "    <tr>\n",
       "      <th>spotify:track:0NeJjNlprGfZpeX2LQuN6c</th>\n",
       "      <td>0.691767</td>\n",
       "      <td>0.660643</td>\n",
       "      <td>0.039288</td>\n",
       "      <td>0.179</td>\n",
       "      <td>0.000000</td>\n",
       "      <td>0.727273</td>\n",
       "      <td>0.1700</td>\n",
       "      <td>0.756804</td>\n",
       "      <td>1.0</td>\n",
       "      <td>0.046138</td>\n",
       "      <td>0.512539</td>\n",
       "      <td>0.8</td>\n",
       "      <td>0.1910</td>\n",
       "    </tr>\n",
       "  </tbody>\n",
       "</table>\n",
       "</div>"
      ],
      "text/plain": [
       "                                      acousticness  danceability  duration_ms  \\\n",
       "track_uri                                                                       \n",
       "spotify:track:2d7LPtieXdIYzf7yHPooWd      0.977912      0.468876     0.039950   \n",
       "spotify:track:0y4TKcc7p2H6P0GJlt01EI      0.964859      0.313253     0.041830   \n",
       "spotify:track:6q4c1vPRZREh7nw3wG7Ixz      0.994980      0.413655     0.017021   \n",
       "spotify:track:54KFQB6N4pn926IUUYZGzK      0.888554      0.265060     0.061243   \n",
       "spotify:track:0NeJjNlprGfZpeX2LQuN6c      0.691767      0.660643     0.039288   \n",
       "\n",
       "                                      energy  instrumentalness       key  \\\n",
       "track_uri                                                                  \n",
       "spotify:track:2d7LPtieXdIYzf7yHPooWd   0.157          0.000001  1.000000   \n",
       "spotify:track:0y4TKcc7p2H6P0GJlt01EI   0.207          0.008180  0.909091   \n",
       "spotify:track:6q4c1vPRZREh7nw3wG7Ixz   0.159          0.772000  0.818182   \n",
       "spotify:track:54KFQB6N4pn926IUUYZGzK   0.122          0.349000  0.818182   \n",
       "spotify:track:0NeJjNlprGfZpeX2LQuN6c   0.179          0.000000  0.727273   \n",
       "\n",
       "                                      liveness  loudness  mode  speechiness  \\\n",
       "track_uri                                                                     \n",
       "spotify:track:2d7LPtieXdIYzf7yHPooWd    0.0816  0.775549   1.0     0.034604   \n",
       "spotify:track:0y4TKcc7p2H6P0GJlt01EI    0.0773  0.718282   1.0     0.035736   \n",
       "spotify:track:6q4c1vPRZREh7nw3wG7Ixz    0.0830  0.705235   1.0     0.028630   \n",
       "spotify:track:54KFQB6N4pn926IUUYZGzK    0.0940  0.686983   1.0     0.035942   \n",
       "spotify:track:0NeJjNlprGfZpeX2LQuN6c    0.1700  0.756804   1.0     0.046138   \n",
       "\n",
       "                                         tempo  time_signature  valence  \n",
       "track_uri                                                                \n",
       "spotify:track:2d7LPtieXdIYzf7yHPooWd  0.432542             0.8   0.2770  \n",
       "spotify:track:0y4TKcc7p2H6P0GJlt01EI  0.375132             0.8   0.2780  \n",
       "spotify:track:6q4c1vPRZREh7nw3wG7Ixz  0.341866             0.8   0.0389  \n",
       "spotify:track:54KFQB6N4pn926IUUYZGzK  0.594663             0.8   0.0735  \n",
       "spotify:track:0NeJjNlprGfZpeX2LQuN6c  0.512539             0.8   0.1910  "
      ]
     },
     "execution_count": 46,
     "metadata": {},
     "output_type": "execute_result"
    }
   ],
   "source": [
    "# Confirm scaling is reasonable\n",
    "df[vector_features].head()"
   ]
  },
  {
   "cell_type": "markdown",
   "metadata": {},
   "source": [
    "### Convert 'home-made' Vectors into Word2Vec format\n",
    "In order to exploit some of the Word2Vec built-in functionality, we can cast our vectors into a KeyedVectors object.  KeyedVectors is the Word2Vec object that hold all of the vectors in an embedded space."
   ]
  },
  {
   "cell_type": "code",
   "execution_count": 47,
   "metadata": {},
   "outputs": [],
   "source": [
    "# create a KeyedVectors object from the Word2Vec library\n",
    "# This will allow us to use the built-in Word2Vec functions\n",
    "accoustic_vectors = KeyedVectors(len(vector_features))\n",
    "\n",
    "# weights are the vectors for each track\n",
    "weights = np.array(df)\n",
    "\n",
    "# entities are the trackuris\n",
    "entities = np.array(df.index)\n",
    "\n",
    "# add the vectors to the dataset\n",
    "accoustic_vectors.add(entities, weights)"
   ]
  },
  {
   "cell_type": "markdown",
   "metadata": {},
   "source": [
    "### How to calculate similarity\n",
    "Here, we use Cosine similairity to determine recommended songs.  Cosine similarity will ignore the magnitude of a vector.  This is important in our usage.  Two completely different songs may have the exact same magnitude of the elements of the vector are similar in valud but in a different order.  Cosine similarity considers where each value is in a vector when making comparisons.\n",
    "\n",
    "Cosine similairty is the default for Word2Vec.\n",
    "(https://radimrehurek.com/gensim/auto_examples/core/run_similarity_queries.html#sphx-glr-auto-examples-core-run-similarity-queries-py)\n",
    "\n"
   ]
  },
  {
   "cell_type": "code",
   "execution_count": 48,
   "metadata": {},
   "outputs": [
    {
     "name": "stdout",
     "output_type": "stream",
     "text": [
      "0 tracks matches.\n",
      "RECOMMENDED PLAYLIST (* indicates a match)\n",
      " Artist              Track                         URI                           \n",
      " Tommy Lee Sparta    Fi Get a 4Ward                spotify:track:5pXW9mNcfiy6Q0a3XnPvwR\n",
      " <no preview>\n",
      "\n",
      " Luscious Jackson    Hula Hoop                     spotify:track:2lhxvMG1gbH4gItZSFxe6W\n",
      " https://p.scdn.co/mp3-preview/a26555bb8b5abfeade1cf245aa823c0b93a730f4?cid=72413f75d4db4ec79c6caaf02523959e\n",
      "\n",
      " Kwesi Arthur        Grind Day                     spotify:track:1V3faphnJ5BVkflGrTlWf4\n",
      " https://p.scdn.co/mp3-preview/7c7317c7ac125e573e2b070b1237441c2b426e73?cid=72413f75d4db4ec79c6caaf02523959e\n",
      "\n",
      " J-Rio               Sors Ça                       spotify:track:27ECSowSIahjZVp3mTKQFU\n",
      " https://p.scdn.co/mp3-preview/d10fc955445868c2bd31dba385d85a36b3125bf0?cid=72413f75d4db4ec79c6caaf02523959e\n",
      "\n",
      " Joha                Shot for Me (La Contestacion) spotify:track:0LAewMyMUWcagznuGzzSVB\n",
      " <no preview>\n",
      "\n",
      " Khago               Me Blood Ah Boil              spotify:track:1cwJkvMghXmyvF9rlQhN7F\n",
      " <no preview>\n",
      "\n",
      " Devvon Terrell      Trust Me                      spotify:track:4pSWPBEII3yA9EVTMHzAkN\n",
      " https://p.scdn.co/mp3-preview/5cc850c12481615945306b0038b2a481f521164b?cid=72413f75d4db4ec79c6caaf02523959e\n",
      "\n",
      " Benjah              Action (Ginger Beer & Swedish Revolution Remix)spotify:track:0JH9YNOzZymLzOj7eTY5wv\n",
      " https://p.scdn.co/mp3-preview/199c18de4cc36313616a37056f94b9330c8e54d8?cid=72413f75d4db4ec79c6caaf02523959e\n",
      "\n",
      " Lil Wayne           On My Own                     spotify:track:1t9R71JaumIiqp4RPP8CLa\n",
      " <no preview>\n",
      "\n",
      " El Chuape           Chuap Chuap (feat. Ceky Viciny, Gino & Muñeco)spotify:track:1hbb3KLHxInXVQ2AA2QdzH\n",
      " <no preview>\n",
      "\n"
     ]
    }
   ],
   "source": [
    "# calculate recommendations based on 'home-made' vector\n",
    "recommended_songs = np.array(accoustic_vectors.most_similar(df_playlists_test_given.track_uri.values, topn=10))[:,0]\n",
    "print_recommended_playlist(recommended_songs, test_withheld)"
   ]
  },
  {
   "cell_type": "markdown",
   "metadata": {},
   "source": [
    "### Calculate Metrics"
   ]
  },
  {
   "cell_type": "code",
   "execution_count": 146,
   "metadata": {},
   "outputs": [
    {
     "data": {
      "application/vnd.jupyter.widget-view+json": {
       "model_id": "c4953364693a492b8c9a8d31befdc85e",
       "version_major": 2,
       "version_minor": 0
      },
      "text/plain": [
       "HBox(children=(IntProgress(value=0, description='calculating metrics', style=ProgressStyle(description_width='…"
      ]
     },
     "metadata": {},
     "output_type": "display_data"
    },
    {
     "name": "stdout",
     "output_type": "stream",
     "text": [
      "\n",
      "Mean Artist R-Precision: 0.06035837015218458\n",
      "Mean Track R-Precision : 0.023711340206185566\n",
      "Mean Track NDGC        : 0.021759584185382007\n"
     ]
    },
    {
     "data": {
      "image/png": "[encoded data removed]",
      "text/plain": [
       "<Figure size 864x288 with 3 Axes>"
      ]
     },
     "metadata": {
      "needs_background": "light"
     },
     "output_type": "display_data"
    }
   ],
   "source": [
    "# r_precs, NDCGs = eval_model(accoustic_vectors, df_playlists_test_withheld, df_playlists_test_given)\n",
    "r_precs_tracks, r_precs_artists, NDCGs = eval_model(accoustic_vectors, df_playlists_test_withheld, df_playlists_test_given, num_test=100)\n",
    "df_metrics = df_metrics.append(pd.Series(name='Feature_Vectors', data=[np.mean(r_precs_artists), np.mean(r_precs_tracks), np.mean(NDCGs)], index=df_metrics.columns))\n"
   ]
  },
  {
   "cell_type": "markdown",
   "metadata": {},
   "source": [
    "### Result:\n",
    "This does not look so great (frankly, it is a disaster!).  The scores reflect this.  Not a single track was matched.  This list has nothing in common with our previous recommendations and the tracks selected are not similary to the seed playlist.  What happened?\n",
    "\n",
    "This approach takes independent songs and creates vectors from the songs features.  These vectors have nothing to do with the playlists and have no other relationship to other vectors other than their cosine similarity.  If the cosine similarity defines a song then why doesn't this work?  We are overestimating our assumption that the accoustic vectors will determine a song.  We also don't account for the fact that some songs are missing features.  When a value is 0, it will have a significant impact on the calculated cosine similarity.\n",
    "\n",
    "Our attempt with this approach was to create a 'content-based recommender' as described in the intoduction.  We are seeing that this is more challenging than expected.  "
   ]
  },
  {
   "cell_type": "markdown",
   "metadata": {},
   "source": [
    "## Conclusion:\n",
    "Implementation of a recommendation system using Word2Vec and embeddings is realtively simple.  Results are mixed.  Although none of the scores are strong, most of the model produced reasonable results based on subjective observation, but based on metrics, the results are not impressive.\n",
    "\n",
    "The collaborative-models using supervised training performed best.  Considering that these models used over 66M songs during training, the 10 minute training time is relatively quick.  Inference was nearly immediate.  These collaborative-models will reflect popularity and present the user with a recommendation that mathces other users' tastes.  This can be seen as a benefit or a drawback.  These models will not provide the user with recommendations that are 'off the beaten path'.\n",
    "\n",
    "The unsupervised, content-based approached explored above did not perform well.  The Word2Vec embedding producted subjectively reasonable results, but creating custom vectors without refernce to the playlists proved ineffective.  In order to implement this technique a carefully selected set of vectors is necessary.  This technique also requires all tracks to have a complete set of vector values in order to be effective.  In short, unsupervised recommendation methods require more detail to implement reasonably.\n"
   ]
  },
  {
   "cell_type": "markdown",
   "metadata": {},
   "source": [
    "### Summary Metrics"
   ]
  },
  {
   "cell_type": "code",
   "execution_count": 147,
   "metadata": {},
   "outputs": [
    {
     "data": {
      "text/html": [
       "<div>\n",
       "<style scoped>\n",
       "    .dataframe tbody tr th:only-of-type {\n",
       "        vertical-align: middle;\n",
       "    }\n",
       "\n",
       "    .dataframe tbody tr th {\n",
       "        vertical-align: top;\n",
       "    }\n",
       "\n",
       "    .dataframe thead th {\n",
       "        text-align: right;\n",
       "    }\n",
       "</style>\n",
       "<table border=\"1\" class=\"dataframe\">\n",
       "  <thead>\n",
       "    <tr style=\"text-align: right;\">\n",
       "      <th></th>\n",
       "      <th>Artist_Rprec</th>\n",
       "      <th>Track_Rprec</th>\n",
       "      <th>NDGC</th>\n",
       "    </tr>\n",
       "  </thead>\n",
       "  <tbody>\n",
       "    <tr>\n",
       "      <th>Embedding</th>\n",
       "      <td>0.068382</td>\n",
       "      <td>0.022917</td>\n",
       "      <td>0.021147</td>\n",
       "    </tr>\n",
       "    <tr>\n",
       "      <th>Bag_of_Words</th>\n",
       "      <td>0.150746</td>\n",
       "      <td>0.046111</td>\n",
       "      <td>0.048042</td>\n",
       "    </tr>\n",
       "    <tr>\n",
       "      <th>Skip_Gram</th>\n",
       "      <td>0.158460</td>\n",
       "      <td>0.043111</td>\n",
       "      <td>0.046024</td>\n",
       "    </tr>\n",
       "    <tr>\n",
       "      <th>Feature_Vectors</th>\n",
       "      <td>0.060358</td>\n",
       "      <td>0.023711</td>\n",
       "      <td>0.021760</td>\n",
       "    </tr>\n",
       "  </tbody>\n",
       "</table>\n",
       "</div>"
      ],
      "text/plain": [
       "                 Artist_Rprec  Track_Rprec      NDGC\n",
       "Embedding            0.068382     0.022917  0.021147\n",
       "Bag_of_Words         0.150746     0.046111  0.048042\n",
       "Skip_Gram            0.158460     0.043111  0.046024\n",
       "Feature_Vectors      0.060358     0.023711  0.021760"
      ]
     },
     "execution_count": 147,
     "metadata": {},
     "output_type": "execute_result"
    }
   ],
   "source": [
    "df_metrics"
   ]
  },
  {
   "cell_type": "code",
   "execution_count": 156,
   "metadata": {},
   "outputs": [
    {
     "data": {
      "image/png": "[encoded data removed]",
      "text/plain": [
       "<Figure size 864x288 with 3 Axes>"
      ]
     },
     "metadata": {
      "needs_background": "light"
     },
     "output_type": "display_data"
    }
   ],
   "source": [
    "fig, ax = plt.subplots(figsize=(12,4), ncols=3, sharey=True)\n",
    "fig.suptitle(\"Summary Metrics\", fontsize=16)\n",
    "fig.tight_layout(pad=4)\n",
    "\n",
    "metrics = [df_metrics.NDGC, df_metrics.Track_Rprec, df_metrics.Artist_Rprec]\n",
    "metrics_titles = [\"NDGC\", \"Track R-Precision\", \"Artist R-Precision\"]\n",
    "colors = ['orange', 'g', 'darkblue']\n",
    "\n",
    "for i, subplot in enumerate(ax.ravel()):\n",
    "    subplot.bar(df_metrics.index, metrics[i], color=colors[i])\n",
    "    subplot.set_xticklabels(labels=['Embedding','BOW', 'Skip-Gram', 'Feature Vectors'], rotation=90)\n",
    "    subplot.set_title(metrics_titles[i])\n"
   ]
  },
  {
   "cell_type": "code",
   "execution_count": null,
   "metadata": {},
   "outputs": [],
   "source": []
  }
 ],
 "metadata": {
  "kernelspec": {
   "display_name": "Python 3",
   "language": "python",
   "name": "python3"
  },
  "language_info": {
   "codemirror_mode": {
    "name": "ipython",
    "version": 3
   },
   "file_extension": ".py",
   "mimetype": "text/x-python",
   "name": "python",
   "nbconvert_exporter": "python",
   "pygments_lexer": "ipython3",
   "version": "3.7.4"
  }
 },
 "nbformat": 4,
 "nbformat_minor": 2
}
