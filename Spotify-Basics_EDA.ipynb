{
 "cells": [
  {
   "cell_type": "markdown",
   "metadata": {},
   "source": [
    "# Spotify EDA\n",
    "Contains basic usage of API and DataBase as well as EDA"
   ]
  },
  {
   "cell_type": "code",
   "execution_count": 10,
   "metadata": {},
   "outputs": [],
   "source": [
    "import numpy as np\n",
    "import pandas as pd\n",
    "import matplotlib\n",
    "import matplotlib.pyplot as plt\n",
    "import os\n",
    "import sys\n",
    "import json\n",
    "import seaborn as sns\n",
    "import time\n",
    "\n",
    "from sqlalchemy.ext.declarative import declarative_base \n",
    "from sqlalchemy import Table, Column, Integer, String, MetaData, and_, or_, func,distinct\n",
    "\n",
    "%matplotlib inline"
   ]
  },
  {
   "cell_type": "code",
   "execution_count": 11,
   "metadata": {},
   "outputs": [],
   "source": [
    "import importlib\n",
    "\n",
    "from spotify_api import get_spotify_data, get_tracks, get_artists, get_audiofeatures\n",
    "from spotify_database import get_session, display_time\n",
    "from spotify_utils import Table_Generator, List_Generator"
   ]
  },
  {
   "cell_type": "markdown",
   "metadata": {},
   "source": [
    "## Spotify API\n",
    "You will need to setup a Spotify API developer account and store your credentials in local environment variables for these functions to work.\n",
    "\n",
    "SPOTIFY_CLIENT_ID<br>\n",
    "SPOTIFY_CLIENT_SECRET<br>\n",
    "SPOTIFY_REDIRECT_URI<br>\n",
    "<br>\n",
    "template bash profile lines:<br>\n",
    "export SPOTIFY_CLIENT_ID={your info here} <br>\n",
    "export SPOTIFY_CLIENT_SECRET={your info here} <br>\n",
    "export SPOTIFY_REDIRECT_URI=cs109arecommender://callback <br>\n",
    "\n",
    "You will need to reload your bash profile and possibly restart your jupyter server.  \n"
   ]
  },
  {
   "cell_type": "code",
   "execution_count": 12,
   "metadata": {},
   "outputs": [
    {
     "data": {
      "text/plain": [
       "'72413f75d4db4ec79c6caaf02523959e'"
      ]
     },
     "execution_count": 12,
     "metadata": {},
     "output_type": "execute_result"
    }
   ],
   "source": [
    "# Just a test to see that the credentails are setup\n",
    "os.environ['SPOTIFY_CLIENT_ID']"
   ]
  },
  {
   "cell_type": "markdown",
   "metadata": {},
   "source": [
    "## SQL Lite DataBase"
   ]
  },
  {
   "cell_type": "markdown",
   "metadata": {},
   "source": [
    "Provide path of static dataset database \n",
    "\n",
    "Get session from database module\n",
    "\n",
    "Get the Songs class from the database model"
   ]
  },
  {
   "cell_type": "code",
   "execution_count": 15,
   "metadata": {},
   "outputs": [],
   "source": [
    "# Set database path on local drive\n",
    "db_path = \"./data/spotify_songs.db\""
   ]
  },
  {
   "cell_type": "code",
   "execution_count": 16,
   "metadata": {},
   "outputs": [],
   "source": [
    "# Get sesion\n",
    "session = get_session(db_path)"
   ]
  },
  {
   "cell_type": "code",
   "execution_count": 17,
   "metadata": {},
   "outputs": [],
   "source": [
    "# Get Classes\n",
    "Playlists = getattr(get_session, \"Playlists\")\n",
    "Artists = getattr(get_session, \"Artists\")\n",
    "Tracks = getattr(get_session, \"Tracks\")"
   ]
  },
  {
   "cell_type": "markdown",
   "metadata": {},
   "source": [
    "### Example Database Requests"
   ]
  },
  {
   "cell_type": "code",
   "execution_count": 18,
   "metadata": {},
   "outputs": [
    {
     "name": "stdout",
     "output_type": "stream",
     "text": [
      "Time to Execute: 0.01 seconds\n"
     ]
    },
    {
     "data": {
      "text/plain": [
       "'spotify:track:2d7LPtieXdIYzf7yHPooWd'"
      ]
     },
     "execution_count": 18,
     "metadata": {},
     "output_type": "execute_result"
    }
   ],
   "source": [
    "# single elements\n",
    "result = display_time(session.query(Tracks).first)\n",
    "result.track_uri"
   ]
  },
  {
   "cell_type": "code",
   "execution_count": 19,
   "metadata": {},
   "outputs": [
    {
     "name": "stdout",
     "output_type": "stream",
     "text": [
      "Time to Execute: 2.81 seconds\n"
     ]
    },
    {
     "data": {
      "text/plain": [
       "2262181"
      ]
     },
     "execution_count": 19,
     "metadata": {},
     "output_type": "execute_result"
    }
   ],
   "source": [
    "# count songs in the db\n",
    "result = display_time(session.query(Tracks).count)\n",
    "result"
   ]
  },
  {
   "cell_type": "code",
   "execution_count": 20,
   "metadata": {},
   "outputs": [
    {
     "name": "stdout",
     "output_type": "stream",
     "text": [
      "Time to Execute: 0.16 seconds\n"
     ]
    },
    {
     "data": {
      "text/plain": [
       "2262181"
      ]
     },
     "execution_count": 20,
     "metadata": {},
     "output_type": "execute_result"
    }
   ],
   "source": [
    "# count unique songs\n",
    "rv = display_time(session.query(Tracks.track_uri).distinct().count)\n",
    "rv"
   ]
  },
  {
   "cell_type": "code",
   "execution_count": null,
   "metadata": {},
   "outputs": [],
   "source": [
    "# count playlists\n",
    "rv = display_time(session.query(Playlists.playlist_id).distinct().count)\n",
    "rv"
   ]
  },
  {
   "cell_type": "code",
   "execution_count": null,
   "metadata": {},
   "outputs": [],
   "source": [
    "# get songs in a specified playlist into a df\n",
    "rv = display_time(session.query(Playlists.track_name).filter(Playlists.playlist_id==101).all)\n",
    "rv"
   ]
  },
  {
   "cell_type": "code",
   "execution_count": null,
   "metadata": {},
   "outputs": [],
   "source": [
    "# get playlists that a specified song is in\n",
    "rv = display_time(session.query(Playlists.playlist_id).filter(Tracks.track_name==\"Who Says\").all)\n",
    "rv"
   ]
  },
  {
   "cell_type": "markdown",
   "metadata": {},
   "source": [
    "### Spotify API"
   ]
  },
  {
   "cell_type": "code",
   "execution_count": null,
   "metadata": {},
   "outputs": [],
   "source": [
    "# Get URI for Artist, Track and Album for a song\n",
    "rv = display_time(session.query(Playlists.track_name, \n",
    "                                Playlists.track_uri,\n",
    "                                Playlists.artist_uri,\n",
    "                                Playlists.album_uri).filter(Playlists.track_name==\"Who Says\").distinct().first)"
   ]
  },
  {
   "cell_type": "code",
   "execution_count": null,
   "metadata": {},
   "outputs": [],
   "source": [
    "rv"
   ]
  },
  {
   "cell_type": "code",
   "execution_count": null,
   "metadata": {},
   "outputs": [],
   "source": [
    "# Get URI for Artist, Track and Album for a song\n",
    "rv = display_time(session.query(Playlists).filter(Playlists.track_name==\"Who Says\").distinct().first)"
   ]
  },
  {
   "cell_type": "code",
   "execution_count": null,
   "metadata": {},
   "outputs": [],
   "source": [
    "# use Spotify API to get artist genres from uri\n",
    "get_spotify_data(db_uri=rv.artist_uri, key='genres')"
   ]
  },
  {
   "cell_type": "code",
   "execution_count": null,
   "metadata": {},
   "outputs": [],
   "source": [
    "# use Spotify API to get artist popularity from uri\n",
    "get_spotify_data(db_uri=rv.artist_uri, key='popularity')"
   ]
  },
  {
   "cell_type": "code",
   "execution_count": null,
   "metadata": {},
   "outputs": [],
   "source": [
    "# use Spotify API to get track popularity from uri\n",
    "get_spotify_data(db_uri=rv.track_uri, key='popularity')"
   ]
  },
  {
   "cell_type": "markdown",
   "metadata": {},
   "source": [
    "### Get data using implicit Join between Songs and Audio_Features"
   ]
  },
  {
   "cell_type": "code",
   "execution_count": null,
   "metadata": {},
   "outputs": [],
   "source": [
    "test_track = display_time(session.query(Playlists, Tracks)\n",
    "                          .filter(Playlists.track_uri==Tracks.track_uri)\n",
    "                          .distinct()\n",
    "                          .first)"
   ]
  },
  {
   "cell_type": "code",
   "execution_count": null,
   "metadata": {},
   "outputs": [],
   "source": [
    "for tk in test_track.keys():\n",
    "    print (tk)\n",
    "    tk_dict = test_track.__getattribute__(tk).__dict__\n",
    "    for k,v in tk_dict.items():\n",
    "        print (\"\\t{}  :  {}\".format(k,v))"
   ]
  },
  {
   "cell_type": "code",
   "execution_count": 17,
   "metadata": {},
   "outputs": [
    {
     "name": "stdout",
     "output_type": "stream",
     "text": [
      "Time to Execute: 54.92 seconds\n"
     ]
    },
    {
     "data": {
      "text/plain": [
       "7474"
      ]
     },
     "execution_count": 17,
     "metadata": {},
     "output_type": "execute_result"
    }
   ],
   "source": [
    "# get num playlists that a specified song is in\n",
    "rv = display_time(session.query(Playlists.playlist_id).filter(Playlists.track_name==\"Who Says\").count)\n",
    "rv"
   ]
  },
  {
   "cell_type": "code",
   "execution_count": 255,
   "metadata": {},
   "outputs": [
    {
     "name": "stdout",
     "output_type": "stream",
     "text": [
      "2019-10-23 11:05:11,137 INFO sqlalchemy.engine.base.Engine SELECT count(*) AS count_1 \n",
      "FROM (SELECT DISTINCT songs.artist_name AS songs_artist_name \n",
      "FROM songs) AS anon_1\n",
      "2019-10-23 11:05:11,138 INFO sqlalchemy.engine.base.Engine ()\n",
      "Time to Execute: 46.02 seconds\n"
     ]
    },
    {
     "data": {
      "text/plain": [
       "287740"
      ]
     },
     "execution_count": 255,
     "metadata": {},
     "output_type": "execute_result"
    }
   ],
   "source": [
    "# get number of unique artists\n",
    "rv = display_time(session.query(Playlists.artist_name).distinct().count)\n",
    "rv"
   ]
  },
  {
   "cell_type": "code",
   "execution_count": 257,
   "metadata": {},
   "outputs": [
    {
     "name": "stdout",
     "output_type": "stream",
     "text": [
      "2019-10-23 11:08:02,671 INFO sqlalchemy.engine.base.Engine SELECT DISTINCT songs.track_name AS songs_track_name \n",
      "FROM songs \n",
      "WHERE songs.artist_name = ?\n",
      "2019-10-23 11:08:02,672 INFO sqlalchemy.engine.base.Engine ('John Mayer',)\n",
      "Time to Execute: 6.6 seconds\n"
     ]
    },
    {
     "data": {
      "text/plain": [
       "206"
      ]
     },
     "execution_count": 257,
     "metadata": {},
     "output_type": "execute_result"
    }
   ],
   "source": [
    "# get all songs from a particular artist\n",
    "rv = display_time(session.query(Playlists.track_name).filter(Playlists.artist_name==\"John Mayer\").distinct().all)\n",
    "len(rv)"
   ]
  },
  {
   "cell_type": "code",
   "execution_count": 268,
   "metadata": {},
   "outputs": [
    {
     "name": "stdout",
     "output_type": "stream",
     "text": [
      "2019-10-23 11:14:48,562 INFO sqlalchemy.engine.base.Engine SELECT DISTINCT songs.playlist_id AS songs_playlist_id \n",
      "FROM songs \n",
      "WHERE songs.artist_name = ?\n",
      "2019-10-23 11:14:48,563 INFO sqlalchemy.engine.base.Engine ('John Mayer',)\n",
      "Time to Execute: 6.87 seconds\n"
     ]
    },
    {
     "data": {
      "text/plain": [
       "48110"
      ]
     },
     "execution_count": 268,
     "metadata": {},
     "output_type": "execute_result"
    }
   ],
   "source": [
    "# get all playlists that an artist appears in\n",
    "rv = display_time(session.query(Playlists.playlist_id).filter(Playlists.artist_name==\"John Mayer\").distinct().all)\n",
    "len(rv)"
   ]
  },
  {
   "cell_type": "code",
   "execution_count": 304,
   "metadata": {},
   "outputs": [
    {
     "name": "stdout",
     "output_type": "stream",
     "text": [
      "Time to Execute: 81.7 seconds\n"
     ]
    },
    {
     "data": {
      "text/plain": [
       "4426419"
      ]
     },
     "execution_count": 304,
     "metadata": {},
     "output_type": "execute_result"
    }
   ],
   "source": [
    "# get all songs in playlists where an artist appears in\n",
    "subq = session.query(Playlists.playlist_id).filter(Playlists.artist_name==\"John Mayer\").distinct().subquery()\n",
    "rv = display_time(session.query(Playlists.playlist_id, Playlists.artist_name, Songs.track_name).filter(Playlists.playlist_id.in_(subq)).distinct().all)\n",
    "len(rv)"
   ]
  },
  {
   "cell_type": "code",
   "execution_count": 305,
   "metadata": {},
   "outputs": [
    {
     "name": "stdout",
     "output_type": "stream",
     "text": [
      "Time to Execute: 98.73 seconds\n"
     ]
    },
    {
     "data": {
      "text/plain": [
       "779527"
      ]
     },
     "execution_count": 305,
     "metadata": {},
     "output_type": "execute_result"
    }
   ],
   "source": [
    "# get all songs in playlists where a song appears in\n",
    "subq = session.query(Playlists.playlist_id).filter(Playlists.track_name==\"Who Says\").distinct().subquery()\n",
    "rv = display_time(session.query(Playlists.playlist_id, Playlists.artist_name, Playlists.track_name).filter(Playlists.playlist_id.in_(subq)).distinct().all)\n",
    "len(rv)"
   ]
  },
  {
   "cell_type": "code",
   "execution_count": 309,
   "metadata": {},
   "outputs": [
    {
     "data": {
      "text/plain": [
       "(77, 'The Maine', 'Everything I Ask For')"
      ]
     },
     "execution_count": 309,
     "metadata": {},
     "output_type": "execute_result"
    }
   ],
   "source": [
    "rv[3]"
   ]
  },
  {
   "cell_type": "code",
   "execution_count": 264,
   "metadata": {},
   "outputs": [
    {
     "data": {
      "text/plain": [
       "(18, 'John Mayer', 'Stop This Train - Live at the Nokia Theatre')"
      ]
     },
     "execution_count": 264,
     "metadata": {},
     "output_type": "execute_result"
    }
   ],
   "source": [
    "# get all songs from playlists where an artist is in the list\n",
    "rv = display_time(session.query(Playlists.playlist_id, Playlists.artist_name, Playlists.track_name).filter(Playlists.artist_name==\"John Mayer\").distinct().all)\n",
    "len(rv)"
   ]
  },
  {
   "cell_type": "markdown",
   "metadata": {},
   "source": [
    "## Table and List Generators"
   ]
  },
  {
   "cell_type": "code",
   "execution_count": 11,
   "metadata": {},
   "outputs": [
    {
     "name": "stdout",
     "output_type": "stream",
     "text": [
      "Creating Table Generator:\n",
      "\tbatch size :  50\n",
      "\tlength     :  296014\n",
      "\tnum batches:  5921\n"
     ]
    },
    {
     "data": {
      "application/vnd.jupyter.widget-view+json": {
       "model_id": "55c25f12925a49ab9e6d79d64e4988a9",
       "version_major": 2,
       "version_minor": 0
      },
      "text/plain": [
       "HBox(children=(IntProgress(value=0, max=296014), HTML(value='')))"
      ]
     },
     "metadata": {},
     "output_type": "display_data"
    },
    {
     "name": "stdout",
     "output_type": "stream",
     "text": [
      "First batch size: 50\n"
     ]
    }
   ],
   "source": [
    "# Table_Generator arguments:\n",
    "#    query - an SqlAlchemy query e.g. session.query(Playlists)\n",
    "#    batch_size  - default is 50\n",
    "\n",
    "# This generator object will get a list of 50 artist records from the Artist table\n",
    "# each time the batch_gen is iterated.\n",
    "# When the table is exhausted, the generator will stop generating lists\n",
    "table_session = get_session(db_path)\n",
    "query = table_session.query(Artists)\n",
    "table_batch_gen = Table_Generator(query=query, batch_size=50).batch_generator()\n",
    "\n",
    "# calling the following will generate the next batch of records from the table\n",
    "# each call to __next__() will get the next batch until the list is exhausted\n",
    "# Here, we only show the first 5 items from the list...\n",
    "table_batch_gen.__next__()[0:5]\n",
    "\n",
    "# you can also iterate over the table_batch_gen object:\n",
    "for batch in table_batch_gen:\n",
    "    print(\"First batch size: {}\".format(len(batch)))\n",
    "    break\n",
    "    \n",
    "table_session.close()"
   ]
  },
  {
   "cell_type": "code",
   "execution_count": 12,
   "metadata": {},
   "outputs": [
    {
     "name": "stdout",
     "output_type": "stream",
     "text": [
      "Creating List Generator:\n",
      "\tbatch size :  50\n",
      "\tlength     :  103\n",
      "\tnum batches:  3\n"
     ]
    },
    {
     "data": {
      "application/vnd.jupyter.widget-view+json": {
       "model_id": "b65bd61db2b94b03a706691c4eff9956",
       "version_major": 2,
       "version_minor": 0
      },
      "text/plain": [
       "HBox(children=(IntProgress(value=0, max=103), HTML(value='')))"
      ]
     },
     "metadata": {},
     "output_type": "display_data"
    },
    {
     "name": "stdout",
     "output_type": "stream",
     "text": [
      "Batch: 0  from:0  to:49\n",
      "Batch: 1  from:50  to:99\n",
      "Batch: 2  from:100  to:102\n"
     ]
    }
   ],
   "source": [
    "# List_Generator arguments\n",
    "#    list - a list of items to iteratate over in batches\n",
    "#    batch_size - defalt is 50\n",
    "mylist = list(range(103))\n",
    "\n",
    "list_batch_gen = List_Generator(mainlist=mylist, batch_size=50).batch_generator()\n",
    "\n",
    "for i, batch in enumerate(list_batch_gen):\n",
    "    print(\"Batch: {}  from:{}  to:{}\".format(i, batch[0], batch[-1]))"
   ]
  },
  {
   "cell_type": "markdown",
   "metadata": {},
   "source": [
    "## EDA"
   ]
  },
  {
   "cell_type": "code",
   "execution_count": 25,
   "metadata": {},
   "outputs": [
    {
     "name": "stdout",
     "output_type": "stream",
     "text": [
      "Time to Execute: 31.77 seconds\n"
     ]
    }
   ],
   "source": [
    "# Count Number of tracks in playlists\n",
    "rv = display_time(session.query(Playlists.playlist_id, func.count(Playlists.track_name).label('count')).group_by(Playlists.playlist_id).all)\n",
    "# Do subsequent grouping in dataframe\n",
    "df_counts = pd.DataFrame(data=rv, columns=[\"playlist_id\",\"song_count\"])\n",
    "df_counts_agg = df_counts.groupby(['song_count']).agg({\n",
    "    'playlist_id':'count'\n",
    "})\n",
    "len(df_counts_agg)"
   ]
  },
  {
   "cell_type": "code",
   "execution_count": 82,
   "metadata": {},
   "outputs": [
    {
     "data": {
      "image/png": "[encoded data removed]",
      "text/plain": [
       "<Figure size 432x432 with 1 Axes>"
      ]
     },
     "metadata": {
      "needs_background": "light"
     },
     "output_type": "display_data"
    }
   ],
   "source": [
    "# Plot playlist song distribution\n",
    "fig, subplot = plt.subplots(figsize=(6,6))\n",
    "subplot.set_title(\"Playlist Lengths\", fontsize=18)\n",
    "sns.scatterplot(data=df_counts_agg, \n",
    "                x=df_counts_agg.index, \n",
    "                y=df_counts_agg.playlist_id,\n",
    "                sizes=[500],\n",
    "                ax=subplot);\n",
    "subplot.set_xlabel(\"Number of Songs\", fontsize=12)\n",
    "subplot.set_ylabel(\"Number of Playlists\", fontsize=12);\n"
   ]
  },
  {
   "cell_type": "code",
   "execution_count": 84,
   "metadata": {},
   "outputs": [
    {
     "data": {
      "text/html": [
       "<div>\n",
       "<style scoped>\n",
       "    .dataframe tbody tr th:only-of-type {\n",
       "        vertical-align: middle;\n",
       "    }\n",
       "\n",
       "    .dataframe tbody tr th {\n",
       "        vertical-align: top;\n",
       "    }\n",
       "\n",
       "    .dataframe thead th {\n",
       "        text-align: right;\n",
       "    }\n",
       "</style>\n",
       "<table border=\"1\" class=\"dataframe\">\n",
       "  <thead>\n",
       "    <tr style=\"text-align: right;\">\n",
       "      <th></th>\n",
       "      <th>playlist_id</th>\n",
       "    </tr>\n",
       "    <tr>\n",
       "      <th>song_count</th>\n",
       "      <th></th>\n",
       "    </tr>\n",
       "  </thead>\n",
       "  <tbody>\n",
       "    <tr>\n",
       "      <th>20</th>\n",
       "      <td>15028</td>\n",
       "    </tr>\n",
       "  </tbody>\n",
       "</table>\n",
       "</div>"
      ],
      "text/plain": [
       "            playlist_id\n",
       "song_count             \n",
       "20                15028"
      ]
     },
     "execution_count": 84,
     "metadata": {},
     "output_type": "execute_result"
    }
   ],
   "source": [
    "df_counts_agg[df_counts_agg.playlist_id==df_counts_agg.playlist_id.max()]"
   ]
  },
  {
   "cell_type": "code",
   "execution_count": 93,
   "metadata": {},
   "outputs": [
    {
     "data": {
      "text/plain": [
       "playlist_id    502676\n",
       "dtype: int64"
      ]
     },
     "execution_count": 93,
     "metadata": {},
     "output_type": "execute_result"
    }
   ],
   "source": [
    "# df_counts_agg.sort_values(by=\"playlist_id\", ascending=False)\n",
    "df_counts_agg[df_counts_agg.index<50].sum()"
   ]
  },
  {
   "cell_type": "code",
   "execution_count": 6,
   "metadata": {},
   "outputs": [
    {
     "name": "stdout",
     "output_type": "stream",
     "text": [
      "Time to Execute: 58.16 seconds\n"
     ]
    }
   ],
   "source": [
    "# Artist Popularity - measured by number of appearances\n",
    "rv = display_time(session.query(Playlists.artist_name, func.count(Playlists.artist_name).label('count')).group_by(Playlists.artist_name).all)\n"
   ]
  },
  {
   "cell_type": "code",
   "execution_count": 7,
   "metadata": {},
   "outputs": [],
   "source": [
    "df_artist_popularity = pd.DataFrame(rv).sort_values(by=\"count\", ascending=False).reset_index(drop=True)\n"
   ]
  },
  {
   "cell_type": "code",
   "execution_count": 15,
   "metadata": {},
   "outputs": [],
   "source": [
    "df_artist_popularity1 = df_artist_popularity.set_index(['artist_name'])"
   ]
  },
  {
   "cell_type": "code",
   "execution_count": null,
   "metadata": {},
   "outputs": [],
   "source": []
  },
  {
   "cell_type": "code",
   "execution_count": 19,
   "metadata": {},
   "outputs": [],
   "source": [
    "cols=['artist_name','count']\n",
    "top20 = df_artist_popularity1[0:20]"
   ]
  },
  {
   "cell_type": "code",
   "execution_count": 28,
   "metadata": {},
   "outputs": [
    {
     "data": {
      "image/png": "[encoded data removed]",
      "text/plain": [
       "<Figure size 432x432 with 1 Axes>"
      ]
     },
     "metadata": {
      "needs_background": "light"
     },
     "output_type": "display_data"
    }
   ],
   "source": [
    "# Plot popular artists\n",
    "fig, subplot = plt.subplots(figsize=(6,6))\n",
    "subplot.set_title(\"Popular Artists -  by Appearances in PlayLists\", fontsize=18)\n",
    "sns.barplot(y=top20.index,\n",
    "            x=top20['count'],\n",
    "            orient=\"h\", ax=subplot)\n",
    "subplot.set_xlabel(\"Number Playlist Appearnaces\", fontsize=12)\n",
    "subplot.set_ylabel(\"Artist\", fontsize=12);"
   ]
  },
  {
   "cell_type": "code",
   "execution_count": null,
   "metadata": {},
   "outputs": [],
   "source": [
    "\n"
   ]
  },
  {
   "cell_type": "code",
   "execution_count": null,
   "metadata": {},
   "outputs": [],
   "source": []
  },
  {
   "cell_type": "code",
   "execution_count": null,
   "metadata": {},
   "outputs": [],
   "source": []
  },
  {
   "cell_type": "code",
   "execution_count": null,
   "metadata": {},
   "outputs": [],
   "source": [
    "connection.close()"
   ]
  }
 ],
 "metadata": {
  "kernelspec": {
   "display_name": "Python 3",
   "language": "python",
   "name": "python3"
  },
  "language_info": {
   "codemirror_mode": {
    "name": "ipython",
    "version": 3
   },
   "file_extension": ".py",
   "mimetype": "text/x-python",
   "name": "python",
   "nbconvert_exporter": "python",
   "pygments_lexer": "ipython3",
   "version": "3.7.4"
  }
 },
 "nbformat": 4,
 "nbformat_minor": 2
}
